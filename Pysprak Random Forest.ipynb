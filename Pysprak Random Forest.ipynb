{
  "nbformat": 4,
  "nbformat_minor": 0,
  "metadata": {
    "colab": {
      "name": "Copy of PySpark Installation.ipynb",
      "provenance": [],
      "collapsed_sections": [],
      "authorship_tag": "ABX9TyM8BlAEQlMx3OHL9Wz2JRgO",
      "include_colab_link": true
    },
    "kernelspec": {
      "name": "python3",
      "display_name": "Python 3"
    }
  },
  "cells": [
    {
      "cell_type": "markdown",
      "metadata": {
        "id": "view-in-github",
        "colab_type": "text"
      },
      "source": [
        "<a href=\"https://colab.research.google.com/github/ssrbazpur/Data-Science/blob/master/Pysprak%20Random%20Forest.ipynb\" target=\"_parent\"><img src=\"https://colab.research.google.com/assets/colab-badge.svg\" alt=\"Open In Colab\"/></a>"
      ]
    },
    {
      "cell_type": "code",
      "metadata": {
        "id": "Fm31LyXYeOzO",
        "colab_type": "code",
        "colab": {}
      },
      "source": [
        "!apt-get install openjdk-8-jdk-headless -qq > /dev/null\n",
        "!wget -q http://apache.osuosl.org/spark/spark-2.4.4/spark-2.4.4-bin-hadoop2.7.tgz\n",
        "!tar xf spark-2.4.4-bin-hadoop2.7.tgz\n",
        "!pip install -q findspark"
      ],
      "execution_count": 0,
      "outputs": []
    },
    {
      "cell_type": "code",
      "metadata": {
        "id": "vKQqmk8JeT6t",
        "colab_type": "code",
        "colab": {}
      },
      "source": [
        "# 2. Setup Environment Variables\n",
        "import os\n",
        "os.environ[\"JAVA_HOME\"] = \"/usr/lib/jvm/java-8-openjdk-amd64\"\n",
        "os.environ[\"SPARK_HOME\"] = \"/content/spark-2.4.4-bin-hadoop2.7\""
      ],
      "execution_count": 0,
      "outputs": []
    },
    {
      "cell_type": "code",
      "metadata": {
        "id": "GkMv4Cfve9ZR",
        "colab_type": "code",
        "outputId": "00f68790-5820-4c9e-9349-3c0d1de4a8a5",
        "colab": {
          "base_uri": "https://localhost:8080/",
          "height": 121
        }
      },
      "source": [
        "from google.colab import drive\n",
        "drive.mount('/content/drive')"
      ],
      "execution_count": 3,
      "outputs": [
        {
          "output_type": "stream",
          "text": [
            "Go to this URL in a browser: https://accounts.google.com/o/oauth2/auth?client_id=947318989803-6bn6qk8qdgf4n4g3pfee6491hc0brc4i.apps.googleusercontent.com&redirect_uri=urn%3aietf%3awg%3aoauth%3a2.0%3aoob&response_type=code&scope=email%20https%3a%2f%2fwww.googleapis.com%2fauth%2fdocs.test%20https%3a%2f%2fwww.googleapis.com%2fauth%2fdrive%20https%3a%2f%2fwww.googleapis.com%2fauth%2fdrive.photos.readonly%20https%3a%2f%2fwww.googleapis.com%2fauth%2fpeopleapi.readonly\n",
            "\n",
            "Enter your authorization code:\n",
            "··········\n",
            "Mounted at /content/drive\n"
          ],
          "name": "stdout"
        }
      ]
    },
    {
      "cell_type": "code",
      "metadata": {
        "id": "FgcqjSJ_easw",
        "colab_type": "code",
        "colab": {}
      },
      "source": [
        "import findspark\n",
        "findspark.init()\n",
        "from pyspark.sql import SparkSession\n",
        "spark = SparkSession.builder.master(\"local[*]\").getOrCreate()"
      ],
      "execution_count": 0,
      "outputs": []
    },
    {
      "cell_type": "code",
      "metadata": {
        "id": "2W0FBr-B1w1W",
        "colab_type": "code",
        "colab": {}
      },
      "source": [
        "import os\n",
        "os.environ[\"GOOGLE_APPLICATION_CREDENTIALS\"]=\"/content/drive/My Drive/Data Science/NYC Taxi-eb10197ea31e.json\"\n",
        "%reload_ext google.cloud.bigquery"
      ],
      "execution_count": 0,
      "outputs": []
    },
    {
      "cell_type": "code",
      "metadata": {
        "id": "KECYCbMF13YI",
        "colab_type": "code",
        "colab": {}
      },
      "source": [
        "import pandas as pd\n",
        "import numpy as np\n",
        "import sys\n",
        "from google.cloud import bigquery\n",
        "from google.colab import auth\n",
        "auth.authenticate_user()"
      ],
      "execution_count": 0,
      "outputs": []
    },
    {
      "cell_type": "code",
      "metadata": {
        "id": "wOgjvj172AQ_",
        "colab_type": "code",
        "colab": {}
      },
      "source": [
        "project_id = 'nyc-taxi-265120'\n",
        "from google.cloud import bigquery\n",
        "client = bigquery.Client(project = project_id)\n"
      ],
      "execution_count": 0,
      "outputs": []
    },
    {
      "cell_type": "code",
      "metadata": {
        "id": "NsGEFqdh2Ldg",
        "colab_type": "code",
        "colab": {}
      },
      "source": [
        "query = \"\"\"\n",
        "with wd as (\n",
        "    SELECT \n",
        "        cast(year as STRING) as year,\n",
        "        EXTRACT (DAYOFYEAR FROM CAST(CONCAT(year,'-',mo,'-',da) AS TIMESTAMP)) AS daynumber, \n",
        "        MIN(EXTRACT (DAYOFWEEK FROM CAST(CONCAT(year,'-',mo,'-',da) AS TIMESTAMP))) dayofweek,\n",
        "        MIN(min) mintemp, MAX(max) maxtemp, MAX(IF(prcp=99.99,0,prcp)) rain\n",
        "    FROM `bigquery-public-data.noaa_gsod.gsod2019`\n",
        "    WHERE stn='725030'   --station id 725030=LaGuardia\n",
        "    GROUP BY 1,2 \n",
        "  -- TAXI DATA\n",
        "  ),\n",
        "TD AS(\n",
        "WITH AB AS\n",
        "(\n",
        "SELECT  CAST(tpep_pickup_datetime AS DATETIME) AS PICKUP,* FROM `nyc-taxi-265120.NYC.2019_CreatedDataset`\n",
        ")  \n",
        "SELECT  PICKUP,CAST(EXTRACT (YEAR from PICKUP) AS STRING) AS year,EXTRACT (DAYOFYEAR from PICKUP) AS daynumber,EXTRACT (HOUR from PICKUP) AS hour, cast(PULocationID as STRING) as LOCATION,COUNT(*) AS numtrips FROM AB group by PICKUP,year,daynumber,hour,LOCATION),points AS\n",
        "(SELECT *,ST_CENTROID(zone_geom) as p FROM `bigquery-public-data.new_york_taxi_trips.taxi_zone_geom`)\n",
        "SELECT \n",
        "td.daynumber,\n",
        "td.hour,\n",
        "cast(wd.dayofweek as STRING) as dayofweek, \n",
        "    wd.mintemp, \n",
        "    wd.maxtemp,\n",
        "    wd.rain,  \n",
        "    SUM(td.numtrips) as label,\n",
        "    ST_ASTEXT(points.p) AS P, \n",
        "    points.zone_id,  \n",
        "  FROM wd, td INNER JOIN points ON points.zone_id=td.LOCATION\n",
        "  where wd.year = td.year AND\n",
        "  wd.daynumber = td.daynumber AND\n",
        "  eXTRACT (YEAR from PICKUP) =2019\n",
        "  group by daynumber,hour,zone_id,P,dayofweek, mintemp, maxtemp, rain\n",
        "\"\"\"\n",
        "df = client.query(query).to_dataframe()\n"
      ],
      "execution_count": 0,
      "outputs": []
    },
    {
      "cell_type": "code",
      "metadata": {
        "id": "b65OdKQQ2tnA",
        "colab_type": "code",
        "colab": {
          "base_uri": "https://localhost:8080/",
          "height": 195
        },
        "outputId": "1f3a07f1-84dd-4500-8318-e728eb34df8f"
      },
      "source": [
        "df.head()"
      ],
      "execution_count": 11,
      "outputs": [
        {
          "output_type": "execute_result",
          "data": {
            "text/html": [
              "<div>\n",
              "<style scoped>\n",
              "    .dataframe tbody tr th:only-of-type {\n",
              "        vertical-align: middle;\n",
              "    }\n",
              "\n",
              "    .dataframe tbody tr th {\n",
              "        vertical-align: top;\n",
              "    }\n",
              "\n",
              "    .dataframe thead th {\n",
              "        text-align: right;\n",
              "    }\n",
              "</style>\n",
              "<table border=\"1\" class=\"dataframe\">\n",
              "  <thead>\n",
              "    <tr style=\"text-align: right;\">\n",
              "      <th></th>\n",
              "      <th>daynumber</th>\n",
              "      <th>hour</th>\n",
              "      <th>dayofweek</th>\n",
              "      <th>mintemp</th>\n",
              "      <th>maxtemp</th>\n",
              "      <th>rain</th>\n",
              "      <th>label</th>\n",
              "      <th>P</th>\n",
              "      <th>zone_id</th>\n",
              "    </tr>\n",
              "  </thead>\n",
              "  <tbody>\n",
              "    <tr>\n",
              "      <th>0</th>\n",
              "      <td>112</td>\n",
              "      <td>16</td>\n",
              "      <td>2</td>\n",
              "      <td>48.9</td>\n",
              "      <td>64.0</td>\n",
              "      <td>0.0</td>\n",
              "      <td>395</td>\n",
              "      <td>POINT(-73.9841965572521 40.7598175648545)</td>\n",
              "      <td>230</td>\n",
              "    </tr>\n",
              "    <tr>\n",
              "      <th>1</th>\n",
              "      <td>112</td>\n",
              "      <td>11</td>\n",
              "      <td>2</td>\n",
              "      <td>48.9</td>\n",
              "      <td>64.0</td>\n",
              "      <td>0.0</td>\n",
              "      <td>335</td>\n",
              "      <td>POINT(-73.9815323547465 40.7736331935265)</td>\n",
              "      <td>142</td>\n",
              "    </tr>\n",
              "    <tr>\n",
              "      <th>2</th>\n",
              "      <td>112</td>\n",
              "      <td>8</td>\n",
              "      <td>2</td>\n",
              "      <td>48.9</td>\n",
              "      <td>64.0</td>\n",
              "      <td>0.0</td>\n",
              "      <td>61</td>\n",
              "      <td>POINT(-73.961763694476 40.8094568126806)</td>\n",
              "      <td>166</td>\n",
              "    </tr>\n",
              "    <tr>\n",
              "      <th>3</th>\n",
              "      <td>112</td>\n",
              "      <td>14</td>\n",
              "      <td>2</td>\n",
              "      <td>48.9</td>\n",
              "      <td>64.0</td>\n",
              "      <td>0.0</td>\n",
              "      <td>317</td>\n",
              "      <td>POINT(-73.9596350133211 40.7669480510354)</td>\n",
              "      <td>141</td>\n",
              "    </tr>\n",
              "    <tr>\n",
              "      <th>4</th>\n",
              "      <td>112</td>\n",
              "      <td>6</td>\n",
              "      <td>2</td>\n",
              "      <td>48.9</td>\n",
              "      <td>64.0</td>\n",
              "      <td>0.0</td>\n",
              "      <td>67</td>\n",
              "      <td>POINT(-73.9704426117182 40.749913998467)</td>\n",
              "      <td>233</td>\n",
              "    </tr>\n",
              "  </tbody>\n",
              "</table>\n",
              "</div>"
            ],
            "text/plain": [
              "   daynumber  hour  ...                                          P  zone_id\n",
              "0        112    16  ...  POINT(-73.9841965572521 40.7598175648545)      230\n",
              "1        112    11  ...  POINT(-73.9815323547465 40.7736331935265)      142\n",
              "2        112     8  ...   POINT(-73.961763694476 40.8094568126806)      166\n",
              "3        112    14  ...  POINT(-73.9596350133211 40.7669480510354)      141\n",
              "4        112     6  ...   POINT(-73.9704426117182 40.749913998467)      233\n",
              "\n",
              "[5 rows x 9 columns]"
            ]
          },
          "metadata": {
            "tags": []
          },
          "execution_count": 11
        }
      ]
    },
    {
      "cell_type": "code",
      "metadata": {
        "id": "p336ZOET4Noe",
        "colab_type": "code",
        "colab": {}
      },
      "source": [
        "df.drop('P', axis=1, inplace=True)"
      ],
      "execution_count": 0,
      "outputs": []
    },
    {
      "cell_type": "code",
      "metadata": {
        "id": "YmLQOdl63MmF",
        "colab_type": "code",
        "colab": {
          "base_uri": "https://localhost:8080/",
          "height": 235
        },
        "outputId": "16066a93-87b0-4a3b-99fe-5b8b4c45e833"
      },
      "source": [
        "df.info()"
      ],
      "execution_count": 14,
      "outputs": [
        {
          "output_type": "stream",
          "text": [
            "<class 'pandas.core.frame.DataFrame'>\n",
            "RangeIndex: 585122 entries, 0 to 585121\n",
            "Data columns (total 8 columns):\n",
            "daynumber    585122 non-null int64\n",
            "hour         585122 non-null int64\n",
            "dayofweek    585122 non-null object\n",
            "mintemp      585122 non-null float64\n",
            "maxtemp      585122 non-null float64\n",
            "rain         585122 non-null float64\n",
            "label        585122 non-null int64\n",
            "zone_id      585122 non-null object\n",
            "dtypes: float64(3), int64(3), object(2)\n",
            "memory usage: 35.7+ MB\n"
          ],
          "name": "stdout"
        }
      ]
    },
    {
      "cell_type": "code",
      "metadata": {
        "id": "pVN671ky5NNh",
        "colab_type": "code",
        "colab": {}
      },
      "source": [
        "df[\"dayofweek\"] = df[\"dayofweek\"].astype(int)"
      ],
      "execution_count": 0,
      "outputs": []
    },
    {
      "cell_type": "code",
      "metadata": {
        "id": "ajSRXzpt5hpM",
        "colab_type": "code",
        "colab": {}
      },
      "source": [
        "df[\"zone_id\"] = df[\"zone_id\"].astype(int)"
      ],
      "execution_count": 0,
      "outputs": []
    },
    {
      "cell_type": "code",
      "metadata": {
        "id": "bVkt3t_B4hqY",
        "colab_type": "code",
        "colab": {}
      },
      "source": [
        "from pyspark.sql.types import *\n",
        "\n",
        "mySchema = StructType([ StructField(\"daynumber\", LongType(), True)\\\n",
        "                       ,StructField(\"hour\", IntegerType(), True)\\\n",
        "                       ,StructField(\"dayofweek\", IntegerType(), True)\\\n",
        "                       ,StructField(\"mintemp\", FloatType(), True)\\\n",
        "                       ,StructField(\"maxtemp\", FloatType(), True)\\\n",
        "                       ,StructField(\"rain\", FloatType(), True)\\\n",
        "                       ,StructField(\"label\", IntegerType(), True)\\\n",
        "                       ,StructField(\"zone_id\", IntegerType(), True)\n",
        "                      ])"
      ],
      "execution_count": 0,
      "outputs": []
    },
    {
      "cell_type": "code",
      "metadata": {
        "id": "rvRu3r4BspYx",
        "colab_type": "code",
        "colab": {}
      },
      "source": [
        "py1 = spark.createDataFrame(df,schema=mySchema)"
      ],
      "execution_count": 0,
      "outputs": []
    },
    {
      "cell_type": "code",
      "metadata": {
        "id": "ghvprw3bedSl",
        "colab_type": "code",
        "colab": {}
      },
      "source": [
        "from pyspark.sql import SQLContext\n",
        "sqlContext = SQLContext(spark)"
      ],
      "execution_count": 0,
      "outputs": []
    },
    {
      "cell_type": "code",
      "metadata": {
        "id": "Unv9r2dffuC4",
        "colab_type": "code",
        "outputId": "a57222ca-f8c1-42a6-bd46-776b67dae4aa",
        "colab": {
          "base_uri": "https://localhost:8080/",
          "height": 185
        }
      },
      "source": [
        "py1.printSchema()"
      ],
      "execution_count": 29,
      "outputs": [
        {
          "output_type": "stream",
          "text": [
            "root\n",
            " |-- daynumber: long (nullable = true)\n",
            " |-- hour: integer (nullable = true)\n",
            " |-- dayofweek: integer (nullable = true)\n",
            " |-- mintemp: float (nullable = true)\n",
            " |-- maxtemp: float (nullable = true)\n",
            " |-- rain: float (nullable = true)\n",
            " |-- label: integer (nullable = true)\n",
            " |-- zone_id: integer (nullable = true)\n",
            "\n"
          ],
          "name": "stdout"
        }
      ]
    },
    {
      "cell_type": "code",
      "metadata": {
        "id": "PM-iedUM6DSj",
        "colab_type": "code",
        "colab": {
          "base_uri": "https://localhost:8080/",
          "height": 454
        },
        "outputId": "a2c475eb-6580-4bbc-92e6-606ca24ab70a"
      },
      "source": [
        "py1.show()"
      ],
      "execution_count": 30,
      "outputs": [
        {
          "output_type": "stream",
          "text": [
            "+---------+----+---------+-------+-------+----+-----+-------+\n",
            "|daynumber|hour|dayofweek|mintemp|maxtemp|rain|label|zone_id|\n",
            "+---------+----+---------+-------+-------+----+-----+-------+\n",
            "|      112|  16|        2|   48.9|   64.0| 0.0|  395|    230|\n",
            "|      112|  11|        2|   48.9|   64.0| 0.0|  335|    142|\n",
            "|      112|   8|        2|   48.9|   64.0| 0.0|   61|    166|\n",
            "|      112|  14|        2|   48.9|   64.0| 0.0|  317|    141|\n",
            "|      112|   6|        2|   48.9|   64.0| 0.0|   67|    233|\n",
            "|      112|  17|        2|   48.9|   64.0| 0.0|  107|     75|\n",
            "|      112|   0|        2|   48.9|   64.0| 0.0|   46|    239|\n",
            "|      112|  17|        2|   48.9|   64.0| 0.0|  223|    231|\n",
            "|      112|  17|        2|   48.9|   64.0| 0.0|  105|    151|\n",
            "|      112|   9|        2|   48.9|   64.0| 0.0|  169|     68|\n",
            "|      112|  10|        2|   48.9|   64.0| 0.0|  155|    113|\n",
            "|      112|  13|        2|   48.9|   64.0| 0.0|  258|    107|\n",
            "|      112|  15|        2|   48.9|   64.0| 0.0|  172|     79|\n",
            "|      112|  12|        2|   48.9|   64.0| 0.0|  596|    236|\n",
            "|      112|  10|        2|   48.9|   64.0| 0.0|  291|    142|\n",
            "|      112|   7|        2|   48.9|   64.0| 0.0|  131|    230|\n",
            "|      112|  21|        2|   48.9|   64.0| 0.0|  159|    141|\n",
            "|      112|  13|        2|   48.9|   64.0| 0.0|  249|    238|\n",
            "|      112|  11|        2|   48.9|   64.0| 0.0|  607|    236|\n",
            "|      112|  16|        2|   48.9|   64.0| 0.0|  752|    161|\n",
            "+---------+----+---------+-------+-------+----+-----+-------+\n",
            "only showing top 20 rows\n",
            "\n"
          ],
          "name": "stdout"
        }
      ]
    },
    {
      "cell_type": "code",
      "metadata": {
        "id": "Cz8eSvMofvgK",
        "colab_type": "code",
        "colab": {}
      },
      "source": [
        "from pyspark.ml.feature import VectorAssembler\n",
        "from pyspark.ml.regression import LinearRegression\n",
        "from pyspark.ml.regression import RandomForestRegressor"
      ],
      "execution_count": 0,
      "outputs": []
    },
    {
      "cell_type": "code",
      "metadata": {
        "id": "poMz_6pcf50M",
        "colab_type": "code",
        "colab": {}
      },
      "source": [
        "feature=VectorAssembler(inputCols=[\"daynumber\",\"hour\",\"dayofweek\",\"mintemp\",\"maxtemp\",\"rain\",\"zone_id\"],outputCol=\"independent\")"
      ],
      "execution_count": 0,
      "outputs": []
    },
    {
      "cell_type": "code",
      "metadata": {
        "id": "F-8thkNZuCKb",
        "colab_type": "code",
        "colab": {}
      },
      "source": [
        "output=feature.transform(py1)"
      ],
      "execution_count": 0,
      "outputs": []
    },
    {
      "cell_type": "code",
      "metadata": {
        "id": "B61qdo9Bf6-0",
        "colab_type": "code",
        "outputId": "3e59b6f6-b7ec-4120-ba60-ee60edcea507",
        "colab": {
          "base_uri": "https://localhost:8080/",
          "height": 454
        }
      },
      "source": [
        "output.show()"
      ],
      "execution_count": 36,
      "outputs": [
        {
          "output_type": "stream",
          "text": [
            "+---------+----+---------+-------+-------+----+-----+-------+--------------------+\n",
            "|daynumber|hour|dayofweek|mintemp|maxtemp|rain|label|zone_id|         independent|\n",
            "+---------+----+---------+-------+-------+----+-----+-------+--------------------+\n",
            "|      112|  16|        2|   48.9|   64.0| 0.0|  395|    230|[112.0,16.0,2.0,4...|\n",
            "|      112|  11|        2|   48.9|   64.0| 0.0|  335|    142|[112.0,11.0,2.0,4...|\n",
            "|      112|   8|        2|   48.9|   64.0| 0.0|   61|    166|[112.0,8.0,2.0,48...|\n",
            "|      112|  14|        2|   48.9|   64.0| 0.0|  317|    141|[112.0,14.0,2.0,4...|\n",
            "|      112|   6|        2|   48.9|   64.0| 0.0|   67|    233|[112.0,6.0,2.0,48...|\n",
            "|      112|  17|        2|   48.9|   64.0| 0.0|  107|     75|[112.0,17.0,2.0,4...|\n",
            "|      112|   0|        2|   48.9|   64.0| 0.0|   46|    239|[112.0,0.0,2.0,48...|\n",
            "|      112|  17|        2|   48.9|   64.0| 0.0|  223|    231|[112.0,17.0,2.0,4...|\n",
            "|      112|  17|        2|   48.9|   64.0| 0.0|  105|    151|[112.0,17.0,2.0,4...|\n",
            "|      112|   9|        2|   48.9|   64.0| 0.0|  169|     68|[112.0,9.0,2.0,48...|\n",
            "|      112|  10|        2|   48.9|   64.0| 0.0|  155|    113|[112.0,10.0,2.0,4...|\n",
            "|      112|  13|        2|   48.9|   64.0| 0.0|  258|    107|[112.0,13.0,2.0,4...|\n",
            "|      112|  15|        2|   48.9|   64.0| 0.0|  172|     79|[112.0,15.0,2.0,4...|\n",
            "|      112|  12|        2|   48.9|   64.0| 0.0|  596|    236|[112.0,12.0,2.0,4...|\n",
            "|      112|  10|        2|   48.9|   64.0| 0.0|  291|    142|[112.0,10.0,2.0,4...|\n",
            "|      112|   7|        2|   48.9|   64.0| 0.0|  131|    230|[112.0,7.0,2.0,48...|\n",
            "|      112|  21|        2|   48.9|   64.0| 0.0|  159|    141|[112.0,21.0,2.0,4...|\n",
            "|      112|  13|        2|   48.9|   64.0| 0.0|  249|    238|[112.0,13.0,2.0,4...|\n",
            "|      112|  11|        2|   48.9|   64.0| 0.0|  607|    236|[112.0,11.0,2.0,4...|\n",
            "|      112|  16|        2|   48.9|   64.0| 0.0|  752|    161|[112.0,16.0,2.0,4...|\n",
            "+---------+----+---------+-------+-------+----+-----+-------+--------------------+\n",
            "only showing top 20 rows\n",
            "\n"
          ],
          "name": "stdout"
        }
      ]
    },
    {
      "cell_type": "code",
      "metadata": {
        "id": "-FfrIfQqgDh1",
        "colab_type": "code",
        "colab": {}
      },
      "source": [
        "final_data=output.select(\"independent\",\"label\")"
      ],
      "execution_count": 0,
      "outputs": []
    },
    {
      "cell_type": "code",
      "metadata": {
        "id": "Hc09QqVu86xM",
        "colab_type": "code",
        "colab": {
          "base_uri": "https://localhost:8080/",
          "height": 454
        },
        "outputId": "3e803ec7-8429-4340-b3db-4d0baf84b7ff"
      },
      "source": [
        "final_data.show()"
      ],
      "execution_count": 38,
      "outputs": [
        {
          "output_type": "stream",
          "text": [
            "+--------------------+-----+\n",
            "|         independent|label|\n",
            "+--------------------+-----+\n",
            "|[112.0,16.0,2.0,4...|  395|\n",
            "|[112.0,11.0,2.0,4...|  335|\n",
            "|[112.0,8.0,2.0,48...|   61|\n",
            "|[112.0,14.0,2.0,4...|  317|\n",
            "|[112.0,6.0,2.0,48...|   67|\n",
            "|[112.0,17.0,2.0,4...|  107|\n",
            "|[112.0,0.0,2.0,48...|   46|\n",
            "|[112.0,17.0,2.0,4...|  223|\n",
            "|[112.0,17.0,2.0,4...|  105|\n",
            "|[112.0,9.0,2.0,48...|  169|\n",
            "|[112.0,10.0,2.0,4...|  155|\n",
            "|[112.0,13.0,2.0,4...|  258|\n",
            "|[112.0,15.0,2.0,4...|  172|\n",
            "|[112.0,12.0,2.0,4...|  596|\n",
            "|[112.0,10.0,2.0,4...|  291|\n",
            "|[112.0,7.0,2.0,48...|  131|\n",
            "|[112.0,21.0,2.0,4...|  159|\n",
            "|[112.0,13.0,2.0,4...|  249|\n",
            "|[112.0,11.0,2.0,4...|  607|\n",
            "|[112.0,16.0,2.0,4...|  752|\n",
            "+--------------------+-----+\n",
            "only showing top 20 rows\n",
            "\n"
          ],
          "name": "stdout"
        }
      ]
    },
    {
      "cell_type": "code",
      "metadata": {
        "id": "CBgJ0UZd9nAI",
        "colab_type": "code",
        "colab": {}
      },
      "source": [
        "train_data,test_data=final_data.randomSplit([0.75,0.25])"
      ],
      "execution_count": 0,
      "outputs": []
    },
    {
      "cell_type": "code",
      "metadata": {
        "id": "ABno5yeV-mja",
        "colab_type": "code",
        "colab": {
          "base_uri": "https://localhost:8080/",
          "height": 34
        },
        "outputId": "347db02e-d339-4f4a-92f5-d44ccfd15c51"
      },
      "source": [
        "type(train_data)"
      ],
      "execution_count": 43,
      "outputs": [
        {
          "output_type": "execute_result",
          "data": {
            "text/plain": [
              "pyspark.sql.dataframe.DataFrame"
            ]
          },
          "metadata": {
            "tags": []
          },
          "execution_count": 43
        }
      ]
    },
    {
      "cell_type": "code",
      "metadata": {
        "id": "Ax_JcaGa88F0",
        "colab_type": "code",
        "colab": {
          "base_uri": "https://localhost:8080/",
          "height": 34
        },
        "outputId": "317376ed-e9bd-4395-e09f-e4dc24af6139"
      },
      "source": [
        "regressor=LinearRegression(featuresCol=\"independent\",labelCol=\"label\")\n",
        "regressor.fit(train_data)"
      ],
      "execution_count": 44,
      "outputs": [
        {
          "output_type": "execute_result",
          "data": {
            "text/plain": [
              "LinearRegression_b982fcfa286d"
            ]
          },
          "metadata": {
            "tags": []
          },
          "execution_count": 44
        }
      ]
    },
    {
      "cell_type": "code",
      "metadata": {
        "id": "ykMkp16d98Tu",
        "colab_type": "code",
        "colab": {
          "base_uri": "https://localhost:8080/",
          "height": 162
        },
        "outputId": "ca415203-388e-4f44-dab5-b66334788609"
      },
      "source": [
        "regressor.intercept"
      ],
      "execution_count": 48,
      "outputs": [
        {
          "output_type": "error",
          "ename": "AttributeError",
          "evalue": "ignored",
          "traceback": [
            "\u001b[0;31m---------------------------------------------------------------------------\u001b[0m",
            "\u001b[0;31mAttributeError\u001b[0m                            Traceback (most recent call last)",
            "\u001b[0;32m<ipython-input-48-8aa09975c8c4>\u001b[0m in \u001b[0;36m<module>\u001b[0;34m()\u001b[0m\n\u001b[0;32m----> 1\u001b[0;31m \u001b[0mregressor\u001b[0m\u001b[0;34m.\u001b[0m\u001b[0mintercept\u001b[0m\u001b[0;34m\u001b[0m\u001b[0;34m\u001b[0m\u001b[0m\n\u001b[0m",
            "\u001b[0;31mAttributeError\u001b[0m: 'LinearRegression' object has no attribute 'intercept'"
          ]
        }
      ]
    },
    {
      "cell_type": "code",
      "metadata": {
        "id": "rh5B9MV9_rjc",
        "colab_type": "code",
        "colab": {}
      },
      "source": [
        "r1=RandomForestRegressor(featuresCol=\"independent\",labelCol=\"label\",numTrees=10, maxDepth=10, seed=42)\n",
        "model = r1.fit(train_data)"
      ],
      "execution_count": 0,
      "outputs": []
    },
    {
      "cell_type": "code",
      "metadata": {
        "id": "n7h9bYH8ARZJ",
        "colab_type": "code",
        "colab": {
          "base_uri": "https://localhost:8080/",
          "height": 34
        },
        "outputId": "2d7a6cd3-0bd5-4ec6-afc1-4da5d6120e60"
      },
      "source": [
        "model.featureImportances"
      ],
      "execution_count": 70,
      "outputs": [
        {
          "output_type": "execute_result",
          "data": {
            "text/plain": [
              "SparseVector(7, {0: 0.0048, 1: 0.1923, 2: 0.0254, 3: 0.0028, 4: 0.0031, 5: 0.0018, 6: 0.7698})"
            ]
          },
          "metadata": {
            "tags": []
          },
          "execution_count": 70
        }
      ]
    },
    {
      "cell_type": "code",
      "metadata": {
        "id": "8d0nA0E2FM6h",
        "colab_type": "code",
        "colab": {
          "base_uri": "https://localhost:8080/",
          "height": 34
        },
        "outputId": "9be8f556-eee7-4ce2-f394-1a119b57c065"
      },
      "source": [
        "type(model)"
      ],
      "execution_count": 72,
      "outputs": [
        {
          "output_type": "execute_result",
          "data": {
            "text/plain": [
              "pyspark.ml.regression.RandomForestRegressionModel"
            ]
          },
          "metadata": {
            "tags": []
          },
          "execution_count": 72
        }
      ]
    },
    {
      "cell_type": "code",
      "metadata": {
        "id": "v6XrTyCbB5cy",
        "colab_type": "code",
        "colab": {
          "base_uri": "https://localhost:8080/",
          "height": 430
        },
        "outputId": "41d1e7ca-b99b-4d97-d1c0-7b4c35f25386"
      },
      "source": [
        "model.transform(test_data).show(10).prediction"
      ],
      "execution_count": 71,
      "outputs": [
        {
          "output_type": "stream",
          "text": [
            "+--------------------+-----+------------------+\n",
            "|         independent|label|        prediction|\n",
            "+--------------------+-----+------------------+\n",
            "|[1.0,0.0,3.0,35.0...|    3|19.431874624670495|\n",
            "|[1.0,0.0,3.0,35.0...|    4|19.431874624670495|\n",
            "|[1.0,0.0,3.0,35.0...|    1| 17.46552941346361|\n",
            "|[1.0,0.0,3.0,35.0...|    5|14.278693200504346|\n",
            "|[1.0,0.0,3.0,35.0...|   83| 66.26396852825638|\n",
            "|[1.0,0.0,3.0,35.0...|  273| 66.26396852825638|\n",
            "|[1.0,0.0,3.0,35.0...|    1| 51.95227803952205|\n",
            "|[1.0,0.0,3.0,35.0...|    8|54.854070032014235|\n",
            "|[1.0,0.0,3.0,35.0...|  444|54.854070032014235|\n",
            "|[1.0,0.0,3.0,35.0...|   91|54.854070032014235|\n",
            "+--------------------+-----+------------------+\n",
            "only showing top 10 rows\n",
            "\n"
          ],
          "name": "stdout"
        },
        {
          "output_type": "error",
          "ename": "AttributeError",
          "evalue": "ignored",
          "traceback": [
            "\u001b[0;31m---------------------------------------------------------------------------\u001b[0m",
            "\u001b[0;31mAttributeError\u001b[0m                            Traceback (most recent call last)",
            "\u001b[0;32m<ipython-input-71-9d29fd0be1f8>\u001b[0m in \u001b[0;36m<module>\u001b[0;34m()\u001b[0m\n\u001b[0;32m----> 1\u001b[0;31m \u001b[0mmodel\u001b[0m\u001b[0;34m.\u001b[0m\u001b[0mtransform\u001b[0m\u001b[0;34m(\u001b[0m\u001b[0mtest_data\u001b[0m\u001b[0;34m)\u001b[0m\u001b[0;34m.\u001b[0m\u001b[0mshow\u001b[0m\u001b[0;34m(\u001b[0m\u001b[0;36m10\u001b[0m\u001b[0;34m)\u001b[0m\u001b[0;34m.\u001b[0m\u001b[0mprediction\u001b[0m\u001b[0;34m\u001b[0m\u001b[0;34m\u001b[0m\u001b[0m\n\u001b[0m",
            "\u001b[0;31mAttributeError\u001b[0m: 'NoneType' object has no attribute 'prediction'"
          ]
        }
      ]
    },
    {
      "cell_type": "code",
      "metadata": {
        "id": "wNjQdVTaCFSc",
        "colab_type": "code",
        "colab": {}
      },
      "source": [
        "model.save(\"/content/drive/My Drive/Data Science/m\")"
      ],
      "execution_count": 0,
      "outputs": []
    },
    {
      "cell_type": "code",
      "metadata": {
        "id": "u6MnzT7kHu86",
        "colab_type": "code",
        "colab": {
          "base_uri": "https://localhost:8080/",
          "height": 555
        },
        "outputId": "500ccdf1-d762-470f-c020-ae2759a095df"
      },
      "source": [
        "sameModel = RandomForestRegressor.load(\"/content/drive/My Drive/Data Science/m\")"
      ],
      "execution_count": 75,
      "outputs": [
        {
          "output_type": "error",
          "ename": "Py4JJavaError",
          "evalue": "ignored",
          "traceback": [
            "\u001b[0;31m---------------------------------------------------------------------------\u001b[0m",
            "\u001b[0;31mPy4JJavaError\u001b[0m                             Traceback (most recent call last)",
            "\u001b[0;32m<ipython-input-75-278b387ae8f6>\u001b[0m in \u001b[0;36m<module>\u001b[0;34m()\u001b[0m\n\u001b[0;32m----> 1\u001b[0;31m \u001b[0msameModel\u001b[0m \u001b[0;34m=\u001b[0m \u001b[0mRandomForestRegressor\u001b[0m\u001b[0;34m.\u001b[0m\u001b[0mload\u001b[0m\u001b[0;34m(\u001b[0m\u001b[0;34m\"/content/drive/My Drive/Data Science/m\"\u001b[0m\u001b[0;34m)\u001b[0m\u001b[0;34m\u001b[0m\u001b[0;34m\u001b[0m\u001b[0m\n\u001b[0m",
            "\u001b[0;32m/content/spark-2.4.4-bin-hadoop2.7/python/pyspark/ml/util.py\u001b[0m in \u001b[0;36mload\u001b[0;34m(cls, path)\u001b[0m\n\u001b[1;32m    360\u001b[0m     \u001b[0;32mdef\u001b[0m \u001b[0mload\u001b[0m\u001b[0;34m(\u001b[0m\u001b[0mcls\u001b[0m\u001b[0;34m,\u001b[0m \u001b[0mpath\u001b[0m\u001b[0;34m)\u001b[0m\u001b[0;34m:\u001b[0m\u001b[0;34m\u001b[0m\u001b[0;34m\u001b[0m\u001b[0m\n\u001b[1;32m    361\u001b[0m         \u001b[0;34m\"\"\"Reads an ML instance from the input path, a shortcut of `read().load(path)`.\"\"\"\u001b[0m\u001b[0;34m\u001b[0m\u001b[0;34m\u001b[0m\u001b[0m\n\u001b[0;32m--> 362\u001b[0;31m         \u001b[0;32mreturn\u001b[0m \u001b[0mcls\u001b[0m\u001b[0;34m.\u001b[0m\u001b[0mread\u001b[0m\u001b[0;34m(\u001b[0m\u001b[0;34m)\u001b[0m\u001b[0;34m.\u001b[0m\u001b[0mload\u001b[0m\u001b[0;34m(\u001b[0m\u001b[0mpath\u001b[0m\u001b[0;34m)\u001b[0m\u001b[0;34m\u001b[0m\u001b[0;34m\u001b[0m\u001b[0m\n\u001b[0m\u001b[1;32m    363\u001b[0m \u001b[0;34m\u001b[0m\u001b[0m\n\u001b[1;32m    364\u001b[0m \u001b[0;34m\u001b[0m\u001b[0m\n",
            "\u001b[0;32m/content/spark-2.4.4-bin-hadoop2.7/python/pyspark/ml/util.py\u001b[0m in \u001b[0;36mload\u001b[0;34m(self, path)\u001b[0m\n\u001b[1;32m    298\u001b[0m         \u001b[0;32mif\u001b[0m \u001b[0;32mnot\u001b[0m \u001b[0misinstance\u001b[0m\u001b[0;34m(\u001b[0m\u001b[0mpath\u001b[0m\u001b[0;34m,\u001b[0m \u001b[0mbasestring\u001b[0m\u001b[0;34m)\u001b[0m\u001b[0;34m:\u001b[0m\u001b[0;34m\u001b[0m\u001b[0;34m\u001b[0m\u001b[0m\n\u001b[1;32m    299\u001b[0m             \u001b[0;32mraise\u001b[0m \u001b[0mTypeError\u001b[0m\u001b[0;34m(\u001b[0m\u001b[0;34m\"path should be a basestring, got type %s\"\u001b[0m \u001b[0;34m%\u001b[0m \u001b[0mtype\u001b[0m\u001b[0;34m(\u001b[0m\u001b[0mpath\u001b[0m\u001b[0;34m)\u001b[0m\u001b[0;34m)\u001b[0m\u001b[0;34m\u001b[0m\u001b[0;34m\u001b[0m\u001b[0m\n\u001b[0;32m--> 300\u001b[0;31m         \u001b[0mjava_obj\u001b[0m \u001b[0;34m=\u001b[0m \u001b[0mself\u001b[0m\u001b[0;34m.\u001b[0m\u001b[0m_jread\u001b[0m\u001b[0;34m.\u001b[0m\u001b[0mload\u001b[0m\u001b[0;34m(\u001b[0m\u001b[0mpath\u001b[0m\u001b[0;34m)\u001b[0m\u001b[0;34m\u001b[0m\u001b[0;34m\u001b[0m\u001b[0m\n\u001b[0m\u001b[1;32m    301\u001b[0m         \u001b[0;32mif\u001b[0m \u001b[0;32mnot\u001b[0m \u001b[0mhasattr\u001b[0m\u001b[0;34m(\u001b[0m\u001b[0mself\u001b[0m\u001b[0;34m.\u001b[0m\u001b[0m_clazz\u001b[0m\u001b[0;34m,\u001b[0m \u001b[0;34m\"_from_java\"\u001b[0m\u001b[0;34m)\u001b[0m\u001b[0;34m:\u001b[0m\u001b[0;34m\u001b[0m\u001b[0;34m\u001b[0m\u001b[0m\n\u001b[1;32m    302\u001b[0m             raise NotImplementedError(\"This Java ML type cannot be loaded into Python currently: %r\"\n",
            "\u001b[0;32m/content/spark-2.4.4-bin-hadoop2.7/python/lib/py4j-0.10.7-src.zip/py4j/java_gateway.py\u001b[0m in \u001b[0;36m__call__\u001b[0;34m(self, *args)\u001b[0m\n\u001b[1;32m   1255\u001b[0m         \u001b[0manswer\u001b[0m \u001b[0;34m=\u001b[0m \u001b[0mself\u001b[0m\u001b[0;34m.\u001b[0m\u001b[0mgateway_client\u001b[0m\u001b[0;34m.\u001b[0m\u001b[0msend_command\u001b[0m\u001b[0;34m(\u001b[0m\u001b[0mcommand\u001b[0m\u001b[0;34m)\u001b[0m\u001b[0;34m\u001b[0m\u001b[0;34m\u001b[0m\u001b[0m\n\u001b[1;32m   1256\u001b[0m         return_value = get_return_value(\n\u001b[0;32m-> 1257\u001b[0;31m             answer, self.gateway_client, self.target_id, self.name)\n\u001b[0m\u001b[1;32m   1258\u001b[0m \u001b[0;34m\u001b[0m\u001b[0m\n\u001b[1;32m   1259\u001b[0m         \u001b[0;32mfor\u001b[0m \u001b[0mtemp_arg\u001b[0m \u001b[0;32min\u001b[0m \u001b[0mtemp_args\u001b[0m\u001b[0;34m:\u001b[0m\u001b[0;34m\u001b[0m\u001b[0;34m\u001b[0m\u001b[0m\n",
            "\u001b[0;32m/content/spark-2.4.4-bin-hadoop2.7/python/pyspark/sql/utils.py\u001b[0m in \u001b[0;36mdeco\u001b[0;34m(*a, **kw)\u001b[0m\n\u001b[1;32m     61\u001b[0m     \u001b[0;32mdef\u001b[0m \u001b[0mdeco\u001b[0m\u001b[0;34m(\u001b[0m\u001b[0;34m*\u001b[0m\u001b[0ma\u001b[0m\u001b[0;34m,\u001b[0m \u001b[0;34m**\u001b[0m\u001b[0mkw\u001b[0m\u001b[0;34m)\u001b[0m\u001b[0;34m:\u001b[0m\u001b[0;34m\u001b[0m\u001b[0;34m\u001b[0m\u001b[0m\n\u001b[1;32m     62\u001b[0m         \u001b[0;32mtry\u001b[0m\u001b[0;34m:\u001b[0m\u001b[0;34m\u001b[0m\u001b[0;34m\u001b[0m\u001b[0m\n\u001b[0;32m---> 63\u001b[0;31m             \u001b[0;32mreturn\u001b[0m \u001b[0mf\u001b[0m\u001b[0;34m(\u001b[0m\u001b[0;34m*\u001b[0m\u001b[0ma\u001b[0m\u001b[0;34m,\u001b[0m \u001b[0;34m**\u001b[0m\u001b[0mkw\u001b[0m\u001b[0;34m)\u001b[0m\u001b[0;34m\u001b[0m\u001b[0;34m\u001b[0m\u001b[0m\n\u001b[0m\u001b[1;32m     64\u001b[0m         \u001b[0;32mexcept\u001b[0m \u001b[0mpy4j\u001b[0m\u001b[0;34m.\u001b[0m\u001b[0mprotocol\u001b[0m\u001b[0;34m.\u001b[0m\u001b[0mPy4JJavaError\u001b[0m \u001b[0;32mas\u001b[0m \u001b[0me\u001b[0m\u001b[0;34m:\u001b[0m\u001b[0;34m\u001b[0m\u001b[0;34m\u001b[0m\u001b[0m\n\u001b[1;32m     65\u001b[0m             \u001b[0ms\u001b[0m \u001b[0;34m=\u001b[0m \u001b[0me\u001b[0m\u001b[0;34m.\u001b[0m\u001b[0mjava_exception\u001b[0m\u001b[0;34m.\u001b[0m\u001b[0mtoString\u001b[0m\u001b[0;34m(\u001b[0m\u001b[0;34m)\u001b[0m\u001b[0;34m\u001b[0m\u001b[0;34m\u001b[0m\u001b[0m\n",
            "\u001b[0;32m/content/spark-2.4.4-bin-hadoop2.7/python/lib/py4j-0.10.7-src.zip/py4j/protocol.py\u001b[0m in \u001b[0;36mget_return_value\u001b[0;34m(answer, gateway_client, target_id, name)\u001b[0m\n\u001b[1;32m    326\u001b[0m                 raise Py4JJavaError(\n\u001b[1;32m    327\u001b[0m                     \u001b[0;34m\"An error occurred while calling {0}{1}{2}.\\n\"\u001b[0m\u001b[0;34m.\u001b[0m\u001b[0;34m\u001b[0m\u001b[0;34m\u001b[0m\u001b[0m\n\u001b[0;32m--> 328\u001b[0;31m                     format(target_id, \".\", name), value)\n\u001b[0m\u001b[1;32m    329\u001b[0m             \u001b[0;32melse\u001b[0m\u001b[0;34m:\u001b[0m\u001b[0;34m\u001b[0m\u001b[0;34m\u001b[0m\u001b[0m\n\u001b[1;32m    330\u001b[0m                 raise Py4JError(\n",
            "\u001b[0;31mPy4JJavaError\u001b[0m: An error occurred while calling o861.load.\n: java.lang.NoSuchMethodException: org.apache.spark.ml.regression.RandomForestRegressionModel.<init>(java.lang.String)\n\tat java.lang.Class.getConstructor0(Class.java:3082)\n\tat java.lang.Class.getConstructor(Class.java:1825)\n\tat org.apache.spark.ml.util.DefaultParamsReader.load(ReadWrite.scala:496)\n\tat sun.reflect.NativeMethodAccessorImpl.invoke0(Native Method)\n\tat sun.reflect.NativeMethodAccessorImpl.invoke(NativeMethodAccessorImpl.java:62)\n\tat sun.reflect.DelegatingMethodAccessorImpl.invoke(DelegatingMethodAccessorImpl.java:43)\n\tat java.lang.reflect.Method.invoke(Method.java:498)\n\tat py4j.reflection.MethodInvoker.invoke(MethodInvoker.java:244)\n\tat py4j.reflection.ReflectionEngine.invoke(ReflectionEngine.java:357)\n\tat py4j.Gateway.invoke(Gateway.java:282)\n\tat py4j.commands.AbstractCommand.invokeMethod(AbstractCommand.java:132)\n\tat py4j.commands.CallCommand.execute(CallCommand.java:79)\n\tat py4j.GatewayConnection.run(GatewayConnection.java:238)\n\tat java.lang.Thread.run(Thread.java:748)\n"
          ]
        }
      ]
    },
    {
      "cell_type": "code",
      "metadata": {
        "id": "XhH1aGHsCKAH",
        "colab_type": "code",
        "colab": {
          "base_uri": "https://localhost:8080/",
          "height": 162
        },
        "outputId": "80c1de93-e7a2-41bf-90e8-075d98b62d29"
      },
      "source": [
        "pred_results=model.evaluate(test_data)"
      ],
      "execution_count": 57,
      "outputs": [
        {
          "output_type": "error",
          "ename": "AttributeError",
          "evalue": "ignored",
          "traceback": [
            "\u001b[0;31m---------------------------------------------------------------------------\u001b[0m",
            "\u001b[0;31mAttributeError\u001b[0m                            Traceback (most recent call last)",
            "\u001b[0;32m<ipython-input-57-671c677d3b44>\u001b[0m in \u001b[0;36m<module>\u001b[0;34m()\u001b[0m\n\u001b[0;32m----> 1\u001b[0;31m \u001b[0mpred_results\u001b[0m\u001b[0;34m=\u001b[0m\u001b[0mmodel\u001b[0m\u001b[0;34m.\u001b[0m\u001b[0mevaluate\u001b[0m\u001b[0;34m(\u001b[0m\u001b[0mtest_data\u001b[0m\u001b[0;34m)\u001b[0m\u001b[0;34m\u001b[0m\u001b[0;34m\u001b[0m\u001b[0m\n\u001b[0m",
            "\u001b[0;31mAttributeError\u001b[0m: 'RandomForestRegressionModel' object has no attribute 'evaluate'"
          ]
        }
      ]
    },
    {
      "cell_type": "code",
      "metadata": {
        "id": "6xdOsq-xCapP",
        "colab_type": "code",
        "colab": {}
      },
      "source": [
        "a=model.transform(test_data)"
      ],
      "execution_count": 0,
      "outputs": []
    },
    {
      "cell_type": "code",
      "metadata": {
        "id": "2fZMVrRnChyH",
        "colab_type": "code",
        "colab": {
          "base_uri": "https://localhost:8080/",
          "height": 454
        },
        "outputId": "3097d26a-cb44-4dff-87bd-17b5eebb8eaf"
      },
      "source": [
        "a.show()"
      ],
      "execution_count": 80,
      "outputs": [
        {
          "output_type": "stream",
          "text": [
            "+--------------------+-----+------------------+\n",
            "|         independent|label|        prediction|\n",
            "+--------------------+-----+------------------+\n",
            "|[1.0,0.0,3.0,35.0...|    3|19.431874624670495|\n",
            "|[1.0,0.0,3.0,35.0...|    4|19.431874624670495|\n",
            "|[1.0,0.0,3.0,35.0...|    1| 17.46552941346361|\n",
            "|[1.0,0.0,3.0,35.0...|    5|14.278693200504346|\n",
            "|[1.0,0.0,3.0,35.0...|   83| 66.26396852825638|\n",
            "|[1.0,0.0,3.0,35.0...|  273| 66.26396852825638|\n",
            "|[1.0,0.0,3.0,35.0...|    1| 51.95227803952205|\n",
            "|[1.0,0.0,3.0,35.0...|    8|54.854070032014235|\n",
            "|[1.0,0.0,3.0,35.0...|  444|54.854070032014235|\n",
            "|[1.0,0.0,3.0,35.0...|   91|54.854070032014235|\n",
            "|[1.0,0.0,3.0,35.0...|    2|54.854070032014235|\n",
            "|[1.0,0.0,3.0,35.0...|   14|54.854070032014235|\n",
            "|[1.0,0.0,3.0,35.0...|    2|54.854070032014235|\n",
            "|[1.0,0.0,3.0,35.0...|    1|54.854070032014235|\n",
            "|[1.0,0.0,3.0,35.0...|   15|54.854070032014235|\n",
            "|[1.0,0.0,3.0,35.0...|    3|54.854070032014235|\n",
            "|[1.0,0.0,3.0,35.0...|   12|54.854070032014235|\n",
            "|[1.0,0.0,3.0,35.0...|  239|54.854070032014235|\n",
            "|[1.0,0.0,3.0,35.0...|  293| 56.51750131193766|\n",
            "|[1.0,0.0,3.0,35.0...|    2| 49.62984169809973|\n",
            "+--------------------+-----+------------------+\n",
            "only showing top 20 rows\n",
            "\n"
          ],
          "name": "stdout"
        }
      ]
    },
    {
      "cell_type": "code",
      "metadata": {
        "id": "OGyOR4skClNC",
        "colab_type": "code",
        "colab": {}
      },
      "source": [
        ""
      ],
      "execution_count": 0,
      "outputs": []
    }
  ]
}