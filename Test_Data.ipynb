{
  "nbformat": 4,
  "nbformat_minor": 0,
  "metadata": {
    "colab": {
      "name": "Test Data.ipynb",
      "provenance": [],
      "mount_file_id": "1wWB9RQMtuC0aMMZ-U_3KikSLxIHswzpv",
      "authorship_tag": "ABX9TyMfhLms05ooIg4R/fceZ9h5",
      "include_colab_link": true
    },
    "kernelspec": {
      "name": "python3",
      "display_name": "Python 3"
    }
  },
  "cells": [
    {
      "cell_type": "markdown",
      "metadata": {
        "id": "view-in-github",
        "colab_type": "text"
      },
      "source": [
        "<a href=\"https://colab.research.google.com/github/ssrbazpur/Data-Science/blob/master/Test_Data.ipynb\" target=\"_parent\"><img src=\"https://colab.research.google.com/assets/colab-badge.svg\" alt=\"Open In Colab\"/></a>"
      ]
    },
    {
      "cell_type": "code",
      "metadata": {
        "id": "rVGLu3tg1PSn",
        "colab_type": "code",
        "colab": {
          "base_uri": "https://localhost:8080/",
          "height": 254
        },
        "outputId": "a24174dd-92d1-4df7-94b2-54501a16d55b"
      },
      "source": [
        "\n",
        "# import pandas as pd \n",
        "import pandas as pd \n",
        "  \n",
        "# list of strings \n",
        "lst = ['Geeks', 'For', 'Geeks', 'is', 'portal', 'for', 'Geeks'] \n",
        "  \n",
        "# list of int \n",
        "lst2 = [11, 22, 33, 44, 55, 66, 77] \n",
        "\n",
        "  \n",
        "# Calling DataFrame constructor after zipping \n",
        "# both lists, with columns specified \n",
        "df = pd.DataFrame(list(zip(lst, lst2)), \n",
        "               columns =['Name', 'val']) \n",
        "df "
      ],
      "execution_count": 1,
      "outputs": [
        {
          "output_type": "execute_result",
          "data": {
            "text/html": [
              "<div>\n",
              "<style scoped>\n",
              "    .dataframe tbody tr th:only-of-type {\n",
              "        vertical-align: middle;\n",
              "    }\n",
              "\n",
              "    .dataframe tbody tr th {\n",
              "        vertical-align: top;\n",
              "    }\n",
              "\n",
              "    .dataframe thead th {\n",
              "        text-align: right;\n",
              "    }\n",
              "</style>\n",
              "<table border=\"1\" class=\"dataframe\">\n",
              "  <thead>\n",
              "    <tr style=\"text-align: right;\">\n",
              "      <th></th>\n",
              "      <th>Name</th>\n",
              "      <th>val</th>\n",
              "    </tr>\n",
              "  </thead>\n",
              "  <tbody>\n",
              "    <tr>\n",
              "      <th>0</th>\n",
              "      <td>Geeks</td>\n",
              "      <td>11</td>\n",
              "    </tr>\n",
              "    <tr>\n",
              "      <th>1</th>\n",
              "      <td>For</td>\n",
              "      <td>22</td>\n",
              "    </tr>\n",
              "    <tr>\n",
              "      <th>2</th>\n",
              "      <td>Geeks</td>\n",
              "      <td>33</td>\n",
              "    </tr>\n",
              "    <tr>\n",
              "      <th>3</th>\n",
              "      <td>is</td>\n",
              "      <td>44</td>\n",
              "    </tr>\n",
              "    <tr>\n",
              "      <th>4</th>\n",
              "      <td>portal</td>\n",
              "      <td>55</td>\n",
              "    </tr>\n",
              "    <tr>\n",
              "      <th>5</th>\n",
              "      <td>for</td>\n",
              "      <td>66</td>\n",
              "    </tr>\n",
              "    <tr>\n",
              "      <th>6</th>\n",
              "      <td>Geeks</td>\n",
              "      <td>77</td>\n",
              "    </tr>\n",
              "  </tbody>\n",
              "</table>\n",
              "</div>"
            ],
            "text/plain": [
              "     Name  val\n",
              "0   Geeks   11\n",
              "1     For   22\n",
              "2   Geeks   33\n",
              "3      is   44\n",
              "4  portal   55\n",
              "5     for   66\n",
              "6   Geeks   77"
            ]
          },
          "metadata": {
            "tags": []
          },
          "execution_count": 1
        }
      ]
    },
    {
      "cell_type": "code",
      "metadata": {
        "id": "pIf3JAyi1P4g",
        "colab_type": "code",
        "colab": {}
      },
      "source": [
        "first=[]\n",
        "for i in range(0,264):\n",
        "  first.append(i)"
      ],
      "execution_count": 0,
      "outputs": []
    },
    {
      "cell_type": "code",
      "metadata": {
        "id": "tiYcKhBQ1coa",
        "colab_type": "code",
        "colab": {}
      },
      "source": [
        "from datetime import datetime\n",
        "second1=datetime.today().timetuple().tm_yday\n",
        "second=[]\n",
        "for i in range(second1,second1+7):\n",
        "  second.append(i)"
      ],
      "execution_count": 0,
      "outputs": []
    },
    {
      "cell_type": "code",
      "metadata": {
        "id": "-KqlrHEq247x",
        "colab_type": "code",
        "colab": {
          "base_uri": "https://localhost:8080/",
          "height": 34
        },
        "outputId": "488efd2c-3107-4ec8-b22e-6c9927c215f7"
      },
      "source": [
        "second"
      ],
      "execution_count": 10,
      "outputs": [
        {
          "output_type": "execute_result",
          "data": {
            "text/plain": [
              "[40, 41, 42, 43, 44, 45, 46]"
            ]
          },
          "metadata": {
            "tags": []
          },
          "execution_count": 10
        }
      ]
    },
    {
      "cell_type": "code",
      "metadata": {
        "id": "B1ogl1Sz2QHf",
        "colab_type": "code",
        "colab": {
          "base_uri": "https://localhost:8080/",
          "height": 34
        },
        "outputId": "5905594a-e892-4ec0-e289-ce34bd99cbfb"
      },
      "source": [
        "datetime.today().weekday()\n",
        "\n",
        "    \n",
        "    "
      ],
      "execution_count": 6,
      "outputs": [
        {
          "output_type": "execute_result",
          "data": {
            "text/plain": [
              "6"
            ]
          },
          "metadata": {
            "tags": []
          },
          "execution_count": 6
        }
      ]
    },
    {
      "cell_type": "code",
      "metadata": {
        "id": "Vnw78-lB1kC3",
        "colab_type": "code",
        "colab": {}
      },
      "source": [
        "third1=datetime.today().hour\n",
        "third=[]\n",
        "for i in range(third1,third1+24):\n",
        "  third.append(i%24)"
      ],
      "execution_count": 0,
      "outputs": []
    },
    {
      "cell_type": "code",
      "metadata": {
        "id": "TxzEwK7r3Bdw",
        "colab_type": "code",
        "colab": {}
      },
      "source": [
        "third"
      ],
      "execution_count": 0,
      "outputs": []
    },
    {
      "cell_type": "code",
      "metadata": {
        "id": "gMajqK1D3Uer",
        "colab_type": "code",
        "colab": {
          "base_uri": "https://localhost:8080/",
          "height": 34
        },
        "outputId": "8aa37caa-3299-431a-fd2b-b225136ccbb0"
      },
      "source": [
        "datetime.today()"
      ],
      "execution_count": 19,
      "outputs": [
        {
          "output_type": "execute_result",
          "data": {
            "text/plain": [
              "datetime.datetime(2020, 2, 9, 2, 53, 54, 640557)"
            ]
          },
          "metadata": {
            "tags": []
          },
          "execution_count": 19
        }
      ]
    },
    {
      "cell_type": "code",
      "metadata": {
        "id": "DfXkC6nW3ih-",
        "colab_type": "code",
        "colab": {}
      },
      "source": [
        "four=[]\n",
        "fourth=datetime.today().weekday()\n",
        "for i in range(fourth,fourth+7):\n",
        "  four.append(i%7)\n"
      ],
      "execution_count": 0,
      "outputs": []
    },
    {
      "cell_type": "code",
      "metadata": {
        "id": "385ahcxs39tT",
        "colab_type": "code",
        "colab": {
          "base_uri": "https://localhost:8080/",
          "height": 34
        },
        "outputId": "18af9b16-2ef2-43ac-853a-d4afe4e8e646"
      },
      "source": [
        "four"
      ],
      "execution_count": 25,
      "outputs": [
        {
          "output_type": "execute_result",
          "data": {
            "text/plain": [
              "[6, 0, 1, 2, 3, 4, 5]"
            ]
          },
          "metadata": {
            "tags": []
          },
          "execution_count": 25
        }
      ]
    },
    {
      "cell_type": "code",
      "metadata": {
        "id": "Jj92KtEy4F74",
        "colab_type": "code",
        "colab": {
          "base_uri": "https://localhost:8080/",
          "height": 402
        },
        "outputId": "9cf117b8-a1dc-478d-ea9c-e352e5a81b92"
      },
      "source": [
        "\n",
        "# import pandas as pd \n",
        "import pandas as pd \n",
        "  \n",
        "# list of strings \n",
        "lst = ['Geeks', 'For', 'Geeks', 'is', 'portal', 'for', 'Geeks'] \n",
        "  \n",
        "# list of int \n",
        "lst2 = [11, 22, 33, 44, 55, 66, 77] \n",
        "\n",
        "  \n",
        "# Calling DataFrame constructor after zipping \n",
        "# both lists, with columns specified \n",
        "df = pd.DataFrame(list(zip(l2, l3,l4,l5)), \n",
        "               columns =['Zone', 'DayNumber','Hour','DayofwEEK']) \n",
        "df "
      ],
      "execution_count": 47,
      "outputs": [
        {
          "output_type": "execute_result",
          "data": {
            "text/html": [
              "<div>\n",
              "<style scoped>\n",
              "    .dataframe tbody tr th:only-of-type {\n",
              "        vertical-align: middle;\n",
              "    }\n",
              "\n",
              "    .dataframe tbody tr th {\n",
              "        vertical-align: top;\n",
              "    }\n",
              "\n",
              "    .dataframe thead th {\n",
              "        text-align: right;\n",
              "    }\n",
              "</style>\n",
              "<table border=\"1\" class=\"dataframe\">\n",
              "  <thead>\n",
              "    <tr style=\"text-align: right;\">\n",
              "      <th></th>\n",
              "      <th>Zone</th>\n",
              "      <th>DayNumber</th>\n",
              "      <th>Hour</th>\n",
              "      <th>DayofwEEK</th>\n",
              "    </tr>\n",
              "  </thead>\n",
              "  <tbody>\n",
              "    <tr>\n",
              "      <th>0</th>\n",
              "      <td>0</td>\n",
              "      <td>40</td>\n",
              "      <td>2</td>\n",
              "      <td>6</td>\n",
              "    </tr>\n",
              "    <tr>\n",
              "      <th>1</th>\n",
              "      <td>1</td>\n",
              "      <td>41</td>\n",
              "      <td>3</td>\n",
              "      <td>0</td>\n",
              "    </tr>\n",
              "    <tr>\n",
              "      <th>2</th>\n",
              "      <td>2</td>\n",
              "      <td>42</td>\n",
              "      <td>4</td>\n",
              "      <td>1</td>\n",
              "    </tr>\n",
              "    <tr>\n",
              "      <th>3</th>\n",
              "      <td>3</td>\n",
              "      <td>43</td>\n",
              "      <td>5</td>\n",
              "      <td>2</td>\n",
              "    </tr>\n",
              "    <tr>\n",
              "      <th>4</th>\n",
              "      <td>4</td>\n",
              "      <td>44</td>\n",
              "      <td>6</td>\n",
              "      <td>3</td>\n",
              "    </tr>\n",
              "    <tr>\n",
              "      <th>...</th>\n",
              "      <td>...</td>\n",
              "      <td>...</td>\n",
              "      <td>...</td>\n",
              "      <td>...</td>\n",
              "    </tr>\n",
              "    <tr>\n",
              "      <th>44179</th>\n",
              "      <td>91</td>\n",
              "      <td>42</td>\n",
              "      <td>21</td>\n",
              "      <td>1</td>\n",
              "    </tr>\n",
              "    <tr>\n",
              "      <th>44180</th>\n",
              "      <td>92</td>\n",
              "      <td>43</td>\n",
              "      <td>22</td>\n",
              "      <td>2</td>\n",
              "    </tr>\n",
              "    <tr>\n",
              "      <th>44181</th>\n",
              "      <td>93</td>\n",
              "      <td>44</td>\n",
              "      <td>23</td>\n",
              "      <td>3</td>\n",
              "    </tr>\n",
              "    <tr>\n",
              "      <th>44182</th>\n",
              "      <td>94</td>\n",
              "      <td>45</td>\n",
              "      <td>0</td>\n",
              "      <td>4</td>\n",
              "    </tr>\n",
              "    <tr>\n",
              "      <th>44183</th>\n",
              "      <td>95</td>\n",
              "      <td>46</td>\n",
              "      <td>1</td>\n",
              "      <td>5</td>\n",
              "    </tr>\n",
              "  </tbody>\n",
              "</table>\n",
              "<p>44184 rows × 4 columns</p>\n",
              "</div>"
            ],
            "text/plain": [
              "       Zone  DayNumber  Hour  DayofwEEK\n",
              "0         0         40     2          6\n",
              "1         1         41     3          0\n",
              "2         2         42     4          1\n",
              "3         3         43     5          2\n",
              "4         4         44     6          3\n",
              "...     ...        ...   ...        ...\n",
              "44179    91         42    21          1\n",
              "44180    92         43    22          2\n",
              "44181    93         44    23          3\n",
              "44182    94         45     0          4\n",
              "44183    95         46     1          5\n",
              "\n",
              "[44184 rows x 4 columns]"
            ]
          },
          "metadata": {
            "tags": []
          },
          "execution_count": 47
        }
      ]
    },
    {
      "cell_type": "code",
      "metadata": {
        "id": "VMCT7FCQ4XwV",
        "colab_type": "code",
        "colab": {
          "base_uri": "https://localhost:8080/",
          "height": 402
        },
        "outputId": "c36c72a0-7426-4873-f7ba-682ae48e72ff"
      },
      "source": [
        "df.sort_values('Zone').head(169)"
      ],
      "execution_count": 53,
      "outputs": [
        {
          "output_type": "execute_result",
          "data": {
            "text/html": [
              "<div>\n",
              "<style scoped>\n",
              "    .dataframe tbody tr th:only-of-type {\n",
              "        vertical-align: middle;\n",
              "    }\n",
              "\n",
              "    .dataframe tbody tr th {\n",
              "        vertical-align: top;\n",
              "    }\n",
              "\n",
              "    .dataframe thead th {\n",
              "        text-align: right;\n",
              "    }\n",
              "</style>\n",
              "<table border=\"1\" class=\"dataframe\">\n",
              "  <thead>\n",
              "    <tr style=\"text-align: right;\">\n",
              "      <th></th>\n",
              "      <th>Zone</th>\n",
              "      <th>DayNumber</th>\n",
              "      <th>Hour</th>\n",
              "      <th>DayofwEEK</th>\n",
              "    </tr>\n",
              "  </thead>\n",
              "  <tbody>\n",
              "    <tr>\n",
              "      <th>0</th>\n",
              "      <td>0</td>\n",
              "      <td>40</td>\n",
              "      <td>2</td>\n",
              "      <td>6</td>\n",
              "    </tr>\n",
              "    <tr>\n",
              "      <th>34056</th>\n",
              "      <td>0</td>\n",
              "      <td>41</td>\n",
              "      <td>2</td>\n",
              "      <td>0</td>\n",
              "    </tr>\n",
              "    <tr>\n",
              "      <th>5808</th>\n",
              "      <td>0</td>\n",
              "      <td>45</td>\n",
              "      <td>2</td>\n",
              "      <td>4</td>\n",
              "    </tr>\n",
              "    <tr>\n",
              "      <th>34320</th>\n",
              "      <td>0</td>\n",
              "      <td>46</td>\n",
              "      <td>2</td>\n",
              "      <td>5</td>\n",
              "    </tr>\n",
              "    <tr>\n",
              "      <th>34584</th>\n",
              "      <td>0</td>\n",
              "      <td>44</td>\n",
              "      <td>2</td>\n",
              "      <td>3</td>\n",
              "    </tr>\n",
              "    <tr>\n",
              "      <th>...</th>\n",
              "      <td>...</td>\n",
              "      <td>...</td>\n",
              "      <td>...</td>\n",
              "      <td>...</td>\n",
              "    </tr>\n",
              "    <tr>\n",
              "      <th>26136</th>\n",
              "      <td>0</td>\n",
              "      <td>45</td>\n",
              "      <td>2</td>\n",
              "      <td>4</td>\n",
              "    </tr>\n",
              "    <tr>\n",
              "      <th>26400</th>\n",
              "      <td>0</td>\n",
              "      <td>43</td>\n",
              "      <td>2</td>\n",
              "      <td>2</td>\n",
              "    </tr>\n",
              "    <tr>\n",
              "      <th>44088</th>\n",
              "      <td>0</td>\n",
              "      <td>42</td>\n",
              "      <td>2</td>\n",
              "      <td>1</td>\n",
              "    </tr>\n",
              "    <tr>\n",
              "      <th>16104</th>\n",
              "      <td>0</td>\n",
              "      <td>44</td>\n",
              "      <td>2</td>\n",
              "      <td>3</td>\n",
              "    </tr>\n",
              "    <tr>\n",
              "      <th>39865</th>\n",
              "      <td>1</td>\n",
              "      <td>40</td>\n",
              "      <td>3</td>\n",
              "      <td>6</td>\n",
              "    </tr>\n",
              "  </tbody>\n",
              "</table>\n",
              "<p>169 rows × 4 columns</p>\n",
              "</div>"
            ],
            "text/plain": [
              "       Zone  DayNumber  Hour  DayofwEEK\n",
              "0         0         40     2          6\n",
              "34056     0         41     2          0\n",
              "5808      0         45     2          4\n",
              "34320     0         46     2          5\n",
              "34584     0         44     2          3\n",
              "...     ...        ...   ...        ...\n",
              "26136     0         45     2          4\n",
              "26400     0         43     2          2\n",
              "44088     0         42     2          1\n",
              "16104     0         44     2          3\n",
              "39865     1         40     3          6\n",
              "\n",
              "[169 rows x 4 columns]"
            ]
          },
          "metadata": {
            "tags": []
          },
          "execution_count": 53
        }
      ]
    },
    {
      "cell_type": "code",
      "metadata": {
        "id": "77g7vFY64eGM",
        "colab_type": "code",
        "colab": {}
      },
      "source": [
        "l2=first*7*24"
      ],
      "execution_count": 0,
      "outputs": []
    },
    {
      "cell_type": "code",
      "metadata": {
        "id": "YhJKph-T44pg",
        "colab_type": "code",
        "colab": {}
      },
      "source": [
        "l2"
      ],
      "execution_count": 0,
      "outputs": []
    },
    {
      "cell_type": "code",
      "metadata": {
        "id": "EGwU2mr545zt",
        "colab_type": "code",
        "colab": {}
      },
      "source": [
        "l3=second*263*24"
      ],
      "execution_count": 0,
      "outputs": []
    },
    {
      "cell_type": "code",
      "metadata": {
        "id": "57ocxzUA5ICv",
        "colab_type": "code",
        "colab": {}
      },
      "source": [
        "l4=third*263*7"
      ],
      "execution_count": 0,
      "outputs": []
    },
    {
      "cell_type": "code",
      "metadata": {
        "id": "9lSukox363lA",
        "colab_type": "code",
        "colab": {}
      },
      "source": [
        "l5=four*263*24"
      ],
      "execution_count": 0,
      "outputs": []
    },
    {
      "cell_type": "code",
      "metadata": {
        "id": "pmyeHPzQ7B-_",
        "colab_type": "code",
        "colab": {
          "base_uri": "https://localhost:8080/",
          "height": 34
        },
        "outputId": "e2d5bc42-fe26-4e25-81fc-35db3c1df256"
      },
      "source": [
        "df.shape"
      ],
      "execution_count": 55,
      "outputs": [
        {
          "output_type": "execute_result",
          "data": {
            "text/plain": [
              "(44184, 4)"
            ]
          },
          "metadata": {
            "tags": []
          },
          "execution_count": 55
        }
      ]
    },
    {
      "cell_type": "code",
      "metadata": {
        "id": "01Ity34r7tA-",
        "colab_type": "code",
        "colab": {}
      },
      "source": [
        "def get_weather_data(url):\n",
        "    session = requests.Session()\n",
        "    session.headers['User-Agent'] = USER_AGENT\n",
        "    session.headers['Accept-Language'] = LANGUAGE\n",
        "    session.headers['Content-Language'] = LANGUAGE\n",
        "    html = session.get(url)\n",
        "    # create a new soup\n",
        "    soup = bs(html.text, \"html.parser\")\n",
        "    # store all results on this dictionary\n",
        "    result = {}\n",
        "    # extract region\n",
        "    result['region'] = soup.find(\"div\", attrs={\"id\": \"wob_loc\"}).text\n",
        "    # extract temperature now\n",
        "    result['temp_now'] = soup.find(\"span\", attrs={\"id\": \"wob_tm\"}).text\n",
        "    # get the day and hour now\n",
        "    result['dayhour'] = soup.find(\"div\", attrs={\"id\": \"wob_dts\"}).text\n",
        "    \n",
        "    # get the actual weather\n",
        "    result['weather_now'] = soup.find(\"span\", attrs={\"id\": \"wob_dc\"}).text\n",
        "    # get the precipitation\n",
        "    result['precipitation'] = soup.find(\"span\", attrs={\"id\": \"wob_pp\"}).text\n",
        "    # get the % of humidity\n",
        "    result['humidity'] = soup.find(\"span\", attrs={\"id\": \"wob_hm\"}).text\n",
        "    # extract the wind\n",
        "    result['wind'] = soup.find(\"span\", attrs={\"id\": \"wob_ws\"}).text\n",
        "    # get next few days' weather\n",
        "    next_days = []\n",
        "    days = soup.find(\"div\", attrs={\"id\": \"wob_dp\"})\n",
        "    for day in days.findAll(\"div\", attrs={\"class\": \"wob_df\"}):\n",
        "        # extract the name of the day\n",
        "        day_name = day.find(\"div\", attrs={\"class\": \"vk_lgy\"}).attrs['aria-label']\n",
        "        # get weather status for that day\n",
        "        weather = day.find(\"img\").attrs[\"alt\"]\n",
        "        temp = day.findAll(\"span\", {\"class\": \"wob_t\"})\n",
        "        # maximum temparature in Celsius, use temp[1].text if you want fahrenheit\n",
        "        max_temp = temp[1].text\n",
        "        # minimum temparature in Celsius, use temp[3].text if you want fahrenheit\n",
        "        min_temp = temp[3].text\n",
        "        next_days.append({\"name\": day_name, \"weather\": weather, \"max_temp\": max_temp, \"min_temp\": min_temp})\n",
        "    # append to result\n",
        "    result['next_days'] = next_days\n",
        "    return result\n"
      ],
      "execution_count": 0,
      "outputs": []
    },
    {
      "cell_type": "code",
      "metadata": {
        "id": "qsLYJreV7629",
        "colab_type": "code",
        "colab": {}
      },
      "source": [
        "from bs4 import BeautifulSoup as bs\n",
        "import requests"
      ],
      "execution_count": 0,
      "outputs": []
    },
    {
      "cell_type": "code",
      "metadata": {
        "id": "pnjpEI9C8CaT",
        "colab_type": "code",
        "colab": {}
      },
      "source": [
        "USER_AGENT = \"Mozilla/5.0 (X11; Linux x86_64) AppleWebKit/537.36 (KHTML, like Gecko) Chrome/44.0.2403.157 Safari/537.36\"\n",
        "# US english\n",
        "LANGUAGE = \"en-US,en;q=0.5\""
      ],
      "execution_count": 0,
      "outputs": []
    },
    {
      "cell_type": "code",
      "metadata": {
        "id": "EVm9vmtG8FKv",
        "colab_type": "code",
        "colab": {}
      },
      "source": [
        "region=\"New York\"\n",
        "URL=\"https://www.google.com/search?lr=lang_en&ie=UTF-8&q=weather\"\n",
        "URL += region\n",
        "# get data\n",
        "data = get_weather_data(URL)\n",
        "print(data['dayhour'])\n",
        "b1=data['dayhour']\n",
        "max1=[]\n",
        "min1=[]\n",
        "a=b1.split(\" \", 1)\n",
        "b1=a[0]\n",
        "if b1=='Saturday':\n",
        "      week=6\n",
        "elif b1=='Friday':\n",
        "      week=5\n",
        "elif b1=='Thursday':\n",
        "      week=4\n",
        "elif b1=='Wednesday':\n",
        "      week=3\n",
        "elif b1=='Tuesday':\n",
        "      week=2\n",
        "elif b1=='Monday':\n",
        "      week=1\n",
        "else:\n",
        "      week=0\n",
        "for dayweather in data[\"next_days\"]:\n",
        "    \n",
        "    min1.append(dayweather['min_temp'])\n",
        "    max1.append(dayweather['max_temp'])\n",
        "    print(dayweather['max_temp'])\n",
        "    print(\"=\"*40, dayweather[\"name\"], \"=\"*40)\n",
        "    print(\"Description:\", dayweather)\n",
        "    \n",
        "\n",
        "\t"
      ],
      "execution_count": 0,
      "outputs": []
    },
    {
      "cell_type": "code",
      "metadata": {
        "id": "xsNOH6748UPX",
        "colab_type": "code",
        "colab": {
          "base_uri": "https://localhost:8080/",
          "height": 34
        },
        "outputId": "cd26cdf8-2e76-4c61-e020-6123bf151ecd"
      },
      "source": [
        "min1"
      ],
      "execution_count": 63,
      "outputs": [
        {
          "output_type": "execute_result",
          "data": {
            "text/plain": [
              "['0', '6', '6', '2', '4', '-1', '-6', '-1']"
            ]
          },
          "metadata": {
            "tags": []
          },
          "execution_count": 63
        }
      ]
    },
    {
      "cell_type": "code",
      "metadata": {
        "id": "KrJsnANJ9I04",
        "colab_type": "code",
        "colab": {
          "base_uri": "https://localhost:8080/",
          "height": 34
        },
        "outputId": "bb152b17-41d4-4f92-c6b6-c43be0bd5581"
      },
      "source": [
        "max1"
      ],
      "execution_count": 64,
      "outputs": [
        {
          "output_type": "execute_result",
          "data": {
            "text/plain": [
              "['5', '8', '9', '8', '8', '13', '1', '1']"
            ]
          },
          "metadata": {
            "tags": []
          },
          "execution_count": 64
        }
      ]
    },
    {
      "cell_type": "code",
      "metadata": {
        "id": "ytI9BTqU9JvH",
        "colab_type": "code",
        "colab": {}
      },
      "source": [
        "result1=[]\n",
        "result2=[]\n",
        "for value in df[\"DayofwEEK\"]: \n",
        "  \n",
        "    if value == (week %7): \n",
        "        result1.append(min1[0]) \n",
        "        result2.append(max1[0]) \n",
        "    elif value == (week+1) %7 : \n",
        "        result1.append(min1[1]) \n",
        "        result2.append(max1[1])  \n",
        "    elif value == (week+2) %7 : \n",
        "        result1.append(min1[2]) \n",
        "        result2.append(max1[2]) \n",
        "    elif value == (week+3) %7 : \n",
        "        result1.append(min1[3]) \n",
        "        result2.append(max1[3]) \n",
        "    elif value == (week+4) %7 : \n",
        "        result1.append(min1[4]) \n",
        "        result2.append(max1[4])\n",
        "    elif value == (week+5) %7 : \n",
        "        result1.append(min1[5]) \n",
        "        result2.append(max1[5]) \n",
        "    elif value == (week+6) %7 : \n",
        "        result1.append(min1[6]) \n",
        "        result2.append(max1[6])  \n",
        "    else: \n",
        "        result.append(\"Fail\") "
      ],
      "execution_count": 0,
      "outputs": []
    },
    {
      "cell_type": "code",
      "metadata": {
        "id": "rIm_TtAv_Arr",
        "colab_type": "code",
        "colab": {
          "base_uri": "https://localhost:8080/",
          "height": 34
        },
        "outputId": "c9944706-5d81-4a86-c927-1c185721a9d9"
      },
      "source": [
        "type(b1)"
      ],
      "execution_count": 72,
      "outputs": [
        {
          "output_type": "execute_result",
          "data": {
            "text/plain": [
              "str"
            ]
          },
          "metadata": {
            "tags": []
          },
          "execution_count": 72
        }
      ]
    },
    {
      "cell_type": "code",
      "metadata": {
        "id": "kP0z0rL8_BxD",
        "colab_type": "code",
        "colab": {
          "base_uri": "https://localhost:8080/",
          "height": 34
        },
        "outputId": "fbcb6625-b3c2-4707-f9a8-5b38f46092c3"
      },
      "source": [
        "week"
      ],
      "execution_count": 80,
      "outputs": [
        {
          "output_type": "execute_result",
          "data": {
            "text/plain": [
              "6"
            ]
          },
          "metadata": {
            "tags": []
          },
          "execution_count": 80
        }
      ]
    },
    {
      "cell_type": "code",
      "metadata": {
        "id": "kyScuqzlAza5",
        "colab_type": "code",
        "colab": {
          "base_uri": "https://localhost:8080/",
          "height": 34
        },
        "outputId": "a479ec6d-abe2-411d-94d3-34aee56bfd84"
      },
      "source": [
        "a"
      ],
      "execution_count": 78,
      "outputs": [
        {
          "output_type": "execute_result",
          "data": {
            "text/plain": [
              "['Saturday', '10:00 PM']"
            ]
          },
          "metadata": {
            "tags": []
          },
          "execution_count": 78
        }
      ]
    },
    {
      "cell_type": "code",
      "metadata": {
        "id": "vAge1dDLBPE3",
        "colab_type": "code",
        "colab": {
          "base_uri": "https://localhost:8080/",
          "height": 34
        },
        "outputId": "e29c6517-1058-475c-db6c-1e420142af0d"
      },
      "source": [
        "df.shape"
      ],
      "execution_count": 81,
      "outputs": [
        {
          "output_type": "execute_result",
          "data": {
            "text/plain": [
              "(44184, 4)"
            ]
          },
          "metadata": {
            "tags": []
          },
          "execution_count": 81
        }
      ]
    },
    {
      "cell_type": "code",
      "metadata": {
        "id": "gfNU0afPBdU3",
        "colab_type": "code",
        "colab": {}
      },
      "source": [
        "df[\"min\"] = result1\n",
        "df[\"max\"]=result2"
      ],
      "execution_count": 0,
      "outputs": []
    },
    {
      "cell_type": "code",
      "metadata": {
        "id": "cKTN4WwxDQa3",
        "colab_type": "code",
        "colab": {
          "base_uri": "https://localhost:8080/",
          "height": 195
        },
        "outputId": "55972f95-509f-4b73-dc3a-be617ee1fbc2"
      },
      "source": [
        "df.head()"
      ],
      "execution_count": 87,
      "outputs": [
        {
          "output_type": "execute_result",
          "data": {
            "text/html": [
              "<div>\n",
              "<style scoped>\n",
              "    .dataframe tbody tr th:only-of-type {\n",
              "        vertical-align: middle;\n",
              "    }\n",
              "\n",
              "    .dataframe tbody tr th {\n",
              "        vertical-align: top;\n",
              "    }\n",
              "\n",
              "    .dataframe thead th {\n",
              "        text-align: right;\n",
              "    }\n",
              "</style>\n",
              "<table border=\"1\" class=\"dataframe\">\n",
              "  <thead>\n",
              "    <tr style=\"text-align: right;\">\n",
              "      <th></th>\n",
              "      <th>Zone</th>\n",
              "      <th>DayNumber</th>\n",
              "      <th>Hour</th>\n",
              "      <th>DayofwEEK</th>\n",
              "      <th>min</th>\n",
              "      <th>max</th>\n",
              "    </tr>\n",
              "  </thead>\n",
              "  <tbody>\n",
              "    <tr>\n",
              "      <th>0</th>\n",
              "      <td>0</td>\n",
              "      <td>40</td>\n",
              "      <td>2</td>\n",
              "      <td>6</td>\n",
              "      <td>0</td>\n",
              "      <td>5</td>\n",
              "    </tr>\n",
              "    <tr>\n",
              "      <th>1</th>\n",
              "      <td>1</td>\n",
              "      <td>41</td>\n",
              "      <td>3</td>\n",
              "      <td>0</td>\n",
              "      <td>6</td>\n",
              "      <td>8</td>\n",
              "    </tr>\n",
              "    <tr>\n",
              "      <th>2</th>\n",
              "      <td>2</td>\n",
              "      <td>42</td>\n",
              "      <td>4</td>\n",
              "      <td>1</td>\n",
              "      <td>6</td>\n",
              "      <td>9</td>\n",
              "    </tr>\n",
              "    <tr>\n",
              "      <th>3</th>\n",
              "      <td>3</td>\n",
              "      <td>43</td>\n",
              "      <td>5</td>\n",
              "      <td>2</td>\n",
              "      <td>2</td>\n",
              "      <td>8</td>\n",
              "    </tr>\n",
              "    <tr>\n",
              "      <th>4</th>\n",
              "      <td>4</td>\n",
              "      <td>44</td>\n",
              "      <td>6</td>\n",
              "      <td>3</td>\n",
              "      <td>4</td>\n",
              "      <td>8</td>\n",
              "    </tr>\n",
              "  </tbody>\n",
              "</table>\n",
              "</div>"
            ],
            "text/plain": [
              "   Zone  DayNumber  Hour  DayofwEEK min max\n",
              "0     0         40     2          6   0   5\n",
              "1     1         41     3          0   6   8\n",
              "2     2         42     4          1   6   9\n",
              "3     3         43     5          2   2   8\n",
              "4     4         44     6          3   4   8"
            ]
          },
          "metadata": {
            "tags": []
          },
          "execution_count": 87
        }
      ]
    },
    {
      "cell_type": "code",
      "metadata": {
        "id": "SQiAdNbRDhm2",
        "colab_type": "code",
        "colab": {}
      },
      "source": [
        "rain=[0]"
      ],
      "execution_count": 0,
      "outputs": []
    },
    {
      "cell_type": "code",
      "metadata": {
        "id": "UB_uImETDtaw",
        "colab_type": "code",
        "colab": {}
      },
      "source": [
        "rain=[]\n",
        "for i in range(0,44184):\n",
        "  rain.append(0)\n"
      ],
      "execution_count": 0,
      "outputs": []
    },
    {
      "cell_type": "code",
      "metadata": {
        "id": "0fQhSZsBEIc8",
        "colab_type": "code",
        "colab": {}
      },
      "source": [
        "df[\"rain\"]=rain"
      ],
      "execution_count": 0,
      "outputs": []
    },
    {
      "cell_type": "code",
      "metadata": {
        "id": "X-56rYMjELrn",
        "colab_type": "code",
        "colab": {
          "base_uri": "https://localhost:8080/",
          "height": 195
        },
        "outputId": "2b5e9588-8774-4120-cbce-646a784853d3"
      },
      "source": [
        "df.head()"
      ],
      "execution_count": 91,
      "outputs": [
        {
          "output_type": "execute_result",
          "data": {
            "text/html": [
              "<div>\n",
              "<style scoped>\n",
              "    .dataframe tbody tr th:only-of-type {\n",
              "        vertical-align: middle;\n",
              "    }\n",
              "\n",
              "    .dataframe tbody tr th {\n",
              "        vertical-align: top;\n",
              "    }\n",
              "\n",
              "    .dataframe thead th {\n",
              "        text-align: right;\n",
              "    }\n",
              "</style>\n",
              "<table border=\"1\" class=\"dataframe\">\n",
              "  <thead>\n",
              "    <tr style=\"text-align: right;\">\n",
              "      <th></th>\n",
              "      <th>Zone</th>\n",
              "      <th>DayNumber</th>\n",
              "      <th>Hour</th>\n",
              "      <th>DayofwEEK</th>\n",
              "      <th>min</th>\n",
              "      <th>max</th>\n",
              "      <th>rain</th>\n",
              "    </tr>\n",
              "  </thead>\n",
              "  <tbody>\n",
              "    <tr>\n",
              "      <th>0</th>\n",
              "      <td>0</td>\n",
              "      <td>40</td>\n",
              "      <td>2</td>\n",
              "      <td>6</td>\n",
              "      <td>0</td>\n",
              "      <td>5</td>\n",
              "      <td>0</td>\n",
              "    </tr>\n",
              "    <tr>\n",
              "      <th>1</th>\n",
              "      <td>1</td>\n",
              "      <td>41</td>\n",
              "      <td>3</td>\n",
              "      <td>0</td>\n",
              "      <td>6</td>\n",
              "      <td>8</td>\n",
              "      <td>0</td>\n",
              "    </tr>\n",
              "    <tr>\n",
              "      <th>2</th>\n",
              "      <td>2</td>\n",
              "      <td>42</td>\n",
              "      <td>4</td>\n",
              "      <td>1</td>\n",
              "      <td>6</td>\n",
              "      <td>9</td>\n",
              "      <td>0</td>\n",
              "    </tr>\n",
              "    <tr>\n",
              "      <th>3</th>\n",
              "      <td>3</td>\n",
              "      <td>43</td>\n",
              "      <td>5</td>\n",
              "      <td>2</td>\n",
              "      <td>2</td>\n",
              "      <td>8</td>\n",
              "      <td>0</td>\n",
              "    </tr>\n",
              "    <tr>\n",
              "      <th>4</th>\n",
              "      <td>4</td>\n",
              "      <td>44</td>\n",
              "      <td>6</td>\n",
              "      <td>3</td>\n",
              "      <td>4</td>\n",
              "      <td>8</td>\n",
              "      <td>0</td>\n",
              "    </tr>\n",
              "  </tbody>\n",
              "</table>\n",
              "</div>"
            ],
            "text/plain": [
              "   Zone  DayNumber  Hour  DayofwEEK min max  rain\n",
              "0     0         40     2          6   0   5     0\n",
              "1     1         41     3          0   6   8     0\n",
              "2     2         42     4          1   6   9     0\n",
              "3     3         43     5          2   2   8     0\n",
              "4     4         44     6          3   4   8     0"
            ]
          },
          "metadata": {
            "tags": []
          },
          "execution_count": 91
        }
      ]
    },
    {
      "cell_type": "code",
      "metadata": {
        "id": "TPjnEkndEMlU",
        "colab_type": "code",
        "colab": {}
      },
      "source": [
        "from sklearn.ensemble import RandomForestRegressor\n",
        "import pickle"
      ],
      "execution_count": 0,
      "outputs": []
    },
    {
      "cell_type": "code",
      "metadata": {
        "id": "yC3kchydEpm7",
        "colab_type": "code",
        "colab": {
          "base_uri": "https://localhost:8080/",
          "height": 171
        },
        "outputId": "2bb76154-6301-4d9a-b506-1b4614855f6d"
      },
      "source": [
        "model = pickle.load(open('/content/drive/My Drive/Data Science/modelfinal2.pkl', 'rb'),encoding='latin1')"
      ],
      "execution_count": 95,
      "outputs": [
        {
          "output_type": "stream",
          "text": [
            "/usr/local/lib/python3.6/dist-packages/sklearn/utils/deprecation.py:144: FutureWarning: The sklearn.ensemble.forest module is  deprecated in version 0.22 and will be removed in version 0.24. The corresponding classes / functions should instead be imported from sklearn.ensemble. Anything that cannot be imported from sklearn.ensemble is now part of the private API.\n",
            "  warnings.warn(message, FutureWarning)\n",
            "/usr/local/lib/python3.6/dist-packages/sklearn/utils/deprecation.py:144: FutureWarning: The sklearn.tree.tree module is  deprecated in version 0.22 and will be removed in version 0.24. The corresponding classes / functions should instead be imported from sklearn.tree. Anything that cannot be imported from sklearn.tree is now part of the private API.\n",
            "  warnings.warn(message, FutureWarning)\n",
            "/usr/local/lib/python3.6/dist-packages/sklearn/base.py:318: UserWarning: Trying to unpickle estimator DecisionTreeRegressor from version 0.20.3 when using version 0.22.1. This might lead to breaking code or invalid results. Use at your own risk.\n",
            "  UserWarning)\n",
            "/usr/local/lib/python3.6/dist-packages/sklearn/base.py:318: UserWarning: Trying to unpickle estimator RandomForestRegressor from version 0.20.3 when using version 0.22.1. This might lead to breaking code or invalid results. Use at your own risk.\n",
            "  UserWarning)\n"
          ],
          "name": "stderr"
        }
      ]
    },
    {
      "cell_type": "code",
      "metadata": {
        "id": "HXfWrJbsE2nL",
        "colab_type": "code",
        "colab": {}
      },
      "source": [
        "ans=model.predict(df)"
      ],
      "execution_count": 0,
      "outputs": []
    },
    {
      "cell_type": "code",
      "metadata": {
        "id": "nqNm8EPBE_PH",
        "colab_type": "code",
        "colab": {
          "base_uri": "https://localhost:8080/",
          "height": 34
        },
        "outputId": "a160a2fa-00c7-4d4b-e622-5c3c0052591d"
      },
      "source": [
        "max(ans)"
      ],
      "execution_count": 99,
      "outputs": [
        {
          "output_type": "execute_result",
          "data": {
            "text/plain": [
              "999.4"
            ]
          },
          "metadata": {
            "tags": []
          },
          "execution_count": 99
        }
      ]
    },
    {
      "cell_type": "code",
      "metadata": {
        "id": "i7bTze4WFBQ8",
        "colab_type": "code",
        "colab": {}
      },
      "source": [
        "df['ans']=ans"
      ],
      "execution_count": 0,
      "outputs": []
    },
    {
      "cell_type": "code",
      "metadata": {
        "id": "h_ds8OipFMej",
        "colab_type": "code",
        "colab": {
          "base_uri": "https://localhost:8080/",
          "height": 195
        },
        "outputId": "741126e5-e659-4a83-de26-54ae3d9f9637"
      },
      "source": [
        "df.head()"
      ],
      "execution_count": 101,
      "outputs": [
        {
          "output_type": "execute_result",
          "data": {
            "text/html": [
              "<div>\n",
              "<style scoped>\n",
              "    .dataframe tbody tr th:only-of-type {\n",
              "        vertical-align: middle;\n",
              "    }\n",
              "\n",
              "    .dataframe tbody tr th {\n",
              "        vertical-align: top;\n",
              "    }\n",
              "\n",
              "    .dataframe thead th {\n",
              "        text-align: right;\n",
              "    }\n",
              "</style>\n",
              "<table border=\"1\" class=\"dataframe\">\n",
              "  <thead>\n",
              "    <tr style=\"text-align: right;\">\n",
              "      <th></th>\n",
              "      <th>Zone</th>\n",
              "      <th>DayNumber</th>\n",
              "      <th>Hour</th>\n",
              "      <th>DayofwEEK</th>\n",
              "      <th>min</th>\n",
              "      <th>max</th>\n",
              "      <th>rain</th>\n",
              "      <th>ans</th>\n",
              "    </tr>\n",
              "  </thead>\n",
              "  <tbody>\n",
              "    <tr>\n",
              "      <th>0</th>\n",
              "      <td>0</td>\n",
              "      <td>40</td>\n",
              "      <td>2</td>\n",
              "      <td>6</td>\n",
              "      <td>0</td>\n",
              "      <td>5</td>\n",
              "      <td>0</td>\n",
              "      <td>0.1</td>\n",
              "    </tr>\n",
              "    <tr>\n",
              "      <th>1</th>\n",
              "      <td>1</td>\n",
              "      <td>41</td>\n",
              "      <td>3</td>\n",
              "      <td>0</td>\n",
              "      <td>6</td>\n",
              "      <td>8</td>\n",
              "      <td>0</td>\n",
              "      <td>0.3</td>\n",
              "    </tr>\n",
              "    <tr>\n",
              "      <th>2</th>\n",
              "      <td>2</td>\n",
              "      <td>42</td>\n",
              "      <td>4</td>\n",
              "      <td>1</td>\n",
              "      <td>6</td>\n",
              "      <td>9</td>\n",
              "      <td>0</td>\n",
              "      <td>0.0</td>\n",
              "    </tr>\n",
              "    <tr>\n",
              "      <th>3</th>\n",
              "      <td>3</td>\n",
              "      <td>43</td>\n",
              "      <td>5</td>\n",
              "      <td>2</td>\n",
              "      <td>2</td>\n",
              "      <td>8</td>\n",
              "      <td>0</td>\n",
              "      <td>0.8</td>\n",
              "    </tr>\n",
              "    <tr>\n",
              "      <th>4</th>\n",
              "      <td>4</td>\n",
              "      <td>44</td>\n",
              "      <td>6</td>\n",
              "      <td>3</td>\n",
              "      <td>4</td>\n",
              "      <td>8</td>\n",
              "      <td>0</td>\n",
              "      <td>10.1</td>\n",
              "    </tr>\n",
              "  </tbody>\n",
              "</table>\n",
              "</div>"
            ],
            "text/plain": [
              "   Zone  DayNumber  Hour  DayofwEEK min max  rain   ans\n",
              "0     0         40     2          6   0   5     0   0.1\n",
              "1     1         41     3          0   6   8     0   0.3\n",
              "2     2         42     4          1   6   9     0   0.0\n",
              "3     3         43     5          2   2   8     0   0.8\n",
              "4     4         44     6          3   4   8     0  10.1"
            ]
          },
          "metadata": {
            "tags": []
          },
          "execution_count": 101
        }
      ]
    },
    {
      "cell_type": "code",
      "metadata": {
        "id": "mZllXBfwFNwo",
        "colab_type": "code",
        "colab": {}
      },
      "source": [
        ""
      ],
      "execution_count": 0,
      "outputs": []
    }
  ]
}