{
  "nbformat": 4,
  "nbformat_minor": 0,
  "metadata": {
    "colab": {
      "name": "Untitled11.ipynb",
      "provenance": [],
      "machine_shape": "hm",
      "authorship_tag": "ABX9TyO08eqLdkdob3eys1DKnTxu",
      "include_colab_link": true
    },
    "kernelspec": {
      "name": "python3",
      "display_name": "Python 3"
    }
  },
  "cells": [
    {
      "cell_type": "markdown",
      "metadata": {
        "id": "view-in-github",
        "colab_type": "text"
      },
      "source": [
        "<a href=\"https://colab.research.google.com/github/ssrbazpur/Data-Science/blob/master/Data%20Science%20project.ipynb\" target=\"_parent\"><img src=\"https://colab.research.google.com/assets/colab-badge.svg\" alt=\"Open In Colab\"/></a>"
      ]
    },
    {
      "cell_type": "code",
      "metadata": {
        "id": "rz78z7Bl8pQb",
        "colab_type": "code",
        "colab": {
          "base_uri": "https://localhost:8080/",
          "height": 121
        },
        "outputId": "decb3ae2-3b17-4119-b82d-ae45245d8539"
      },
      "source": [
        "from google.colab import drive\n",
        "drive.mount('/content/drive')"
      ],
      "execution_count": 2,
      "outputs": [
        {
          "output_type": "stream",
          "text": [
            "Go to this URL in a browser: https://accounts.google.com/o/oauth2/auth?client_id=947318989803-6bn6qk8qdgf4n4g3pfee6491hc0brc4i.apps.googleusercontent.com&redirect_uri=urn%3aietf%3awg%3aoauth%3a2.0%3aoob&response_type=code&scope=email%20https%3a%2f%2fwww.googleapis.com%2fauth%2fdocs.test%20https%3a%2f%2fwww.googleapis.com%2fauth%2fdrive%20https%3a%2f%2fwww.googleapis.com%2fauth%2fdrive.photos.readonly%20https%3a%2f%2fwww.googleapis.com%2fauth%2fpeopleapi.readonly\n",
            "\n",
            "Enter your authorization code:\n",
            "··········\n",
            "Mounted at /content/drive\n"
          ],
          "name": "stdout"
        }
      ]
    },
    {
      "cell_type": "code",
      "metadata": {
        "id": "lifXBSms88Ua",
        "colab_type": "code",
        "colab": {}
      },
      "source": [
        "import pandas \n",
        "month2 = pandas.read_pickle(\"/content/drive/My Drive/Data Science/m2.pkl\") \n",
        "month1 = pandas.read_pickle(\"/content/drive/My Drive/Data Science/m1.pkl\")"
      ],
      "execution_count": 0,
      "outputs": []
    },
    {
      "cell_type": "code",
      "metadata": {
        "id": "B-iJpn5j9S2B",
        "colab_type": "code",
        "colab": {}
      },
      "source": [
        "import dask.dataframe as dd"
      ],
      "execution_count": 0,
      "outputs": []
    },
    {
      "cell_type": "code",
      "metadata": {
        "id": "pO70NhdU9AAo",
        "colab_type": "code",
        "colab": {}
      },
      "source": [
        "m2 = dd.from_pandas(month2, npartitions=8)\n",
        "m1 = dd.from_pandas(month1, npartitions=8)"
      ],
      "execution_count": 0,
      "outputs": []
    },
    {
      "cell_type": "code",
      "metadata": {
        "id": "byef5qrz9Ckz",
        "colab_type": "code",
        "colab": {}
      },
      "source": [
        "m3=dd.concat([m1,m2,m1,m2,m1,m2],axis=0,interleave_partitions=True)"
      ],
      "execution_count": 0,
      "outputs": []
    },
    {
      "cell_type": "code",
      "metadata": {
        "id": "zTKyfRhR9fyz",
        "colab_type": "code",
        "colab": {
          "base_uri": "https://localhost:8080/",
          "height": 1000
        },
        "outputId": "c2d6f709-5b59-4ce3-bd22-353a728ee30d"
      },
      "source": [
        "!pip install --upgrade google-cloud-storage\n",
        "!pip install --upgrade google-cloud-bigquery[bqstorage,pandas]"
      ],
      "execution_count": 7,
      "outputs": [
        {
          "output_type": "stream",
          "text": [
            "Collecting google-cloud-storage\n",
            "\u001b[?25l  Downloading https://files.pythonhosted.org/packages/cd/6d/75c2a47af99d15aa8b4de4e66226c128e623f8c9d3e27a8588368ccc38fc/google_cloud_storage-1.25.0-py2.py3-none-any.whl (73kB)\n",
            "\r\u001b[K     |████▌                           | 10kB 19.9MB/s eta 0:00:01\r\u001b[K     |█████████                       | 20kB 1.8MB/s eta 0:00:01\r\u001b[K     |█████████████▍                  | 30kB 2.3MB/s eta 0:00:01\r\u001b[K     |█████████████████▉              | 40kB 1.7MB/s eta 0:00:01\r\u001b[K     |██████████████████████▎         | 51kB 1.9MB/s eta 0:00:01\r\u001b[K     |██████████████████████████▊     | 61kB 2.2MB/s eta 0:00:01\r\u001b[K     |███████████████████████████████▎| 71kB 2.6MB/s eta 0:00:01\r\u001b[K     |████████████████████████████████| 81kB 2.3MB/s \n",
            "\u001b[?25hCollecting google-auth<2.0dev,>=1.9.0\n",
            "\u001b[?25l  Downloading https://files.pythonhosted.org/packages/73/38/99d8c4db8788e050f2024032ecaa5e6df276e5befaabdd7e1bad17fe9b00/google_auth-1.10.2-py2.py3-none-any.whl (76kB)\n",
            "\u001b[K     |████████████████████████████████| 81kB 6.9MB/s \n",
            "\u001b[?25hCollecting google-resumable-media<0.6dev,>=0.5.0\n",
            "  Downloading https://files.pythonhosted.org/packages/35/9e/f73325d0466ce5bdc36333f1aeb2892ead7b76e79bdb5c8b0493961fa098/google_resumable_media-0.5.0-py2.py3-none-any.whl\n",
            "Collecting google-cloud-core<2.0dev,>=1.2.0\n",
            "  Downloading https://files.pythonhosted.org/packages/45/26/09d7aebd08dcfcfb0873d727b716c8ab3dc7dc5b44f09d192c724e03d374/google_cloud_core-1.2.0-py2.py3-none-any.whl\n",
            "Requirement already satisfied, skipping upgrade: setuptools>=40.3.0 in /usr/local/lib/python3.6/dist-packages (from google-auth<2.0dev,>=1.9.0->google-cloud-storage) (42.0.2)\n",
            "Requirement already satisfied, skipping upgrade: six>=1.9.0 in /usr/local/lib/python3.6/dist-packages (from google-auth<2.0dev,>=1.9.0->google-cloud-storage) (1.12.0)\n",
            "Requirement already satisfied, skipping upgrade: cachetools<5.0,>=2.0.0 in /usr/local/lib/python3.6/dist-packages (from google-auth<2.0dev,>=1.9.0->google-cloud-storage) (4.0.0)\n",
            "Requirement already satisfied, skipping upgrade: pyasn1-modules>=0.2.1 in /usr/local/lib/python3.6/dist-packages (from google-auth<2.0dev,>=1.9.0->google-cloud-storage) (0.2.7)\n",
            "Requirement already satisfied, skipping upgrade: rsa<4.1,>=3.1.4 in /usr/local/lib/python3.6/dist-packages (from google-auth<2.0dev,>=1.9.0->google-cloud-storage) (4.0)\n",
            "Collecting google-api-core<2.0.0dev,>=1.16.0\n",
            "\u001b[?25l  Downloading https://files.pythonhosted.org/packages/63/7e/a523169b0cc9ce62d56e07571db927286a94b1a5f51ac220bd97db825c77/google_api_core-1.16.0-py2.py3-none-any.whl (70kB)\n",
            "\u001b[K     |████████████████████████████████| 71kB 9.7MB/s \n",
            "\u001b[?25hRequirement already satisfied, skipping upgrade: pyasn1<0.5.0,>=0.4.6 in /usr/local/lib/python3.6/dist-packages (from pyasn1-modules>=0.2.1->google-auth<2.0dev,>=1.9.0->google-cloud-storage) (0.4.8)\n",
            "Requirement already satisfied, skipping upgrade: requests<3.0.0dev,>=2.18.0 in /usr/local/lib/python3.6/dist-packages (from google-api-core<2.0.0dev,>=1.16.0->google-cloud-core<2.0dev,>=1.2.0->google-cloud-storage) (2.21.0)\n",
            "Requirement already satisfied, skipping upgrade: protobuf>=3.4.0 in /usr/local/lib/python3.6/dist-packages (from google-api-core<2.0.0dev,>=1.16.0->google-cloud-core<2.0dev,>=1.2.0->google-cloud-storage) (3.10.0)\n",
            "Requirement already satisfied, skipping upgrade: pytz in /usr/local/lib/python3.6/dist-packages (from google-api-core<2.0.0dev,>=1.16.0->google-cloud-core<2.0dev,>=1.2.0->google-cloud-storage) (2018.9)\n",
            "Requirement already satisfied, skipping upgrade: googleapis-common-protos<2.0dev,>=1.6.0 in /usr/local/lib/python3.6/dist-packages (from google-api-core<2.0.0dev,>=1.16.0->google-cloud-core<2.0dev,>=1.2.0->google-cloud-storage) (1.6.0)\n",
            "Requirement already satisfied, skipping upgrade: chardet<3.1.0,>=3.0.2 in /usr/local/lib/python3.6/dist-packages (from requests<3.0.0dev,>=2.18.0->google-api-core<2.0.0dev,>=1.16.0->google-cloud-core<2.0dev,>=1.2.0->google-cloud-storage) (3.0.4)\n",
            "Requirement already satisfied, skipping upgrade: idna<2.9,>=2.5 in /usr/local/lib/python3.6/dist-packages (from requests<3.0.0dev,>=2.18.0->google-api-core<2.0.0dev,>=1.16.0->google-cloud-core<2.0dev,>=1.2.0->google-cloud-storage) (2.8)\n",
            "Requirement already satisfied, skipping upgrade: certifi>=2017.4.17 in /usr/local/lib/python3.6/dist-packages (from requests<3.0.0dev,>=2.18.0->google-api-core<2.0.0dev,>=1.16.0->google-cloud-core<2.0dev,>=1.2.0->google-cloud-storage) (2019.11.28)\n",
            "Requirement already satisfied, skipping upgrade: urllib3<1.25,>=1.21.1 in /usr/local/lib/python3.6/dist-packages (from requests<3.0.0dev,>=2.18.0->google-api-core<2.0.0dev,>=1.16.0->google-cloud-core<2.0dev,>=1.2.0->google-cloud-storage) (1.24.3)\n",
            "\u001b[31mERROR: google-colab 1.0.0 has requirement google-auth~=1.4.0, but you'll have google-auth 1.10.2 which is incompatible.\u001b[0m\n",
            "\u001b[31mERROR: google-cloud-bigquery 1.21.0 has requirement google-resumable-media!=0.4.0,<0.5.0dev,>=0.3.1, but you'll have google-resumable-media 0.5.0 which is incompatible.\u001b[0m\n",
            "Installing collected packages: google-auth, google-resumable-media, google-api-core, google-cloud-core, google-cloud-storage\n",
            "  Found existing installation: google-auth 1.4.2\n",
            "    Uninstalling google-auth-1.4.2:\n",
            "      Successfully uninstalled google-auth-1.4.2\n",
            "  Found existing installation: google-resumable-media 0.4.1\n",
            "    Uninstalling google-resumable-media-0.4.1:\n",
            "      Successfully uninstalled google-resumable-media-0.4.1\n",
            "  Found existing installation: google-api-core 1.15.0\n",
            "    Uninstalling google-api-core-1.15.0:\n",
            "      Successfully uninstalled google-api-core-1.15.0\n",
            "  Found existing installation: google-cloud-core 1.0.3\n",
            "    Uninstalling google-cloud-core-1.0.3:\n",
            "      Successfully uninstalled google-cloud-core-1.0.3\n",
            "  Found existing installation: google-cloud-storage 1.16.2\n",
            "    Uninstalling google-cloud-storage-1.16.2:\n",
            "      Successfully uninstalled google-cloud-storage-1.16.2\n",
            "Successfully installed google-api-core-1.16.0 google-auth-1.10.2 google-cloud-core-1.2.0 google-cloud-storage-1.25.0 google-resumable-media-0.5.0\n"
          ],
          "name": "stdout"
        },
        {
          "output_type": "display_data",
          "data": {
            "application/vnd.colab-display-data+json": {
              "pip_warning": {
                "packages": [
                  "google"
                ]
              }
            }
          },
          "metadata": {
            "tags": []
          }
        },
        {
          "output_type": "stream",
          "text": [
            "Collecting google-cloud-bigquery[bqstorage,pandas]\n",
            "\u001b[?25l  Downloading https://files.pythonhosted.org/packages/b5/6c/b3ae29876dbbd63ca8fdf284fdf07ef025c06feacb18710e9571f6641246/google_cloud_bigquery-1.23.1-py2.py3-none-any.whl (162kB)\n",
            "\u001b[K     |████████████████████████████████| 163kB 2.5MB/s \n",
            "\u001b[?25hRequirement already satisfied, skipping upgrade: protobuf>=3.6.0 in /usr/local/lib/python3.6/dist-packages (from google-cloud-bigquery[bqstorage,pandas]) (3.10.0)\n",
            "Collecting six<2.0.0dev,>=1.13.0\n",
            "  Downloading https://files.pythonhosted.org/packages/65/eb/1f97cb97bfc2390a276969c6fae16075da282f5058082d4cb10c6c5c1dba/six-1.14.0-py2.py3-none-any.whl\n",
            "Requirement already satisfied, skipping upgrade: google-cloud-core<2.0dev,>=1.0.3 in /usr/local/lib/python3.6/dist-packages (from google-cloud-bigquery[bqstorage,pandas]) (1.2.0)\n",
            "Requirement already satisfied, skipping upgrade: google-resumable-media!=0.4.0,<0.6.0dev,>=0.3.1 in /usr/local/lib/python3.6/dist-packages (from google-cloud-bigquery[bqstorage,pandas]) (0.5.0)\n",
            "Collecting google-cloud-bigquery-storage<2.0.0dev,>=0.6.0; extra == \"bqstorage\"\n",
            "\u001b[?25l  Downloading https://files.pythonhosted.org/packages/bf/48/b42fc39a4141a9493a969d81fb2f9f75d089d5eeedabe912c22ec8a31f4d/google_cloud_bigquery_storage-0.7.0-py2.py3-none-any.whl (55kB)\n",
            "\u001b[K     |████████████████████████████████| 61kB 3.5MB/s \n",
            "\u001b[?25hRequirement already satisfied, skipping upgrade: pyarrow!=0.14.0,>=0.13.0; extra == \"bqstorage\" in /usr/local/lib/python3.6/dist-packages (from google-cloud-bigquery[bqstorage,pandas]) (0.14.1)\n",
            "Requirement already satisfied, skipping upgrade: pandas>=0.17.1; extra == \"pandas\" in /usr/local/lib/python3.6/dist-packages (from google-cloud-bigquery[bqstorage,pandas]) (0.25.3)\n",
            "Requirement already satisfied, skipping upgrade: setuptools in /usr/local/lib/python3.6/dist-packages (from protobuf>=3.6.0->google-cloud-bigquery[bqstorage,pandas]) (42.0.2)\n",
            "Requirement already satisfied, skipping upgrade: google-api-core<2.0.0dev,>=1.16.0 in /usr/local/lib/python3.6/dist-packages (from google-cloud-core<2.0dev,>=1.0.3->google-cloud-bigquery[bqstorage,pandas]) (1.16.0)\n",
            "Requirement already satisfied, skipping upgrade: numpy>=1.14 in /usr/local/lib/python3.6/dist-packages (from pyarrow!=0.14.0,>=0.13.0; extra == \"bqstorage\"->google-cloud-bigquery[bqstorage,pandas]) (1.17.5)\n",
            "Requirement already satisfied, skipping upgrade: pytz>=2017.2 in /usr/local/lib/python3.6/dist-packages (from pandas>=0.17.1; extra == \"pandas\"->google-cloud-bigquery[bqstorage,pandas]) (2018.9)\n",
            "Requirement already satisfied, skipping upgrade: python-dateutil>=2.6.1 in /usr/local/lib/python3.6/dist-packages (from pandas>=0.17.1; extra == \"pandas\"->google-cloud-bigquery[bqstorage,pandas]) (2.6.1)\n",
            "Requirement already satisfied, skipping upgrade: requests<3.0.0dev,>=2.18.0 in /usr/local/lib/python3.6/dist-packages (from google-api-core<2.0.0dev,>=1.16.0->google-cloud-core<2.0dev,>=1.0.3->google-cloud-bigquery[bqstorage,pandas]) (2.21.0)\n",
            "Requirement already satisfied, skipping upgrade: google-auth<2.0dev,>=0.4.0 in /usr/local/lib/python3.6/dist-packages (from google-api-core<2.0.0dev,>=1.16.0->google-cloud-core<2.0dev,>=1.0.3->google-cloud-bigquery[bqstorage,pandas]) (1.10.2)\n",
            "Requirement already satisfied, skipping upgrade: googleapis-common-protos<2.0dev,>=1.6.0 in /usr/local/lib/python3.6/dist-packages (from google-api-core<2.0.0dev,>=1.16.0->google-cloud-core<2.0dev,>=1.0.3->google-cloud-bigquery[bqstorage,pandas]) (1.6.0)\n",
            "Requirement already satisfied, skipping upgrade: chardet<3.1.0,>=3.0.2 in /usr/local/lib/python3.6/dist-packages (from requests<3.0.0dev,>=2.18.0->google-api-core<2.0.0dev,>=1.16.0->google-cloud-core<2.0dev,>=1.0.3->google-cloud-bigquery[bqstorage,pandas]) (3.0.4)\n",
            "Requirement already satisfied, skipping upgrade: idna<2.9,>=2.5 in /usr/local/lib/python3.6/dist-packages (from requests<3.0.0dev,>=2.18.0->google-api-core<2.0.0dev,>=1.16.0->google-cloud-core<2.0dev,>=1.0.3->google-cloud-bigquery[bqstorage,pandas]) (2.8)\n",
            "Requirement already satisfied, skipping upgrade: urllib3<1.25,>=1.21.1 in /usr/local/lib/python3.6/dist-packages (from requests<3.0.0dev,>=2.18.0->google-api-core<2.0.0dev,>=1.16.0->google-cloud-core<2.0dev,>=1.0.3->google-cloud-bigquery[bqstorage,pandas]) (1.24.3)\n",
            "Requirement already satisfied, skipping upgrade: certifi>=2017.4.17 in /usr/local/lib/python3.6/dist-packages (from requests<3.0.0dev,>=2.18.0->google-api-core<2.0.0dev,>=1.16.0->google-cloud-core<2.0dev,>=1.0.3->google-cloud-bigquery[bqstorage,pandas]) (2019.11.28)\n",
            "Requirement already satisfied, skipping upgrade: pyasn1-modules>=0.2.1 in /usr/local/lib/python3.6/dist-packages (from google-auth<2.0dev,>=0.4.0->google-api-core<2.0.0dev,>=1.16.0->google-cloud-core<2.0dev,>=1.0.3->google-cloud-bigquery[bqstorage,pandas]) (0.2.7)\n",
            "Requirement already satisfied, skipping upgrade: rsa<4.1,>=3.1.4 in /usr/local/lib/python3.6/dist-packages (from google-auth<2.0dev,>=0.4.0->google-api-core<2.0.0dev,>=1.16.0->google-cloud-core<2.0dev,>=1.0.3->google-cloud-bigquery[bqstorage,pandas]) (4.0)\n",
            "Requirement already satisfied, skipping upgrade: cachetools<5.0,>=2.0.0 in /usr/local/lib/python3.6/dist-packages (from google-auth<2.0dev,>=0.4.0->google-api-core<2.0.0dev,>=1.16.0->google-cloud-core<2.0dev,>=1.0.3->google-cloud-bigquery[bqstorage,pandas]) (4.0.0)\n",
            "Requirement already satisfied, skipping upgrade: pyasn1<0.5.0,>=0.4.6 in /usr/local/lib/python3.6/dist-packages (from pyasn1-modules>=0.2.1->google-auth<2.0dev,>=0.4.0->google-api-core<2.0.0dev,>=1.16.0->google-cloud-core<2.0dev,>=1.0.3->google-cloud-bigquery[bqstorage,pandas]) (0.4.8)\n",
            "\u001b[31mERROR: google-colab 1.0.0 has requirement google-auth~=1.4.0, but you'll have google-auth 1.10.2 which is incompatible.\u001b[0m\n",
            "\u001b[31mERROR: google-colab 1.0.0 has requirement six~=1.12.0, but you'll have six 1.14.0 which is incompatible.\u001b[0m\n",
            "\u001b[31mERROR: datascience 0.10.6 has requirement folium==0.2.1, but you'll have folium 0.8.3 which is incompatible.\u001b[0m\n",
            "\u001b[31mERROR: albumentations 0.1.12 has requirement imgaug<0.2.7,>=0.2.5, but you'll have imgaug 0.2.9 which is incompatible.\u001b[0m\n",
            "Installing collected packages: six, google-cloud-bigquery-storage, google-cloud-bigquery\n",
            "  Found existing installation: six 1.12.0\n",
            "    Uninstalling six-1.12.0:\n",
            "      Successfully uninstalled six-1.12.0\n",
            "  Found existing installation: google-cloud-bigquery 1.21.0\n",
            "    Uninstalling google-cloud-bigquery-1.21.0:\n",
            "      Successfully uninstalled google-cloud-bigquery-1.21.0\n",
            "Successfully installed google-cloud-bigquery-1.23.1 google-cloud-bigquery-storage-0.7.0 six-1.14.0\n"
          ],
          "name": "stdout"
        },
        {
          "output_type": "display_data",
          "data": {
            "application/vnd.colab-display-data+json": {
              "pip_warning": {
                "packages": [
                  "google",
                  "six"
                ]
              }
            }
          },
          "metadata": {
            "tags": []
          }
        }
      ]
    },
    {
      "cell_type": "code",
      "metadata": {
        "id": "p4kNVJPd9v2c",
        "colab_type": "code",
        "colab": {
          "base_uri": "https://localhost:8080/",
          "height": 50
        },
        "outputId": "cf5c307d-bb40-476b-bae6-f4a6a9de9c6f"
      },
      "source": [
        "import os\n",
        "os.environ[\"GOOGLE_APPLICATION_CREDENTIALS\"]=\"/content/drive/My Drive/Data Science/NYC Taxi-372c8c9c5c4e.json\"\n",
        "%load_ext google.cloud.bigquery"
      ],
      "execution_count": 8,
      "outputs": [
        {
          "output_type": "stream",
          "text": [
            "The google.cloud.bigquery extension is already loaded. To reload it, use:\n",
            "  %reload_ext google.cloud.bigquery\n"
          ],
          "name": "stdout"
        }
      ]
    },
    {
      "cell_type": "code",
      "metadata": {
        "id": "hlf-uSAy9-1B",
        "colab_type": "code",
        "colab": {}
      },
      "source": [
        "project_id = 'nyc-taxi-265120' #@param{type:\"string\"}\n",
        "from google.cloud import bigquery\n",
        "#from google.cloud import bigquery_storage_v1beta1\n",
        "# Create BigQuery client\n",
        "client = bigquery.Client(project = project_id)\n",
        "# Create BigQuery storage client\n",
        "#bq_storage_client = bigquery_storage_v1beta1.BigQueryStorageClient()"
      ],
      "execution_count": 0,
      "outputs": []
    },
    {
      "cell_type": "code",
      "metadata": {
        "id": "kKjsDn9590NA",
        "colab_type": "code",
        "colab": {}
      },
      "source": [
        "taxidemand = \"\"\"\n",
        "  \n",
        "    SELECT \n",
        "        mo,da,temp,rain_drizzle,\n",
        "        cast(year as STRING) as year,\n",
        "        EXTRACT (DAYOFYEAR FROM CAST(CONCAT(year,'-',mo,'-',da) AS TIMESTAMP)) AS daynumber,\n",
        "    FROM `bigquery-public-data.noaa_gsod.gsod*`\n",
        "    WHERE year='2015' and stn='725030'  AND _TABLE_SUFFIX between '2014' and '2016' --station id 725030=LaGuardia \n",
        "   \n",
        "\n",
        "  \n",
        "\n",
        "\"\"\"\n",
        "data = client.query(taxidemand).to_dataframe()"
      ],
      "execution_count": 0,
      "outputs": []
    },
    {
      "cell_type": "code",
      "metadata": {
        "id": "14cqPtSh-3sW",
        "colab_type": "code",
        "colab": {
          "base_uri": "https://localhost:8080/",
          "height": 195
        },
        "outputId": "8e965258-09ea-4a03-f17b-92a70a4f2fdf"
      },
      "source": [
        "data.head()\n"
      ],
      "execution_count": 11,
      "outputs": [
        {
          "output_type": "execute_result",
          "data": {
            "text/html": [
              "<div>\n",
              "<style scoped>\n",
              "    .dataframe tbody tr th:only-of-type {\n",
              "        vertical-align: middle;\n",
              "    }\n",
              "\n",
              "    .dataframe tbody tr th {\n",
              "        vertical-align: top;\n",
              "    }\n",
              "\n",
              "    .dataframe thead th {\n",
              "        text-align: right;\n",
              "    }\n",
              "</style>\n",
              "<table border=\"1\" class=\"dataframe\">\n",
              "  <thead>\n",
              "    <tr style=\"text-align: right;\">\n",
              "      <th></th>\n",
              "      <th>mo</th>\n",
              "      <th>da</th>\n",
              "      <th>temp</th>\n",
              "      <th>rain_drizzle</th>\n",
              "      <th>year</th>\n",
              "      <th>daynumber</th>\n",
              "    </tr>\n",
              "  </thead>\n",
              "  <tbody>\n",
              "    <tr>\n",
              "      <th>0</th>\n",
              "      <td>01</td>\n",
              "      <td>01</td>\n",
              "      <td>31.2</td>\n",
              "      <td>0</td>\n",
              "      <td>2015</td>\n",
              "      <td>1</td>\n",
              "    </tr>\n",
              "    <tr>\n",
              "      <th>1</th>\n",
              "      <td>01</td>\n",
              "      <td>02</td>\n",
              "      <td>38.6</td>\n",
              "      <td>0</td>\n",
              "      <td>2015</td>\n",
              "      <td>2</td>\n",
              "    </tr>\n",
              "    <tr>\n",
              "      <th>2</th>\n",
              "      <td>01</td>\n",
              "      <td>13</td>\n",
              "      <td>30.2</td>\n",
              "      <td>1</td>\n",
              "      <td>2015</td>\n",
              "      <td>13</td>\n",
              "    </tr>\n",
              "    <tr>\n",
              "      <th>3</th>\n",
              "      <td>01</td>\n",
              "      <td>14</td>\n",
              "      <td>22.0</td>\n",
              "      <td>0</td>\n",
              "      <td>2015</td>\n",
              "      <td>14</td>\n",
              "    </tr>\n",
              "    <tr>\n",
              "      <th>4</th>\n",
              "      <td>01</td>\n",
              "      <td>21</td>\n",
              "      <td>30.5</td>\n",
              "      <td>0</td>\n",
              "      <td>2015</td>\n",
              "      <td>21</td>\n",
              "    </tr>\n",
              "  </tbody>\n",
              "</table>\n",
              "</div>"
            ],
            "text/plain": [
              "   mo  da  temp rain_drizzle  year  daynumber\n",
              "0  01  01  31.2            0  2015          1\n",
              "1  01  02  38.6            0  2015          2\n",
              "2  01  13  30.2            1  2015         13\n",
              "3  01  14  22.0            0  2015         14\n",
              "4  01  21  30.5            0  2015         21"
            ]
          },
          "metadata": {
            "tags": []
          },
          "execution_count": 11
        }
      ]
    },
    {
      "cell_type": "code",
      "metadata": {
        "id": "1dvFXR2R_rEv",
        "colab_type": "code",
        "colab": {}
      },
      "source": [
        "weather = dd.from_pandas(data, npartitions=8)"
      ],
      "execution_count": 0,
      "outputs": []
    },
    {
      "cell_type": "code",
      "metadata": {
        "id": "UywpUsY3_1dK",
        "colab_type": "code",
        "colab": {
          "base_uri": "https://localhost:8080/",
          "height": 303
        },
        "outputId": "4ff0b7f7-b4c6-40c4-a8b5-47cb8fa4c832"
      },
      "source": [
        "m3.head()"
      ],
      "execution_count": 13,
      "outputs": [
        {
          "output_type": "error",
          "ename": "KeyboardInterrupt",
          "evalue": "ignored",
          "traceback": [
            "\u001b[0;31m---------------------------------------------------------------------------\u001b[0m",
            "\u001b[0;31mKeyboardInterrupt\u001b[0m                         Traceback (most recent call last)",
            "\u001b[0;32m<ipython-input-13-061ca50c6655>\u001b[0m in \u001b[0;36m<module>\u001b[0;34m()\u001b[0m\n\u001b[0;32m----> 1\u001b[0;31m \u001b[0mm3\u001b[0m\u001b[0;34m.\u001b[0m\u001b[0mhead\u001b[0m\u001b[0;34m(\u001b[0m\u001b[0;34m)\u001b[0m\u001b[0;34m\u001b[0m\u001b[0;34m\u001b[0m\u001b[0m\n\u001b[0m",
            "\u001b[0;32m/usr/local/lib/python3.6/dist-packages/dask/dataframe/core.py\u001b[0m in \u001b[0;36mhead\u001b[0;34m(self, n, npartitions, compute)\u001b[0m\n\u001b[1;32m    965\u001b[0m             \u001b[0mWhether\u001b[0m \u001b[0mto\u001b[0m \u001b[0mcompute\u001b[0m \u001b[0mthe\u001b[0m \u001b[0mresult\u001b[0m\u001b[0;34m,\u001b[0m \u001b[0mdefault\u001b[0m \u001b[0;32mis\u001b[0m \u001b[0;32mTrue\u001b[0m\u001b[0;34m.\u001b[0m\u001b[0;34m\u001b[0m\u001b[0;34m\u001b[0m\u001b[0m\n\u001b[1;32m    966\u001b[0m         \"\"\"\n\u001b[0;32m--> 967\u001b[0;31m         \u001b[0;32mreturn\u001b[0m \u001b[0mself\u001b[0m\u001b[0;34m.\u001b[0m\u001b[0m_head\u001b[0m\u001b[0;34m(\u001b[0m\u001b[0mn\u001b[0m\u001b[0;34m=\u001b[0m\u001b[0mn\u001b[0m\u001b[0;34m,\u001b[0m \u001b[0mnpartitions\u001b[0m\u001b[0;34m=\u001b[0m\u001b[0mnpartitions\u001b[0m\u001b[0;34m,\u001b[0m \u001b[0mcompute\u001b[0m\u001b[0;34m=\u001b[0m\u001b[0mcompute\u001b[0m\u001b[0;34m,\u001b[0m \u001b[0msafe\u001b[0m\u001b[0;34m=\u001b[0m\u001b[0;32mTrue\u001b[0m\u001b[0;34m)\u001b[0m\u001b[0;34m\u001b[0m\u001b[0;34m\u001b[0m\u001b[0m\n\u001b[0m\u001b[1;32m    968\u001b[0m \u001b[0;34m\u001b[0m\u001b[0m\n\u001b[1;32m    969\u001b[0m     \u001b[0;32mdef\u001b[0m \u001b[0m_head\u001b[0m\u001b[0;34m(\u001b[0m\u001b[0mself\u001b[0m\u001b[0;34m,\u001b[0m \u001b[0mn\u001b[0m\u001b[0;34m,\u001b[0m \u001b[0mnpartitions\u001b[0m\u001b[0;34m,\u001b[0m \u001b[0mcompute\u001b[0m\u001b[0;34m,\u001b[0m \u001b[0msafe\u001b[0m\u001b[0;34m)\u001b[0m\u001b[0;34m:\u001b[0m\u001b[0;34m\u001b[0m\u001b[0;34m\u001b[0m\u001b[0m\n",
            "\u001b[0;32m/usr/local/lib/python3.6/dist-packages/dask/dataframe/core.py\u001b[0m in \u001b[0;36m_head\u001b[0;34m(self, n, npartitions, compute, safe)\u001b[0m\n\u001b[1;32m    998\u001b[0m \u001b[0;34m\u001b[0m\u001b[0m\n\u001b[1;32m    999\u001b[0m         \u001b[0;32mif\u001b[0m \u001b[0mcompute\u001b[0m\u001b[0;34m:\u001b[0m\u001b[0;34m\u001b[0m\u001b[0;34m\u001b[0m\u001b[0m\n\u001b[0;32m-> 1000\u001b[0;31m             \u001b[0mresult\u001b[0m \u001b[0;34m=\u001b[0m \u001b[0mresult\u001b[0m\u001b[0;34m.\u001b[0m\u001b[0mcompute\u001b[0m\u001b[0;34m(\u001b[0m\u001b[0;34m)\u001b[0m\u001b[0;34m\u001b[0m\u001b[0;34m\u001b[0m\u001b[0m\n\u001b[0m\u001b[1;32m   1001\u001b[0m         \u001b[0;32mreturn\u001b[0m \u001b[0mresult\u001b[0m\u001b[0;34m\u001b[0m\u001b[0;34m\u001b[0m\u001b[0m\n\u001b[1;32m   1002\u001b[0m \u001b[0;34m\u001b[0m\u001b[0m\n",
            "\u001b[0;32m/usr/local/lib/python3.6/dist-packages/dask/base.py\u001b[0m in \u001b[0;36mcompute\u001b[0;34m(self, **kwargs)\u001b[0m\n\u001b[1;32m    163\u001b[0m         \u001b[0mdask\u001b[0m\u001b[0;34m.\u001b[0m\u001b[0mbase\u001b[0m\u001b[0;34m.\u001b[0m\u001b[0mcompute\u001b[0m\u001b[0;34m\u001b[0m\u001b[0;34m\u001b[0m\u001b[0m\n\u001b[1;32m    164\u001b[0m         \"\"\"\n\u001b[0;32m--> 165\u001b[0;31m         \u001b[0;34m(\u001b[0m\u001b[0mresult\u001b[0m\u001b[0;34m,\u001b[0m\u001b[0;34m)\u001b[0m \u001b[0;34m=\u001b[0m \u001b[0mcompute\u001b[0m\u001b[0;34m(\u001b[0m\u001b[0mself\u001b[0m\u001b[0;34m,\u001b[0m \u001b[0mtraverse\u001b[0m\u001b[0;34m=\u001b[0m\u001b[0;32mFalse\u001b[0m\u001b[0;34m,\u001b[0m \u001b[0;34m**\u001b[0m\u001b[0mkwargs\u001b[0m\u001b[0;34m)\u001b[0m\u001b[0;34m\u001b[0m\u001b[0;34m\u001b[0m\u001b[0m\n\u001b[0m\u001b[1;32m    166\u001b[0m         \u001b[0;32mreturn\u001b[0m \u001b[0mresult\u001b[0m\u001b[0;34m\u001b[0m\u001b[0;34m\u001b[0m\u001b[0m\n\u001b[1;32m    167\u001b[0m \u001b[0;34m\u001b[0m\u001b[0m\n",
            "\u001b[0;32m/usr/local/lib/python3.6/dist-packages/dask/base.py\u001b[0m in \u001b[0;36mcompute\u001b[0;34m(*args, **kwargs)\u001b[0m\n\u001b[1;32m    434\u001b[0m     \u001b[0mkeys\u001b[0m \u001b[0;34m=\u001b[0m \u001b[0;34m[\u001b[0m\u001b[0mx\u001b[0m\u001b[0;34m.\u001b[0m\u001b[0m__dask_keys__\u001b[0m\u001b[0;34m(\u001b[0m\u001b[0;34m)\u001b[0m \u001b[0;32mfor\u001b[0m \u001b[0mx\u001b[0m \u001b[0;32min\u001b[0m \u001b[0mcollections\u001b[0m\u001b[0;34m]\u001b[0m\u001b[0;34m\u001b[0m\u001b[0;34m\u001b[0m\u001b[0m\n\u001b[1;32m    435\u001b[0m     \u001b[0mpostcomputes\u001b[0m \u001b[0;34m=\u001b[0m \u001b[0;34m[\u001b[0m\u001b[0mx\u001b[0m\u001b[0;34m.\u001b[0m\u001b[0m__dask_postcompute__\u001b[0m\u001b[0;34m(\u001b[0m\u001b[0;34m)\u001b[0m \u001b[0;32mfor\u001b[0m \u001b[0mx\u001b[0m \u001b[0;32min\u001b[0m \u001b[0mcollections\u001b[0m\u001b[0;34m]\u001b[0m\u001b[0;34m\u001b[0m\u001b[0;34m\u001b[0m\u001b[0m\n\u001b[0;32m--> 436\u001b[0;31m     \u001b[0mresults\u001b[0m \u001b[0;34m=\u001b[0m \u001b[0mschedule\u001b[0m\u001b[0;34m(\u001b[0m\u001b[0mdsk\u001b[0m\u001b[0;34m,\u001b[0m \u001b[0mkeys\u001b[0m\u001b[0;34m,\u001b[0m \u001b[0;34m**\u001b[0m\u001b[0mkwargs\u001b[0m\u001b[0;34m)\u001b[0m\u001b[0;34m\u001b[0m\u001b[0;34m\u001b[0m\u001b[0m\n\u001b[0m\u001b[1;32m    437\u001b[0m     \u001b[0;32mreturn\u001b[0m \u001b[0mrepack\u001b[0m\u001b[0;34m(\u001b[0m\u001b[0;34m[\u001b[0m\u001b[0mf\u001b[0m\u001b[0;34m(\u001b[0m\u001b[0mr\u001b[0m\u001b[0;34m,\u001b[0m \u001b[0;34m*\u001b[0m\u001b[0ma\u001b[0m\u001b[0;34m)\u001b[0m \u001b[0;32mfor\u001b[0m \u001b[0mr\u001b[0m\u001b[0;34m,\u001b[0m \u001b[0;34m(\u001b[0m\u001b[0mf\u001b[0m\u001b[0;34m,\u001b[0m \u001b[0ma\u001b[0m\u001b[0;34m)\u001b[0m \u001b[0;32min\u001b[0m \u001b[0mzip\u001b[0m\u001b[0;34m(\u001b[0m\u001b[0mresults\u001b[0m\u001b[0;34m,\u001b[0m \u001b[0mpostcomputes\u001b[0m\u001b[0;34m)\u001b[0m\u001b[0;34m]\u001b[0m\u001b[0;34m)\u001b[0m\u001b[0;34m\u001b[0m\u001b[0;34m\u001b[0m\u001b[0m\n\u001b[1;32m    438\u001b[0m \u001b[0;34m\u001b[0m\u001b[0m\n",
            "\u001b[0;32m/usr/local/lib/python3.6/dist-packages/dask/threaded.py\u001b[0m in \u001b[0;36mget\u001b[0;34m(dsk, result, cache, num_workers, pool, **kwargs)\u001b[0m\n\u001b[1;32m     79\u001b[0m         \u001b[0mget_id\u001b[0m\u001b[0;34m=\u001b[0m\u001b[0m_thread_get_id\u001b[0m\u001b[0;34m,\u001b[0m\u001b[0;34m\u001b[0m\u001b[0;34m\u001b[0m\u001b[0m\n\u001b[1;32m     80\u001b[0m         \u001b[0mpack_exception\u001b[0m\u001b[0;34m=\u001b[0m\u001b[0mpack_exception\u001b[0m\u001b[0;34m,\u001b[0m\u001b[0;34m\u001b[0m\u001b[0;34m\u001b[0m\u001b[0m\n\u001b[0;32m---> 81\u001b[0;31m         \u001b[0;34m**\u001b[0m\u001b[0mkwargs\u001b[0m\u001b[0;34m\u001b[0m\u001b[0;34m\u001b[0m\u001b[0m\n\u001b[0m\u001b[1;32m     82\u001b[0m     )\n\u001b[1;32m     83\u001b[0m \u001b[0;34m\u001b[0m\u001b[0m\n",
            "\u001b[0;32m/usr/local/lib/python3.6/dist-packages/dask/local.py\u001b[0m in \u001b[0;36mget_async\u001b[0;34m(apply_async, num_workers, dsk, result, cache, get_id, rerun_exceptions_locally, pack_exception, raise_exception, callbacks, dumps, loads, **kwargs)\u001b[0m\n\u001b[1;32m    473\u001b[0m             \u001b[0;31m# Main loop, wait on tasks to finish, insert new ones\u001b[0m\u001b[0;34m\u001b[0m\u001b[0;34m\u001b[0m\u001b[0;34m\u001b[0m\u001b[0m\n\u001b[1;32m    474\u001b[0m             \u001b[0;32mwhile\u001b[0m \u001b[0mstate\u001b[0m\u001b[0;34m[\u001b[0m\u001b[0;34m\"waiting\"\u001b[0m\u001b[0;34m]\u001b[0m \u001b[0;32mor\u001b[0m \u001b[0mstate\u001b[0m\u001b[0;34m[\u001b[0m\u001b[0;34m\"ready\"\u001b[0m\u001b[0;34m]\u001b[0m \u001b[0;32mor\u001b[0m \u001b[0mstate\u001b[0m\u001b[0;34m[\u001b[0m\u001b[0;34m\"running\"\u001b[0m\u001b[0;34m]\u001b[0m\u001b[0;34m:\u001b[0m\u001b[0;34m\u001b[0m\u001b[0;34m\u001b[0m\u001b[0m\n\u001b[0;32m--> 475\u001b[0;31m                 \u001b[0mkey\u001b[0m\u001b[0;34m,\u001b[0m \u001b[0mres_info\u001b[0m\u001b[0;34m,\u001b[0m \u001b[0mfailed\u001b[0m \u001b[0;34m=\u001b[0m \u001b[0mqueue_get\u001b[0m\u001b[0;34m(\u001b[0m\u001b[0mqueue\u001b[0m\u001b[0;34m)\u001b[0m\u001b[0;34m\u001b[0m\u001b[0;34m\u001b[0m\u001b[0m\n\u001b[0m\u001b[1;32m    476\u001b[0m                 \u001b[0;32mif\u001b[0m \u001b[0mfailed\u001b[0m\u001b[0;34m:\u001b[0m\u001b[0;34m\u001b[0m\u001b[0;34m\u001b[0m\u001b[0m\n\u001b[1;32m    477\u001b[0m                     \u001b[0mexc\u001b[0m\u001b[0;34m,\u001b[0m \u001b[0mtb\u001b[0m \u001b[0;34m=\u001b[0m \u001b[0mloads\u001b[0m\u001b[0;34m(\u001b[0m\u001b[0mres_info\u001b[0m\u001b[0;34m)\u001b[0m\u001b[0;34m\u001b[0m\u001b[0;34m\u001b[0m\u001b[0m\n",
            "\u001b[0;32m/usr/local/lib/python3.6/dist-packages/dask/local.py\u001b[0m in \u001b[0;36mqueue_get\u001b[0;34m(q)\u001b[0m\n\u001b[1;32m    131\u001b[0m \u001b[0;34m\u001b[0m\u001b[0m\n\u001b[1;32m    132\u001b[0m     \u001b[0;32mdef\u001b[0m \u001b[0mqueue_get\u001b[0m\u001b[0;34m(\u001b[0m\u001b[0mq\u001b[0m\u001b[0;34m)\u001b[0m\u001b[0;34m:\u001b[0m\u001b[0;34m\u001b[0m\u001b[0;34m\u001b[0m\u001b[0m\n\u001b[0;32m--> 133\u001b[0;31m         \u001b[0;32mreturn\u001b[0m \u001b[0mq\u001b[0m\u001b[0;34m.\u001b[0m\u001b[0mget\u001b[0m\u001b[0;34m(\u001b[0m\u001b[0;34m)\u001b[0m\u001b[0;34m\u001b[0m\u001b[0;34m\u001b[0m\u001b[0m\n\u001b[0m\u001b[1;32m    134\u001b[0m \u001b[0;34m\u001b[0m\u001b[0m\n\u001b[1;32m    135\u001b[0m \u001b[0;34m\u001b[0m\u001b[0m\n",
            "\u001b[0;32m/usr/lib/python3.6/queue.py\u001b[0m in \u001b[0;36mget\u001b[0;34m(self, block, timeout)\u001b[0m\n\u001b[1;32m    162\u001b[0m             \u001b[0;32melif\u001b[0m \u001b[0mtimeout\u001b[0m \u001b[0;32mis\u001b[0m \u001b[0;32mNone\u001b[0m\u001b[0;34m:\u001b[0m\u001b[0;34m\u001b[0m\u001b[0;34m\u001b[0m\u001b[0m\n\u001b[1;32m    163\u001b[0m                 \u001b[0;32mwhile\u001b[0m \u001b[0;32mnot\u001b[0m \u001b[0mself\u001b[0m\u001b[0;34m.\u001b[0m\u001b[0m_qsize\u001b[0m\u001b[0;34m(\u001b[0m\u001b[0;34m)\u001b[0m\u001b[0;34m:\u001b[0m\u001b[0;34m\u001b[0m\u001b[0;34m\u001b[0m\u001b[0m\n\u001b[0;32m--> 164\u001b[0;31m                     \u001b[0mself\u001b[0m\u001b[0;34m.\u001b[0m\u001b[0mnot_empty\u001b[0m\u001b[0;34m.\u001b[0m\u001b[0mwait\u001b[0m\u001b[0;34m(\u001b[0m\u001b[0;34m)\u001b[0m\u001b[0;34m\u001b[0m\u001b[0;34m\u001b[0m\u001b[0m\n\u001b[0m\u001b[1;32m    165\u001b[0m             \u001b[0;32melif\u001b[0m \u001b[0mtimeout\u001b[0m \u001b[0;34m<\u001b[0m \u001b[0;36m0\u001b[0m\u001b[0;34m:\u001b[0m\u001b[0;34m\u001b[0m\u001b[0;34m\u001b[0m\u001b[0m\n\u001b[1;32m    166\u001b[0m                 \u001b[0;32mraise\u001b[0m \u001b[0mValueError\u001b[0m\u001b[0;34m(\u001b[0m\u001b[0;34m\"'timeout' must be a non-negative number\"\u001b[0m\u001b[0;34m)\u001b[0m\u001b[0;34m\u001b[0m\u001b[0;34m\u001b[0m\u001b[0m\n",
            "\u001b[0;32m/usr/lib/python3.6/threading.py\u001b[0m in \u001b[0;36mwait\u001b[0;34m(self, timeout)\u001b[0m\n\u001b[1;32m    293\u001b[0m         \u001b[0;32mtry\u001b[0m\u001b[0;34m:\u001b[0m    \u001b[0;31m# restore state no matter what (e.g., KeyboardInterrupt)\u001b[0m\u001b[0;34m\u001b[0m\u001b[0;34m\u001b[0m\u001b[0m\n\u001b[1;32m    294\u001b[0m             \u001b[0;32mif\u001b[0m \u001b[0mtimeout\u001b[0m \u001b[0;32mis\u001b[0m \u001b[0;32mNone\u001b[0m\u001b[0;34m:\u001b[0m\u001b[0;34m\u001b[0m\u001b[0;34m\u001b[0m\u001b[0m\n\u001b[0;32m--> 295\u001b[0;31m                 \u001b[0mwaiter\u001b[0m\u001b[0;34m.\u001b[0m\u001b[0macquire\u001b[0m\u001b[0;34m(\u001b[0m\u001b[0;34m)\u001b[0m\u001b[0;34m\u001b[0m\u001b[0;34m\u001b[0m\u001b[0m\n\u001b[0m\u001b[1;32m    296\u001b[0m                 \u001b[0mgotit\u001b[0m \u001b[0;34m=\u001b[0m \u001b[0;32mTrue\u001b[0m\u001b[0;34m\u001b[0m\u001b[0;34m\u001b[0m\u001b[0m\n\u001b[1;32m    297\u001b[0m             \u001b[0;32melse\u001b[0m\u001b[0;34m:\u001b[0m\u001b[0;34m\u001b[0m\u001b[0;34m\u001b[0m\u001b[0m\n",
            "\u001b[0;31mKeyboardInterrupt\u001b[0m: "
          ]
        }
      ]
    },
    {
      "cell_type": "code",
      "metadata": {
        "id": "1dop8wmlIicR",
        "colab_type": "code",
        "colab": {}
      },
      "source": [
        "yellow=m3[['pickup_datetime', 'pickup_latitude', 'pickup_longitude']]\n",
        "yellow.columns=['Date', 'Lat', 'Lon'] # rename for future merge"
      ],
      "execution_count": 0,
      "outputs": []
    },
    {
      "cell_type": "code",
      "metadata": {
        "id": "u-9WL4L_KYvg",
        "colab_type": "code",
        "colab": {
          "base_uri": "https://localhost:8080/",
          "height": 195
        },
        "outputId": "050cc127-b290-46aa-ebbf-6625a80908c5"
      },
      "source": [
        "\n",
        "yellow['year'] = yellow['Date'].dt.year.astype(int)\n",
        "yellow['day'] = yellow['Date'].dt.day.astype(int)\n",
        "yellow['month'] = yellow['Date'].dt.month.astype(int)\n",
        "yellow.head()"
      ],
      "execution_count": 15,
      "outputs": [
        {
          "output_type": "execute_result",
          "data": {
            "text/html": [
              "<div>\n",
              "<style scoped>\n",
              "    .dataframe tbody tr th:only-of-type {\n",
              "        vertical-align: middle;\n",
              "    }\n",
              "\n",
              "    .dataframe tbody tr th {\n",
              "        vertical-align: top;\n",
              "    }\n",
              "\n",
              "    .dataframe thead th {\n",
              "        text-align: right;\n",
              "    }\n",
              "</style>\n",
              "<table border=\"1\" class=\"dataframe\">\n",
              "  <thead>\n",
              "    <tr style=\"text-align: right;\">\n",
              "      <th></th>\n",
              "      <th>Date</th>\n",
              "      <th>Lat</th>\n",
              "      <th>Lon</th>\n",
              "      <th>year</th>\n",
              "      <th>day</th>\n",
              "      <th>month</th>\n",
              "    </tr>\n",
              "  </thead>\n",
              "  <tbody>\n",
              "    <tr>\n",
              "      <th>0</th>\n",
              "      <td>2015-01-25 16:48:51+00:00</td>\n",
              "      <td>40.734119</td>\n",
              "      <td>-74.004372</td>\n",
              "      <td>2015</td>\n",
              "      <td>25</td>\n",
              "      <td>1</td>\n",
              "    </tr>\n",
              "    <tr>\n",
              "      <th>1</th>\n",
              "      <td>2015-01-02 11:55:25+00:00</td>\n",
              "      <td>40.747742</td>\n",
              "      <td>-73.974052</td>\n",
              "      <td>2015</td>\n",
              "      <td>2</td>\n",
              "      <td>1</td>\n",
              "    </tr>\n",
              "    <tr>\n",
              "      <th>2</th>\n",
              "      <td>2015-01-10 12:46:52+00:00</td>\n",
              "      <td>40.727013</td>\n",
              "      <td>-74.003326</td>\n",
              "      <td>2015</td>\n",
              "      <td>10</td>\n",
              "      <td>1</td>\n",
              "    </tr>\n",
              "    <tr>\n",
              "      <th>3</th>\n",
              "      <td>2015-01-09 18:31:47+00:00</td>\n",
              "      <td>40.741936</td>\n",
              "      <td>-73.980904</td>\n",
              "      <td>2015</td>\n",
              "      <td>9</td>\n",
              "      <td>1</td>\n",
              "    </tr>\n",
              "    <tr>\n",
              "      <th>4</th>\n",
              "      <td>2015-01-04 00:37:01+00:00</td>\n",
              "      <td>40.729877</td>\n",
              "      <td>-74.000725</td>\n",
              "      <td>2015</td>\n",
              "      <td>4</td>\n",
              "      <td>1</td>\n",
              "    </tr>\n",
              "  </tbody>\n",
              "</table>\n",
              "</div>"
            ],
            "text/plain": [
              "                       Date        Lat        Lon  year  day  month\n",
              "0 2015-01-25 16:48:51+00:00  40.734119 -74.004372  2015   25      1\n",
              "1 2015-01-02 11:55:25+00:00  40.747742 -73.974052  2015    2      1\n",
              "2 2015-01-10 12:46:52+00:00  40.727013 -74.003326  2015   10      1\n",
              "3 2015-01-09 18:31:47+00:00  40.741936 -73.980904  2015    9      1\n",
              "4 2015-01-04 00:37:01+00:00  40.729877 -74.000725  2015    4      1"
            ]
          },
          "metadata": {
            "tags": []
          },
          "execution_count": 15
        }
      ]
    },
    {
      "cell_type": "code",
      "metadata": {
        "id": "jcVCAzf4OBjX",
        "colab_type": "code",
        "colab": {}
      },
      "source": [
        "weather['year']=weather['year'].astype(int)\n",
        "weather['mo']=weather['mo'].astype(int)\n",
        "weather['da']=weather['da'].astype(int)"
      ],
      "execution_count": 0,
      "outputs": []
    },
    {
      "cell_type": "code",
      "metadata": {
        "id": "QVk4x0ipNQfO",
        "colab_type": "code",
        "colab": {}
      },
      "source": [
        "df2 = yellow.merge(weather, how='left', left_on=['year','month','day'], right_on=['year','mo','da'])"
      ],
      "execution_count": 0,
      "outputs": []
    },
    {
      "cell_type": "code",
      "metadata": {
        "id": "ApiIj65VaLG6",
        "colab_type": "code",
        "colab": {}
      },
      "source": [
        ""
      ],
      "execution_count": 0,
      "outputs": []
    },
    {
      "cell_type": "code",
      "metadata": {
        "id": "vilTB0iXPs_w",
        "colab_type": "code",
        "colab": {
          "base_uri": "https://localhost:8080/",
          "height": 195
        },
        "outputId": "5706f0f8-9b89-4ec2-cfae-3d8c494e6577"
      },
      "source": [
        "df2.head()"
      ],
      "execution_count": 24,
      "outputs": [
        {
          "output_type": "execute_result",
          "data": {
            "text/html": [
              "<div>\n",
              "<style scoped>\n",
              "    .dataframe tbody tr th:only-of-type {\n",
              "        vertical-align: middle;\n",
              "    }\n",
              "\n",
              "    .dataframe tbody tr th {\n",
              "        vertical-align: top;\n",
              "    }\n",
              "\n",
              "    .dataframe thead th {\n",
              "        text-align: right;\n",
              "    }\n",
              "</style>\n",
              "<table border=\"1\" class=\"dataframe\">\n",
              "  <thead>\n",
              "    <tr style=\"text-align: right;\">\n",
              "      <th></th>\n",
              "      <th>Date</th>\n",
              "      <th>Lat</th>\n",
              "      <th>Lon</th>\n",
              "      <th>year</th>\n",
              "      <th>day</th>\n",
              "      <th>month</th>\n",
              "      <th>mo</th>\n",
              "      <th>da</th>\n",
              "      <th>temp</th>\n",
              "      <th>rain_drizzle</th>\n",
              "      <th>daynumber</th>\n",
              "    </tr>\n",
              "  </thead>\n",
              "  <tbody>\n",
              "    <tr>\n",
              "      <th>0</th>\n",
              "      <td>2015-01-17 02:49:20+00:00</td>\n",
              "      <td>40.743351</td>\n",
              "      <td>-73.973473</td>\n",
              "      <td>2015</td>\n",
              "      <td>17</td>\n",
              "      <td>1</td>\n",
              "      <td>1</td>\n",
              "      <td>17</td>\n",
              "      <td>22.3</td>\n",
              "      <td>0</td>\n",
              "      <td>17</td>\n",
              "    </tr>\n",
              "    <tr>\n",
              "      <th>1</th>\n",
              "      <td>2015-01-17 17:31:31+00:00</td>\n",
              "      <td>40.758602</td>\n",
              "      <td>-73.981613</td>\n",
              "      <td>2015</td>\n",
              "      <td>17</td>\n",
              "      <td>1</td>\n",
              "      <td>1</td>\n",
              "      <td>17</td>\n",
              "      <td>22.3</td>\n",
              "      <td>0</td>\n",
              "      <td>17</td>\n",
              "    </tr>\n",
              "    <tr>\n",
              "      <th>2</th>\n",
              "      <td>2015-01-17 12:04:24+00:00</td>\n",
              "      <td>40.771538</td>\n",
              "      <td>-73.990471</td>\n",
              "      <td>2015</td>\n",
              "      <td>17</td>\n",
              "      <td>1</td>\n",
              "      <td>1</td>\n",
              "      <td>17</td>\n",
              "      <td>22.3</td>\n",
              "      <td>0</td>\n",
              "      <td>17</td>\n",
              "    </tr>\n",
              "    <tr>\n",
              "      <th>3</th>\n",
              "      <td>2015-01-17 16:33:13+00:00</td>\n",
              "      <td>40.786850</td>\n",
              "      <td>-73.972870</td>\n",
              "      <td>2015</td>\n",
              "      <td>17</td>\n",
              "      <td>1</td>\n",
              "      <td>1</td>\n",
              "      <td>17</td>\n",
              "      <td>22.3</td>\n",
              "      <td>0</td>\n",
              "      <td>17</td>\n",
              "    </tr>\n",
              "    <tr>\n",
              "      <th>4</th>\n",
              "      <td>2015-01-17 17:50:48+00:00</td>\n",
              "      <td>40.735325</td>\n",
              "      <td>-73.985992</td>\n",
              "      <td>2015</td>\n",
              "      <td>17</td>\n",
              "      <td>1</td>\n",
              "      <td>1</td>\n",
              "      <td>17</td>\n",
              "      <td>22.3</td>\n",
              "      <td>0</td>\n",
              "      <td>17</td>\n",
              "    </tr>\n",
              "  </tbody>\n",
              "</table>\n",
              "</div>"
            ],
            "text/plain": [
              "                       Date        Lat        Lon  ...  temp  rain_drizzle  daynumber\n",
              "0 2015-01-17 02:49:20+00:00  40.743351 -73.973473  ...  22.3             0         17\n",
              "1 2015-01-17 17:31:31+00:00  40.758602 -73.981613  ...  22.3             0         17\n",
              "2 2015-01-17 12:04:24+00:00  40.771538 -73.990471  ...  22.3             0         17\n",
              "3 2015-01-17 16:33:13+00:00  40.786850 -73.972870  ...  22.3             0         17\n",
              "4 2015-01-17 17:50:48+00:00  40.735325 -73.985992  ...  22.3             0         17\n",
              "\n",
              "[5 rows x 11 columns]"
            ]
          },
          "metadata": {
            "tags": []
          },
          "execution_count": 24
        }
      ]
    },
    {
      "cell_type": "code",
      "metadata": {
        "id": "DbIebp5lQGJN",
        "colab_type": "code",
        "colab": {
          "base_uri": "https://localhost:8080/",
          "height": 205
        },
        "outputId": "1ea7dc2a-e4de-4243-9065-a18203676d67"
      },
      "source": [
        "!pip install dask[dataframe]"
      ],
      "execution_count": 18,
      "outputs": [
        {
          "output_type": "stream",
          "text": [
            "Requirement already satisfied: dask[dataframe] in /usr/local/lib/python3.6/dist-packages (2.9.1)\n",
            "Requirement already satisfied: toolz>=0.7.3; extra == \"dataframe\" in /usr/local/lib/python3.6/dist-packages (from dask[dataframe]) (0.10.0)\n",
            "Requirement already satisfied: numpy>=1.13.0; extra == \"dataframe\" in /usr/local/lib/python3.6/dist-packages (from dask[dataframe]) (1.17.5)\n",
            "Requirement already satisfied: pandas>=0.21.0; extra == \"dataframe\" in /usr/local/lib/python3.6/dist-packages (from dask[dataframe]) (0.25.3)\n",
            "Requirement already satisfied: fsspec>=0.6.0; extra == \"dataframe\" in /usr/local/lib/python3.6/dist-packages (from dask[dataframe]) (0.6.2)\n",
            "Requirement already satisfied: partd>=0.3.10; extra == \"dataframe\" in /usr/local/lib/python3.6/dist-packages (from dask[dataframe]) (1.1.0)\n",
            "Requirement already satisfied: python-dateutil>=2.6.1 in /usr/local/lib/python3.6/dist-packages (from pandas>=0.21.0; extra == \"dataframe\"->dask[dataframe]) (2.6.1)\n",
            "Requirement already satisfied: pytz>=2017.2 in /usr/local/lib/python3.6/dist-packages (from pandas>=0.21.0; extra == \"dataframe\"->dask[dataframe]) (2018.9)\n",
            "Requirement already satisfied: locket in /usr/local/lib/python3.6/dist-packages (from partd>=0.3.10; extra == \"dataframe\"->dask[dataframe]) (0.2.0)\n",
            "Requirement already satisfied: six>=1.5 in /usr/local/lib/python3.6/dist-packages (from python-dateutil>=2.6.1->pandas>=0.21.0; extra == \"dataframe\"->dask[dataframe]) (1.14.0)\n"
          ],
          "name": "stdout"
        }
      ]
    },
    {
      "cell_type": "code",
      "metadata": {
        "id": "Jnc1PgjhRNdD",
        "colab_type": "code",
        "colab": {}
      },
      "source": [
        "df_agg_graph = df2.groupby(['daynumber','Lat','Lon'])['Lat'].count()\n",
        "df_agg_graph=df2.groupby( [ 'daynumber','Lat','Lon'] ).size().to_frame(name = 'count').reset_index()"
      ],
      "execution_count": 0,
      "outputs": []
    },
    {
      "cell_type": "code",
      "metadata": {
        "id": "8WJz9GFDaVTm",
        "colab_type": "code",
        "colab": {}
      },
      "source": [
        "weatherinfo=df2.groupby( [ 'daynumber','temp','rain_drizzle'] )['Lat'].size().to_frame(name = 'count').reset_index()"
      ],
      "execution_count": 0,
      "outputs": []
    },
    {
      "cell_type": "code",
      "metadata": {
        "id": "HSjfRziDR5MV",
        "colab_type": "code",
        "colab": {
          "base_uri": "https://localhost:8080/",
          "height": 195
        },
        "outputId": "1d6699e4-55a5-43da-8dbc-451e89efe0e7"
      },
      "source": [
        "df_agg_graph.head()"
      ],
      "execution_count": 34,
      "outputs": [
        {
          "output_type": "execute_result",
          "data": {
            "text/html": [
              "<div>\n",
              "<style scoped>\n",
              "    .dataframe tbody tr th:only-of-type {\n",
              "        vertical-align: middle;\n",
              "    }\n",
              "\n",
              "    .dataframe tbody tr th {\n",
              "        vertical-align: top;\n",
              "    }\n",
              "\n",
              "    .dataframe thead th {\n",
              "        text-align: right;\n",
              "    }\n",
              "</style>\n",
              "<table border=\"1\" class=\"dataframe\">\n",
              "  <thead>\n",
              "    <tr style=\"text-align: right;\">\n",
              "      <th></th>\n",
              "      <th>daynumber</th>\n",
              "      <th>Lat</th>\n",
              "      <th>Lon</th>\n",
              "      <th>count</th>\n",
              "    </tr>\n",
              "  </thead>\n",
              "  <tbody>\n",
              "    <tr>\n",
              "      <th>0</th>\n",
              "      <td>17</td>\n",
              "      <td>0.000000</td>\n",
              "      <td>0.000000</td>\n",
              "      <td>30042</td>\n",
              "    </tr>\n",
              "    <tr>\n",
              "      <th>1</th>\n",
              "      <td>17</td>\n",
              "      <td>30.191471</td>\n",
              "      <td>-81.364006</td>\n",
              "      <td>3</td>\n",
              "    </tr>\n",
              "    <tr>\n",
              "      <th>2</th>\n",
              "      <td>17</td>\n",
              "      <td>30.589655</td>\n",
              "      <td>-77.957985</td>\n",
              "      <td>6</td>\n",
              "    </tr>\n",
              "    <tr>\n",
              "      <th>3</th>\n",
              "      <td>17</td>\n",
              "      <td>33.127785</td>\n",
              "      <td>-81.872124</td>\n",
              "      <td>3</td>\n",
              "    </tr>\n",
              "    <tr>\n",
              "      <th>4</th>\n",
              "      <td>17</td>\n",
              "      <td>37.511635</td>\n",
              "      <td>-65.930099</td>\n",
              "      <td>3</td>\n",
              "    </tr>\n",
              "  </tbody>\n",
              "</table>\n",
              "</div>"
            ],
            "text/plain": [
              "   daynumber        Lat        Lon  count\n",
              "0         17   0.000000   0.000000  30042\n",
              "1         17  30.191471 -81.364006      3\n",
              "2         17  30.589655 -77.957985      6\n",
              "3         17  33.127785 -81.872124      3\n",
              "4         17  37.511635 -65.930099      3"
            ]
          },
          "metadata": {
            "tags": []
          },
          "execution_count": 34
        }
      ]
    },
    {
      "cell_type": "code",
      "metadata": {
        "id": "7CVApSMpa23N",
        "colab_type": "code",
        "colab": {
          "base_uri": "https://localhost:8080/",
          "height": 195
        },
        "outputId": "9eca456c-1e02-4963-cef2-10511a487415"
      },
      "source": [
        "weatherinfo.head()"
      ],
      "execution_count": 38,
      "outputs": [
        {
          "output_type": "execute_result",
          "data": {
            "text/html": [
              "<div>\n",
              "<style scoped>\n",
              "    .dataframe tbody tr th:only-of-type {\n",
              "        vertical-align: middle;\n",
              "    }\n",
              "\n",
              "    .dataframe tbody tr th {\n",
              "        vertical-align: top;\n",
              "    }\n",
              "\n",
              "    .dataframe thead th {\n",
              "        text-align: right;\n",
              "    }\n",
              "</style>\n",
              "<table border=\"1\" class=\"dataframe\">\n",
              "  <thead>\n",
              "    <tr style=\"text-align: right;\">\n",
              "      <th></th>\n",
              "      <th>daynumber</th>\n",
              "      <th>temp</th>\n",
              "      <th>rain_drizzle</th>\n",
              "      <th>count</th>\n",
              "    </tr>\n",
              "  </thead>\n",
              "  <tbody>\n",
              "    <tr>\n",
              "      <th>0</th>\n",
              "      <td>17</td>\n",
              "      <td>22.3</td>\n",
              "      <td>0</td>\n",
              "      <td>1430481</td>\n",
              "    </tr>\n",
              "    <tr>\n",
              "      <th>1</th>\n",
              "      <td>44</td>\n",
              "      <td>17.6</td>\n",
              "      <td>0</td>\n",
              "      <td>1458723</td>\n",
              "    </tr>\n",
              "    <tr>\n",
              "      <th>2</th>\n",
              "      <td>49</td>\n",
              "      <td>24.2</td>\n",
              "      <td>0</td>\n",
              "      <td>1309821</td>\n",
              "    </tr>\n",
              "    <tr>\n",
              "      <th>3</th>\n",
              "      <td>10</td>\n",
              "      <td>21.7</td>\n",
              "      <td>0</td>\n",
              "      <td>1546620</td>\n",
              "    </tr>\n",
              "    <tr>\n",
              "      <th>4</th>\n",
              "      <td>14</td>\n",
              "      <td>22.0</td>\n",
              "      <td>0</td>\n",
              "      <td>1327968</td>\n",
              "    </tr>\n",
              "  </tbody>\n",
              "</table>\n",
              "</div>"
            ],
            "text/plain": [
              "   daynumber  temp rain_drizzle    count\n",
              "0         17  22.3            0  1430481\n",
              "1         44  17.6            0  1458723\n",
              "2         49  24.2            0  1309821\n",
              "3         10  21.7            0  1546620\n",
              "4         14  22.0            0  1327968"
            ]
          },
          "metadata": {
            "tags": []
          },
          "execution_count": 38
        }
      ]
    },
    {
      "cell_type": "code",
      "metadata": {
        "id": "54sL2CAzbCSX",
        "colab_type": "code",
        "colab": {}
      },
      "source": [
        "final_data = df_agg_graph.merge(weatherinfo, how='left', left_on=['daynumber'], right_on=['daynumber'])"
      ],
      "execution_count": 0,
      "outputs": []
    },
    {
      "cell_type": "code",
      "metadata": {
        "id": "DGqI5_95S7P2",
        "colab_type": "code",
        "colab": {
          "base_uri": "https://localhost:8080/",
          "height": 162
        },
        "outputId": "6cf23fc0-f25e-43e8-d60b-7d6d58ecf96e"
      },
      "source": [
        "final_data.head()"
      ],
      "execution_count": 2,
      "outputs": [
        {
          "output_type": "error",
          "ename": "NameError",
          "evalue": "ignored",
          "traceback": [
            "\u001b[0;31m---------------------------------------------------------------------------\u001b[0m",
            "\u001b[0;31mNameError\u001b[0m                                 Traceback (most recent call last)",
            "\u001b[0;32m<ipython-input-2-c3c4c7ff6e78>\u001b[0m in \u001b[0;36m<module>\u001b[0;34m()\u001b[0m\n\u001b[0;32m----> 1\u001b[0;31m \u001b[0mfinal_data\u001b[0m\u001b[0;34m.\u001b[0m\u001b[0mhead\u001b[0m\u001b[0;34m(\u001b[0m\u001b[0;34m)\u001b[0m\u001b[0;34m\u001b[0m\u001b[0;34m\u001b[0m\u001b[0m\n\u001b[0m",
            "\u001b[0;31mNameError\u001b[0m: name 'final_data' is not defined"
          ]
        }
      ]
    },
    {
      "cell_type": "code",
      "metadata": {
        "id": "VfvapQtXcz4v",
        "colab_type": "code",
        "colab": {}
      },
      "source": [
        "final_data = final_data.drop('count_y', axis=1)"
      ],
      "execution_count": 0,
      "outputs": []
    },
    {
      "cell_type": "code",
      "metadata": {
        "id": "I343jQhhc7kv",
        "colab_type": "code",
        "colab": {
          "base_uri": "https://localhost:8080/",
          "height": 34
        },
        "outputId": "589f05a6-ac2e-4fe5-8435-eda73fed009e"
      },
      "source": [
        "len(final_data) "
      ],
      "execution_count": 45,
      "outputs": [
        {
          "output_type": "execute_result",
          "data": {
            "text/plain": [
              "24255078"
            ]
          },
          "metadata": {
            "tags": []
          },
          "execution_count": 45
        }
      ]
    },
    {
      "cell_type": "code",
      "metadata": {
        "id": "GVylpu5IejO2",
        "colab_type": "code",
        "colab": {}
      },
      "source": [
        "X=final_data[['daynumber','Lat','Lon','temp','rain_drizzle']]\n",
        "y=final_data[['count_x']]\n"
      ],
      "execution_count": 0,
      "outputs": []
    },
    {
      "cell_type": "code",
      "metadata": {
        "id": "He6EqRjbrU73",
        "colab_type": "code",
        "colab": {}
      },
      "source": [
        "X.to_parquet('/content/drive/My Drive/Data Science/X.parquet')\n",
        "y.to_parquet('/content/drive/My Drive/Data Science/y.parquet')"
      ],
      "execution_count": 0,
      "outputs": []
    },
    {
      "cell_type": "code",
      "metadata": {
        "id": "br6FJMbjfo_V",
        "colab_type": "code",
        "colab": {}
      },
      "source": [
        "!pip install dask_glm\n",
        "!pip install dask-ml --upgrade"
      ],
      "execution_count": 0,
      "outputs": []
    },
    {
      "cell_type": "code",
      "metadata": {
        "id": "WCfEqcBQmvJy",
        "colab_type": "code",
        "colab": {
          "base_uri": "https://localhost:8080/",
          "height": 693
        },
        "outputId": "f364f526-18f0-4ad7-d08f-4634322650b7"
      },
      "source": [
        "!pip install -U ipykernel"
      ],
      "execution_count": 40,
      "outputs": [
        {
          "output_type": "stream",
          "text": [
            "Collecting ipykernel\n",
            "\u001b[?25l  Downloading https://files.pythonhosted.org/packages/e1/92/8fec943b5b81078399f969f00557804d884c96fcd0bc296e81a2ed4fd270/ipykernel-5.1.3-py3-none-any.whl (116kB)\n",
            "\u001b[K     |████████████████████████████████| 122kB 2.8MB/s \n",
            "\u001b[?25hRequirement already satisfied, skipping upgrade: tornado>=4.2 in /usr/local/lib/python3.6/dist-packages (from ipykernel) (6.0.3)\n",
            "Requirement already satisfied, skipping upgrade: traitlets>=4.1.0 in /usr/local/lib/python3.6/dist-packages (from ipykernel) (4.3.3)\n",
            "Requirement already satisfied, skipping upgrade: ipython>=5.0.0 in /usr/local/lib/python3.6/dist-packages (from ipykernel) (5.5.0)\n",
            "Requirement already satisfied, skipping upgrade: jupyter-client in /usr/local/lib/python3.6/dist-packages (from ipykernel) (5.3.4)\n",
            "Requirement already satisfied, skipping upgrade: six in /usr/local/lib/python3.6/dist-packages (from traitlets>=4.1.0->ipykernel) (1.14.0)\n",
            "Requirement already satisfied, skipping upgrade: decorator in /usr/local/lib/python3.6/dist-packages (from traitlets>=4.1.0->ipykernel) (4.4.1)\n",
            "Requirement already satisfied, skipping upgrade: ipython-genutils in /usr/local/lib/python3.6/dist-packages (from traitlets>=4.1.0->ipykernel) (0.2.0)\n",
            "Requirement already satisfied, skipping upgrade: prompt-toolkit<2.0.0,>=1.0.4 in /usr/local/lib/python3.6/dist-packages (from ipython>=5.0.0->ipykernel) (1.0.18)\n",
            "Requirement already satisfied, skipping upgrade: pygments in /usr/local/lib/python3.6/dist-packages (from ipython>=5.0.0->ipykernel) (2.1.3)\n",
            "Requirement already satisfied, skipping upgrade: setuptools>=18.5 in /usr/local/lib/python3.6/dist-packages (from ipython>=5.0.0->ipykernel) (42.0.2)\n",
            "Requirement already satisfied, skipping upgrade: pexpect; sys_platform != \"win32\" in /usr/local/lib/python3.6/dist-packages (from ipython>=5.0.0->ipykernel) (4.7.0)\n",
            "Requirement already satisfied, skipping upgrade: simplegeneric>0.8 in /usr/local/lib/python3.6/dist-packages (from ipython>=5.0.0->ipykernel) (0.8.1)\n",
            "Requirement already satisfied, skipping upgrade: pickleshare in /usr/local/lib/python3.6/dist-packages (from ipython>=5.0.0->ipykernel) (0.7.5)\n",
            "Requirement already satisfied, skipping upgrade: jupyter-core>=4.6.0 in /usr/local/lib/python3.6/dist-packages (from jupyter-client->ipykernel) (4.6.1)\n",
            "Requirement already satisfied, skipping upgrade: python-dateutil>=2.1 in /usr/local/lib/python3.6/dist-packages (from jupyter-client->ipykernel) (2.6.1)\n",
            "Requirement already satisfied, skipping upgrade: pyzmq>=13 in /usr/local/lib/python3.6/dist-packages (from jupyter-client->ipykernel) (17.0.0)\n",
            "Requirement already satisfied, skipping upgrade: wcwidth in /usr/local/lib/python3.6/dist-packages (from prompt-toolkit<2.0.0,>=1.0.4->ipython>=5.0.0->ipykernel) (0.1.8)\n",
            "Requirement already satisfied, skipping upgrade: ptyprocess>=0.5 in /usr/local/lib/python3.6/dist-packages (from pexpect; sys_platform != \"win32\"->ipython>=5.0.0->ipykernel) (0.6.0)\n",
            "\u001b[31mERROR: google-colab 1.0.0 has requirement google-auth~=1.4.0, but you'll have google-auth 1.10.2 which is incompatible.\u001b[0m\n",
            "\u001b[31mERROR: google-colab 1.0.0 has requirement ipykernel~=4.6.0, but you'll have ipykernel 5.1.3 which is incompatible.\u001b[0m\n",
            "\u001b[31mERROR: google-colab 1.0.0 has requirement six~=1.12.0, but you'll have six 1.14.0 which is incompatible.\u001b[0m\n",
            "\u001b[31mERROR: google-colab 1.0.0 has requirement tornado~=4.5.0, but you'll have tornado 6.0.3 which is incompatible.\u001b[0m\n",
            "Installing collected packages: ipykernel\n",
            "  Found existing installation: ipykernel 4.6.1\n",
            "    Uninstalling ipykernel-4.6.1:\n",
            "      Successfully uninstalled ipykernel-4.6.1\n",
            "Successfully installed ipykernel-5.1.3\n"
          ],
          "name": "stdout"
        },
        {
          "output_type": "display_data",
          "data": {
            "application/vnd.colab-display-data+json": {
              "pip_warning": {
                "packages": [
                  "ipykernel"
                ]
              }
            }
          },
          "metadata": {
            "tags": []
          }
        }
      ]
    },
    {
      "cell_type": "code",
      "metadata": {
        "id": "Zq0e-ZuzkFJj",
        "colab_type": "code",
        "colab": {
          "base_uri": "https://localhost:8080/",
          "height": 50
        },
        "outputId": "86d49edd-6e40-40f6-aa04-3b0df2631b93"
      },
      "source": [
        "!sudo pip install dklearn"
      ],
      "execution_count": 38,
      "outputs": [
        {
          "output_type": "stream",
          "text": [
            "\u001b[31mERROR: Could not find a version that satisfies the requirement dklearn (from versions: none)\u001b[0m\n",
            "\u001b[31mERROR: No matching distribution found for dklearn\u001b[0m\n"
          ],
          "name": "stdout"
        }
      ]
    },
    {
      "cell_type": "code",
      "metadata": {
        "id": "1vtSIpSvdKeE",
        "colab_type": "code",
        "colab": {
          "base_uri": "https://localhost:8080/",
          "height": 34
        },
        "outputId": "f1e700ea-3cd9-4e0f-c20a-cc82a67a5169"
      },
      "source": [
        "!pip install dask"
      ],
      "execution_count": 46,
      "outputs": [
        {
          "output_type": "stream",
          "text": [
            "Requirement already satisfied: dask in /usr/local/lib/python3.6/dist-packages (2.9.1)\n"
          ],
          "name": "stdout"
        }
      ]
    },
    {
      "cell_type": "code",
      "metadata": {
        "id": "URC4IZIboBLr",
        "colab_type": "code",
        "colab": {
          "base_uri": "https://localhost:8080/",
          "height": 252
        },
        "outputId": "6e6ae2f5-f255-4e02-e589-ba6bf5d5acba"
      },
      "source": [
        "!pip install dask distributed"
      ],
      "execution_count": 48,
      "outputs": [
        {
          "output_type": "stream",
          "text": [
            "Requirement already satisfied: dask in /usr/local/lib/python3.6/dist-packages (2.9.1)\n",
            "Requirement already satisfied: distributed in /usr/local/lib/python3.6/dist-packages (2.9.3)\n",
            "Requirement already satisfied: msgpack in /usr/local/lib/python3.6/dist-packages (from distributed) (0.5.6)\n",
            "Requirement already satisfied: psutil>=5.0 in /usr/local/lib/python3.6/dist-packages (from distributed) (5.4.8)\n",
            "Requirement already satisfied: zict>=0.1.3 in /usr/local/lib/python3.6/dist-packages (from distributed) (1.0.0)\n",
            "Requirement already satisfied: setuptools in /usr/local/lib/python3.6/dist-packages (from distributed) (42.0.2)\n",
            "Requirement already satisfied: cloudpickle>=0.2.2 in /usr/local/lib/python3.6/dist-packages (from distributed) (1.2.2)\n",
            "Requirement already satisfied: tblib in /usr/local/lib/python3.6/dist-packages (from distributed) (1.6.0)\n",
            "Requirement already satisfied: sortedcontainers!=2.0.0,!=2.0.1 in /usr/local/lib/python3.6/dist-packages (from distributed) (2.1.0)\n",
            "Requirement already satisfied: toolz>=0.7.4 in /usr/local/lib/python3.6/dist-packages (from distributed) (0.10.0)\n",
            "Requirement already satisfied: pyyaml in /usr/local/lib/python3.6/dist-packages (from distributed) (3.13)\n",
            "Requirement already satisfied: click>=6.6 in /usr/local/lib/python3.6/dist-packages (from distributed) (7.0)\n",
            "Requirement already satisfied: tornado>=5 in /usr/local/lib/python3.6/dist-packages (from distributed) (6.0.3)\n",
            "Requirement already satisfied: heapdict in /usr/local/lib/python3.6/dist-packages (from zict>=0.1.3->distributed) (1.0.1)\n"
          ],
          "name": "stdout"
        }
      ]
    },
    {
      "cell_type": "code",
      "metadata": {
        "id": "9Sq5KZT_pSW6",
        "colab_type": "code",
        "colab": {
          "base_uri": "https://localhost:8080/",
          "height": 710
        },
        "outputId": "8f640819-f7e4-4283-807e-33cf0e299e62"
      },
      "source": [
        "!pip install dask[complete] distributed --upgrade"
      ],
      "execution_count": 51,
      "outputs": [
        {
          "output_type": "stream",
          "text": [
            "Collecting dask[complete]\n",
            "\u001b[?25l  Downloading https://files.pythonhosted.org/packages/03/fb/d060d926b4e3af64b687f59f907435a9e8497a6f422c2e4aabcd47df2555/dask-2.9.2-py3-none-any.whl (780kB)\n",
            "\r\u001b[K     |▍                               | 10kB 18.2MB/s eta 0:00:01\r\u001b[K     |▉                               | 20kB 1.8MB/s eta 0:00:01\r\u001b[K     |█▎                              | 30kB 2.6MB/s eta 0:00:01\r\u001b[K     |█▊                              | 40kB 1.7MB/s eta 0:00:01\r\u001b[K     |██                              | 51kB 2.1MB/s eta 0:00:01\r\u001b[K     |██▌                             | 61kB 2.5MB/s eta 0:00:01\r\u001b[K     |███                             | 71kB 2.9MB/s eta 0:00:01\r\u001b[K     |███▍                            | 81kB 3.3MB/s eta 0:00:01\r\u001b[K     |███▉                            | 92kB 3.7MB/s eta 0:00:01\r\u001b[K     |████▏                           | 102kB 2.8MB/s eta 0:00:01\r\u001b[K     |████▋                           | 112kB 2.8MB/s eta 0:00:01\r\u001b[K     |█████                           | 122kB 2.8MB/s eta 0:00:01\r\u001b[K     |█████▌                          | 133kB 2.8MB/s eta 0:00:01\r\u001b[K     |█████▉                          | 143kB 2.8MB/s eta 0:00:01\r\u001b[K     |██████▎                         | 153kB 2.8MB/s eta 0:00:01\r\u001b[K     |██████▊                         | 163kB 2.8MB/s eta 0:00:01\r\u001b[K     |███████▏                        | 174kB 2.8MB/s eta 0:00:01\r\u001b[K     |███████▋                        | 184kB 2.8MB/s eta 0:00:01\r\u001b[K     |████████                        | 194kB 2.8MB/s eta 0:00:01\r\u001b[K     |████████▍                       | 204kB 2.8MB/s eta 0:00:01\r\u001b[K     |████████▉                       | 215kB 2.8MB/s eta 0:00:01\r\u001b[K     |█████████▎                      | 225kB 2.8MB/s eta 0:00:01\r\u001b[K     |█████████▋                      | 235kB 2.8MB/s eta 0:00:01\r\u001b[K     |██████████                      | 245kB 2.8MB/s eta 0:00:01\r\u001b[K     |██████████▌                     | 256kB 2.8MB/s eta 0:00:01\r\u001b[K     |███████████                     | 266kB 2.8MB/s eta 0:00:01\r\u001b[K     |███████████▍                    | 276kB 2.8MB/s eta 0:00:01\r\u001b[K     |███████████▊                    | 286kB 2.8MB/s eta 0:00:01\r\u001b[K     |████████████▏                   | 296kB 2.8MB/s eta 0:00:01\r\u001b[K     |████████████▋                   | 307kB 2.8MB/s eta 0:00:01\r\u001b[K     |█████████████                   | 317kB 2.8MB/s eta 0:00:01\r\u001b[K     |█████████████▍                  | 327kB 2.8MB/s eta 0:00:01\r\u001b[K     |█████████████▉                  | 337kB 2.8MB/s eta 0:00:01\r\u001b[K     |██████████████▎                 | 348kB 2.8MB/s eta 0:00:01\r\u001b[K     |██████████████▊                 | 358kB 2.8MB/s eta 0:00:01\r\u001b[K     |███████████████▏                | 368kB 2.8MB/s eta 0:00:01\r\u001b[K     |███████████████▌                | 378kB 2.8MB/s eta 0:00:01\r\u001b[K     |████████████████                | 389kB 2.8MB/s eta 0:00:01\r\u001b[K     |████████████████▍               | 399kB 2.8MB/s eta 0:00:01\r\u001b[K     |████████████████▉               | 409kB 2.8MB/s eta 0:00:01\r\u001b[K     |█████████████████▏              | 419kB 2.8MB/s eta 0:00:01\r\u001b[K     |█████████████████▋              | 430kB 2.8MB/s eta 0:00:01\r\u001b[K     |██████████████████              | 440kB 2.8MB/s eta 0:00:01\r\u001b[K     |██████████████████▌             | 450kB 2.8MB/s eta 0:00:01\r\u001b[K     |███████████████████             | 460kB 2.8MB/s eta 0:00:01\r\u001b[K     |███████████████████▎            | 471kB 2.8MB/s eta 0:00:01\r\u001b[K     |███████████████████▊            | 481kB 2.8MB/s eta 0:00:01\r\u001b[K     |████████████████████▏           | 491kB 2.8MB/s eta 0:00:01\r\u001b[K     |████████████████████▋           | 501kB 2.8MB/s eta 0:00:01\r\u001b[K     |█████████████████████           | 512kB 2.8MB/s eta 0:00:01\r\u001b[K     |█████████████████████▍          | 522kB 2.8MB/s eta 0:00:01\r\u001b[K     |█████████████████████▉          | 532kB 2.8MB/s eta 0:00:01\r\u001b[K     |██████████████████████▎         | 542kB 2.8MB/s eta 0:00:01\r\u001b[K     |██████████████████████▊         | 552kB 2.8MB/s eta 0:00:01\r\u001b[K     |███████████████████████         | 563kB 2.8MB/s eta 0:00:01\r\u001b[K     |███████████████████████▌        | 573kB 2.8MB/s eta 0:00:01\r\u001b[K     |████████████████████████        | 583kB 2.8MB/s eta 0:00:01\r\u001b[K     |████████████████████████▍       | 593kB 2.8MB/s eta 0:00:01\r\u001b[K     |████████████████████████▊       | 604kB 2.8MB/s eta 0:00:01\r\u001b[K     |█████████████████████████▏      | 614kB 2.8MB/s eta 0:00:01\r\u001b[K     |█████████████████████████▋      | 624kB 2.8MB/s eta 0:00:01\r\u001b[K     |██████████████████████████      | 634kB 2.8MB/s eta 0:00:01\r\u001b[K     |██████████████████████████▌     | 645kB 2.8MB/s eta 0:00:01\r\u001b[K     |██████████████████████████▉     | 655kB 2.8MB/s eta 0:00:01\r\u001b[K     |███████████████████████████▎    | 665kB 2.8MB/s eta 0:00:01\r\u001b[K     |███████████████████████████▊    | 675kB 2.8MB/s eta 0:00:01\r\u001b[K     |████████████████████████████▏   | 686kB 2.8MB/s eta 0:00:01\r\u001b[K     |████████████████████████████▌   | 696kB 2.8MB/s eta 0:00:01\r\u001b[K     |█████████████████████████████   | 706kB 2.8MB/s eta 0:00:01\r\u001b[K     |█████████████████████████████▍  | 716kB 2.8MB/s eta 0:00:01\r\u001b[K     |█████████████████████████████▉  | 727kB 2.8MB/s eta 0:00:01\r\u001b[K     |██████████████████████████████▎ | 737kB 2.8MB/s eta 0:00:01\r\u001b[K     |██████████████████████████████▋ | 747kB 2.8MB/s eta 0:00:01\r\u001b[K     |███████████████████████████████ | 757kB 2.8MB/s eta 0:00:01\r\u001b[K     |███████████████████████████████▌| 768kB 2.8MB/s eta 0:00:01\r\u001b[K     |████████████████████████████████| 778kB 2.8MB/s eta 0:00:01\r\u001b[K     |████████████████████████████████| 788kB 2.8MB/s \n",
            "\u001b[?25hRequirement already up-to-date: distributed in /usr/local/lib/python3.6/dist-packages (2.9.3)\n",
            "Requirement already satisfied, skipping upgrade: numpy>=1.13.0; extra == \"complete\" in /usr/local/lib/python3.6/dist-packages (from dask[complete]) (1.17.5)\n",
            "Requirement already satisfied, skipping upgrade: partd>=0.3.10; extra == \"complete\" in /usr/local/lib/python3.6/dist-packages (from dask[complete]) (1.1.0)\n",
            "Requirement already satisfied, skipping upgrade: bokeh>=1.0.0; extra == \"complete\" in /usr/local/lib/python3.6/dist-packages (from dask[complete]) (1.4.0)\n",
            "Requirement already satisfied, skipping upgrade: PyYaml; extra == \"complete\" in /usr/local/lib/python3.6/dist-packages (from dask[complete]) (3.13)\n",
            "Requirement already satisfied, skipping upgrade: fsspec>=0.6.0; extra == \"complete\" in /usr/local/lib/python3.6/dist-packages (from dask[complete]) (0.6.2)\n",
            "Requirement already satisfied, skipping upgrade: pandas>=0.21.0; extra == \"complete\" in /usr/local/lib/python3.6/dist-packages (from dask[complete]) (0.25.3)\n",
            "Requirement already satisfied, skipping upgrade: cloudpickle>=0.2.1; extra == \"complete\" in /usr/local/lib/python3.6/dist-packages (from dask[complete]) (1.2.2)\n",
            "Requirement already satisfied, skipping upgrade: toolz>=0.7.3; extra == \"complete\" in /usr/local/lib/python3.6/dist-packages (from dask[complete]) (0.10.0)\n",
            "Requirement already satisfied, skipping upgrade: zict>=0.1.3 in /usr/local/lib/python3.6/dist-packages (from distributed) (1.0.0)\n",
            "Requirement already satisfied, skipping upgrade: tblib in /usr/local/lib/python3.6/dist-packages (from distributed) (1.6.0)\n",
            "Requirement already satisfied, skipping upgrade: tornado>=5 in /usr/local/lib/python3.6/dist-packages (from distributed) (6.0.3)\n",
            "Requirement already satisfied, skipping upgrade: setuptools in /usr/local/lib/python3.6/dist-packages (from distributed) (42.0.2)\n",
            "Requirement already satisfied, skipping upgrade: msgpack in /usr/local/lib/python3.6/dist-packages (from distributed) (0.5.6)\n",
            "Requirement already satisfied, skipping upgrade: sortedcontainers!=2.0.0,!=2.0.1 in /usr/local/lib/python3.6/dist-packages (from distributed) (2.1.0)\n",
            "Requirement already satisfied, skipping upgrade: click>=6.6 in /usr/local/lib/python3.6/dist-packages (from distributed) (7.0)\n",
            "Requirement already satisfied, skipping upgrade: psutil>=5.0 in /usr/local/lib/python3.6/dist-packages (from distributed) (5.4.8)\n",
            "Requirement already satisfied, skipping upgrade: locket in /usr/local/lib/python3.6/dist-packages (from partd>=0.3.10; extra == \"complete\"->dask[complete]) (0.2.0)\n",
            "Requirement already satisfied, skipping upgrade: python-dateutil>=2.1 in /usr/local/lib/python3.6/dist-packages (from bokeh>=1.0.0; extra == \"complete\"->dask[complete]) (2.6.1)\n",
            "Requirement already satisfied, skipping upgrade: pillow>=4.0 in /usr/local/lib/python3.6/dist-packages (from bokeh>=1.0.0; extra == \"complete\"->dask[complete]) (6.2.2)\n",
            "Requirement already satisfied, skipping upgrade: packaging>=16.8 in /usr/local/lib/python3.6/dist-packages (from bokeh>=1.0.0; extra == \"complete\"->dask[complete]) (20.0)\n",
            "Requirement already satisfied, skipping upgrade: six>=1.5.2 in /usr/local/lib/python3.6/dist-packages (from bokeh>=1.0.0; extra == \"complete\"->dask[complete]) (1.14.0)\n",
            "Requirement already satisfied, skipping upgrade: Jinja2>=2.7 in /usr/local/lib/python3.6/dist-packages (from bokeh>=1.0.0; extra == \"complete\"->dask[complete]) (2.10.3)\n",
            "Requirement already satisfied, skipping upgrade: pytz>=2017.2 in /usr/local/lib/python3.6/dist-packages (from pandas>=0.21.0; extra == \"complete\"->dask[complete]) (2018.9)\n",
            "Requirement already satisfied, skipping upgrade: heapdict in /usr/local/lib/python3.6/dist-packages (from zict>=0.1.3->distributed) (1.0.1)\n",
            "Requirement already satisfied, skipping upgrade: pyparsing>=2.0.2 in /usr/local/lib/python3.6/dist-packages (from packaging>=16.8->bokeh>=1.0.0; extra == \"complete\"->dask[complete]) (2.4.6)\n",
            "Requirement already satisfied, skipping upgrade: MarkupSafe>=0.23 in /usr/local/lib/python3.6/dist-packages (from Jinja2>=2.7->bokeh>=1.0.0; extra == \"complete\"->dask[complete]) (1.1.1)\n",
            "Installing collected packages: dask\n",
            "  Found existing installation: dask 2.9.1\n",
            "    Uninstalling dask-2.9.1:\n",
            "      Successfully uninstalled dask-2.9.1\n",
            "Successfully installed dask-2.9.2\n"
          ],
          "name": "stdout"
        },
        {
          "output_type": "display_data",
          "data": {
            "application/vnd.colab-display-data+json": {
              "pip_warning": {
                "packages": [
                  "dask"
                ]
              }
            }
          },
          "metadata": {
            "tags": []
          }
        }
      ]
    },
    {
      "cell_type": "code",
      "metadata": {
        "id": "Ul3j3WEepxMk",
        "colab_type": "code",
        "colab": {
          "base_uri": "https://localhost:8080/",
          "height": 272
        },
        "outputId": "b70bfd24-ece6-4256-aee9-21699e36a250"
      },
      "source": [
        "!pip install dask distributed --upgrade"
      ],
      "execution_count": 56,
      "outputs": [
        {
          "output_type": "stream",
          "text": [
            "Requirement already up-to-date: dask in /usr/local/lib/python3.6/dist-packages (2.9.2)\n",
            "Requirement already up-to-date: distributed in /usr/local/lib/python3.6/dist-packages (2.9.3)\n",
            "Requirement already satisfied, skipping upgrade: tblib in /usr/local/lib/python3.6/dist-packages (from distributed) (1.6.0)\n",
            "Requirement already satisfied, skipping upgrade: psutil>=5.0 in /usr/local/lib/python3.6/dist-packages (from distributed) (5.4.8)\n",
            "Requirement already satisfied, skipping upgrade: msgpack in /usr/local/lib/python3.6/dist-packages (from distributed) (0.5.6)\n",
            "Requirement already satisfied, skipping upgrade: cloudpickle>=0.2.2 in /usr/local/lib/python3.6/dist-packages (from distributed) (1.2.2)\n",
            "Requirement already satisfied, skipping upgrade: sortedcontainers!=2.0.0,!=2.0.1 in /usr/local/lib/python3.6/dist-packages (from distributed) (2.1.0)\n",
            "Requirement already satisfied, skipping upgrade: setuptools in /usr/local/lib/python3.6/dist-packages (from distributed) (42.0.2)\n",
            "Requirement already satisfied, skipping upgrade: pyyaml in /usr/local/lib/python3.6/dist-packages (from distributed) (3.13)\n",
            "Requirement already satisfied, skipping upgrade: toolz>=0.7.4 in /usr/local/lib/python3.6/dist-packages (from distributed) (0.10.0)\n",
            "Requirement already satisfied, skipping upgrade: tornado>=5 in /usr/local/lib/python3.6/dist-packages (from distributed) (6.0.3)\n",
            "Requirement already satisfied, skipping upgrade: zict>=0.1.3 in /usr/local/lib/python3.6/dist-packages (from distributed) (1.0.0)\n",
            "Requirement already satisfied, skipping upgrade: click>=6.6 in /usr/local/lib/python3.6/dist-packages (from distributed) (7.0)\n",
            "Requirement already satisfied, skipping upgrade: heapdict in /usr/local/lib/python3.6/dist-packages (from zict>=0.1.3->distributed) (1.0.1)\n"
          ],
          "name": "stdout"
        }
      ]
    },
    {
      "cell_type": "code",
      "metadata": {
        "id": "74Z6Si0XtpoD",
        "colab_type": "code",
        "colab": {
          "base_uri": "https://localhost:8080/",
          "height": 440
        },
        "outputId": "e57e21de-73d7-487a-cc8a-ef3056747523"
      },
      "source": [
        "!pip install fastparquet"
      ],
      "execution_count": 62,
      "outputs": [
        {
          "output_type": "stream",
          "text": [
            "Collecting fastparquet\n",
            "\u001b[?25l  Downloading https://files.pythonhosted.org/packages/58/49/dccb790fa17ab3fbf84a6b848050083c7a1899e9586000e34e3e4fbf5538/fastparquet-0.3.2.tar.gz (151kB)\n",
            "\u001b[K     |████████████████████████████████| 153kB 2.7MB/s \n",
            "\u001b[?25hRequirement already satisfied: pandas>=0.19 in /usr/local/lib/python3.6/dist-packages (from fastparquet) (0.25.3)\n",
            "Requirement already satisfied: numba>=0.28 in /usr/local/lib/python3.6/dist-packages (from fastparquet) (0.47.0)\n",
            "Requirement already satisfied: numpy>=1.11 in /usr/local/lib/python3.6/dist-packages (from fastparquet) (1.17.5)\n",
            "Collecting thrift>=0.11.0\n",
            "\u001b[?25l  Downloading https://files.pythonhosted.org/packages/97/1e/3284d19d7be99305eda145b8aa46b0c33244e4a496ec66440dac19f8274d/thrift-0.13.0.tar.gz (59kB)\n",
            "\u001b[K     |████████████████████████████████| 61kB 5.6MB/s \n",
            "\u001b[?25hRequirement already satisfied: six in /usr/local/lib/python3.6/dist-packages (from fastparquet) (1.14.0)\n",
            "Requirement already satisfied: pytz>=2017.2 in /usr/local/lib/python3.6/dist-packages (from pandas>=0.19->fastparquet) (2018.9)\n",
            "Requirement already satisfied: python-dateutil>=2.6.1 in /usr/local/lib/python3.6/dist-packages (from pandas>=0.19->fastparquet) (2.6.1)\n",
            "Requirement already satisfied: setuptools in /usr/local/lib/python3.6/dist-packages (from numba>=0.28->fastparquet) (42.0.2)\n",
            "Requirement already satisfied: llvmlite>=0.31.0dev0 in /usr/local/lib/python3.6/dist-packages (from numba>=0.28->fastparquet) (0.31.0)\n",
            "Building wheels for collected packages: fastparquet, thrift\n",
            "  Building wheel for fastparquet (setup.py) ... \u001b[?25l\u001b[?25hdone\n",
            "  Created wheel for fastparquet: filename=fastparquet-0.3.2-cp36-cp36m-linux_x86_64.whl size=253144 sha256=60099fc022b6c56a0e688f522cf0efad58a336e7e1c07c4b6fd772433746ce00\n",
            "  Stored in directory: /root/.cache/pip/wheels/b9/36/13/01416a760ddcab0eb8281ec9c9ffcbed945c9b831647c8b904\n",
            "  Building wheel for thrift (setup.py) ... \u001b[?25l\u001b[?25hdone\n",
            "  Created wheel for thrift: filename=thrift-0.13.0-cp36-cp36m-linux_x86_64.whl size=345264 sha256=73bc6e65b169fceca1c4bb4fa7c4bccb30ad6eefed30ea0a1eb73bfcac354654\n",
            "  Stored in directory: /root/.cache/pip/wheels/02/a2/46/689ccfcf40155c23edc7cdbd9de488611c8fdf49ff34b1706e\n",
            "Successfully built fastparquet thrift\n",
            "Installing collected packages: thrift, fastparquet\n",
            "Successfully installed fastparquet-0.3.2 thrift-0.13.0\n"
          ],
          "name": "stdout"
        }
      ]
    },
    {
      "cell_type": "code",
      "metadata": {
        "id": "STZ03Unpq1VW",
        "colab_type": "code",
        "colab": {}
      },
      "source": [
        "import pandas as pd\n",
        "X=pd.read_parquet('/content/drive/My Drive/Data Science/X.parquet', engine='fastparquet')\n",
        "y=pd.read_parquet('/content/drive/My Drive/Data Science/y.parquet', engine='fastparquet')"
      ],
      "execution_count": 0,
      "outputs": []
    },
    {
      "cell_type": "code",
      "metadata": {
        "id": "93FcYTwit0E1",
        "colab_type": "code",
        "colab": {}
      },
      "source": [
        "X.head()"
      ],
      "execution_count": 0,
      "outputs": []
    },
    {
      "cell_type": "code",
      "metadata": {
        "id": "leopOY7RuBxL",
        "colab_type": "code",
        "colab": {}
      },
      "source": [
        "y.head()"
      ],
      "execution_count": 0,
      "outputs": []
    }
  ]
}