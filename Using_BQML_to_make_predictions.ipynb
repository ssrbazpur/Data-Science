{
  "nbformat": 4,
  "nbformat_minor": 0,
  "metadata": {
    "colab": {
      "name": "Using BQML to make predictions.ipynb",
      "provenance": [],
      "collapsed_sections": [],
      "include_colab_link": true
    },
    "kernelspec": {
      "name": "python2",
      "display_name": "Python 2"
    }
  },
  "cells": [
    {
      "cell_type": "markdown",
      "metadata": {
        "id": "view-in-github",
        "colab_type": "text"
      },
      "source": [
        "<a href=\"https://colab.research.google.com/github/ssrbazpur/Data-Science/blob/master/Using_BQML_to_make_predictions.ipynb\" target=\"_parent\"><img src=\"https://colab.research.google.com/assets/colab-badge.svg\" alt=\"Open In Colab\"/></a>"
      ]
    },
    {
      "cell_type": "markdown",
      "metadata": {
        "id": "2GQvgCkBJEU7",
        "colab_type": "text"
      },
      "source": [
        "# Using BQML to Predict Demand for NYC Taxis based on the Weather Forecast\n",
        "\n",
        "Goal is to build a predictive model using only BigQuery standard SQL. Since this is a Python notebook, we'll use some of the features of Python to analyze the data (ie. a loss function for calculating RSME), but the model itself and it's preditive comes comes from BigQuery alone. This is called BigQuery ML (BQML) and we couldn't be more excited to try it out!\n",
        "\n",
        "To get started, we'll take a [classic Machine Learning example](https://github.com/GoogleCloudPlatform/training-data-analyst/blob/master/CPB100/lab4a/demandforecast.ipynb) and remove the TensorFlow piece. Rest assured, TensorFlow is still being used, but it has been abstracted from view. You'll notice this model performs significantly better than the predessor, and it do this with no customatization on the model.\n"
      ]
    },
    {
      "cell_type": "code",
      "metadata": {
        "id": "2vuXf9sjMfuS",
        "colab_type": "code",
        "colab": {}
      },
      "source": [
        "import pandas as pd\n",
        "import numpy as np\n",
        "import sys\n",
        "from google.cloud import bigquery\n",
        "from google.colab import auth\n",
        "auth.authenticate_user()"
      ],
      "execution_count": 0,
      "outputs": []
    },
    {
      "cell_type": "code",
      "metadata": {
        "id": "nx-dky0JQuRb",
        "colab_type": "code",
        "outputId": "ef246052-8f9d-47ad-980a-5870f0fd4bc6",
        "colab": {
          "base_uri": "https://localhost:8080/",
          "height": 34
        }
      },
      "source": [
        "from google.colab import drive\n",
        "drive.mount('/content/drive')"
      ],
      "execution_count": 121,
      "outputs": [
        {
          "output_type": "stream",
          "text": [
            "Drive already mounted at /content/drive; to attempt to forcibly remount, call drive.mount(\"/content/drive\", force_remount=True).\n"
          ],
          "name": "stdout"
        }
      ]
    },
    {
      "cell_type": "code",
      "metadata": {
        "id": "4BLR-cSPQ3U5",
        "colab_type": "code",
        "colab": {}
      },
      "source": [
        "import os\n",
        "os.environ[\"GOOGLE_APPLICATION_CREDENTIALS\"]=\"/content/drive/My Drive/Data Science/NYC Taxi-eb10197ea31e.json\"\n",
        "%reload_ext google.cloud.bigquery"
      ],
      "execution_count": 0,
      "outputs": []
    },
    {
      "cell_type": "markdown",
      "metadata": {
        "id": "mdXecGNpiCFU",
        "colab_type": "text"
      },
      "source": [
        "You'll need to define some variables that will be used throughout the notebook. These are the GCP `project_id`, the `model_name` can be any name you prefer, and finally the `dateset_name`. The dataset needs to exist in the same project as the `project_id` and you need to have sufficient access to create and delete."
      ]
    },
    {
      "cell_type": "code",
      "metadata": {
        "id": "cyFfGIHmNMVt",
        "colab_type": "code",
        "colab": {}
      },
      "source": [
        "#@title Setup Project Variables { run: \"auto\", display-mode: \"form\" }\n",
        "project_id = 'nyc-taxi-265120' #@param {type:\"string\"}\n",
        "dataset_name = \"Taxitemp\" #@param {type:\"string\"}\n",
        "model_name = \"pats_taxi_model\" #@param {type:\"string\"}\n",
        "eval_name = model_name + \"_eval\"\n",
        "client = bigquery.Client(project=project_id)"
      ],
      "execution_count": 0,
      "outputs": []
    },
    {
      "cell_type": "markdown",
      "metadata": {
        "id": "O62ZVAjmQreq",
        "colab_type": "text"
      },
      "source": [
        "## Create a Linear Regression Model"
      ]
    },
    {
      "cell_type": "code",
      "metadata": {
        "id": "GbSHCLZaQAPn",
        "colab_type": "code",
        "colab": {}
      },
      "source": [
        "\n",
        "project_id = 'nyc-taxi-265120' #@param{type:\"string\"}\n",
        "from google.cloud import bigquery\n",
        "#from google.cloud import bigquery_storage_v1beta1\n",
        "# Create BigQuery client\n",
        "client = bigquery.Client(project = project_id)\n",
        "# Create BigQuery storage client\n",
        "#bq_storage_client = bigquery_storage_v1beta1.BigQueryStorageClient()"
      ],
      "execution_count": 0,
      "outputs": []
    },
    {
      "cell_type": "markdown",
      "metadata": {
        "id": "t8_d_PHsi7P0",
        "colab_type": "text"
      },
      "source": [
        "### Creating labeled data\n",
        "This query can be run in BigQuery on its own. Try it out! This query gives us 3 years of taxi and weather data for the NYC region. Those two datasets represent our labeled data: weather as our features (or metrics) and taxi trips as our label (target, class, objective, etc...)."
      ]
    },
    {
      "cell_type": "code",
      "metadata": {
        "id": "eCp07Yr1nXu6",
        "colab_type": "code",
        "colab": {}
      },
      "source": [
        "query = \"\"\"\n",
        "with wd as (\n",
        "    SELECT \n",
        "        cast(year as STRING) as year,\n",
        "        EXTRACT (DAYOFYEAR FROM CAST(CONCAT(year,'-',mo,'-',da) AS TIMESTAMP)) AS daynumber, \n",
        "        MIN(EXTRACT (DAYOFWEEK FROM CAST(CONCAT(year,'-',mo,'-',da) AS TIMESTAMP))) dayofweek,\n",
        "        MIN(min) mintemp, MAX(max) maxtemp, MAX(IF(prcp=99.99,0,prcp)) rain\n",
        "    FROM `bigquery-public-data.noaa_gsod.gsod2019`\n",
        "    WHERE stn='725030'   --station id 725030=LaGuardia\n",
        "    GROUP BY 1,2 \n",
        "  \n",
        "  -- TAXI DATA\n",
        "  ),\n",
        "TD AS(\n",
        "WITH AB AS\n",
        "(\n",
        "SELECT  CAST(tpep_pickup_datetime AS DATETIME) AS PICKUP,* FROM `nyc-taxi-265120.NYC.2019_CreatedDataset`\n",
        ")  \n",
        "SELECT  PICKUP,CAST(EXTRACT (YEAR from PICKUP) AS STRING) AS year,EXTRACT (DAYOFYEAR from PICKUP) AS daynumber,EXTRACT (HOUR from PICKUP) AS hour, cast(PULocationID as STRING) as LOCATION,COUNT(1) AS numtrips FROM AB group by PICKUP,year,daynumber,hour,LOCATION),points AS\n",
        "(SELECT *,ST_CENTROID(zone_geom) as p FROM `bigquery-public-data.new_york_taxi_trips.taxi_zone_geom`)\n",
        "\n",
        "\n",
        "SELECT cast(wd.dayofweek as STRING) as dayofweek, \n",
        "    wd.mintemp, \n",
        "    wd.maxtemp,\n",
        "    wd.rain,\n",
        "    td.numtrips  as label,\n",
        "    td.hour,\n",
        "    \n",
        "    ST_ASTEXT(points.p) AS P,\n",
        "    td.daynumber,\n",
        "    points.zone_name,\n",
        "    \n",
        "  FROM wd, td INNER JOIN points ON points.zone_id=td.LOCATION\n",
        "  where wd.year = td.year AND\n",
        "  wd.daynumber = td.daynumber AND\n",
        "  eXTRACT (YEAR from PICKUP) =2019\n",
        "  group by daynumber,zone_name,P,dayofweek,hour, mintemp, maxtemp, rain, numtrips\n",
        "  \n",
        "  \n",
        "   \n",
        "  \n",
        " \n",
        "\n",
        "\"\"\"\n",
        "df = client.query(query).to_dataframe()\n"
      ],
      "execution_count": 0,
      "outputs": []
    },
    {
      "cell_type": "code",
      "metadata": {
        "id": "BIxU-6HEqdYG",
        "colab_type": "code",
        "outputId": "84134c5b-6b7f-41bc-aa91-365befb592c4",
        "colab": {
          "base_uri": "https://localhost:8080/",
          "height": 195
        }
      },
      "source": [
        "df.head()"
      ],
      "execution_count": 181,
      "outputs": [
        {
          "output_type": "execute_result",
          "data": {
            "text/html": [
              "<div>\n",
              "<style scoped>\n",
              "    .dataframe tbody tr th:only-of-type {\n",
              "        vertical-align: middle;\n",
              "    }\n",
              "\n",
              "    .dataframe tbody tr th {\n",
              "        vertical-align: top;\n",
              "    }\n",
              "\n",
              "    .dataframe thead th {\n",
              "        text-align: right;\n",
              "    }\n",
              "</style>\n",
              "<table border=\"1\" class=\"dataframe\">\n",
              "  <thead>\n",
              "    <tr style=\"text-align: right;\">\n",
              "      <th></th>\n",
              "      <th>dayofweek</th>\n",
              "      <th>mintemp</th>\n",
              "      <th>maxtemp</th>\n",
              "      <th>rain</th>\n",
              "      <th>label</th>\n",
              "      <th>hour</th>\n",
              "      <th>P</th>\n",
              "      <th>daynumber</th>\n",
              "      <th>zone_name</th>\n",
              "    </tr>\n",
              "  </thead>\n",
              "  <tbody>\n",
              "    <tr>\n",
              "      <th>0</th>\n",
              "      <td>2</td>\n",
              "      <td>6.1</td>\n",
              "      <td>19.9</td>\n",
              "      <td>0.20</td>\n",
              "      <td>1</td>\n",
              "      <td>6</td>\n",
              "      <td>POINT(-73.9841965572521 40.7598175648545)</td>\n",
              "      <td>21</td>\n",
              "      <td>Times Sq/Theatre District</td>\n",
              "    </tr>\n",
              "    <tr>\n",
              "      <th>1</th>\n",
              "      <td>2</td>\n",
              "      <td>6.1</td>\n",
              "      <td>19.9</td>\n",
              "      <td>0.20</td>\n",
              "      <td>1</td>\n",
              "      <td>15</td>\n",
              "      <td>POINT(-73.9904579139814 40.7403373707504)</td>\n",
              "      <td>21</td>\n",
              "      <td>Union Sq</td>\n",
              "    </tr>\n",
              "    <tr>\n",
              "      <th>2</th>\n",
              "      <td>1</td>\n",
              "      <td>19.9</td>\n",
              "      <td>39.9</td>\n",
              "      <td>1.14</td>\n",
              "      <td>1</td>\n",
              "      <td>17</td>\n",
              "      <td>POINT(-73.9784915842276 40.7477457301956)</td>\n",
              "      <td>20</td>\n",
              "      <td>Murray Hill</td>\n",
              "    </tr>\n",
              "    <tr>\n",
              "      <th>3</th>\n",
              "      <td>2</td>\n",
              "      <td>6.1</td>\n",
              "      <td>19.9</td>\n",
              "      <td>0.20</td>\n",
              "      <td>1</td>\n",
              "      <td>11</td>\n",
              "      <td>POINT(-73.9723561596285 40.7566875349726)</td>\n",
              "      <td>21</td>\n",
              "      <td>Midtown East</td>\n",
              "    </tr>\n",
              "    <tr>\n",
              "      <th>4</th>\n",
              "      <td>1</td>\n",
              "      <td>19.9</td>\n",
              "      <td>39.9</td>\n",
              "      <td>1.14</td>\n",
              "      <td>1</td>\n",
              "      <td>17</td>\n",
              "      <td>POINT(-73.9775685681851 40.7644214378895)</td>\n",
              "      <td>20</td>\n",
              "      <td>Midtown North</td>\n",
              "    </tr>\n",
              "  </tbody>\n",
              "</table>\n",
              "</div>"
            ],
            "text/plain": [
              "  dayofweek  mintemp  ...  daynumber                  zone_name\n",
              "0         2      6.1  ...         21  Times Sq/Theatre District\n",
              "1         2      6.1  ...         21                   Union Sq\n",
              "2         1     19.9  ...         20                Murray Hill\n",
              "3         2      6.1  ...         21               Midtown East\n",
              "4         1     19.9  ...         20              Midtown North\n",
              "\n",
              "[5 rows x 9 columns]"
            ]
          },
          "metadata": {
            "tags": []
          },
          "execution_count": 181
        }
      ]
    },
    {
      "cell_type": "code",
      "metadata": {
        "id": "TL80EPsU9K6E",
        "colab_type": "code",
        "outputId": "367253d8-5bb7-4733-d5d7-d68090e91a44",
        "colab": {
          "base_uri": "https://localhost:8080/",
          "height": 34
        }
      },
      "source": [
        "print df.shape"
      ],
      "execution_count": 182,
      "outputs": [
        {
          "output_type": "stream",
          "text": [
            "(796875, 9)\n"
          ],
          "name": "stdout"
        }
      ]
    },
    {
      "cell_type": "code",
      "metadata": {
        "id": "fT7B3b7NsmTk",
        "colab_type": "code",
        "colab": {}
      },
      "source": [
        "df.drop('P', axis=1, inplace=True)"
      ],
      "execution_count": 0,
      "outputs": []
    },
    {
      "cell_type": "code",
      "metadata": {
        "id": "4XyR2QL_y8KS",
        "colab_type": "code",
        "outputId": "05636668-c4b7-4d0c-ad6e-cbd370216aee",
        "colab": {
          "base_uri": "https://localhost:8080/",
          "height": 195
        }
      },
      "source": [
        "df.head()"
      ],
      "execution_count": 0,
      "outputs": [
        {
          "output_type": "execute_result",
          "data": {
            "text/html": [
              "<div>\n",
              "<style scoped>\n",
              "    .dataframe tbody tr th:only-of-type {\n",
              "        vertical-align: middle;\n",
              "    }\n",
              "\n",
              "    .dataframe tbody tr th {\n",
              "        vertical-align: top;\n",
              "    }\n",
              "\n",
              "    .dataframe thead th {\n",
              "        text-align: right;\n",
              "    }\n",
              "</style>\n",
              "<table border=\"1\" class=\"dataframe\">\n",
              "  <thead>\n",
              "    <tr style=\"text-align: right;\">\n",
              "      <th></th>\n",
              "      <th>dayofweek</th>\n",
              "      <th>mintemp</th>\n",
              "      <th>maxtemp</th>\n",
              "      <th>rain</th>\n",
              "      <th>label</th>\n",
              "      <th>hour</th>\n",
              "      <th>PICKUP</th>\n",
              "      <th>daynumber</th>\n",
              "      <th>zone_name</th>\n",
              "    </tr>\n",
              "  </thead>\n",
              "  <tbody>\n",
              "    <tr>\n",
              "      <th>0</th>\n",
              "      <td>1</td>\n",
              "      <td>55.9</td>\n",
              "      <td>75.0</td>\n",
              "      <td>0.28</td>\n",
              "      <td>1</td>\n",
              "      <td>20</td>\n",
              "      <td>2019-04-14 20:57:24</td>\n",
              "      <td>104</td>\n",
              "      <td>Penn Station/Madison Sq West</td>\n",
              "    </tr>\n",
              "    <tr>\n",
              "      <th>1</th>\n",
              "      <td>1</td>\n",
              "      <td>55.9</td>\n",
              "      <td>75.0</td>\n",
              "      <td>0.28</td>\n",
              "      <td>1</td>\n",
              "      <td>22</td>\n",
              "      <td>2019-04-14 22:01:24</td>\n",
              "      <td>104</td>\n",
              "      <td>Stuy Town/Peter Cooper Village</td>\n",
              "    </tr>\n",
              "    <tr>\n",
              "      <th>2</th>\n",
              "      <td>1</td>\n",
              "      <td>55.9</td>\n",
              "      <td>75.0</td>\n",
              "      <td>0.28</td>\n",
              "      <td>2</td>\n",
              "      <td>21</td>\n",
              "      <td>2019-04-14 21:08:42</td>\n",
              "      <td>104</td>\n",
              "      <td>East Village</td>\n",
              "    </tr>\n",
              "    <tr>\n",
              "      <th>3</th>\n",
              "      <td>1</td>\n",
              "      <td>55.9</td>\n",
              "      <td>75.0</td>\n",
              "      <td>0.28</td>\n",
              "      <td>1</td>\n",
              "      <td>13</td>\n",
              "      <td>2019-04-14 13:26:20</td>\n",
              "      <td>104</td>\n",
              "      <td>Hudson Sq</td>\n",
              "    </tr>\n",
              "    <tr>\n",
              "      <th>4</th>\n",
              "      <td>1</td>\n",
              "      <td>55.9</td>\n",
              "      <td>75.0</td>\n",
              "      <td>0.28</td>\n",
              "      <td>1</td>\n",
              "      <td>19</td>\n",
              "      <td>2019-04-14 19:22:44</td>\n",
              "      <td>104</td>\n",
              "      <td>Greenwich Village North</td>\n",
              "    </tr>\n",
              "  </tbody>\n",
              "</table>\n",
              "</div>"
            ],
            "text/plain": [
              "  dayofweek  mintemp  ...  daynumber                       zone_name\n",
              "0         1     55.9  ...        104    Penn Station/Madison Sq West\n",
              "1         1     55.9  ...        104  Stuy Town/Peter Cooper Village\n",
              "2         1     55.9  ...        104                    East Village\n",
              "3         1     55.9  ...        104                       Hudson Sq\n",
              "4         1     55.9  ...        104         Greenwich Village North\n",
              "\n",
              "[5 rows x 9 columns]"
            ]
          },
          "metadata": {
            "tags": []
          },
          "execution_count": 37
        }
      ]
    },
    {
      "cell_type": "code",
      "metadata": {
        "id": "-ubDEhcN1VCQ",
        "colab_type": "code",
        "colab": {}
      },
      "source": [
        "df['just_date'] = df['PICKUP'].dt.date"
      ],
      "execution_count": 0,
      "outputs": []
    },
    {
      "cell_type": "code",
      "metadata": {
        "id": "m-0UV_BP2al1",
        "colab_type": "code",
        "colab": {}
      },
      "source": [
        "df.drop('PICKUP', axis=1, inplace=True)"
      ],
      "execution_count": 0,
      "outputs": []
    },
    {
      "cell_type": "code",
      "metadata": {
        "id": "XnziEDsDzhBd",
        "colab_type": "code",
        "outputId": "a76335b6-03ff-451c-ec6e-a957e60ef9bc",
        "colab": {
          "base_uri": "https://localhost:8080/",
          "height": 195
        }
      },
      "source": [
        "df.head()"
      ],
      "execution_count": 12,
      "outputs": [
        {
          "output_type": "execute_result",
          "data": {
            "text/html": [
              "<div>\n",
              "<style scoped>\n",
              "    .dataframe tbody tr th:only-of-type {\n",
              "        vertical-align: middle;\n",
              "    }\n",
              "\n",
              "    .dataframe tbody tr th {\n",
              "        vertical-align: top;\n",
              "    }\n",
              "\n",
              "    .dataframe thead th {\n",
              "        text-align: right;\n",
              "    }\n",
              "</style>\n",
              "<table border=\"1\" class=\"dataframe\">\n",
              "  <thead>\n",
              "    <tr style=\"text-align: right;\">\n",
              "      <th></th>\n",
              "      <th>dayofweek</th>\n",
              "      <th>mintemp</th>\n",
              "      <th>maxtemp</th>\n",
              "      <th>rain</th>\n",
              "      <th>label</th>\n",
              "      <th>hour</th>\n",
              "      <th>daynumber</th>\n",
              "      <th>zone_name</th>\n",
              "      <th>just_date</th>\n",
              "    </tr>\n",
              "  </thead>\n",
              "  <tbody>\n",
              "    <tr>\n",
              "      <th>0</th>\n",
              "      <td>1</td>\n",
              "      <td>55.9</td>\n",
              "      <td>75.0</td>\n",
              "      <td>0.28</td>\n",
              "      <td>1</td>\n",
              "      <td>20</td>\n",
              "      <td>104</td>\n",
              "      <td>Penn Station/Madison Sq West</td>\n",
              "      <td>2019-04-14</td>\n",
              "    </tr>\n",
              "    <tr>\n",
              "      <th>1</th>\n",
              "      <td>1</td>\n",
              "      <td>55.9</td>\n",
              "      <td>75.0</td>\n",
              "      <td>0.28</td>\n",
              "      <td>1</td>\n",
              "      <td>22</td>\n",
              "      <td>104</td>\n",
              "      <td>Stuy Town/Peter Cooper Village</td>\n",
              "      <td>2019-04-14</td>\n",
              "    </tr>\n",
              "    <tr>\n",
              "      <th>2</th>\n",
              "      <td>1</td>\n",
              "      <td>55.9</td>\n",
              "      <td>75.0</td>\n",
              "      <td>0.28</td>\n",
              "      <td>2</td>\n",
              "      <td>21</td>\n",
              "      <td>104</td>\n",
              "      <td>East Village</td>\n",
              "      <td>2019-04-14</td>\n",
              "    </tr>\n",
              "    <tr>\n",
              "      <th>3</th>\n",
              "      <td>1</td>\n",
              "      <td>55.9</td>\n",
              "      <td>75.0</td>\n",
              "      <td>0.28</td>\n",
              "      <td>1</td>\n",
              "      <td>13</td>\n",
              "      <td>104</td>\n",
              "      <td>Hudson Sq</td>\n",
              "      <td>2019-04-14</td>\n",
              "    </tr>\n",
              "    <tr>\n",
              "      <th>4</th>\n",
              "      <td>1</td>\n",
              "      <td>55.9</td>\n",
              "      <td>75.0</td>\n",
              "      <td>0.28</td>\n",
              "      <td>1</td>\n",
              "      <td>19</td>\n",
              "      <td>104</td>\n",
              "      <td>Greenwich Village North</td>\n",
              "      <td>2019-04-14</td>\n",
              "    </tr>\n",
              "  </tbody>\n",
              "</table>\n",
              "</div>"
            ],
            "text/plain": [
              "  dayofweek  mintemp  ...                       zone_name   just_date\n",
              "0         1     55.9  ...    Penn Station/Madison Sq West  2019-04-14\n",
              "1         1     55.9  ...  Stuy Town/Peter Cooper Village  2019-04-14\n",
              "2         1     55.9  ...                    East Village  2019-04-14\n",
              "3         1     55.9  ...                       Hudson Sq  2019-04-14\n",
              "4         1     55.9  ...         Greenwich Village North  2019-04-14\n",
              "\n",
              "[5 rows x 9 columns]"
            ]
          },
          "metadata": {
            "tags": []
          },
          "execution_count": 12
        }
      ]
    },
    {
      "cell_type": "code",
      "metadata": {
        "id": "QDKnrl96EYJJ",
        "colab_type": "code",
        "outputId": "e78ef077-506f-405b-c6bf-2080b1209c2a",
        "colab": {
          "base_uri": "https://localhost:8080/",
          "height": 34
        }
      },
      "source": [
        "import datetime\n",
        "d = datetime.date(2015, 2, 20)\n",
        "print d.day"
      ],
      "execution_count": 0,
      "outputs": [
        {
          "output_type": "stream",
          "text": [
            "20\n"
          ],
          "name": "stdout"
        }
      ]
    },
    {
      "cell_type": "code",
      "metadata": {
        "id": "ARykNfltrFez",
        "colab_type": "code",
        "outputId": "6ed8c9ec-2983-4ba9-efc0-ffdd95fc0bf9",
        "colab": {
          "base_uri": "https://localhost:8080/",
          "height": 31
        }
      },
      "source": [
        "df.head()"
      ],
      "execution_count": 0,
      "outputs": [
        {
          "output_type": "execute_result",
          "data": {
            "text/html": [
              "<div>\n",
              "<style scoped>\n",
              "    .dataframe tbody tr th:only-of-type {\n",
              "        vertical-align: middle;\n",
              "    }\n",
              "\n",
              "    .dataframe tbody tr th {\n",
              "        vertical-align: top;\n",
              "    }\n",
              "\n",
              "    .dataframe thead th {\n",
              "        text-align: right;\n",
              "    }\n",
              "</style>\n",
              "<table border=\"1\" class=\"dataframe\">\n",
              "  <thead>\n",
              "    <tr style=\"text-align: right;\">\n",
              "      <th></th>\n",
              "    </tr>\n",
              "  </thead>\n",
              "  <tbody>\n",
              "  </tbody>\n",
              "</table>\n",
              "</div>"
            ],
            "text/plain": [
              "Empty DataFrame\n",
              "Columns: []\n",
              "Index: []"
            ]
          },
          "metadata": {
            "tags": []
          },
          "execution_count": 27
        }
      ]
    },
    {
      "cell_type": "code",
      "metadata": {
        "id": "MFPVJ9UTuoH8",
        "colab_type": "code",
        "colab": {
          "base_uri": "https://localhost:8080/",
          "height": 168
        },
        "outputId": "81f06ef6-d43d-4548-d995-322af08f2626"
      },
      "source": [
        "df.isnull().sum()"
      ],
      "execution_count": 184,
      "outputs": [
        {
          "output_type": "execute_result",
          "data": {
            "text/plain": [
              "dayofweek    0\n",
              "mintemp      0\n",
              "maxtemp      0\n",
              "rain         0\n",
              "label        0\n",
              "hour         0\n",
              "daynumber    0\n",
              "zone_name    0\n",
              "dtype: int64"
            ]
          },
          "metadata": {
            "tags": []
          },
          "execution_count": 184
        }
      ]
    },
    {
      "cell_type": "code",
      "metadata": {
        "id": "WnqKFM8GwJeB",
        "colab_type": "code",
        "colab": {}
      },
      "source": [
        "df.drop('just_date', axis=1, inplace=True)"
      ],
      "execution_count": 0,
      "outputs": []
    },
    {
      "cell_type": "code",
      "metadata": {
        "id": "9O113OESVlnC",
        "colab_type": "code",
        "colab": {}
      },
      "source": [
        "rated_dummies = pd.get_dummies(imdb_movies.Rated)\n",
        "pd.concat([imdb_movies, rated_dummies], axis=1)"
      ],
      "execution_count": 0,
      "outputs": []
    },
    {
      "cell_type": "code",
      "metadata": {
        "id": "Xpaoi7aO21U0",
        "colab_type": "code",
        "colab": {}
      },
      "source": [
        "rated_dummies=pd.get_dummies(df['zone_name'])"
      ],
      "execution_count": 0,
      "outputs": []
    },
    {
      "cell_type": "code",
      "metadata": {
        "id": "Urg3XWwt3y-W",
        "colab_type": "code",
        "colab": {}
      },
      "source": [
        "df=pd.concat([df, rated_dummies], axis=1)"
      ],
      "execution_count": 0,
      "outputs": []
    },
    {
      "cell_type": "code",
      "metadata": {
        "id": "1N4LRB832pPX",
        "colab_type": "code",
        "colab": {}
      },
      "source": [
        "df.drop('zone_name', axis=1, inplace=True)"
      ],
      "execution_count": 0,
      "outputs": []
    },
    {
      "cell_type": "code",
      "metadata": {
        "id": "5HfFsa3u6Heu",
        "colab_type": "code",
        "colab": {
          "base_uri": "https://localhost:8080/",
          "height": 34
        },
        "outputId": "ff8e7a4e-89dd-4459-8393-e28ddaaa3a83"
      },
      "source": [
        "df.shape"
      ],
      "execution_count": 189,
      "outputs": [
        {
          "output_type": "execute_result",
          "data": {
            "text/plain": [
              "(796875, 265)"
            ]
          },
          "metadata": {
            "tags": []
          },
          "execution_count": 189
        }
      ]
    },
    {
      "cell_type": "code",
      "metadata": {
        "id": "TE796MNz6Gvw",
        "colab_type": "code",
        "colab": {
          "base_uri": "https://localhost:8080/",
          "height": 101
        },
        "outputId": "ce73ffb5-822e-4350-d00f-7b27cf06b2af"
      },
      "source": [
        "df.info()"
      ],
      "execution_count": 137,
      "outputs": [
        {
          "output_type": "stream",
          "text": [
            "<class 'pandas.core.frame.DataFrame'>\n",
            "RangeIndex: 10000 entries, 0 to 9999\n",
            "Columns: 142 entries, dayofweek to Yorkville West\n",
            "dtypes: float64(3), int64(3), object(1), uint8(135)\n",
            "memory usage: 1.8+ MB\n"
          ],
          "name": "stdout"
        }
      ]
    },
    {
      "cell_type": "code",
      "metadata": {
        "id": "dB5860M-3Age",
        "colab_type": "code",
        "colab": {}
      },
      "source": [
        "df[\"dayofweek\"] = df[\"dayofweek\"].astype(int)"
      ],
      "execution_count": 0,
      "outputs": []
    },
    {
      "cell_type": "code",
      "metadata": {
        "id": "OwTdn5tqXyzq",
        "colab_type": "code",
        "colab": {
          "base_uri": "https://localhost:8080/",
          "height": 101
        },
        "outputId": "a50a72c7-7d3b-405d-f8a7-0ec6457fa385"
      },
      "source": [
        "df.info()"
      ],
      "execution_count": 191,
      "outputs": [
        {
          "output_type": "stream",
          "text": [
            "<class 'pandas.core.frame.DataFrame'>\n",
            "RangeIndex: 796875 entries, 0 to 796874\n",
            "Columns: 265 entries, dayofweek to Yorkville West\n",
            "dtypes: float64(3), int64(4), uint8(258)\n",
            "memory usage: 238.6 MB\n"
          ],
          "name": "stdout"
        }
      ]
    },
    {
      "cell_type": "code",
      "metadata": {
        "id": "Fc1xSFGLYebv",
        "colab_type": "code",
        "colab": {}
      },
      "source": [
        "train=df"
      ],
      "execution_count": 0,
      "outputs": []
    },
    {
      "cell_type": "code",
      "metadata": {
        "id": "0-daztmcYmx2",
        "colab_type": "code",
        "colab": {
          "base_uri": "https://localhost:8080/",
          "height": 294
        },
        "outputId": "dfda0fe9-e6c6-4b35-b254-5a64e7057de0"
      },
      "source": [
        "train.head()"
      ],
      "execution_count": 169,
      "outputs": [
        {
          "output_type": "execute_result",
          "data": {
            "text/html": [
              "<div>\n",
              "<style scoped>\n",
              "    .dataframe tbody tr th:only-of-type {\n",
              "        vertical-align: middle;\n",
              "    }\n",
              "\n",
              "    .dataframe tbody tr th {\n",
              "        vertical-align: top;\n",
              "    }\n",
              "\n",
              "    .dataframe thead th {\n",
              "        text-align: right;\n",
              "    }\n",
              "</style>\n",
              "<table border=\"1\" class=\"dataframe\">\n",
              "  <thead>\n",
              "    <tr style=\"text-align: right;\">\n",
              "      <th></th>\n",
              "      <th>dayofweek</th>\n",
              "      <th>mintemp</th>\n",
              "      <th>maxtemp</th>\n",
              "      <th>rain</th>\n",
              "      <th>label</th>\n",
              "      <th>hour</th>\n",
              "      <th>daynumber</th>\n",
              "      <th>Allerton/Pelham Gardens</th>\n",
              "      <th>Alphabet City</th>\n",
              "      <th>Arden Heights</th>\n",
              "      <th>Arrochar/Fort Wadsworth</th>\n",
              "      <th>Astoria</th>\n",
              "      <th>Astoria Park</th>\n",
              "      <th>Auburndale</th>\n",
              "      <th>Baisley Park</th>\n",
              "      <th>Bath Beach</th>\n",
              "      <th>Battery Park</th>\n",
              "      <th>Battery Park City</th>\n",
              "      <th>Bay Ridge</th>\n",
              "      <th>Bay Terrace/Fort Totten</th>\n",
              "      <th>Bayside</th>\n",
              "      <th>Bedford</th>\n",
              "      <th>Bedford Park</th>\n",
              "      <th>Bellerose</th>\n",
              "      <th>Belmont</th>\n",
              "      <th>Bensonhurst East</th>\n",
              "      <th>Bensonhurst West</th>\n",
              "      <th>Bloomfield/Emerson Hill</th>\n",
              "      <th>Bloomingdale</th>\n",
              "      <th>Boerum Hill</th>\n",
              "      <th>Borough Park</th>\n",
              "      <th>Breezy Point/Fort Tilden/Riis Beach</th>\n",
              "      <th>Briarwood/Jamaica Hills</th>\n",
              "      <th>Brighton Beach</th>\n",
              "      <th>Bronx Park</th>\n",
              "      <th>Bronxdale</th>\n",
              "      <th>Brooklyn Heights</th>\n",
              "      <th>Brooklyn Navy Yard</th>\n",
              "      <th>Brownsville</th>\n",
              "      <th>Bushwick North</th>\n",
              "      <th>...</th>\n",
              "      <th>Steinway</th>\n",
              "      <th>Stuy Town/Peter Cooper Village</th>\n",
              "      <th>Stuyvesant Heights</th>\n",
              "      <th>Sunnyside</th>\n",
              "      <th>Sunset Park East</th>\n",
              "      <th>Sunset Park West</th>\n",
              "      <th>Sutton Place/Turtle Bay North</th>\n",
              "      <th>Times Sq/Theatre District</th>\n",
              "      <th>TriBeCa/Civic Center</th>\n",
              "      <th>Two Bridges/Seward Park</th>\n",
              "      <th>UN/Turtle Bay South</th>\n",
              "      <th>Union Sq</th>\n",
              "      <th>University Heights/Morris Heights</th>\n",
              "      <th>Upper East Side North</th>\n",
              "      <th>Upper East Side South</th>\n",
              "      <th>Upper West Side North</th>\n",
              "      <th>Upper West Side South</th>\n",
              "      <th>Van Cortlandt Park</th>\n",
              "      <th>Van Cortlandt Village</th>\n",
              "      <th>Van Nest/Morris Park</th>\n",
              "      <th>Washington Heights North</th>\n",
              "      <th>Washington Heights South</th>\n",
              "      <th>West Chelsea/Hudson Yards</th>\n",
              "      <th>West Concourse</th>\n",
              "      <th>West Farms/Bronx River</th>\n",
              "      <th>West Village</th>\n",
              "      <th>Westchester Village/Unionport</th>\n",
              "      <th>Westerleigh</th>\n",
              "      <th>Whitestone</th>\n",
              "      <th>Willets Point</th>\n",
              "      <th>Williamsbridge/Olinville</th>\n",
              "      <th>Williamsburg (North Side)</th>\n",
              "      <th>Williamsburg (South Side)</th>\n",
              "      <th>Windsor Terrace</th>\n",
              "      <th>Woodhaven</th>\n",
              "      <th>Woodlawn/Wakefield</th>\n",
              "      <th>Woodside</th>\n",
              "      <th>World Trade Center</th>\n",
              "      <th>Yorkville East</th>\n",
              "      <th>Yorkville West</th>\n",
              "    </tr>\n",
              "  </thead>\n",
              "  <tbody>\n",
              "    <tr>\n",
              "      <th>0</th>\n",
              "      <td>3</td>\n",
              "      <td>35.1</td>\n",
              "      <td>60.1</td>\n",
              "      <td>1.39</td>\n",
              "      <td>2</td>\n",
              "      <td>11</td>\n",
              "      <td>1</td>\n",
              "      <td>0</td>\n",
              "      <td>0</td>\n",
              "      <td>0</td>\n",
              "      <td>0</td>\n",
              "      <td>0</td>\n",
              "      <td>0</td>\n",
              "      <td>0</td>\n",
              "      <td>0</td>\n",
              "      <td>0</td>\n",
              "      <td>0</td>\n",
              "      <td>0</td>\n",
              "      <td>0</td>\n",
              "      <td>0</td>\n",
              "      <td>0</td>\n",
              "      <td>0</td>\n",
              "      <td>0</td>\n",
              "      <td>0</td>\n",
              "      <td>0</td>\n",
              "      <td>0</td>\n",
              "      <td>0</td>\n",
              "      <td>0</td>\n",
              "      <td>0</td>\n",
              "      <td>0</td>\n",
              "      <td>0</td>\n",
              "      <td>0</td>\n",
              "      <td>0</td>\n",
              "      <td>0</td>\n",
              "      <td>0</td>\n",
              "      <td>0</td>\n",
              "      <td>0</td>\n",
              "      <td>0</td>\n",
              "      <td>0</td>\n",
              "      <td>0</td>\n",
              "      <td>...</td>\n",
              "      <td>0</td>\n",
              "      <td>0</td>\n",
              "      <td>0</td>\n",
              "      <td>0</td>\n",
              "      <td>0</td>\n",
              "      <td>0</td>\n",
              "      <td>0</td>\n",
              "      <td>0</td>\n",
              "      <td>0</td>\n",
              "      <td>0</td>\n",
              "      <td>0</td>\n",
              "      <td>0</td>\n",
              "      <td>0</td>\n",
              "      <td>0</td>\n",
              "      <td>0</td>\n",
              "      <td>0</td>\n",
              "      <td>0</td>\n",
              "      <td>0</td>\n",
              "      <td>0</td>\n",
              "      <td>0</td>\n",
              "      <td>0</td>\n",
              "      <td>0</td>\n",
              "      <td>0</td>\n",
              "      <td>0</td>\n",
              "      <td>0</td>\n",
              "      <td>0</td>\n",
              "      <td>0</td>\n",
              "      <td>0</td>\n",
              "      <td>0</td>\n",
              "      <td>0</td>\n",
              "      <td>0</td>\n",
              "      <td>0</td>\n",
              "      <td>0</td>\n",
              "      <td>0</td>\n",
              "      <td>0</td>\n",
              "      <td>0</td>\n",
              "      <td>0</td>\n",
              "      <td>0</td>\n",
              "      <td>0</td>\n",
              "      <td>0</td>\n",
              "    </tr>\n",
              "    <tr>\n",
              "      <th>1</th>\n",
              "      <td>3</td>\n",
              "      <td>35.1</td>\n",
              "      <td>60.1</td>\n",
              "      <td>1.39</td>\n",
              "      <td>1</td>\n",
              "      <td>19</td>\n",
              "      <td>1</td>\n",
              "      <td>0</td>\n",
              "      <td>0</td>\n",
              "      <td>0</td>\n",
              "      <td>0</td>\n",
              "      <td>0</td>\n",
              "      <td>0</td>\n",
              "      <td>0</td>\n",
              "      <td>0</td>\n",
              "      <td>0</td>\n",
              "      <td>0</td>\n",
              "      <td>0</td>\n",
              "      <td>0</td>\n",
              "      <td>0</td>\n",
              "      <td>0</td>\n",
              "      <td>0</td>\n",
              "      <td>0</td>\n",
              "      <td>0</td>\n",
              "      <td>0</td>\n",
              "      <td>0</td>\n",
              "      <td>0</td>\n",
              "      <td>0</td>\n",
              "      <td>0</td>\n",
              "      <td>0</td>\n",
              "      <td>0</td>\n",
              "      <td>0</td>\n",
              "      <td>0</td>\n",
              "      <td>0</td>\n",
              "      <td>0</td>\n",
              "      <td>0</td>\n",
              "      <td>0</td>\n",
              "      <td>0</td>\n",
              "      <td>0</td>\n",
              "      <td>0</td>\n",
              "      <td>...</td>\n",
              "      <td>0</td>\n",
              "      <td>0</td>\n",
              "      <td>0</td>\n",
              "      <td>0</td>\n",
              "      <td>0</td>\n",
              "      <td>0</td>\n",
              "      <td>0</td>\n",
              "      <td>0</td>\n",
              "      <td>1</td>\n",
              "      <td>0</td>\n",
              "      <td>0</td>\n",
              "      <td>0</td>\n",
              "      <td>0</td>\n",
              "      <td>0</td>\n",
              "      <td>0</td>\n",
              "      <td>0</td>\n",
              "      <td>0</td>\n",
              "      <td>0</td>\n",
              "      <td>0</td>\n",
              "      <td>0</td>\n",
              "      <td>0</td>\n",
              "      <td>0</td>\n",
              "      <td>0</td>\n",
              "      <td>0</td>\n",
              "      <td>0</td>\n",
              "      <td>0</td>\n",
              "      <td>0</td>\n",
              "      <td>0</td>\n",
              "      <td>0</td>\n",
              "      <td>0</td>\n",
              "      <td>0</td>\n",
              "      <td>0</td>\n",
              "      <td>0</td>\n",
              "      <td>0</td>\n",
              "      <td>0</td>\n",
              "      <td>0</td>\n",
              "      <td>0</td>\n",
              "      <td>0</td>\n",
              "      <td>0</td>\n",
              "      <td>0</td>\n",
              "    </tr>\n",
              "    <tr>\n",
              "      <th>2</th>\n",
              "      <td>3</td>\n",
              "      <td>35.1</td>\n",
              "      <td>60.1</td>\n",
              "      <td>1.39</td>\n",
              "      <td>1</td>\n",
              "      <td>20</td>\n",
              "      <td>1</td>\n",
              "      <td>0</td>\n",
              "      <td>0</td>\n",
              "      <td>0</td>\n",
              "      <td>0</td>\n",
              "      <td>0</td>\n",
              "      <td>0</td>\n",
              "      <td>0</td>\n",
              "      <td>0</td>\n",
              "      <td>0</td>\n",
              "      <td>0</td>\n",
              "      <td>0</td>\n",
              "      <td>0</td>\n",
              "      <td>0</td>\n",
              "      <td>0</td>\n",
              "      <td>0</td>\n",
              "      <td>0</td>\n",
              "      <td>0</td>\n",
              "      <td>0</td>\n",
              "      <td>0</td>\n",
              "      <td>0</td>\n",
              "      <td>0</td>\n",
              "      <td>0</td>\n",
              "      <td>0</td>\n",
              "      <td>0</td>\n",
              "      <td>0</td>\n",
              "      <td>0</td>\n",
              "      <td>0</td>\n",
              "      <td>0</td>\n",
              "      <td>0</td>\n",
              "      <td>0</td>\n",
              "      <td>0</td>\n",
              "      <td>0</td>\n",
              "      <td>0</td>\n",
              "      <td>...</td>\n",
              "      <td>0</td>\n",
              "      <td>0</td>\n",
              "      <td>0</td>\n",
              "      <td>0</td>\n",
              "      <td>0</td>\n",
              "      <td>0</td>\n",
              "      <td>0</td>\n",
              "      <td>0</td>\n",
              "      <td>0</td>\n",
              "      <td>0</td>\n",
              "      <td>0</td>\n",
              "      <td>0</td>\n",
              "      <td>0</td>\n",
              "      <td>0</td>\n",
              "      <td>0</td>\n",
              "      <td>0</td>\n",
              "      <td>0</td>\n",
              "      <td>0</td>\n",
              "      <td>0</td>\n",
              "      <td>0</td>\n",
              "      <td>0</td>\n",
              "      <td>0</td>\n",
              "      <td>0</td>\n",
              "      <td>0</td>\n",
              "      <td>0</td>\n",
              "      <td>0</td>\n",
              "      <td>0</td>\n",
              "      <td>0</td>\n",
              "      <td>0</td>\n",
              "      <td>0</td>\n",
              "      <td>0</td>\n",
              "      <td>0</td>\n",
              "      <td>0</td>\n",
              "      <td>0</td>\n",
              "      <td>0</td>\n",
              "      <td>0</td>\n",
              "      <td>0</td>\n",
              "      <td>0</td>\n",
              "      <td>0</td>\n",
              "      <td>0</td>\n",
              "    </tr>\n",
              "    <tr>\n",
              "      <th>3</th>\n",
              "      <td>3</td>\n",
              "      <td>35.1</td>\n",
              "      <td>60.1</td>\n",
              "      <td>1.39</td>\n",
              "      <td>1</td>\n",
              "      <td>8</td>\n",
              "      <td>1</td>\n",
              "      <td>0</td>\n",
              "      <td>0</td>\n",
              "      <td>0</td>\n",
              "      <td>0</td>\n",
              "      <td>0</td>\n",
              "      <td>0</td>\n",
              "      <td>0</td>\n",
              "      <td>0</td>\n",
              "      <td>0</td>\n",
              "      <td>0</td>\n",
              "      <td>0</td>\n",
              "      <td>0</td>\n",
              "      <td>0</td>\n",
              "      <td>0</td>\n",
              "      <td>0</td>\n",
              "      <td>0</td>\n",
              "      <td>0</td>\n",
              "      <td>0</td>\n",
              "      <td>0</td>\n",
              "      <td>0</td>\n",
              "      <td>0</td>\n",
              "      <td>0</td>\n",
              "      <td>0</td>\n",
              "      <td>0</td>\n",
              "      <td>0</td>\n",
              "      <td>0</td>\n",
              "      <td>0</td>\n",
              "      <td>0</td>\n",
              "      <td>0</td>\n",
              "      <td>0</td>\n",
              "      <td>0</td>\n",
              "      <td>0</td>\n",
              "      <td>0</td>\n",
              "      <td>...</td>\n",
              "      <td>0</td>\n",
              "      <td>0</td>\n",
              "      <td>0</td>\n",
              "      <td>0</td>\n",
              "      <td>0</td>\n",
              "      <td>0</td>\n",
              "      <td>0</td>\n",
              "      <td>0</td>\n",
              "      <td>0</td>\n",
              "      <td>0</td>\n",
              "      <td>0</td>\n",
              "      <td>0</td>\n",
              "      <td>0</td>\n",
              "      <td>0</td>\n",
              "      <td>0</td>\n",
              "      <td>0</td>\n",
              "      <td>0</td>\n",
              "      <td>0</td>\n",
              "      <td>0</td>\n",
              "      <td>0</td>\n",
              "      <td>0</td>\n",
              "      <td>0</td>\n",
              "      <td>0</td>\n",
              "      <td>0</td>\n",
              "      <td>0</td>\n",
              "      <td>0</td>\n",
              "      <td>0</td>\n",
              "      <td>0</td>\n",
              "      <td>0</td>\n",
              "      <td>0</td>\n",
              "      <td>0</td>\n",
              "      <td>0</td>\n",
              "      <td>0</td>\n",
              "      <td>0</td>\n",
              "      <td>0</td>\n",
              "      <td>0</td>\n",
              "      <td>0</td>\n",
              "      <td>0</td>\n",
              "      <td>0</td>\n",
              "      <td>0</td>\n",
              "    </tr>\n",
              "    <tr>\n",
              "      <th>4</th>\n",
              "      <td>3</td>\n",
              "      <td>35.1</td>\n",
              "      <td>60.1</td>\n",
              "      <td>1.39</td>\n",
              "      <td>1</td>\n",
              "      <td>7</td>\n",
              "      <td>1</td>\n",
              "      <td>0</td>\n",
              "      <td>0</td>\n",
              "      <td>0</td>\n",
              "      <td>0</td>\n",
              "      <td>0</td>\n",
              "      <td>0</td>\n",
              "      <td>0</td>\n",
              "      <td>0</td>\n",
              "      <td>0</td>\n",
              "      <td>0</td>\n",
              "      <td>0</td>\n",
              "      <td>0</td>\n",
              "      <td>0</td>\n",
              "      <td>0</td>\n",
              "      <td>0</td>\n",
              "      <td>0</td>\n",
              "      <td>0</td>\n",
              "      <td>0</td>\n",
              "      <td>0</td>\n",
              "      <td>0</td>\n",
              "      <td>0</td>\n",
              "      <td>0</td>\n",
              "      <td>0</td>\n",
              "      <td>0</td>\n",
              "      <td>0</td>\n",
              "      <td>0</td>\n",
              "      <td>0</td>\n",
              "      <td>0</td>\n",
              "      <td>0</td>\n",
              "      <td>0</td>\n",
              "      <td>0</td>\n",
              "      <td>0</td>\n",
              "      <td>0</td>\n",
              "      <td>...</td>\n",
              "      <td>0</td>\n",
              "      <td>0</td>\n",
              "      <td>0</td>\n",
              "      <td>0</td>\n",
              "      <td>0</td>\n",
              "      <td>0</td>\n",
              "      <td>0</td>\n",
              "      <td>0</td>\n",
              "      <td>0</td>\n",
              "      <td>0</td>\n",
              "      <td>0</td>\n",
              "      <td>0</td>\n",
              "      <td>0</td>\n",
              "      <td>0</td>\n",
              "      <td>0</td>\n",
              "      <td>0</td>\n",
              "      <td>0</td>\n",
              "      <td>0</td>\n",
              "      <td>0</td>\n",
              "      <td>0</td>\n",
              "      <td>0</td>\n",
              "      <td>0</td>\n",
              "      <td>0</td>\n",
              "      <td>0</td>\n",
              "      <td>0</td>\n",
              "      <td>0</td>\n",
              "      <td>0</td>\n",
              "      <td>0</td>\n",
              "      <td>0</td>\n",
              "      <td>0</td>\n",
              "      <td>0</td>\n",
              "      <td>0</td>\n",
              "      <td>0</td>\n",
              "      <td>0</td>\n",
              "      <td>0</td>\n",
              "      <td>0</td>\n",
              "      <td>0</td>\n",
              "      <td>0</td>\n",
              "      <td>0</td>\n",
              "      <td>0</td>\n",
              "    </tr>\n",
              "  </tbody>\n",
              "</table>\n",
              "<p>5 rows × 251 columns</p>\n",
              "</div>"
            ],
            "text/plain": [
              "   dayofweek  mintemp  ...  Yorkville East  Yorkville West\n",
              "0          3     35.1  ...               0               0\n",
              "1          3     35.1  ...               0               0\n",
              "2          3     35.1  ...               0               0\n",
              "3          3     35.1  ...               0               0\n",
              "4          3     35.1  ...               0               0\n",
              "\n",
              "[5 rows x 251 columns]"
            ]
          },
          "metadata": {
            "tags": []
          },
          "execution_count": 169
        }
      ]
    },
    {
      "cell_type": "code",
      "metadata": {
        "id": "vHeQ7PL1Y2mU",
        "colab_type": "code",
        "colab": {}
      },
      "source": [
        "train=train.drop('label', axis=1)"
      ],
      "execution_count": 0,
      "outputs": []
    },
    {
      "cell_type": "code",
      "metadata": {
        "id": "a_7T6h-6Y_mi",
        "colab_type": "code",
        "colab": {
          "base_uri": "https://localhost:8080/",
          "height": 294
        },
        "outputId": "ac6a70cd-9d35-4b8a-d978-687728726ea6"
      },
      "source": [
        "df.head()"
      ],
      "execution_count": 171,
      "outputs": [
        {
          "output_type": "execute_result",
          "data": {
            "text/html": [
              "<div>\n",
              "<style scoped>\n",
              "    .dataframe tbody tr th:only-of-type {\n",
              "        vertical-align: middle;\n",
              "    }\n",
              "\n",
              "    .dataframe tbody tr th {\n",
              "        vertical-align: top;\n",
              "    }\n",
              "\n",
              "    .dataframe thead th {\n",
              "        text-align: right;\n",
              "    }\n",
              "</style>\n",
              "<table border=\"1\" class=\"dataframe\">\n",
              "  <thead>\n",
              "    <tr style=\"text-align: right;\">\n",
              "      <th></th>\n",
              "      <th>dayofweek</th>\n",
              "      <th>mintemp</th>\n",
              "      <th>maxtemp</th>\n",
              "      <th>rain</th>\n",
              "      <th>label</th>\n",
              "      <th>hour</th>\n",
              "      <th>daynumber</th>\n",
              "      <th>Allerton/Pelham Gardens</th>\n",
              "      <th>Alphabet City</th>\n",
              "      <th>Arden Heights</th>\n",
              "      <th>Arrochar/Fort Wadsworth</th>\n",
              "      <th>Astoria</th>\n",
              "      <th>Astoria Park</th>\n",
              "      <th>Auburndale</th>\n",
              "      <th>Baisley Park</th>\n",
              "      <th>Bath Beach</th>\n",
              "      <th>Battery Park</th>\n",
              "      <th>Battery Park City</th>\n",
              "      <th>Bay Ridge</th>\n",
              "      <th>Bay Terrace/Fort Totten</th>\n",
              "      <th>Bayside</th>\n",
              "      <th>Bedford</th>\n",
              "      <th>Bedford Park</th>\n",
              "      <th>Bellerose</th>\n",
              "      <th>Belmont</th>\n",
              "      <th>Bensonhurst East</th>\n",
              "      <th>Bensonhurst West</th>\n",
              "      <th>Bloomfield/Emerson Hill</th>\n",
              "      <th>Bloomingdale</th>\n",
              "      <th>Boerum Hill</th>\n",
              "      <th>Borough Park</th>\n",
              "      <th>Breezy Point/Fort Tilden/Riis Beach</th>\n",
              "      <th>Briarwood/Jamaica Hills</th>\n",
              "      <th>Brighton Beach</th>\n",
              "      <th>Bronx Park</th>\n",
              "      <th>Bronxdale</th>\n",
              "      <th>Brooklyn Heights</th>\n",
              "      <th>Brooklyn Navy Yard</th>\n",
              "      <th>Brownsville</th>\n",
              "      <th>Bushwick North</th>\n",
              "      <th>...</th>\n",
              "      <th>Steinway</th>\n",
              "      <th>Stuy Town/Peter Cooper Village</th>\n",
              "      <th>Stuyvesant Heights</th>\n",
              "      <th>Sunnyside</th>\n",
              "      <th>Sunset Park East</th>\n",
              "      <th>Sunset Park West</th>\n",
              "      <th>Sutton Place/Turtle Bay North</th>\n",
              "      <th>Times Sq/Theatre District</th>\n",
              "      <th>TriBeCa/Civic Center</th>\n",
              "      <th>Two Bridges/Seward Park</th>\n",
              "      <th>UN/Turtle Bay South</th>\n",
              "      <th>Union Sq</th>\n",
              "      <th>University Heights/Morris Heights</th>\n",
              "      <th>Upper East Side North</th>\n",
              "      <th>Upper East Side South</th>\n",
              "      <th>Upper West Side North</th>\n",
              "      <th>Upper West Side South</th>\n",
              "      <th>Van Cortlandt Park</th>\n",
              "      <th>Van Cortlandt Village</th>\n",
              "      <th>Van Nest/Morris Park</th>\n",
              "      <th>Washington Heights North</th>\n",
              "      <th>Washington Heights South</th>\n",
              "      <th>West Chelsea/Hudson Yards</th>\n",
              "      <th>West Concourse</th>\n",
              "      <th>West Farms/Bronx River</th>\n",
              "      <th>West Village</th>\n",
              "      <th>Westchester Village/Unionport</th>\n",
              "      <th>Westerleigh</th>\n",
              "      <th>Whitestone</th>\n",
              "      <th>Willets Point</th>\n",
              "      <th>Williamsbridge/Olinville</th>\n",
              "      <th>Williamsburg (North Side)</th>\n",
              "      <th>Williamsburg (South Side)</th>\n",
              "      <th>Windsor Terrace</th>\n",
              "      <th>Woodhaven</th>\n",
              "      <th>Woodlawn/Wakefield</th>\n",
              "      <th>Woodside</th>\n",
              "      <th>World Trade Center</th>\n",
              "      <th>Yorkville East</th>\n",
              "      <th>Yorkville West</th>\n",
              "    </tr>\n",
              "  </thead>\n",
              "  <tbody>\n",
              "    <tr>\n",
              "      <th>0</th>\n",
              "      <td>3</td>\n",
              "      <td>35.1</td>\n",
              "      <td>60.1</td>\n",
              "      <td>1.39</td>\n",
              "      <td>2</td>\n",
              "      <td>11</td>\n",
              "      <td>1</td>\n",
              "      <td>0</td>\n",
              "      <td>0</td>\n",
              "      <td>0</td>\n",
              "      <td>0</td>\n",
              "      <td>0</td>\n",
              "      <td>0</td>\n",
              "      <td>0</td>\n",
              "      <td>0</td>\n",
              "      <td>0</td>\n",
              "      <td>0</td>\n",
              "      <td>0</td>\n",
              "      <td>0</td>\n",
              "      <td>0</td>\n",
              "      <td>0</td>\n",
              "      <td>0</td>\n",
              "      <td>0</td>\n",
              "      <td>0</td>\n",
              "      <td>0</td>\n",
              "      <td>0</td>\n",
              "      <td>0</td>\n",
              "      <td>0</td>\n",
              "      <td>0</td>\n",
              "      <td>0</td>\n",
              "      <td>0</td>\n",
              "      <td>0</td>\n",
              "      <td>0</td>\n",
              "      <td>0</td>\n",
              "      <td>0</td>\n",
              "      <td>0</td>\n",
              "      <td>0</td>\n",
              "      <td>0</td>\n",
              "      <td>0</td>\n",
              "      <td>0</td>\n",
              "      <td>...</td>\n",
              "      <td>0</td>\n",
              "      <td>0</td>\n",
              "      <td>0</td>\n",
              "      <td>0</td>\n",
              "      <td>0</td>\n",
              "      <td>0</td>\n",
              "      <td>0</td>\n",
              "      <td>0</td>\n",
              "      <td>0</td>\n",
              "      <td>0</td>\n",
              "      <td>0</td>\n",
              "      <td>0</td>\n",
              "      <td>0</td>\n",
              "      <td>0</td>\n",
              "      <td>0</td>\n",
              "      <td>0</td>\n",
              "      <td>0</td>\n",
              "      <td>0</td>\n",
              "      <td>0</td>\n",
              "      <td>0</td>\n",
              "      <td>0</td>\n",
              "      <td>0</td>\n",
              "      <td>0</td>\n",
              "      <td>0</td>\n",
              "      <td>0</td>\n",
              "      <td>0</td>\n",
              "      <td>0</td>\n",
              "      <td>0</td>\n",
              "      <td>0</td>\n",
              "      <td>0</td>\n",
              "      <td>0</td>\n",
              "      <td>0</td>\n",
              "      <td>0</td>\n",
              "      <td>0</td>\n",
              "      <td>0</td>\n",
              "      <td>0</td>\n",
              "      <td>0</td>\n",
              "      <td>0</td>\n",
              "      <td>0</td>\n",
              "      <td>0</td>\n",
              "    </tr>\n",
              "    <tr>\n",
              "      <th>1</th>\n",
              "      <td>3</td>\n",
              "      <td>35.1</td>\n",
              "      <td>60.1</td>\n",
              "      <td>1.39</td>\n",
              "      <td>1</td>\n",
              "      <td>19</td>\n",
              "      <td>1</td>\n",
              "      <td>0</td>\n",
              "      <td>0</td>\n",
              "      <td>0</td>\n",
              "      <td>0</td>\n",
              "      <td>0</td>\n",
              "      <td>0</td>\n",
              "      <td>0</td>\n",
              "      <td>0</td>\n",
              "      <td>0</td>\n",
              "      <td>0</td>\n",
              "      <td>0</td>\n",
              "      <td>0</td>\n",
              "      <td>0</td>\n",
              "      <td>0</td>\n",
              "      <td>0</td>\n",
              "      <td>0</td>\n",
              "      <td>0</td>\n",
              "      <td>0</td>\n",
              "      <td>0</td>\n",
              "      <td>0</td>\n",
              "      <td>0</td>\n",
              "      <td>0</td>\n",
              "      <td>0</td>\n",
              "      <td>0</td>\n",
              "      <td>0</td>\n",
              "      <td>0</td>\n",
              "      <td>0</td>\n",
              "      <td>0</td>\n",
              "      <td>0</td>\n",
              "      <td>0</td>\n",
              "      <td>0</td>\n",
              "      <td>0</td>\n",
              "      <td>0</td>\n",
              "      <td>...</td>\n",
              "      <td>0</td>\n",
              "      <td>0</td>\n",
              "      <td>0</td>\n",
              "      <td>0</td>\n",
              "      <td>0</td>\n",
              "      <td>0</td>\n",
              "      <td>0</td>\n",
              "      <td>0</td>\n",
              "      <td>1</td>\n",
              "      <td>0</td>\n",
              "      <td>0</td>\n",
              "      <td>0</td>\n",
              "      <td>0</td>\n",
              "      <td>0</td>\n",
              "      <td>0</td>\n",
              "      <td>0</td>\n",
              "      <td>0</td>\n",
              "      <td>0</td>\n",
              "      <td>0</td>\n",
              "      <td>0</td>\n",
              "      <td>0</td>\n",
              "      <td>0</td>\n",
              "      <td>0</td>\n",
              "      <td>0</td>\n",
              "      <td>0</td>\n",
              "      <td>0</td>\n",
              "      <td>0</td>\n",
              "      <td>0</td>\n",
              "      <td>0</td>\n",
              "      <td>0</td>\n",
              "      <td>0</td>\n",
              "      <td>0</td>\n",
              "      <td>0</td>\n",
              "      <td>0</td>\n",
              "      <td>0</td>\n",
              "      <td>0</td>\n",
              "      <td>0</td>\n",
              "      <td>0</td>\n",
              "      <td>0</td>\n",
              "      <td>0</td>\n",
              "    </tr>\n",
              "    <tr>\n",
              "      <th>2</th>\n",
              "      <td>3</td>\n",
              "      <td>35.1</td>\n",
              "      <td>60.1</td>\n",
              "      <td>1.39</td>\n",
              "      <td>1</td>\n",
              "      <td>20</td>\n",
              "      <td>1</td>\n",
              "      <td>0</td>\n",
              "      <td>0</td>\n",
              "      <td>0</td>\n",
              "      <td>0</td>\n",
              "      <td>0</td>\n",
              "      <td>0</td>\n",
              "      <td>0</td>\n",
              "      <td>0</td>\n",
              "      <td>0</td>\n",
              "      <td>0</td>\n",
              "      <td>0</td>\n",
              "      <td>0</td>\n",
              "      <td>0</td>\n",
              "      <td>0</td>\n",
              "      <td>0</td>\n",
              "      <td>0</td>\n",
              "      <td>0</td>\n",
              "      <td>0</td>\n",
              "      <td>0</td>\n",
              "      <td>0</td>\n",
              "      <td>0</td>\n",
              "      <td>0</td>\n",
              "      <td>0</td>\n",
              "      <td>0</td>\n",
              "      <td>0</td>\n",
              "      <td>0</td>\n",
              "      <td>0</td>\n",
              "      <td>0</td>\n",
              "      <td>0</td>\n",
              "      <td>0</td>\n",
              "      <td>0</td>\n",
              "      <td>0</td>\n",
              "      <td>0</td>\n",
              "      <td>...</td>\n",
              "      <td>0</td>\n",
              "      <td>0</td>\n",
              "      <td>0</td>\n",
              "      <td>0</td>\n",
              "      <td>0</td>\n",
              "      <td>0</td>\n",
              "      <td>0</td>\n",
              "      <td>0</td>\n",
              "      <td>0</td>\n",
              "      <td>0</td>\n",
              "      <td>0</td>\n",
              "      <td>0</td>\n",
              "      <td>0</td>\n",
              "      <td>0</td>\n",
              "      <td>0</td>\n",
              "      <td>0</td>\n",
              "      <td>0</td>\n",
              "      <td>0</td>\n",
              "      <td>0</td>\n",
              "      <td>0</td>\n",
              "      <td>0</td>\n",
              "      <td>0</td>\n",
              "      <td>0</td>\n",
              "      <td>0</td>\n",
              "      <td>0</td>\n",
              "      <td>0</td>\n",
              "      <td>0</td>\n",
              "      <td>0</td>\n",
              "      <td>0</td>\n",
              "      <td>0</td>\n",
              "      <td>0</td>\n",
              "      <td>0</td>\n",
              "      <td>0</td>\n",
              "      <td>0</td>\n",
              "      <td>0</td>\n",
              "      <td>0</td>\n",
              "      <td>0</td>\n",
              "      <td>0</td>\n",
              "      <td>0</td>\n",
              "      <td>0</td>\n",
              "    </tr>\n",
              "    <tr>\n",
              "      <th>3</th>\n",
              "      <td>3</td>\n",
              "      <td>35.1</td>\n",
              "      <td>60.1</td>\n",
              "      <td>1.39</td>\n",
              "      <td>1</td>\n",
              "      <td>8</td>\n",
              "      <td>1</td>\n",
              "      <td>0</td>\n",
              "      <td>0</td>\n",
              "      <td>0</td>\n",
              "      <td>0</td>\n",
              "      <td>0</td>\n",
              "      <td>0</td>\n",
              "      <td>0</td>\n",
              "      <td>0</td>\n",
              "      <td>0</td>\n",
              "      <td>0</td>\n",
              "      <td>0</td>\n",
              "      <td>0</td>\n",
              "      <td>0</td>\n",
              "      <td>0</td>\n",
              "      <td>0</td>\n",
              "      <td>0</td>\n",
              "      <td>0</td>\n",
              "      <td>0</td>\n",
              "      <td>0</td>\n",
              "      <td>0</td>\n",
              "      <td>0</td>\n",
              "      <td>0</td>\n",
              "      <td>0</td>\n",
              "      <td>0</td>\n",
              "      <td>0</td>\n",
              "      <td>0</td>\n",
              "      <td>0</td>\n",
              "      <td>0</td>\n",
              "      <td>0</td>\n",
              "      <td>0</td>\n",
              "      <td>0</td>\n",
              "      <td>0</td>\n",
              "      <td>0</td>\n",
              "      <td>...</td>\n",
              "      <td>0</td>\n",
              "      <td>0</td>\n",
              "      <td>0</td>\n",
              "      <td>0</td>\n",
              "      <td>0</td>\n",
              "      <td>0</td>\n",
              "      <td>0</td>\n",
              "      <td>0</td>\n",
              "      <td>0</td>\n",
              "      <td>0</td>\n",
              "      <td>0</td>\n",
              "      <td>0</td>\n",
              "      <td>0</td>\n",
              "      <td>0</td>\n",
              "      <td>0</td>\n",
              "      <td>0</td>\n",
              "      <td>0</td>\n",
              "      <td>0</td>\n",
              "      <td>0</td>\n",
              "      <td>0</td>\n",
              "      <td>0</td>\n",
              "      <td>0</td>\n",
              "      <td>0</td>\n",
              "      <td>0</td>\n",
              "      <td>0</td>\n",
              "      <td>0</td>\n",
              "      <td>0</td>\n",
              "      <td>0</td>\n",
              "      <td>0</td>\n",
              "      <td>0</td>\n",
              "      <td>0</td>\n",
              "      <td>0</td>\n",
              "      <td>0</td>\n",
              "      <td>0</td>\n",
              "      <td>0</td>\n",
              "      <td>0</td>\n",
              "      <td>0</td>\n",
              "      <td>0</td>\n",
              "      <td>0</td>\n",
              "      <td>0</td>\n",
              "    </tr>\n",
              "    <tr>\n",
              "      <th>4</th>\n",
              "      <td>3</td>\n",
              "      <td>35.1</td>\n",
              "      <td>60.1</td>\n",
              "      <td>1.39</td>\n",
              "      <td>1</td>\n",
              "      <td>7</td>\n",
              "      <td>1</td>\n",
              "      <td>0</td>\n",
              "      <td>0</td>\n",
              "      <td>0</td>\n",
              "      <td>0</td>\n",
              "      <td>0</td>\n",
              "      <td>0</td>\n",
              "      <td>0</td>\n",
              "      <td>0</td>\n",
              "      <td>0</td>\n",
              "      <td>0</td>\n",
              "      <td>0</td>\n",
              "      <td>0</td>\n",
              "      <td>0</td>\n",
              "      <td>0</td>\n",
              "      <td>0</td>\n",
              "      <td>0</td>\n",
              "      <td>0</td>\n",
              "      <td>0</td>\n",
              "      <td>0</td>\n",
              "      <td>0</td>\n",
              "      <td>0</td>\n",
              "      <td>0</td>\n",
              "      <td>0</td>\n",
              "      <td>0</td>\n",
              "      <td>0</td>\n",
              "      <td>0</td>\n",
              "      <td>0</td>\n",
              "      <td>0</td>\n",
              "      <td>0</td>\n",
              "      <td>0</td>\n",
              "      <td>0</td>\n",
              "      <td>0</td>\n",
              "      <td>0</td>\n",
              "      <td>...</td>\n",
              "      <td>0</td>\n",
              "      <td>0</td>\n",
              "      <td>0</td>\n",
              "      <td>0</td>\n",
              "      <td>0</td>\n",
              "      <td>0</td>\n",
              "      <td>0</td>\n",
              "      <td>0</td>\n",
              "      <td>0</td>\n",
              "      <td>0</td>\n",
              "      <td>0</td>\n",
              "      <td>0</td>\n",
              "      <td>0</td>\n",
              "      <td>0</td>\n",
              "      <td>0</td>\n",
              "      <td>0</td>\n",
              "      <td>0</td>\n",
              "      <td>0</td>\n",
              "      <td>0</td>\n",
              "      <td>0</td>\n",
              "      <td>0</td>\n",
              "      <td>0</td>\n",
              "      <td>0</td>\n",
              "      <td>0</td>\n",
              "      <td>0</td>\n",
              "      <td>0</td>\n",
              "      <td>0</td>\n",
              "      <td>0</td>\n",
              "      <td>0</td>\n",
              "      <td>0</td>\n",
              "      <td>0</td>\n",
              "      <td>0</td>\n",
              "      <td>0</td>\n",
              "      <td>0</td>\n",
              "      <td>0</td>\n",
              "      <td>0</td>\n",
              "      <td>0</td>\n",
              "      <td>0</td>\n",
              "      <td>0</td>\n",
              "      <td>0</td>\n",
              "    </tr>\n",
              "  </tbody>\n",
              "</table>\n",
              "<p>5 rows × 251 columns</p>\n",
              "</div>"
            ],
            "text/plain": [
              "   dayofweek  mintemp  ...  Yorkville East  Yorkville West\n",
              "0          3     35.1  ...               0               0\n",
              "1          3     35.1  ...               0               0\n",
              "2          3     35.1  ...               0               0\n",
              "3          3     35.1  ...               0               0\n",
              "4          3     35.1  ...               0               0\n",
              "\n",
              "[5 rows x 251 columns]"
            ]
          },
          "metadata": {
            "tags": []
          },
          "execution_count": 171
        }
      ]
    },
    {
      "cell_type": "code",
      "metadata": {
        "id": "uRSz41-ZZbqo",
        "colab_type": "code",
        "colab": {}
      },
      "source": [
        "y=df['label']\n",
        "X=train"
      ],
      "execution_count": 0,
      "outputs": []
    },
    {
      "cell_type": "code",
      "metadata": {
        "id": "B1t0o8K6f2cB",
        "colab_type": "code",
        "colab": {}
      },
      "source": [
        "close_price=df.filter([\"label\"])"
      ],
      "execution_count": 0,
      "outputs": []
    },
    {
      "cell_type": "code",
      "metadata": {
        "id": "xaY152yuccDu",
        "colab_type": "code",
        "colab": {
          "base_uri": "https://localhost:8080/",
          "height": 70
        },
        "outputId": "da471989-c7ce-4f3b-ffc3-8218b7bb9385"
      },
      "source": [
        "from sklearn.preprocessing import MinMaxScaler\n",
        "scaler=MinMaxScaler(feature_range=(0,1))\n",
        "scaled_values=scaler.fit_transform(close_price)"
      ],
      "execution_count": 96,
      "outputs": [
        {
          "output_type": "stream",
          "text": [
            "/usr/local/lib/python2.7/dist-packages/sklearn/preprocessing/data.py:334: DataConversionWarning: Data with input dtype int64 were all converted to float64 by MinMaxScaler.\n",
            "  return self.partial_fit(X, y)\n"
          ],
          "name": "stderr"
        }
      ]
    },
    {
      "cell_type": "code",
      "metadata": {
        "id": "adJDungXikQh",
        "colab_type": "code",
        "colab": {
          "base_uri": "https://localhost:8080/",
          "height": 34
        },
        "outputId": "a265661b-6092-4402-d730-777ac28dcf80"
      },
      "source": [
        "y.shape"
      ],
      "execution_count": 145,
      "outputs": [
        {
          "output_type": "execute_result",
          "data": {
            "text/plain": [
              "(10000,)"
            ]
          },
          "metadata": {
            "tags": []
          },
          "execution_count": 145
        }
      ]
    },
    {
      "cell_type": "code",
      "metadata": {
        "id": "o0IZK9Jqf8si",
        "colab_type": "code",
        "colab": {
          "base_uri": "https://localhost:8080/",
          "height": 34
        },
        "outputId": "aa5642ef-05e3-481a-d1f6-dd57992a0352"
      },
      "source": [
        "np.reshape(a, (2, 3))"
      ],
      "execution_count": 110,
      "outputs": [
        {
          "output_type": "execute_result",
          "data": {
            "text/plain": [
              "10000"
            ]
          },
          "metadata": {
            "tags": []
          },
          "execution_count": 110
        }
      ]
    },
    {
      "cell_type": "code",
      "metadata": {
        "id": "nwDDGOfwiDmy",
        "colab_type": "code",
        "colab": {}
      },
      "source": [
        "from sklearn.preprocessing import RobustScaler\n",
        "rbX = RobustScaler()\n",
        "X1 = rbX.fit_transform(X)\n",
        "\n",
        "rbY = RobustScaler()\n",
        "Y1 = rbY.fit_transform(y)"
      ],
      "execution_count": 0,
      "outputs": []
    },
    {
      "cell_type": "code",
      "metadata": {
        "id": "HqJdpIHYhby0",
        "colab_type": "code",
        "colab": {}
      },
      "source": [
        "b=np.reshape(scaled_values, (len(scaled_values), ))"
      ],
      "execution_count": 0,
      "outputs": []
    },
    {
      "cell_type": "code",
      "metadata": {
        "id": "9ug1ATKxwmwY",
        "colab_type": "code",
        "colab": {}
      },
      "source": [
        "from sklearn.model_selection import train_test_split\n",
        "X_train, X_test, y_train, y_test = train_test_split(X, y, random_state=0)"
      ],
      "execution_count": 0,
      "outputs": []
    },
    {
      "cell_type": "code",
      "metadata": {
        "id": "H3w9R9V0bQ6n",
        "colab_type": "code",
        "colab": {
          "base_uri": "https://localhost:8080/",
          "height": 34
        },
        "outputId": "468b5e34-4895-463c-dafd-3f71670c5fac"
      },
      "source": [
        "y_train.shape"
      ],
      "execution_count": 196,
      "outputs": [
        {
          "output_type": "execute_result",
          "data": {
            "text/plain": [
              "(597656,)"
            ]
          },
          "metadata": {
            "tags": []
          },
          "execution_count": 196
        }
      ]
    },
    {
      "cell_type": "code",
      "metadata": {
        "id": "dsnn34dBedlW",
        "colab_type": "code",
        "colab": {
          "base_uri": "https://localhost:8080/",
          "height": 34
        },
        "outputId": "a505b7e4-b78a-4044-941c-12886ad61ee0"
      },
      "source": [
        "max(y)"
      ],
      "execution_count": 197,
      "outputs": [
        {
          "output_type": "execute_result",
          "data": {
            "text/plain": [
              "45"
            ]
          },
          "metadata": {
            "tags": []
          },
          "execution_count": 197
        }
      ]
    },
    {
      "cell_type": "code",
      "metadata": {
        "id": "Fd_UNnUGdqJ7",
        "colab_type": "code",
        "colab": {
          "base_uri": "https://localhost:8080/",
          "height": 320
        },
        "outputId": "365dba72-4491-494a-cbef-3d26c7b631d4"
      },
      "source": [
        ""
      ],
      "execution_count": 92,
      "outputs": [
        {
          "output_type": "error",
          "ename": "TypeError",
          "evalue": "ignored",
          "traceback": [
            "\u001b[0;31m\u001b[0m",
            "\u001b[0;31mTypeError\u001b[0mTraceback (most recent call last)",
            "\u001b[0;32m<ipython-input-92-a77b2b902b42>\u001b[0m in \u001b[0;36m<module>\u001b[0;34m()\u001b[0m\n\u001b[1;32m      1\u001b[0m \u001b[0;32mfrom\u001b[0m \u001b[0msklearn\u001b[0m \u001b[0;32mimport\u001b[0m \u001b[0mpreprocessing\u001b[0m\u001b[0;34m\u001b[0m\u001b[0m\n\u001b[0;32m----> 2\u001b[0;31m \u001b[0mX_scaled\u001b[0m \u001b[0;34m=\u001b[0m \u001b[0mpreprocessing\u001b[0m\u001b[0;34m.\u001b[0m\u001b[0mscale\u001b[0m\u001b[0;34m(\u001b[0m\u001b[0ma1\u001b[0m\u001b[0;34m)\u001b[0m\u001b[0;34m\u001b[0m\u001b[0m\n\u001b[0m",
            "\u001b[0;32m/usr/local/lib/python2.7/dist-packages/sklearn/preprocessing/data.pyc\u001b[0m in \u001b[0;36mscale\u001b[0;34m(X, axis, with_mean, with_std, copy)\u001b[0m\n\u001b[1;32m    147\u001b[0m     X = check_array(X, accept_sparse='csc', copy=copy, ensure_2d=False,\n\u001b[1;32m    148\u001b[0m                     \u001b[0mwarn_on_dtype\u001b[0m\u001b[0;34m=\u001b[0m\u001b[0mTrue\u001b[0m\u001b[0;34m,\u001b[0m \u001b[0mestimator\u001b[0m\u001b[0;34m=\u001b[0m\u001b[0;34m'the scale function'\u001b[0m\u001b[0;34m,\u001b[0m\u001b[0;34m\u001b[0m\u001b[0m\n\u001b[0;32m--> 149\u001b[0;31m                     dtype=FLOAT_DTYPES, force_all_finite='allow-nan')\n\u001b[0m\u001b[1;32m    150\u001b[0m     \u001b[0;32mif\u001b[0m \u001b[0msparse\u001b[0m\u001b[0;34m.\u001b[0m\u001b[0missparse\u001b[0m\u001b[0;34m(\u001b[0m\u001b[0mX\u001b[0m\u001b[0;34m)\u001b[0m\u001b[0;34m:\u001b[0m\u001b[0;34m\u001b[0m\u001b[0m\n\u001b[1;32m    151\u001b[0m         \u001b[0;32mif\u001b[0m \u001b[0mwith_mean\u001b[0m\u001b[0;34m:\u001b[0m\u001b[0;34m\u001b[0m\u001b[0m\n",
            "\u001b[0;32m/usr/local/lib/python2.7/dist-packages/sklearn/utils/validation.pyc\u001b[0m in \u001b[0;36mcheck_array\u001b[0;34m(array, accept_sparse, accept_large_sparse, dtype, order, copy, force_all_finite, ensure_2d, allow_nd, ensure_min_samples, ensure_min_features, warn_on_dtype, estimator)\u001b[0m\n\u001b[1;32m    525\u001b[0m             \u001b[0;32mtry\u001b[0m\u001b[0;34m:\u001b[0m\u001b[0;34m\u001b[0m\u001b[0m\n\u001b[1;32m    526\u001b[0m                 \u001b[0mwarnings\u001b[0m\u001b[0;34m.\u001b[0m\u001b[0msimplefilter\u001b[0m\u001b[0;34m(\u001b[0m\u001b[0;34m'error'\u001b[0m\u001b[0;34m,\u001b[0m \u001b[0mComplexWarning\u001b[0m\u001b[0;34m)\u001b[0m\u001b[0;34m\u001b[0m\u001b[0m\n\u001b[0;32m--> 527\u001b[0;31m                 \u001b[0marray\u001b[0m \u001b[0;34m=\u001b[0m \u001b[0mnp\u001b[0m\u001b[0;34m.\u001b[0m\u001b[0masarray\u001b[0m\u001b[0;34m(\u001b[0m\u001b[0marray\u001b[0m\u001b[0;34m,\u001b[0m \u001b[0mdtype\u001b[0m\u001b[0;34m=\u001b[0m\u001b[0mdtype\u001b[0m\u001b[0;34m,\u001b[0m \u001b[0morder\u001b[0m\u001b[0;34m=\u001b[0m\u001b[0morder\u001b[0m\u001b[0;34m)\u001b[0m\u001b[0;34m\u001b[0m\u001b[0m\n\u001b[0m\u001b[1;32m    528\u001b[0m             \u001b[0;32mexcept\u001b[0m \u001b[0mComplexWarning\u001b[0m\u001b[0;34m:\u001b[0m\u001b[0;34m\u001b[0m\u001b[0m\n\u001b[1;32m    529\u001b[0m                 raise ValueError(\"Complex data not supported\\n\"\n",
            "\u001b[0;32m/usr/local/lib/python2.7/dist-packages/numpy/core/numeric.pyc\u001b[0m in \u001b[0;36masarray\u001b[0;34m(a, dtype, order)\u001b[0m\n\u001b[1;32m    536\u001b[0m \u001b[0;34m\u001b[0m\u001b[0m\n\u001b[1;32m    537\u001b[0m     \"\"\"\n\u001b[0;32m--> 538\u001b[0;31m     \u001b[0;32mreturn\u001b[0m \u001b[0marray\u001b[0m\u001b[0;34m(\u001b[0m\u001b[0ma\u001b[0m\u001b[0;34m,\u001b[0m \u001b[0mdtype\u001b[0m\u001b[0;34m,\u001b[0m \u001b[0mcopy\u001b[0m\u001b[0;34m=\u001b[0m\u001b[0mFalse\u001b[0m\u001b[0;34m,\u001b[0m \u001b[0morder\u001b[0m\u001b[0;34m=\u001b[0m\u001b[0morder\u001b[0m\u001b[0;34m)\u001b[0m\u001b[0;34m\u001b[0m\u001b[0m\n\u001b[0m\u001b[1;32m    539\u001b[0m \u001b[0;34m\u001b[0m\u001b[0m\n\u001b[1;32m    540\u001b[0m \u001b[0;34m\u001b[0m\u001b[0m\n",
            "\u001b[0;31mTypeError\u001b[0m: float() argument must be a string or a number"
          ]
        }
      ]
    },
    {
      "cell_type": "code",
      "metadata": {
        "id": "_JSYk2u2ZqZH",
        "colab_type": "code",
        "colab": {}
      },
      "source": [
        "from sklearn.linear_model import LogisticRegression\n",
        "import xgboost as xgb\n",
        "from sklearn.metrics import accuracy_score"
      ],
      "execution_count": 0,
      "outputs": []
    },
    {
      "cell_type": "code",
      "metadata": {
        "id": "HbQZUnQWacz0",
        "colab_type": "code",
        "colab": {}
      },
      "source": [
        "xgboost = xgb.XGBClassifier(max_depth=3, n_estimators=300, learning_rate=0.05).fit(X_train, y_train)"
      ],
      "execution_count": 0,
      "outputs": []
    },
    {
      "cell_type": "code",
      "metadata": {
        "id": "VK3bmdMAboO9",
        "colab_type": "code",
        "colab": {}
      },
      "source": [
        "y_test"
      ],
      "execution_count": 0,
      "outputs": []
    },
    {
      "cell_type": "code",
      "metadata": {
        "id": "Bx2zzCFEaiCx",
        "colab_type": "code",
        "colab": {}
      },
      "source": [
        "xgb_prediction = xgboost.predict(X_test)\n"
      ],
      "execution_count": 0,
      "outputs": []
    },
    {
      "cell_type": "code",
      "metadata": {
        "id": "5V6X-hi2xr-o",
        "colab_type": "code",
        "colab": {
          "base_uri": "https://localhost:8080/",
          "height": 34
        },
        "outputId": "295100b0-3867-48b0-89f4-22d312db8244"
      },
      "source": [
        "\n",
        "max(xgb_prediction)"
      ],
      "execution_count": 179,
      "outputs": [
        {
          "output_type": "execute_result",
          "data": {
            "text/plain": [
              "3"
            ]
          },
          "metadata": {
            "tags": []
          },
          "execution_count": 179
        }
      ]
    },
    {
      "cell_type": "code",
      "metadata": {
        "id": "TxCUwUabamLb",
        "colab_type": "code",
        "colab": {
          "base_uri": "https://localhost:8080/",
          "height": 84
        },
        "outputId": "8b6b7205-61f7-46bd-f97a-bdca56fa3841"
      },
      "source": [
        "logreg = LogisticRegression()\n",
        "logreg.fit(X_train, y_train)"
      ],
      "execution_count": 206,
      "outputs": [
        {
          "output_type": "execute_result",
          "data": {
            "text/plain": [
              "LogisticRegression(C=1.0, class_weight=None, dual=False, fit_intercept=True,\n",
              "          intercept_scaling=1, max_iter=100, multi_class='warn',\n",
              "          n_jobs=None, penalty='l2', random_state=None, solver='warn',\n",
              "          tol=0.0001, verbose=0, warm_start=False)"
            ]
          },
          "metadata": {
            "tags": []
          },
          "execution_count": 206
        }
      ]
    },
    {
      "cell_type": "code",
      "metadata": {
        "id": "gKz7TOaoC_2v",
        "colab_type": "code",
        "colab": {}
      },
      "source": [
        "import pickle\n",
        "\n",
        "\n",
        "pkl_filename = \"/content/drive/My Drive/Data Science/pickle_model.pkl\"\n",
        "with open(pkl_filename, 'wb') as file:\n",
        "    pickle.dump(logreg, file)"
      ],
      "execution_count": 0,
      "outputs": []
    },
    {
      "cell_type": "code",
      "metadata": {
        "id": "_aZbp-HiEBtv",
        "colab_type": "code",
        "colab": {}
      },
      "source": [
        "with open(pkl_filename, 'rb') as file:\n",
        "    pickle_model = pickle.load(file)\n",
        "    \n"
      ],
      "execution_count": 0,
      "outputs": []
    },
    {
      "cell_type": "code",
      "metadata": {
        "id": "pxlczTiVEJGA",
        "colab_type": "code",
        "colab": {}
      },
      "source": [
        "a=X_test.iloc[0]"
      ],
      "execution_count": 0,
      "outputs": []
    },
    {
      "cell_type": "code",
      "metadata": {
        "id": "IHle0h5gFdp_",
        "colab_type": "code",
        "colab": {
          "base_uri": "https://localhost:8080/",
          "height": 34
        },
        "outputId": "48c44382-7c98-4c59-f31e-6d3ee1e0842e"
      },
      "source": [
        "type(a)"
      ],
      "execution_count": 221,
      "outputs": [
        {
          "output_type": "execute_result",
          "data": {
            "text/plain": [
              "pandas.core.series.Series"
            ]
          },
          "metadata": {
            "tags": []
          },
          "execution_count": 221
        }
      ]
    },
    {
      "cell_type": "code",
      "metadata": {
        "id": "vM_uF6icFxeB",
        "colab_type": "code",
        "colab": {}
      },
      "source": [
        "a=a.to_numpy()"
      ],
      "execution_count": 0,
      "outputs": []
    },
    {
      "cell_type": "code",
      "metadata": {
        "id": "aGV2r0z_HBFM",
        "colab_type": "code",
        "colab": {
          "base_uri": "https://localhost:8080/",
          "height": 34
        },
        "outputId": "876a6648-2aa4-477b-925c-213e13c4b378"
      },
      "source": [
        "a.shape"
      ],
      "execution_count": 236,
      "outputs": [
        {
          "output_type": "execute_result",
          "data": {
            "text/plain": [
              "(264,)"
            ]
          },
          "metadata": {
            "tags": []
          },
          "execution_count": 236
        }
      ]
    },
    {
      "cell_type": "code",
      "metadata": {
        "id": "B9RTW2VUF_i_",
        "colab_type": "code",
        "colab": {}
      },
      "source": [
        "a = a.reshape((1, 264))"
      ],
      "execution_count": 0,
      "outputs": []
    },
    {
      "cell_type": "code",
      "metadata": {
        "id": "AqxLnhBzGS6Q",
        "colab_type": "code",
        "colab": {
          "base_uri": "https://localhost:8080/",
          "height": 34
        },
        "outputId": "baca6016-1057-4f68-9e28-e6d4d9ec0ad9"
      },
      "source": [
        "a.shape"
      ],
      "execution_count": 239,
      "outputs": [
        {
          "output_type": "execute_result",
          "data": {
            "text/plain": [
              "(1, 264)"
            ]
          },
          "metadata": {
            "tags": []
          },
          "execution_count": 239
        }
      ]
    },
    {
      "cell_type": "code",
      "metadata": {
        "id": "uTvSr-p_HI-2",
        "colab_type": "code",
        "colab": {
          "base_uri": "https://localhost:8080/",
          "height": 146
        },
        "outputId": "079eaa9f-3ce2-44da-81e8-74d47a78e184"
      },
      "source": [
        "b=X_test.iloc[:0]\n",
        "b"
      ],
      "execution_count": 258,
      "outputs": [
        {
          "output_type": "execute_result",
          "data": {
            "text/html": [
              "<div>\n",
              "<style scoped>\n",
              "    .dataframe tbody tr th:only-of-type {\n",
              "        vertical-align: middle;\n",
              "    }\n",
              "\n",
              "    .dataframe tbody tr th {\n",
              "        vertical-align: top;\n",
              "    }\n",
              "\n",
              "    .dataframe thead th {\n",
              "        text-align: right;\n",
              "    }\n",
              "</style>\n",
              "<table border=\"1\" class=\"dataframe\">\n",
              "  <thead>\n",
              "    <tr style=\"text-align: right;\">\n",
              "      <th></th>\n",
              "      <th>dayofweek</th>\n",
              "      <th>mintemp</th>\n",
              "      <th>maxtemp</th>\n",
              "      <th>rain</th>\n",
              "      <th>hour</th>\n",
              "      <th>daynumber</th>\n",
              "      <th>Allerton/Pelham Gardens</th>\n",
              "      <th>Alphabet City</th>\n",
              "      <th>Arden Heights</th>\n",
              "      <th>Arrochar/Fort Wadsworth</th>\n",
              "      <th>Astoria</th>\n",
              "      <th>Astoria Park</th>\n",
              "      <th>Auburndale</th>\n",
              "      <th>Baisley Park</th>\n",
              "      <th>Bath Beach</th>\n",
              "      <th>Battery Park</th>\n",
              "      <th>Battery Park City</th>\n",
              "      <th>Bay Ridge</th>\n",
              "      <th>Bay Terrace/Fort Totten</th>\n",
              "      <th>Bayside</th>\n",
              "      <th>Bedford</th>\n",
              "      <th>Bedford Park</th>\n",
              "      <th>Bellerose</th>\n",
              "      <th>Belmont</th>\n",
              "      <th>Bensonhurst East</th>\n",
              "      <th>Bensonhurst West</th>\n",
              "      <th>Bloomfield/Emerson Hill</th>\n",
              "      <th>Bloomingdale</th>\n",
              "      <th>Boerum Hill</th>\n",
              "      <th>Borough Park</th>\n",
              "      <th>Breezy Point/Fort Tilden/Riis Beach</th>\n",
              "      <th>Briarwood/Jamaica Hills</th>\n",
              "      <th>Brighton Beach</th>\n",
              "      <th>Broad Channel</th>\n",
              "      <th>Bronx Park</th>\n",
              "      <th>Bronxdale</th>\n",
              "      <th>Brooklyn Heights</th>\n",
              "      <th>Brooklyn Navy Yard</th>\n",
              "      <th>Brownsville</th>\n",
              "      <th>Bushwick North</th>\n",
              "      <th>...</th>\n",
              "      <th>Stuy Town/Peter Cooper Village</th>\n",
              "      <th>Stuyvesant Heights</th>\n",
              "      <th>Sunnyside</th>\n",
              "      <th>Sunset Park East</th>\n",
              "      <th>Sunset Park West</th>\n",
              "      <th>Sutton Place/Turtle Bay North</th>\n",
              "      <th>Times Sq/Theatre District</th>\n",
              "      <th>TriBeCa/Civic Center</th>\n",
              "      <th>Two Bridges/Seward Park</th>\n",
              "      <th>UN/Turtle Bay South</th>\n",
              "      <th>Union Sq</th>\n",
              "      <th>University Heights/Morris Heights</th>\n",
              "      <th>Upper East Side North</th>\n",
              "      <th>Upper East Side South</th>\n",
              "      <th>Upper West Side North</th>\n",
              "      <th>Upper West Side South</th>\n",
              "      <th>Van Cortlandt Park</th>\n",
              "      <th>Van Cortlandt Village</th>\n",
              "      <th>Van Nest/Morris Park</th>\n",
              "      <th>Washington Heights North</th>\n",
              "      <th>Washington Heights South</th>\n",
              "      <th>West Brighton</th>\n",
              "      <th>West Chelsea/Hudson Yards</th>\n",
              "      <th>West Concourse</th>\n",
              "      <th>West Farms/Bronx River</th>\n",
              "      <th>West Village</th>\n",
              "      <th>Westchester Village/Unionport</th>\n",
              "      <th>Westerleigh</th>\n",
              "      <th>Whitestone</th>\n",
              "      <th>Willets Point</th>\n",
              "      <th>Williamsbridge/Olinville</th>\n",
              "      <th>Williamsburg (North Side)</th>\n",
              "      <th>Williamsburg (South Side)</th>\n",
              "      <th>Windsor Terrace</th>\n",
              "      <th>Woodhaven</th>\n",
              "      <th>Woodlawn/Wakefield</th>\n",
              "      <th>Woodside</th>\n",
              "      <th>World Trade Center</th>\n",
              "      <th>Yorkville East</th>\n",
              "      <th>Yorkville West</th>\n",
              "    </tr>\n",
              "  </thead>\n",
              "  <tbody>\n",
              "  </tbody>\n",
              "</table>\n",
              "<p>0 rows × 264 columns</p>\n",
              "</div>"
            ],
            "text/plain": [
              "Empty DataFrame\n",
              "Columns: [dayofweek, mintemp, maxtemp, rain, hour, daynumber, Allerton/Pelham Gardens, Alphabet City, Arden Heights, Arrochar/Fort Wadsworth, Astoria, Astoria Park, Auburndale, Baisley Park, Bath Beach, Battery Park, Battery Park City, Bay Ridge, Bay Terrace/Fort Totten, Bayside, Bedford, Bedford Park, Bellerose, Belmont, Bensonhurst East, Bensonhurst West, Bloomfield/Emerson Hill, Bloomingdale, Boerum Hill, Borough Park, Breezy Point/Fort Tilden/Riis Beach, Briarwood/Jamaica Hills, Brighton Beach, Broad Channel, Bronx Park, Bronxdale, Brooklyn Heights, Brooklyn Navy Yard, Brownsville, Bushwick North, Bushwick South, Cambria Heights, Canarsie, Carroll Gardens, Central Harlem, Central Harlem North, Central Park, Charleston/Tottenville, Chinatown, City Island, Claremont/Bathgate, Clinton East, Clinton Hill, Clinton West, Co-Op City, Cobble Hill, College Point, Columbia Street, Coney Island, Corona, Country Club, Crotona Park, Crotona Park East, Crown Heights North, Crown Heights South, Cypress Hills, DUMBO/Vinegar Hill, Douglaston, Downtown Brooklyn/MetroTech, Dyker Heights, East Chelsea, East Concourse/Concourse Village, East Elmhurst, East Flatbush/Farragut, East Flatbush/Remsen Village, East Flushing, East Harlem North, East Harlem South, East New York, East New York/Pennsylvania Avenue, East Tremont, East Village, East Williamsburg, Eastchester, Elmhurst, Elmhurst/Maspeth, Eltingville/Annadale/Prince's Bay, Erasmus, Far Rockaway, Financial District North, Financial District South, Flatbush/Ditmas Park, Flatiron, Flatlands, Flushing, Flushing Meadows-Corona Park, Fordham South, Forest Hills, Forest Park/Highland Park, Fort Greene, ...]\n",
              "Index: []\n",
              "\n",
              "[0 rows x 264 columns]"
            ]
          },
          "metadata": {
            "tags": []
          },
          "execution_count": 258
        }
      ]
    },
    {
      "cell_type": "code",
      "metadata": {
        "id": "i-m2JiYzIwZ4",
        "colab_type": "code",
        "colab": {
          "base_uri": "https://localhost:8080/",
          "height": 168
        },
        "outputId": "b8c37c64-1374-4462-ad80-d61ac6f8ef2d"
      },
      "source": [
        "from pandas import DataFrame as df  \n",
        "mydf = df(a).T  \n",
        "b.loc[len(b)] = a  \n",
        "print(b)"
      ],
      "execution_count": 259,
      "outputs": [
        {
          "output_type": "stream",
          "text": [
            "   dayofweek  mintemp  ...  Yorkville East  Yorkville West\n",
            "0        3.0     34.0  ...             0.0             1.0\n",
            "\n",
            "[1 rows x 264 columns]\n"
          ],
          "name": "stdout"
        },
        {
          "output_type": "stream",
          "text": [
            "/usr/local/lib/python2.7/dist-packages/ipykernel_launcher.py:3: SettingWithCopyWarning: \n",
            "A value is trying to be set on a copy of a slice from a DataFrame\n",
            "\n",
            "See the caveats in the documentation: http://pandas.pydata.org/pandas-docs/stable/indexing.html#indexing-view-versus-copy\n",
            "  This is separate from the ipykernel package so we can avoid doing imports until\n"
          ],
          "name": "stderr"
        }
      ]
    },
    {
      "cell_type": "code",
      "metadata": {
        "id": "j596JUQGE03i",
        "colab_type": "code",
        "colab": {
          "base_uri": "https://localhost:8080/",
          "height": 34
        },
        "outputId": "da12f55c-3ba4-437e-d235-c6b13862546e"
      },
      "source": [
        "\n",
        "logreg_prediction = pickle_model.predict(b)\n",
        "print logreg_prediction"
      ],
      "execution_count": 260,
      "outputs": [
        {
          "output_type": "stream",
          "text": [
            "[2]\n"
          ],
          "name": "stdout"
        }
      ]
    },
    {
      "cell_type": "code",
      "metadata": {
        "id": "DWXLCd_yapWj",
        "colab_type": "code",
        "colab": {
          "base_uri": "https://localhost:8080/",
          "height": 34
        },
        "outputId": "0d0b90fc-9e6f-4768-e03b-a05b063b6795"
      },
      "source": [
        "logreg_prediction = pickle_model.predict(X_test)\n",
        "logreg_score=accuracy_score(y_test, logreg_prediction)\n",
        "print(logreg_score)"
      ],
      "execution_count": 210,
      "outputs": [
        {
          "output_type": "stream",
          "text": [
            "0.7318378267133155\n"
          ],
          "name": "stdout"
        }
      ]
    },
    {
      "cell_type": "markdown",
      "metadata": {
        "id": "rg9TOfUi_q3G",
        "colab_type": "text"
      },
      "source": [
        "### Data Exploration"
      ]
    },
    {
      "cell_type": "code",
      "metadata": {
        "id": "OqdO153Y0ZYi",
        "colab_type": "code",
        "outputId": "140c9f85-9e2c-45f9-fb23-9a2e85731aab",
        "colab": {
          "base_uri": "https://localhost:8080/",
          "height": 441
        }
      },
      "source": [
        "import seaborn\n",
        "from  matplotlib import pyplot as plt\n",
        "fg = seaborn.FacetGrid(data=data, hue='dayofweek', height=6,aspect=1.67)\n",
        "fg = fg.map(plt.scatter, 'label', 'maxtemp').add_legend()\n",
        "fg = fg.set_axis_labels(x_var=\"Number of Trips\", y_var=\"Maximum Temperature\")"
      ],
      "execution_count": 0,
      "outputs": [
        {
          "output_type": "display_data",
          "data": {
            "image/png": "[encoded data removed]",
            "text/plain": [
              "<Figure size 783.565x432 with 1 Axes>"
            ]
          },
          "metadata": {
            "tags": []
          }
        }
      ]
    },
    {
      "cell_type": "code",
      "metadata": {
        "id": "v79jdqO2Zqno",
        "colab_type": "code",
        "outputId": "3c2e218f-71c0-435d-8bbd-0e829f5238fc",
        "colab": {
          "base_uri": "https://localhost:8080/",
          "height": 232
        }
      },
      "source": [
        "_ = data.hist(column='label',by='dayofweek', layout=(1,7), figsize=(16,3), sharey=True, sharex=True)"
      ],
      "execution_count": 0,
      "outputs": [
        {
          "output_type": "display_data",
          "data": {
            "image/png": "[encoded data removed]",
            "text/plain": [
              "<Figure size 1152x216 with 7 Axes>"
            ]
          },
          "metadata": {
            "tags": []
          }
        }
      ]
    },
    {
      "cell_type": "code",
      "metadata": {
        "id": "Dc1VNUnVcpVH",
        "colab_type": "code",
        "outputId": "7b794d5e-97f9-4e70-a1e9-85310e579973",
        "colab": {
          "base_uri": "https://localhost:8080/",
          "height": 404
        }
      },
      "source": [
        "df = data[data.dayofweek == '7']\n",
        "x = df.label\n",
        "y = df.maxtemp\n",
        "df.plot(kind=\"scatter\",x=\"label\",y=\"maxtemp\", figsize=[10,6],ylim=0,xlim=0)\n",
        "z = np.polyfit(x, y, 1)\n",
        "p = np.poly1d(z)\n",
        "plt.plot(x,p(x),\"r\")\n",
        "plt.title(\"Saturday Taxi Trips by Maximum Temp.\")\n",
        "plt.show()"
      ],
      "execution_count": 0,
      "outputs": [
        {
          "output_type": "display_data",
          "data": {
            "image/png": "[encoded data removed]",
            "text/plain": [
              "<Figure size 720x432 with 1 Axes>"
            ]
          },
          "metadata": {
            "tags": []
          }
        }
      ]
    },
    {
      "cell_type": "markdown",
      "metadata": {
        "id": "H_jFTiE4_1OO",
        "colab_type": "text"
      },
      "source": [
        "We see that trips made on a Saturday have a strong correlation with the maximum temperature. As the temperature descreases the demand for taxis increases. Our model is likely going to be able to use the predictive power found within this relationship between feature inputs and our target variable."
      ]
    },
    {
      "cell_type": "markdown",
      "metadata": {
        "id": "Eij4o-fDlpd8",
        "colab_type": "text"
      },
      "source": [
        "### Defining Model Parameters"
      ]
    },
    {
      "cell_type": "markdown",
      "metadata": {
        "id": "S2S4NJ9plHrp",
        "colab_type": "text"
      },
      "source": [
        "In order to turn the above SQL into a predictive model, we simply need to `CREATE` the `MODEL` specifiying `linear_reg` or `logistic_reg`. This lets you build models for both regression (continous variable prediction) or classification (discreet variable prediction). Refer to the BQML documentation for more information on options and configuring your predictive model."
      ]
    },
    {
      "cell_type": "code",
      "metadata": {
        "id": "lpPdV_PXMfvU",
        "colab_type": "code",
        "colab": {}
      },
      "source": [
        "query = \"\"\"\n",
        "  CREATE OR REPLACE MODEL {0}.{1} \n",
        "    OPTIONS (\n",
        "      model_type='linear_reg'\n",
        "    ) as {2}\n",
        "\"\"\".format(dataset_name, model_name, taxidemand)"
      ],
      "execution_count": 0,
      "outputs": []
    },
    {
      "cell_type": "markdown",
      "metadata": {
        "id": "XQ_rGCZQN-0c",
        "colab_type": "text"
      },
      "source": [
        "### `CREATE MODEL` using `linear_reg`\n",
        "The `for` loop will kick-off the `query_job` that has the `query` waiting to be processed. Once the job finishes it will continue through the `query_job` iterator until finished. At this point in time, the Google Cloud Python BigQuery API is throwing errors; these will be addressed in the near future."
      ]
    },
    {
      "cell_type": "code",
      "metadata": {
        "id": "3tmKmnutUvuC",
        "colab_type": "code",
        "outputId": "d292221a-d845-426a-af79-7e03b80541ed",
        "colab": {
          "base_uri": "https://localhost:8080/",
          "height": 34
        }
      },
      "source": [
        "query_job = client.query(query)\n",
        "dataset_ref = client.dataset(dataset_name)\n",
        "try: \n",
        "  for row in query_job:\n",
        "    print row\n",
        "except:\n",
        "  print \"ignoring this error: {}\".format(sys.exc_info()) #  the model was successfully created\n",
        "\n",
        "# confirm new tables exist in dataset\n",
        "for i in client.list_tables(dataset_ref):\n",
        "  if (i.table_id == model_name or i.table_id == eval_name):\n",
        "     print i.table_id"
      ],
      "execution_count": 0,
      "outputs": [
        {
          "output_type": "stream",
          "text": [
            "pats_taxi_model\n"
          ],
          "name": "stdout"
        }
      ]
    },
    {
      "cell_type": "markdown",
      "metadata": {
        "id": "7Rujpd463BIc",
        "colab_type": "text"
      },
      "source": [
        "## Get `ml.EVALUATE()` info"
      ]
    },
    {
      "cell_type": "markdown",
      "metadata": {
        "id": "iHkVfKg0ASrN",
        "colab_type": "text"
      },
      "source": [
        "### Baseline Mean Absolute Error\n",
        "We want to establish a baseline to measure ourselves against. Below, we take the entire dataset (using the `taxidemand` query). Taking the mean of `numtrips` gives us an average daily trip count of `403,642`.  We'll use Pandas Mean Absolute Deviation function to calculate our MAE."
      ]
    },
    {
      "cell_type": "code",
      "metadata": {
        "id": "JOgEN2pkGGG4",
        "colab_type": "code",
        "outputId": "cb0a3c62-597d-4548-a537-6872cdbcae27",
        "colab": {
          "base_uri": "https://localhost:8080/",
          "height": 34
        }
      },
      "source": [
        "# Our prediction should beat the average MAE\n",
        "df = client.query(taxidemand).to_dataframe()\n",
        "print 'Average trips={0} with a MAE of {1}'.format(\n",
        "    int(df.label.mean()*maxtrips), # scale value using the maxtrips variable\n",
        "    int(df.label.mad()*maxtrips) # MAE, MAD = Mean Absolute Error, Mean Absolute Difference\n",
        ")"
      ],
      "execution_count": 0,
      "outputs": [
        {
          "output_type": "stream",
          "text": [
            "Average trips=107 with a MAE of 129\n"
          ],
          "name": "stdout"
        }
      ]
    },
    {
      "cell_type": "markdown",
      "metadata": {
        "id": "zFxtDZJr4uWU",
        "colab_type": "text"
      },
      "source": [
        "### `ml.EVALUATE()`\n",
        "We're looking to beat the MAE (shown below as `mean_absolute_error`)  of `50,419`. Fingers crossed!"
      ]
    },
    {
      "cell_type": "code",
      "metadata": {
        "id": "R2oulkWuojqf",
        "colab_type": "code",
        "outputId": "23180c22-9ce9-4a31-e711-8b8dd83232e6",
        "colab": {
          "base_uri": "https://localhost:8080/",
          "height": 77
        }
      },
      "source": [
        "query = (\"select * from ml.EVALUATE(MODEL {0}.{1}, ({2}))\") \\\n",
        "  .format(dataset_name, model_name, taxidemand)\n",
        "df = client.query(query).to_dataframe()\n",
        "df[\"mean_absolute_error\"] = np.multiply(df[\"mean_absolute_error\"],maxtrips).astype(int)\n",
        "df"
      ],
      "execution_count": 0,
      "outputs": [
        {
          "output_type": "execute_result",
          "data": {
            "text/html": [
              "<div>\n",
              "<style scoped>\n",
              "    .dataframe tbody tr th:only-of-type {\n",
              "        vertical-align: middle;\n",
              "    }\n",
              "\n",
              "    .dataframe tbody tr th {\n",
              "        vertical-align: top;\n",
              "    }\n",
              "\n",
              "    .dataframe thead th {\n",
              "        text-align: right;\n",
              "    }\n",
              "</style>\n",
              "<table border=\"1\" class=\"dataframe\">\n",
              "  <thead>\n",
              "    <tr style=\"text-align: right;\">\n",
              "      <th></th>\n",
              "      <th>mean_absolute_error</th>\n",
              "      <th>mean_squared_error</th>\n",
              "      <th>mean_squared_log_error</th>\n",
              "      <th>median_absolute_error</th>\n",
              "      <th>r2_score</th>\n",
              "      <th>explained_variance</th>\n",
              "    </tr>\n",
              "  </thead>\n",
              "  <tbody>\n",
              "    <tr>\n",
              "      <th>0</th>\n",
              "      <td>62</td>\n",
              "      <td>0.000979</td>\n",
              "      <td>0.000794</td>\n",
              "      <td>0.011059</td>\n",
              "      <td>0.669556</td>\n",
              "      <td>0.669556</td>\n",
              "    </tr>\n",
              "  </tbody>\n",
              "</table>\n",
              "</div>"
            ],
            "text/plain": [
              "   mean_absolute_error  mean_squared_error  ...  r2_score  explained_variance\n",
              "0                   62            0.000979  ...  0.669556            0.669556\n",
              "\n",
              "[1 rows x 6 columns]"
            ]
          },
          "metadata": {
            "tags": []
          },
          "execution_count": 102
        }
      ]
    },
    {
      "cell_type": "markdown",
      "metadata": {
        "id": "HPezziG9o8vT",
        "colab_type": "text"
      },
      "source": [
        "Smashed it!"
      ]
    },
    {
      "cell_type": "markdown",
      "metadata": {
        "id": "LW_s7hxdpmYU",
        "colab_type": "text"
      },
      "source": [
        "### Custom Loss Function\n",
        "Do you read the articles that include \"the hard way\" in them? Perhaps you like to to see the math in action. Below we create a custom loss function and evaluate it against our model. We'll do this using the entire dataset (as defined by `taxidemand`).  We'd expect our `model_MAE` to match the `mean_absolute_error` value returned by the `ml.EVALUATE` function above.  Fingers crossed!"
      ]
    },
    {
      "cell_type": "code",
      "metadata": {
        "id": "FJIH7C828L3t",
        "colab_type": "code",
        "outputId": "9b74bd5b-94d9-48d9-d56a-583f7044c97c",
        "colab": {
          "base_uri": "https://localhost:8080/",
          "height": 34
        }
      },
      "source": [
        "query = \"\"\"\n",
        "SELECT SUM(error) / COUNT(*) as model_MAE from (\n",
        "  SELECT  abs(predicted_label-label) as error\n",
        "          FROM ML.PREDICT(MODEL `{0}.{1}` , ({2}))\n",
        ")\n",
        "\"\"\".format(dataset_name, model_name, taxidemand)\n",
        "df = client.query(query).to_dataframe()\n",
        "print int(df.model_MAE*maxtrips)"
      ],
      "execution_count": 0,
      "outputs": [
        {
          "output_type": "stream",
          "text": [
            "4579\n"
          ],
          "name": "stdout"
        }
      ]
    },
    {
      "cell_type": "markdown",
      "metadata": {
        "id": "Zxk23tcsqkEq",
        "colab_type": "text"
      },
      "source": [
        "Sure enough, the math adds up!"
      ]
    },
    {
      "cell_type": "markdown",
      "metadata": {
        "id": "6YGJebMOBN8O",
        "colab_type": "text"
      },
      "source": [
        "## Get `ml.TRAINING_INFO()` for the model\n",
        "This shows us how many training procedures were needed to reach convergence, and provides various metrics associated with the training run. The system performs hyperparameter tuning automatically in order to establish the best model settings."
      ]
    },
    {
      "cell_type": "code",
      "metadata": {
        "id": "7DFpB7z8_gkC",
        "colab_type": "code",
        "outputId": "5835fb02-ffbc-4d72-fb67-79dadaf18753",
        "colab": {
          "base_uri": "https://localhost:8080/",
          "height": 77
        }
      },
      "source": [
        "query = \"select * from ml.TRAINING_INFO(MODEL {0}.{1})\".format(dataset_name, model_name)\n",
        "df = client.query(query).to_dataframe()\n",
        "df"
      ],
      "execution_count": 0,
      "outputs": [
        {
          "output_type": "execute_result",
          "data": {
            "text/html": [
              "<div>\n",
              "<style scoped>\n",
              "    .dataframe tbody tr th:only-of-type {\n",
              "        vertical-align: middle;\n",
              "    }\n",
              "\n",
              "    .dataframe tbody tr th {\n",
              "        vertical-align: top;\n",
              "    }\n",
              "\n",
              "    .dataframe thead th {\n",
              "        text-align: right;\n",
              "    }\n",
              "</style>\n",
              "<table border=\"1\" class=\"dataframe\">\n",
              "  <thead>\n",
              "    <tr style=\"text-align: right;\">\n",
              "      <th></th>\n",
              "      <th>training_run</th>\n",
              "      <th>iteration</th>\n",
              "      <th>loss</th>\n",
              "      <th>eval_loss</th>\n",
              "      <th>learning_rate</th>\n",
              "      <th>duration_ms</th>\n",
              "    </tr>\n",
              "  </thead>\n",
              "  <tbody>\n",
              "    <tr>\n",
              "      <th>0</th>\n",
              "      <td>0</td>\n",
              "      <td>0</td>\n",
              "      <td>0.000979</td>\n",
              "      <td>0.00098</td>\n",
              "      <td>None</td>\n",
              "      <td>14871</td>\n",
              "    </tr>\n",
              "  </tbody>\n",
              "</table>\n",
              "</div>"
            ],
            "text/plain": [
              "   training_run  iteration      loss  eval_loss learning_rate  duration_ms\n",
              "0             0          0  0.000979    0.00098          None        14871"
            ]
          },
          "metadata": {
            "tags": []
          },
          "execution_count": 103
        }
      ]
    },
    {
      "cell_type": "code",
      "metadata": {
        "id": "REPBeyzo4C0n",
        "colab_type": "code",
        "outputId": "1477fef0-4499-4a09-82b0-1915055b16e3",
        "colab": {
          "base_uri": "https://localhost:8080/",
          "height": 279
        }
      },
      "source": [
        "_ = df[['loss','eval_loss']].plot(kind='bar').set_xlabel('iterations')"
      ],
      "execution_count": 0,
      "outputs": [
        {
          "output_type": "display_data",
          "data": {
            "image/png": "[encoded data removed]",
            "text/plain": [
              "<Figure size 432x288 with 1 Axes>"
            ]
          },
          "metadata": {
            "tags": []
          }
        }
      ]
    },
    {
      "cell_type": "markdown",
      "metadata": {
        "id": "jM4drx_3dODo",
        "colab_type": "text"
      },
      "source": [
        "## Get ml.FEATURE_INFO() for the model\n",
        "This function prints out the descriptive statistics for the numerical features: min(), max(), avg(), and standard deviation. The category count shows the number of distinct values found within a categorical feature. Null count is important to note because the model will automatically convert nulls to the mean of the feature set (fairly standard practice, but could be controversial!)"
      ]
    },
    {
      "cell_type": "code",
      "metadata": {
        "id": "SAISuAh1dche",
        "colab_type": "code",
        "outputId": "9bb464a1-8744-43de-d3f6-51c34897df4f",
        "colab": {
          "base_uri": "https://localhost:8080/",
          "height": 225
        }
      },
      "source": [
        "query = \"select * from ml.FEATURE_INFO(MODEL {0}.{1})\".format(dataset_name, model_name)\n",
        "df = client.query(query).to_dataframe()\n",
        "df"
      ],
      "execution_count": 0,
      "outputs": [
        {
          "output_type": "execute_result",
          "data": {
            "text/html": [
              "<div>\n",
              "<style scoped>\n",
              "    .dataframe tbody tr th:only-of-type {\n",
              "        vertical-align: middle;\n",
              "    }\n",
              "\n",
              "    .dataframe tbody tr th {\n",
              "        vertical-align: top;\n",
              "    }\n",
              "\n",
              "    .dataframe thead th {\n",
              "        text-align: right;\n",
              "    }\n",
              "</style>\n",
              "<table border=\"1\" class=\"dataframe\">\n",
              "  <thead>\n",
              "    <tr style=\"text-align: right;\">\n",
              "      <th></th>\n",
              "      <th>input</th>\n",
              "      <th>min</th>\n",
              "      <th>max</th>\n",
              "      <th>mean</th>\n",
              "      <th>median</th>\n",
              "      <th>stddev</th>\n",
              "      <th>category_count</th>\n",
              "      <th>null_count</th>\n",
              "    </tr>\n",
              "  </thead>\n",
              "  <tbody>\n",
              "    <tr>\n",
              "      <th>0</th>\n",
              "      <td>dayofweek</td>\n",
              "      <td>NaN</td>\n",
              "      <td>NaN</td>\n",
              "      <td>NaN</td>\n",
              "      <td>NaN</td>\n",
              "      <td>NaN</td>\n",
              "      <td>7.0</td>\n",
              "      <td>NaN</td>\n",
              "    </tr>\n",
              "    <tr>\n",
              "      <th>1</th>\n",
              "      <td>mintemp</td>\n",
              "      <td>12.0</td>\n",
              "      <td>80.10</td>\n",
              "      <td>49.681762</td>\n",
              "      <td>51.1</td>\n",
              "      <td>15.973619</td>\n",
              "      <td>NaN</td>\n",
              "      <td>0.0</td>\n",
              "    </tr>\n",
              "    <tr>\n",
              "      <th>2</th>\n",
              "      <td>maxtemp</td>\n",
              "      <td>21.9</td>\n",
              "      <td>100.90</td>\n",
              "      <td>67.128720</td>\n",
              "      <td>69.1</td>\n",
              "      <td>17.223547</td>\n",
              "      <td>NaN</td>\n",
              "      <td>0.0</td>\n",
              "    </tr>\n",
              "    <tr>\n",
              "      <th>3</th>\n",
              "      <td>rain</td>\n",
              "      <td>0.0</td>\n",
              "      <td>2.79</td>\n",
              "      <td>0.120547</td>\n",
              "      <td>0.0</td>\n",
              "      <td>0.326036</td>\n",
              "      <td>NaN</td>\n",
              "      <td>0.0</td>\n",
              "    </tr>\n",
              "    <tr>\n",
              "      <th>4</th>\n",
              "      <td>hour</td>\n",
              "      <td>0.0</td>\n",
              "      <td>23.00</td>\n",
              "      <td>11.593986</td>\n",
              "      <td>12.0</td>\n",
              "      <td>6.947616</td>\n",
              "      <td>NaN</td>\n",
              "      <td>0.0</td>\n",
              "    </tr>\n",
              "    <tr>\n",
              "      <th>5</th>\n",
              "      <td>pickup_location_id</td>\n",
              "      <td>NaN</td>\n",
              "      <td>NaN</td>\n",
              "      <td>NaN</td>\n",
              "      <td>NaN</td>\n",
              "      <td>NaN</td>\n",
              "      <td>265.0</td>\n",
              "      <td>NaN</td>\n",
              "    </tr>\n",
              "  </tbody>\n",
              "</table>\n",
              "</div>"
            ],
            "text/plain": [
              "                input   min     max  ...     stddev  category_count  null_count\n",
              "0           dayofweek   NaN     NaN  ...        NaN             7.0         NaN\n",
              "1             mintemp  12.0   80.10  ...  15.973619             NaN         0.0\n",
              "2             maxtemp  21.9  100.90  ...  17.223547             NaN         0.0\n",
              "3                rain   0.0    2.79  ...   0.326036             NaN         0.0\n",
              "4                hour   0.0   23.00  ...   6.947616             NaN         0.0\n",
              "5  pickup_location_id   NaN     NaN  ...        NaN           265.0         NaN\n",
              "\n",
              "[6 rows x 8 columns]"
            ]
          },
          "metadata": {
            "tags": []
          },
          "execution_count": 105
        }
      ]
    },
    {
      "cell_type": "markdown",
      "metadata": {
        "id": "gjMcaw5pDOgO",
        "colab_type": "text"
      },
      "source": [
        "## Get `ml.WEIGHTS()` for the `dayofweek`\n",
        "We created a linear model, here are the weights applied to the features of that model."
      ]
    },
    {
      "cell_type": "code",
      "metadata": {
        "id": "jHQkhHQ1w72e",
        "colab_type": "code",
        "outputId": "520096c9-b458-4ab2-8ebd-d94608ffb1d9",
        "colab": {
          "base_uri": "https://localhost:8080/",
          "height": 254
        }
      },
      "source": [
        "query = \"select * from ml.WEIGHTS(MODEL {0}.{1})\".format(dataset_name, model_name)\n",
        "df = client.query(query).to_dataframe()\n",
        "pd.DataFrame({ \n",
        "    \"processed_input\" : df.processed_input,\n",
        "    \"weights\": df.weight \n",
        "})"
      ],
      "execution_count": 0,
      "outputs": [
        {
          "output_type": "execute_result",
          "data": {
            "text/html": [
              "<div>\n",
              "<style scoped>\n",
              "    .dataframe tbody tr th:only-of-type {\n",
              "        vertical-align: middle;\n",
              "    }\n",
              "\n",
              "    .dataframe tbody tr th {\n",
              "        vertical-align: top;\n",
              "    }\n",
              "\n",
              "    .dataframe thead th {\n",
              "        text-align: right;\n",
              "    }\n",
              "</style>\n",
              "<table border=\"1\" class=\"dataframe\">\n",
              "  <thead>\n",
              "    <tr style=\"text-align: right;\">\n",
              "      <th></th>\n",
              "      <th>processed_input</th>\n",
              "      <th>weights</th>\n",
              "    </tr>\n",
              "  </thead>\n",
              "  <tbody>\n",
              "    <tr>\n",
              "      <th>0</th>\n",
              "      <td>dayofweek</td>\n",
              "      <td>NaN</td>\n",
              "    </tr>\n",
              "    <tr>\n",
              "      <th>1</th>\n",
              "      <td>mintemp</td>\n",
              "      <td>-0.000120</td>\n",
              "    </tr>\n",
              "    <tr>\n",
              "      <th>2</th>\n",
              "      <td>maxtemp</td>\n",
              "      <td>0.000062</td>\n",
              "    </tr>\n",
              "    <tr>\n",
              "      <th>3</th>\n",
              "      <td>rain</td>\n",
              "      <td>-0.000455</td>\n",
              "    </tr>\n",
              "    <tr>\n",
              "      <th>4</th>\n",
              "      <td>hour</td>\n",
              "      <td>0.001457</td>\n",
              "    </tr>\n",
              "    <tr>\n",
              "      <th>5</th>\n",
              "      <td>pickup_location_id</td>\n",
              "      <td>NaN</td>\n",
              "    </tr>\n",
              "    <tr>\n",
              "      <th>6</th>\n",
              "      <td>__INTERCEPT__</td>\n",
              "      <td>42371.930773</td>\n",
              "    </tr>\n",
              "  </tbody>\n",
              "</table>\n",
              "</div>"
            ],
            "text/plain": [
              "      processed_input       weights\n",
              "0           dayofweek           NaN\n",
              "1             mintemp     -0.000120\n",
              "2             maxtemp      0.000062\n",
              "3                rain     -0.000455\n",
              "4                hour      0.001457\n",
              "5  pickup_location_id           NaN\n",
              "6       __INTERCEPT__  42371.930773"
            ]
          },
          "metadata": {
            "tags": []
          },
          "execution_count": 106
        }
      ]
    },
    {
      "cell_type": "code",
      "metadata": {
        "id": "6eBq-uLFDMCk",
        "colab_type": "code",
        "outputId": "88f14003-78f4-43d1-e057-23334861be3d",
        "colab": {
          "base_uri": "https://localhost:8080/",
          "height": 254
        }
      },
      "source": [
        "query = \"select * from ml.WEIGHTS(MODEL {0}.{1})\".format(dataset_name, model_name)\n",
        "df = client.query(query).to_dataframe()\n",
        "df = pd.DataFrame(df.category_weights[0]).sort_values(by='category')\n",
        "df.round(2)"
      ],
      "execution_count": 0,
      "outputs": [
        {
          "output_type": "execute_result",
          "data": {
            "text/html": [
              "<div>\n",
              "<style scoped>\n",
              "    .dataframe tbody tr th:only-of-type {\n",
              "        vertical-align: middle;\n",
              "    }\n",
              "\n",
              "    .dataframe tbody tr th {\n",
              "        vertical-align: top;\n",
              "    }\n",
              "\n",
              "    .dataframe thead th {\n",
              "        text-align: right;\n",
              "    }\n",
              "</style>\n",
              "<table border=\"1\" class=\"dataframe\">\n",
              "  <thead>\n",
              "    <tr style=\"text-align: right;\">\n",
              "      <th></th>\n",
              "      <th>category</th>\n",
              "      <th>weight</th>\n",
              "    </tr>\n",
              "  </thead>\n",
              "  <tbody>\n",
              "    <tr>\n",
              "      <th>2</th>\n",
              "      <td>1</td>\n",
              "      <td>-0.0</td>\n",
              "    </tr>\n",
              "    <tr>\n",
              "      <th>4</th>\n",
              "      <td>2</td>\n",
              "      <td>-0.0</td>\n",
              "    </tr>\n",
              "    <tr>\n",
              "      <th>5</th>\n",
              "      <td>3</td>\n",
              "      <td>-0.0</td>\n",
              "    </tr>\n",
              "    <tr>\n",
              "      <th>6</th>\n",
              "      <td>4</td>\n",
              "      <td>0.0</td>\n",
              "    </tr>\n",
              "    <tr>\n",
              "      <th>1</th>\n",
              "      <td>5</td>\n",
              "      <td>0.0</td>\n",
              "    </tr>\n",
              "    <tr>\n",
              "      <th>3</th>\n",
              "      <td>6</td>\n",
              "      <td>0.0</td>\n",
              "    </tr>\n",
              "    <tr>\n",
              "      <th>0</th>\n",
              "      <td>7</td>\n",
              "      <td>0.0</td>\n",
              "    </tr>\n",
              "  </tbody>\n",
              "</table>\n",
              "</div>"
            ],
            "text/plain": [
              "  category  weight\n",
              "2        1    -0.0\n",
              "4        2    -0.0\n",
              "5        3    -0.0\n",
              "6        4     0.0\n",
              "1        5     0.0\n",
              "3        6     0.0\n",
              "0        7     0.0"
            ]
          },
          "metadata": {
            "tags": []
          },
          "execution_count": 107
        }
      ]
    },
    {
      "cell_type": "markdown",
      "metadata": {
        "id": "tw9YQ3HwJkr_",
        "colab_type": "text"
      },
      "source": [
        "## Make Predictions\n",
        "Adjust the sliders to create new input values to be evaluated by the model.  The model takes the min and max tempertatures plus rainfall for any given day of the week and returns the predicted number of taxi trips that will occur that day. "
      ]
    },
    {
      "cell_type": "code",
      "metadata": {
        "id": "G1fIhe5sIS8P",
        "colab_type": "code",
        "outputId": "8e443692-8536-41d3-f5cd-3d1e1b699155",
        "colab": {
          "base_uri": "https://localhost:8080/",
          "height": 296
        }
      },
      "source": [
        "#@title Select your input parameters { run: \"auto\", display-mode: \"form\" }\n",
        "mintemp = 29 #@param {type:\"slider\", min:1, max:90, step:1}\n",
        "maxtemp = 67 #@param {type:\"slider\", min:10, max:110, step:1}\n",
        "rain = 3.6 #@param {type:\"slider\", min:0, max:5, step:0.1}\n",
        "dayofweek = 4 #@param {type:\"slider\", min:1, max:7, step:1}\n",
        "hour = 7 #@param {type:\"slider\", min:0, max:24, step:1}\n",
        "\n",
        "\n",
        "query = \"\"\"\n",
        "  select *\n",
        "  from ml.PREDICT(\n",
        "    MODEL {0}.{1},  (\n",
        "      select  '{5}' as dayofweek,  \n",
        "              {2} as mintemp,  \n",
        "              {3} as maxtemp, \n",
        "              {4} as rain\n",
        "    )\n",
        "  )\n",
        "\"\"\".format(dataset_name, \n",
        "           model_name, \n",
        "           mintemp,\n",
        "           maxtemp,\n",
        "           rain,\n",
        "           dayofweek)\n",
        "\n",
        "df = client.query(query).to_dataframe()\n",
        "df[\"predicted_label\"] = np.multiply(df[\"predicted_label\"],maxtrips).astype(int)\n",
        "df"
      ],
      "execution_count": 0,
      "outputs": [
        {
          "output_type": "stream",
          "text": [
            "ERROR:root:An unexpected error occurred while tokenizing input\n",
            "The following traceback may be corrupted or invalid\n",
            "The error message is: ('EOF in multi-line string', (1, 0))\n",
            "\n"
          ],
          "name": "stderr"
        },
        {
          "output_type": "error",
          "ename": "NameError",
          "evalue": "ignored",
          "traceback": [
            "\u001b[0;31m\u001b[0m",
            "\u001b[0;31mNameError\u001b[0mTraceback (most recent call last)",
            "\u001b[0;32m<ipython-input-6-c96ac93d9e9e>\u001b[0m in \u001b[0;36m<module>\u001b[0;34m()\u001b[0m\n\u001b[1;32m     16\u001b[0m     )\n\u001b[1;32m     17\u001b[0m   )\n\u001b[0;32m---> 18\u001b[0;31m \"\"\".format(dataset_name, \n\u001b[0m\u001b[1;32m     19\u001b[0m            \u001b[0mmodel_name\u001b[0m\u001b[0;34m,\u001b[0m\u001b[0;34m\u001b[0m\u001b[0m\n\u001b[1;32m     20\u001b[0m            \u001b[0mmintemp\u001b[0m\u001b[0;34m,\u001b[0m\u001b[0;34m\u001b[0m\u001b[0m\n",
            "\u001b[0;31mNameError\u001b[0m: name 'dataset_name' is not defined"
          ]
        }
      ]
    }
  ]
}