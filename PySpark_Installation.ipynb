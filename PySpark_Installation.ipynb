{
  "nbformat": 4,
  "nbformat_minor": 0,
  "metadata": {
    "colab": {
      "name": "PySpark Installation.ipynb",
      "provenance": [],
      "authorship_tag": "ABX9TyNgr926J81FheSPwzxrSe3F",
      "include_colab_link": true
    },
    "kernelspec": {
      "name": "python3",
      "display_name": "Python 3"
    }
  },
  "cells": [
    {
      "cell_type": "markdown",
      "metadata": {
        "id": "view-in-github",
        "colab_type": "text"
      },
      "source": [
        "<a href=\"https://colab.research.google.com/github/ssrbazpur/Data-Science/blob/master/PySpark_Installation.ipynb\" target=\"_parent\"><img src=\"https://colab.research.google.com/assets/colab-badge.svg\" alt=\"Open In Colab\"/></a>"
      ]
    },
    {
      "cell_type": "code",
      "metadata": {
        "id": "Fm31LyXYeOzO",
        "colab_type": "code",
        "colab": {}
      },
      "source": [
        "!apt-get install openjdk-8-jdk-headless -qq > /dev/null\n",
        "!wget -q http://apache.osuosl.org/spark/spark-2.4.4/spark-2.4.4-bin-hadoop2.7.tgz\n",
        "!tar xf spark-2.4.4-bin-hadoop2.7.tgz\n",
        "!pip install -q findspark"
      ],
      "execution_count": 0,
      "outputs": []
    },
    {
      "cell_type": "code",
      "metadata": {
        "id": "vKQqmk8JeT6t",
        "colab_type": "code",
        "colab": {}
      },
      "source": [
        "\n",
        "# 2. Setup Environment Variables\n",
        "import os\n",
        "os.environ[\"JAVA_HOME\"] = \"/usr/lib/jvm/java-8-openjdk-amd64\"\n",
        "os.environ[\"SPARK_HOME\"] = \"/content/spark-2.4.4-bin-hadoop2.7\""
      ],
      "execution_count": 0,
      "outputs": []
    },
    {
      "cell_type": "code",
      "metadata": {
        "id": "GkMv4Cfve9ZR",
        "colab_type": "code",
        "colab": {
          "base_uri": "https://localhost:8080/",
          "height": 121
        },
        "outputId": "833b1cb8-e9fd-4d44-ca6d-36fb8ccd1123"
      },
      "source": [
        "from google.colab import drive\n",
        "drive.mount('/content/drive')"
      ],
      "execution_count": 8,
      "outputs": [
        {
          "output_type": "stream",
          "text": [
            "Go to this URL in a browser: https://accounts.google.com/o/oauth2/auth?client_id=947318989803-6bn6qk8qdgf4n4g3pfee6491hc0brc4i.apps.googleusercontent.com&redirect_uri=urn%3aietf%3awg%3aoauth%3a2.0%3aoob&response_type=code&scope=email%20https%3a%2f%2fwww.googleapis.com%2fauth%2fdocs.test%20https%3a%2f%2fwww.googleapis.com%2fauth%2fdrive%20https%3a%2f%2fwww.googleapis.com%2fauth%2fdrive.photos.readonly%20https%3a%2f%2fwww.googleapis.com%2fauth%2fpeopleapi.readonly\n",
            "\n",
            "Enter your authorization code:\n",
            "··········\n",
            "Mounted at /content/drive\n"
          ],
          "name": "stdout"
        }
      ]
    },
    {
      "cell_type": "code",
      "metadata": {
        "id": "FgcqjSJ_easw",
        "colab_type": "code",
        "colab": {}
      },
      "source": [
        "import findspark\n",
        "findspark.init()\n",
        "from pyspark.sql import SparkSession\n",
        "spark = SparkSession.builder.master(\"local[*]\").getOrCreate()"
      ],
      "execution_count": 0,
      "outputs": []
    },
    {
      "cell_type": "code",
      "metadata": {
        "id": "ghvprw3bedSl",
        "colab_type": "code",
        "colab": {}
      },
      "source": [
        "from pyspark.sql import SQLContext\n",
        "sqlContext = SQLContext(spark)"
      ],
      "execution_count": 0,
      "outputs": []
    },
    {
      "cell_type": "code",
      "metadata": {
        "id": "60kHD6Azei8D",
        "colab_type": "code",
        "colab": {}
      },
      "source": [
        "df = sqlContext.read.parquet('/content/drive/My Drive/Data Science/X.parquet')"
      ],
      "execution_count": 0,
      "outputs": []
    },
    {
      "cell_type": "code",
      "metadata": {
        "id": "Unv9r2dffuC4",
        "colab_type": "code",
        "colab": {
          "base_uri": "https://localhost:8080/",
          "height": 34
        },
        "outputId": "f48a6f11-9e92-44a6-c01b-fe08118c3ddb"
      },
      "source": [
        "df.head()"
      ],
      "execution_count": 13,
      "outputs": [
        {
          "output_type": "execute_result",
          "data": {
            "text/plain": [
              "Row(daynumber=17, Lat=0.0, Lon=0.0, temp=22.3, rain_drizzle='0', index=0)"
            ]
          },
          "metadata": {
            "tags": []
          },
          "execution_count": 13
        }
      ]
    },
    {
      "cell_type": "code",
      "metadata": {
        "id": "Cz8eSvMofvgK",
        "colab_type": "code",
        "colab": {}
      },
      "source": [
        "df = spark.read.parquet('/content/drive/My Drive/Data Science/X.parquet')"
      ],
      "execution_count": 0,
      "outputs": []
    },
    {
      "cell_type": "code",
      "metadata": {
        "id": "poMz_6pcf50M",
        "colab_type": "code",
        "colab": {
          "base_uri": "https://localhost:8080/",
          "height": 34
        },
        "outputId": "335b2cbe-aff4-44b5-9ea2-0f12c2a5fcb1"
      },
      "source": [
        "df.head()"
      ],
      "execution_count": 15,
      "outputs": [
        {
          "output_type": "execute_result",
          "data": {
            "text/plain": [
              "Row(daynumber=17, Lat=0.0, Lon=0.0, temp=22.3, rain_drizzle='0', index=0)"
            ]
          },
          "metadata": {
            "tags": []
          },
          "execution_count": 15
        }
      ]
    },
    {
      "cell_type": "code",
      "metadata": {
        "id": "B61qdo9Bf6-0",
        "colab_type": "code",
        "colab": {
          "base_uri": "https://localhost:8080/",
          "height": 454
        },
        "outputId": "76dc70ae-8a12-4767-b77e-824e4236b754"
      },
      "source": [
        "df.show()"
      ],
      "execution_count": 17,
      "outputs": [
        {
          "output_type": "stream",
          "text": [
            "+---------+------------------+------------------+----+------------+-----+\n",
            "|daynumber|               Lat|               Lon|temp|rain_drizzle|index|\n",
            "+---------+------------------+------------------+----+------------+-----+\n",
            "|       17|               0.0|               0.0|22.3|           0|    0|\n",
            "|       17|30.191471099853516|-81.36400604248047|22.3|           0|    1|\n",
            "|       17| 30.58965492248535| -77.9579849243164|22.3|           0|    2|\n",
            "|       17|33.127784729003906|-81.87212371826172|22.3|           0|    3|\n",
            "|       17|37.511634826660156|-65.93009948730469|22.3|           0|    4|\n",
            "|       17| 37.60248565673828|-66.46271514892578|22.3|           0|    5|\n",
            "|       17| 39.99489212036133|-73.35973358154297|22.3|           0|    6|\n",
            "|       17|40.251033782958984|-74.13121032714844|22.3|           0|    7|\n",
            "|       17|40.298744201660156|-75.01472473144531|22.3|           0|    8|\n",
            "|       17|40.439109802246094| -74.5289077758789|22.3|           0|    9|\n",
            "|       17|40.519046783447266|-74.26085662841797|22.3|           0|   10|\n",
            "|       17| 40.52682113647461|-74.40718841552734|22.3|           0|   11|\n",
            "|       17|40.559730529785156|-73.93000793457031|22.3|           0|   12|\n",
            "|       17|40.573326110839844|-73.98957824707031|22.3|           0|   13|\n",
            "|       17|40.574459075927734|-74.11561584472656|22.3|           0|   14|\n",
            "|       17| 40.57609939575195|         -73.96875|22.3|           0|   15|\n",
            "|       17|  40.5777587890625|-73.95572662353516|22.3|           0|   16|\n",
            "|       17| 40.57871627807617| -73.9856185913086|22.3|           0|   17|\n",
            "|       17| 40.57888412475586|-73.96548461914062|22.3|           0|   18|\n",
            "|       17|40.579872131347656|-73.97533416748047|22.3|           0|   19|\n",
            "+---------+------------------+------------------+----+------------+-----+\n",
            "only showing top 20 rows\n",
            "\n"
          ],
          "name": "stdout"
        }
      ]
    },
    {
      "cell_type": "code",
      "metadata": {
        "id": "-FfrIfQqgDh1",
        "colab_type": "code",
        "colab": {}
      },
      "source": [
        ""
      ],
      "execution_count": 0,
      "outputs": []
    }
  ]
}