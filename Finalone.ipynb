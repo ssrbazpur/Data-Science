{
  "nbformat": 4,
  "nbformat_minor": 0,
  "metadata": {
    "colab": {
      "name": "Finalone.ipynb",
      "provenance": [],
      "collapsed_sections": [],
      "include_colab_link": true
    },
    "kernelspec": {
      "name": "python2",
      "display_name": "Python 2"
    }
  },
  "cells": [
    {
      "cell_type": "markdown",
      "metadata": {
        "id": "view-in-github",
        "colab_type": "text"
      },
      "source": [
        "<a href=\"https://colab.research.google.com/github/ssrbazpur/Data-Science/blob/master/Finalone.ipynb\" target=\"_parent\"><img src=\"https://colab.research.google.com/assets/colab-badge.svg\" alt=\"Open In Colab\"/></a>"
      ]
    },
    {
      "cell_type": "markdown",
      "metadata": {
        "id": "2GQvgCkBJEU7",
        "colab_type": "text"
      },
      "source": [
        "# Using BQML to Predict Demand for NYC Taxis based on the Weather Forecast\n",
        "\n",
        "Goal is to build a predictive model using only BigQuery standard SQL. Since this is a Python notebook, we'll use some of the features of Python to analyze the data (ie. a loss function for calculating RSME), but the model itself and it's preditive comes comes from BigQuery alone. This is called BigQuery ML (BQML) and we couldn't be more excited to try it out!\n",
        "\n",
        "To get started, we'll take a [classic Machine Learning example](https://github.com/GoogleCloudPlatform/training-data-analyst/blob/master/CPB100/lab4a/demandforecast.ipynb) and remove the TensorFlow piece. Rest assured, TensorFlow is still being used, but it has been abstracted from view. You'll notice this model performs significantly better than the predessor, and it do this with no customatization on the model.\n"
      ]
    },
    {
      "cell_type": "code",
      "metadata": {
        "id": "2vuXf9sjMfuS",
        "colab_type": "code",
        "colab": {}
      },
      "source": [
        "import pandas as pd\n",
        "import numpy as np\n",
        "import sys\n",
        "from google.cloud import bigquery\n",
        "from google.colab import auth\n",
        "auth.authenticate_user()"
      ],
      "execution_count": 0,
      "outputs": []
    },
    {
      "cell_type": "code",
      "metadata": {
        "id": "nx-dky0JQuRb",
        "colab_type": "code",
        "outputId": "7506d322-c9c2-4c75-daf3-1fdea5674cd2",
        "colab": {
          "base_uri": "https://localhost:8080/",
          "height": 34
        }
      },
      "source": [
        "from google.colab import drive\n",
        "drive.mount('/content/drive')"
      ],
      "execution_count": 118,
      "outputs": [
        {
          "output_type": "stream",
          "text": [
            "Drive already mounted at /content/drive; to attempt to forcibly remount, call drive.mount(\"/content/drive\", force_remount=True).\n"
          ],
          "name": "stdout"
        }
      ]
    },
    {
      "cell_type": "code",
      "metadata": {
        "id": "4BLR-cSPQ3U5",
        "colab_type": "code",
        "colab": {}
      },
      "source": [
        "import os\n",
        "os.environ[\"GOOGLE_APPLICATION_CREDENTIALS\"]=\"/content/drive/My Drive/Data Science/nyc-taxi-265120-baf9a3e4cf9b.json\"\n",
        "%reload_ext google.cloud.bigquery"
      ],
      "execution_count": 0,
      "outputs": []
    },
    {
      "cell_type": "markdown",
      "metadata": {
        "id": "mdXecGNpiCFU",
        "colab_type": "text"
      },
      "source": [
        "You'll need to define some variables that will be used throughout the notebook. These are the GCP `project_id`, the `model_name` can be any name you prefer, and finally the `dateset_name`. The dataset needs to exist in the same project as the `project_id` and you need to have sufficient access to create and delete."
      ]
    },
    {
      "cell_type": "code",
      "metadata": {
        "id": "cyFfGIHmNMVt",
        "colab_type": "code",
        "colab": {}
      },
      "source": [
        "#@title Setup Project Variables { run: \"auto\", display-mode: \"form\" }\n",
        "project_id = 'nyc-taxi-265120' #@param {type:\"string\"}\n",
        "dataset_name = \"Taxitemp\" #@param {type:\"string\"}\n",
        "model_name = \"pats_taxi_model\" #@param {type:\"string\"}\n",
        "eval_name = model_name + \"_eval\"\n",
        "client = bigquery.Client(project=project_id)"
      ],
      "execution_count": 0,
      "outputs": []
    },
    {
      "cell_type": "markdown",
      "metadata": {
        "id": "O62ZVAjmQreq",
        "colab_type": "text"
      },
      "source": [
        "## Create a Linear Regression Model"
      ]
    },
    {
      "cell_type": "code",
      "metadata": {
        "id": "GbSHCLZaQAPn",
        "colab_type": "code",
        "colab": {}
      },
      "source": [
        "\n",
        "project_id = 'nyc-taxi-265120' #@param{type:\"string\"}\n",
        "from google.cloud import bigquery\n",
        "#from google.cloud import bigquery_storage_v1beta1\n",
        "# Create BigQuery client\n",
        "client = bigquery.Client(project = project_id)\n",
        "# Create BigQuery storage client\n",
        "#bq_storage_client = bigquery_storage_v1beta1.BigQueryStorageClient()"
      ],
      "execution_count": 0,
      "outputs": []
    },
    {
      "cell_type": "markdown",
      "metadata": {
        "id": "t8_d_PHsi7P0",
        "colab_type": "text"
      },
      "source": [
        "### Creating labeled data\n",
        "This query can be run in BigQuery on its own. Try it out! This query gives us 3 years of taxi and weather data for the NYC region. Those two datasets represent our labeled data: weather as our features (or metrics) and taxi trips as our label (target, class, objective, etc...)."
      ]
    },
    {
      "cell_type": "code",
      "metadata": {
        "id": "xx2K7nBIuGXw",
        "colab_type": "code",
        "colab": {}
      },
      "source": [
        "query = \"\"\"\n",
        "with td as(\n",
        "WITH AB AS\n",
        "(\n",
        "SELECT  CAST(tpep_pickup_datetime AS DATETIME) AS PICKUP,* FROM `nyc-taxi-265120.NYC.2019_CreatedDataset`\n",
        ")  \n",
        "SELECT  PICKUP,CAST(EXTRACT (YEAR from PICKUP) AS STRING) AS year,EXTRACT (DAYOFYEAR from PICKUP) AS daynumber,EXTRACT (HOUR from PICKUP) AS hour, cast(PULocationID as STRING) as LOCATION,COUNT(*) AS numtrips FROM AB group by PICKUP,year,daynumber,hour,LOCATION),points AS\n",
        "(SELECT *,ST_CENTROID(zone_geom) as p FROM `bigquery-public-data.new_york_taxi_trips.taxi_zone_geom`)\n",
        "\n",
        "\n",
        "SELECT \n",
        "cast(DATE(td.PICKUP) as STRING) AS A1,\n",
        "points.zone_id,\n",
        "\n",
        "CAST(TIME(DATETIME_TRUNC(td.PICKUP, HOUR)) as string) rounded_to_hour,\n",
        "\n",
        " \n",
        " \n",
        "    SUM(td.numtrips) as label,\n",
        "   \n",
        " \n",
        "  FROM  td INNER JOIN points ON points.zone_id=td.LOCATION AND\n",
        "  \n",
        "  eXTRACT (YEAR from PICKUP) =2019 AND td.daynumber<150\n",
        "  group by zone_id,A1,rounded_to_hour\n",
        "  \n",
        "  \n",
        "\n",
        "\n",
        "\n",
        "\"\"\"\n",
        "df = client.query(query).to_dataframe()\n"
      ],
      "execution_count": 0,
      "outputs": []
    },
    {
      "cell_type": "code",
      "metadata": {
        "id": "BIxU-6HEqdYG",
        "colab_type": "code",
        "colab": {
          "base_uri": "https://localhost:8080/",
          "height": 195
        },
        "outputId": "c9d69114-b530-422f-ea9b-c9456e1b68e5"
      },
      "source": [
        "df.head()"
      ],
      "execution_count": 123,
      "outputs": [
        {
          "output_type": "execute_result",
          "data": {
            "text/html": [
              "<div>\n",
              "<style scoped>\n",
              "    .dataframe tbody tr th:only-of-type {\n",
              "        vertical-align: middle;\n",
              "    }\n",
              "\n",
              "    .dataframe tbody tr th {\n",
              "        vertical-align: top;\n",
              "    }\n",
              "\n",
              "    .dataframe thead th {\n",
              "        text-align: right;\n",
              "    }\n",
              "</style>\n",
              "<table border=\"1\" class=\"dataframe\">\n",
              "  <thead>\n",
              "    <tr style=\"text-align: right;\">\n",
              "      <th></th>\n",
              "      <th>A1</th>\n",
              "      <th>zone_id</th>\n",
              "      <th>rounded_to_hour</th>\n",
              "      <th>label</th>\n",
              "    </tr>\n",
              "  </thead>\n",
              "  <tbody>\n",
              "    <tr>\n",
              "      <th>0</th>\n",
              "      <td>2019-02-06</td>\n",
              "      <td>132</td>\n",
              "      <td>00:00:00</td>\n",
              "      <td>131</td>\n",
              "    </tr>\n",
              "    <tr>\n",
              "      <th>1</th>\n",
              "      <td>2019-02-05</td>\n",
              "      <td>88</td>\n",
              "      <td>00:00:00</td>\n",
              "      <td>16</td>\n",
              "    </tr>\n",
              "    <tr>\n",
              "      <th>2</th>\n",
              "      <td>2019-02-05</td>\n",
              "      <td>79</td>\n",
              "      <td>00:00:00</td>\n",
              "      <td>158</td>\n",
              "    </tr>\n",
              "    <tr>\n",
              "      <th>3</th>\n",
              "      <td>2019-03-30</td>\n",
              "      <td>75</td>\n",
              "      <td>00:00:00</td>\n",
              "      <td>44</td>\n",
              "    </tr>\n",
              "    <tr>\n",
              "      <th>4</th>\n",
              "      <td>2019-03-31</td>\n",
              "      <td>68</td>\n",
              "      <td>00:00:00</td>\n",
              "      <td>386</td>\n",
              "    </tr>\n",
              "  </tbody>\n",
              "</table>\n",
              "</div>"
            ],
            "text/plain": [
              "           A1 zone_id rounded_to_hour  label\n",
              "0  2019-02-06     132        00:00:00    131\n",
              "1  2019-02-05      88        00:00:00     16\n",
              "2  2019-02-05      79        00:00:00    158\n",
              "3  2019-03-30      75        00:00:00     44\n",
              "4  2019-03-31      68        00:00:00    386"
            ]
          },
          "metadata": {
            "tags": []
          },
          "execution_count": 123
        }
      ]
    },
    {
      "cell_type": "code",
      "metadata": {
        "id": "Xu5kiiUqsSN0",
        "colab_type": "code",
        "colab": {}
      },
      "source": [
        "df[\"time\"]=pd.to_datetime(df['A1'] + ' ' + df['rounded_to_hour'])"
      ],
      "execution_count": 0,
      "outputs": []
    },
    {
      "cell_type": "code",
      "metadata": {
        "id": "ep_lzXl56D5K",
        "colab_type": "code",
        "colab": {
          "base_uri": "https://localhost:8080/",
          "height": 195
        },
        "outputId": "61e996c7-7eab-4ed6-f4cb-4697e239ddd4"
      },
      "source": [
        "df.head()"
      ],
      "execution_count": 125,
      "outputs": [
        {
          "output_type": "execute_result",
          "data": {
            "text/html": [
              "<div>\n",
              "<style scoped>\n",
              "    .dataframe tbody tr th:only-of-type {\n",
              "        vertical-align: middle;\n",
              "    }\n",
              "\n",
              "    .dataframe tbody tr th {\n",
              "        vertical-align: top;\n",
              "    }\n",
              "\n",
              "    .dataframe thead th {\n",
              "        text-align: right;\n",
              "    }\n",
              "</style>\n",
              "<table border=\"1\" class=\"dataframe\">\n",
              "  <thead>\n",
              "    <tr style=\"text-align: right;\">\n",
              "      <th></th>\n",
              "      <th>A1</th>\n",
              "      <th>zone_id</th>\n",
              "      <th>rounded_to_hour</th>\n",
              "      <th>label</th>\n",
              "      <th>time</th>\n",
              "    </tr>\n",
              "  </thead>\n",
              "  <tbody>\n",
              "    <tr>\n",
              "      <th>0</th>\n",
              "      <td>2019-02-06</td>\n",
              "      <td>132</td>\n",
              "      <td>00:00:00</td>\n",
              "      <td>131</td>\n",
              "      <td>2019-02-06</td>\n",
              "    </tr>\n",
              "    <tr>\n",
              "      <th>1</th>\n",
              "      <td>2019-02-05</td>\n",
              "      <td>88</td>\n",
              "      <td>00:00:00</td>\n",
              "      <td>16</td>\n",
              "      <td>2019-02-05</td>\n",
              "    </tr>\n",
              "    <tr>\n",
              "      <th>2</th>\n",
              "      <td>2019-02-05</td>\n",
              "      <td>79</td>\n",
              "      <td>00:00:00</td>\n",
              "      <td>158</td>\n",
              "      <td>2019-02-05</td>\n",
              "    </tr>\n",
              "    <tr>\n",
              "      <th>3</th>\n",
              "      <td>2019-03-30</td>\n",
              "      <td>75</td>\n",
              "      <td>00:00:00</td>\n",
              "      <td>44</td>\n",
              "      <td>2019-03-30</td>\n",
              "    </tr>\n",
              "    <tr>\n",
              "      <th>4</th>\n",
              "      <td>2019-03-31</td>\n",
              "      <td>68</td>\n",
              "      <td>00:00:00</td>\n",
              "      <td>386</td>\n",
              "      <td>2019-03-31</td>\n",
              "    </tr>\n",
              "  </tbody>\n",
              "</table>\n",
              "</div>"
            ],
            "text/plain": [
              "           A1 zone_id rounded_to_hour  label       time\n",
              "0  2019-02-06     132        00:00:00    131 2019-02-06\n",
              "1  2019-02-05      88        00:00:00     16 2019-02-05\n",
              "2  2019-02-05      79        00:00:00    158 2019-02-05\n",
              "3  2019-03-30      75        00:00:00     44 2019-03-30\n",
              "4  2019-03-31      68        00:00:00    386 2019-03-31"
            ]
          },
          "metadata": {
            "tags": []
          },
          "execution_count": 125
        }
      ]
    },
    {
      "cell_type": "code",
      "metadata": {
        "id": "zkutX78K7vNy",
        "colab_type": "code",
        "colab": {}
      },
      "source": [
        "a=df.pivot_table(\"label\", \"time\", \"zone_id\")"
      ],
      "execution_count": 0,
      "outputs": []
    },
    {
      "cell_type": "code",
      "metadata": {
        "id": "nHAkPhUZ7051",
        "colab_type": "code",
        "colab": {
          "base_uri": "https://localhost:8080/",
          "height": 442
        },
        "outputId": "5c3476c8-1af2-49c4-e98f-7819ded2b63d"
      },
      "source": [
        "a.head()"
      ],
      "execution_count": 127,
      "outputs": [
        {
          "output_type": "execute_result",
          "data": {
            "text/html": [
              "<div>\n",
              "<style scoped>\n",
              "    .dataframe tbody tr th:only-of-type {\n",
              "        vertical-align: middle;\n",
              "    }\n",
              "\n",
              "    .dataframe tbody tr th {\n",
              "        vertical-align: top;\n",
              "    }\n",
              "\n",
              "    .dataframe thead th {\n",
              "        text-align: right;\n",
              "    }\n",
              "</style>\n",
              "<table border=\"1\" class=\"dataframe\">\n",
              "  <thead>\n",
              "    <tr style=\"text-align: right;\">\n",
              "      <th>zone_id</th>\n",
              "      <th>1</th>\n",
              "      <th>10</th>\n",
              "      <th>100</th>\n",
              "      <th>101</th>\n",
              "      <th>102</th>\n",
              "      <th>106</th>\n",
              "      <th>107</th>\n",
              "      <th>108</th>\n",
              "      <th>109</th>\n",
              "      <th>11</th>\n",
              "      <th>111</th>\n",
              "      <th>112</th>\n",
              "      <th>113</th>\n",
              "      <th>114</th>\n",
              "      <th>115</th>\n",
              "      <th>116</th>\n",
              "      <th>117</th>\n",
              "      <th>118</th>\n",
              "      <th>119</th>\n",
              "      <th>12</th>\n",
              "      <th>120</th>\n",
              "      <th>121</th>\n",
              "      <th>122</th>\n",
              "      <th>123</th>\n",
              "      <th>124</th>\n",
              "      <th>125</th>\n",
              "      <th>126</th>\n",
              "      <th>127</th>\n",
              "      <th>128</th>\n",
              "      <th>129</th>\n",
              "      <th>13</th>\n",
              "      <th>130</th>\n",
              "      <th>131</th>\n",
              "      <th>132</th>\n",
              "      <th>133</th>\n",
              "      <th>134</th>\n",
              "      <th>135</th>\n",
              "      <th>136</th>\n",
              "      <th>137</th>\n",
              "      <th>138</th>\n",
              "      <th>...</th>\n",
              "      <th>63</th>\n",
              "      <th>64</th>\n",
              "      <th>65</th>\n",
              "      <th>66</th>\n",
              "      <th>67</th>\n",
              "      <th>68</th>\n",
              "      <th>69</th>\n",
              "      <th>7</th>\n",
              "      <th>70</th>\n",
              "      <th>71</th>\n",
              "      <th>72</th>\n",
              "      <th>73</th>\n",
              "      <th>74</th>\n",
              "      <th>75</th>\n",
              "      <th>76</th>\n",
              "      <th>77</th>\n",
              "      <th>78</th>\n",
              "      <th>79</th>\n",
              "      <th>8</th>\n",
              "      <th>80</th>\n",
              "      <th>81</th>\n",
              "      <th>82</th>\n",
              "      <th>83</th>\n",
              "      <th>84</th>\n",
              "      <th>85</th>\n",
              "      <th>86</th>\n",
              "      <th>87</th>\n",
              "      <th>88</th>\n",
              "      <th>89</th>\n",
              "      <th>9</th>\n",
              "      <th>90</th>\n",
              "      <th>91</th>\n",
              "      <th>92</th>\n",
              "      <th>93</th>\n",
              "      <th>94</th>\n",
              "      <th>95</th>\n",
              "      <th>96</th>\n",
              "      <th>97</th>\n",
              "      <th>98</th>\n",
              "      <th>99</th>\n",
              "    </tr>\n",
              "    <tr>\n",
              "      <th>time</th>\n",
              "      <th></th>\n",
              "      <th></th>\n",
              "      <th></th>\n",
              "      <th></th>\n",
              "      <th></th>\n",
              "      <th></th>\n",
              "      <th></th>\n",
              "      <th></th>\n",
              "      <th></th>\n",
              "      <th></th>\n",
              "      <th></th>\n",
              "      <th></th>\n",
              "      <th></th>\n",
              "      <th></th>\n",
              "      <th></th>\n",
              "      <th></th>\n",
              "      <th></th>\n",
              "      <th></th>\n",
              "      <th></th>\n",
              "      <th></th>\n",
              "      <th></th>\n",
              "      <th></th>\n",
              "      <th></th>\n",
              "      <th></th>\n",
              "      <th></th>\n",
              "      <th></th>\n",
              "      <th></th>\n",
              "      <th></th>\n",
              "      <th></th>\n",
              "      <th></th>\n",
              "      <th></th>\n",
              "      <th></th>\n",
              "      <th></th>\n",
              "      <th></th>\n",
              "      <th></th>\n",
              "      <th></th>\n",
              "      <th></th>\n",
              "      <th></th>\n",
              "      <th></th>\n",
              "      <th></th>\n",
              "      <th></th>\n",
              "      <th></th>\n",
              "      <th></th>\n",
              "      <th></th>\n",
              "      <th></th>\n",
              "      <th></th>\n",
              "      <th></th>\n",
              "      <th></th>\n",
              "      <th></th>\n",
              "      <th></th>\n",
              "      <th></th>\n",
              "      <th></th>\n",
              "      <th></th>\n",
              "      <th></th>\n",
              "      <th></th>\n",
              "      <th></th>\n",
              "      <th></th>\n",
              "      <th></th>\n",
              "      <th></th>\n",
              "      <th></th>\n",
              "      <th></th>\n",
              "      <th></th>\n",
              "      <th></th>\n",
              "      <th></th>\n",
              "      <th></th>\n",
              "      <th></th>\n",
              "      <th></th>\n",
              "      <th></th>\n",
              "      <th></th>\n",
              "      <th></th>\n",
              "      <th></th>\n",
              "      <th></th>\n",
              "      <th></th>\n",
              "      <th></th>\n",
              "      <th></th>\n",
              "      <th></th>\n",
              "      <th></th>\n",
              "      <th></th>\n",
              "      <th></th>\n",
              "      <th></th>\n",
              "      <th></th>\n",
              "    </tr>\n",
              "  </thead>\n",
              "  <tbody>\n",
              "    <tr>\n",
              "      <th>2019-01-01 00:00:00</th>\n",
              "      <td>NaN</td>\n",
              "      <td>2.0</td>\n",
              "      <td>54.0</td>\n",
              "      <td>NaN</td>\n",
              "      <td>NaN</td>\n",
              "      <td>3.0</td>\n",
              "      <td>422.0</td>\n",
              "      <td>NaN</td>\n",
              "      <td>NaN</td>\n",
              "      <td>2.0</td>\n",
              "      <td>NaN</td>\n",
              "      <td>12.0</td>\n",
              "      <td>239.0</td>\n",
              "      <td>293.0</td>\n",
              "      <td>NaN</td>\n",
              "      <td>29.0</td>\n",
              "      <td>NaN</td>\n",
              "      <td>NaN</td>\n",
              "      <td>2.0</td>\n",
              "      <td>4.0</td>\n",
              "      <td>NaN</td>\n",
              "      <td>NaN</td>\n",
              "      <td>2.0</td>\n",
              "      <td>1.0</td>\n",
              "      <td>1.0</td>\n",
              "      <td>73.0</td>\n",
              "      <td>2.0</td>\n",
              "      <td>2.0</td>\n",
              "      <td>NaN</td>\n",
              "      <td>15.0</td>\n",
              "      <td>64.0</td>\n",
              "      <td>4.0</td>\n",
              "      <td>NaN</td>\n",
              "      <td>205.0</td>\n",
              "      <td>2.0</td>\n",
              "      <td>1.0</td>\n",
              "      <td>NaN</td>\n",
              "      <td>NaN</td>\n",
              "      <td>180.0</td>\n",
              "      <td>56.0</td>\n",
              "      <td>...</td>\n",
              "      <td>1.0</td>\n",
              "      <td>NaN</td>\n",
              "      <td>21.0</td>\n",
              "      <td>8.0</td>\n",
              "      <td>NaN</td>\n",
              "      <td>444.0</td>\n",
              "      <td>NaN</td>\n",
              "      <td>25.0</td>\n",
              "      <td>4.0</td>\n",
              "      <td>1.0</td>\n",
              "      <td>NaN</td>\n",
              "      <td>NaN</td>\n",
              "      <td>67.0</td>\n",
              "      <td>91.0</td>\n",
              "      <td>5.0</td>\n",
              "      <td>2.0</td>\n",
              "      <td>2.0</td>\n",
              "      <td>657.0</td>\n",
              "      <td>NaN</td>\n",
              "      <td>14.0</td>\n",
              "      <td>NaN</td>\n",
              "      <td>4.0</td>\n",
              "      <td>NaN</td>\n",
              "      <td>NaN</td>\n",
              "      <td>NaN</td>\n",
              "      <td>NaN</td>\n",
              "      <td>87.0</td>\n",
              "      <td>45.0</td>\n",
              "      <td>2.0</td>\n",
              "      <td>NaN</td>\n",
              "      <td>281.0</td>\n",
              "      <td>NaN</td>\n",
              "      <td>1.0</td>\n",
              "      <td>1.0</td>\n",
              "      <td>1.0</td>\n",
              "      <td>NaN</td>\n",
              "      <td>NaN</td>\n",
              "      <td>15.0</td>\n",
              "      <td>NaN</td>\n",
              "      <td>NaN</td>\n",
              "    </tr>\n",
              "    <tr>\n",
              "      <th>2019-01-01 01:00:00</th>\n",
              "      <td>NaN</td>\n",
              "      <td>3.0</td>\n",
              "      <td>79.0</td>\n",
              "      <td>NaN</td>\n",
              "      <td>NaN</td>\n",
              "      <td>7.0</td>\n",
              "      <td>610.0</td>\n",
              "      <td>NaN</td>\n",
              "      <td>NaN</td>\n",
              "      <td>NaN</td>\n",
              "      <td>NaN</td>\n",
              "      <td>42.0</td>\n",
              "      <td>153.0</td>\n",
              "      <td>167.0</td>\n",
              "      <td>NaN</td>\n",
              "      <td>58.0</td>\n",
              "      <td>NaN</td>\n",
              "      <td>NaN</td>\n",
              "      <td>NaN</td>\n",
              "      <td>4.0</td>\n",
              "      <td>1.0</td>\n",
              "      <td>NaN</td>\n",
              "      <td>NaN</td>\n",
              "      <td>NaN</td>\n",
              "      <td>NaN</td>\n",
              "      <td>74.0</td>\n",
              "      <td>NaN</td>\n",
              "      <td>7.0</td>\n",
              "      <td>1.0</td>\n",
              "      <td>27.0</td>\n",
              "      <td>53.0</td>\n",
              "      <td>1.0</td>\n",
              "      <td>NaN</td>\n",
              "      <td>103.0</td>\n",
              "      <td>1.0</td>\n",
              "      <td>2.0</td>\n",
              "      <td>NaN</td>\n",
              "      <td>4.0</td>\n",
              "      <td>273.0</td>\n",
              "      <td>10.0</td>\n",
              "      <td>...</td>\n",
              "      <td>NaN</td>\n",
              "      <td>1.0</td>\n",
              "      <td>35.0</td>\n",
              "      <td>25.0</td>\n",
              "      <td>1.0</td>\n",
              "      <td>401.0</td>\n",
              "      <td>4.0</td>\n",
              "      <td>60.0</td>\n",
              "      <td>4.0</td>\n",
              "      <td>1.0</td>\n",
              "      <td>1.0</td>\n",
              "      <td>NaN</td>\n",
              "      <td>100.0</td>\n",
              "      <td>97.0</td>\n",
              "      <td>3.0</td>\n",
              "      <td>NaN</td>\n",
              "      <td>2.0</td>\n",
              "      <td>744.0</td>\n",
              "      <td>1.0</td>\n",
              "      <td>56.0</td>\n",
              "      <td>1.0</td>\n",
              "      <td>11.0</td>\n",
              "      <td>3.0</td>\n",
              "      <td>NaN</td>\n",
              "      <td>3.0</td>\n",
              "      <td>NaN</td>\n",
              "      <td>164.0</td>\n",
              "      <td>56.0</td>\n",
              "      <td>1.0</td>\n",
              "      <td>NaN</td>\n",
              "      <td>243.0</td>\n",
              "      <td>1.0</td>\n",
              "      <td>2.0</td>\n",
              "      <td>NaN</td>\n",
              "      <td>2.0</td>\n",
              "      <td>1.0</td>\n",
              "      <td>NaN</td>\n",
              "      <td>39.0</td>\n",
              "      <td>1.0</td>\n",
              "      <td>NaN</td>\n",
              "    </tr>\n",
              "    <tr>\n",
              "      <th>2019-01-01 02:00:00</th>\n",
              "      <td>1.0</td>\n",
              "      <td>NaN</td>\n",
              "      <td>114.0</td>\n",
              "      <td>1.0</td>\n",
              "      <td>NaN</td>\n",
              "      <td>4.0</td>\n",
              "      <td>472.0</td>\n",
              "      <td>NaN</td>\n",
              "      <td>NaN</td>\n",
              "      <td>NaN</td>\n",
              "      <td>NaN</td>\n",
              "      <td>43.0</td>\n",
              "      <td>143.0</td>\n",
              "      <td>196.0</td>\n",
              "      <td>NaN</td>\n",
              "      <td>53.0</td>\n",
              "      <td>NaN</td>\n",
              "      <td>NaN</td>\n",
              "      <td>1.0</td>\n",
              "      <td>7.0</td>\n",
              "      <td>1.0</td>\n",
              "      <td>NaN</td>\n",
              "      <td>NaN</td>\n",
              "      <td>NaN</td>\n",
              "      <td>NaN</td>\n",
              "      <td>92.0</td>\n",
              "      <td>1.0</td>\n",
              "      <td>6.0</td>\n",
              "      <td>NaN</td>\n",
              "      <td>48.0</td>\n",
              "      <td>37.0</td>\n",
              "      <td>2.0</td>\n",
              "      <td>NaN</td>\n",
              "      <td>51.0</td>\n",
              "      <td>NaN</td>\n",
              "      <td>NaN</td>\n",
              "      <td>NaN</td>\n",
              "      <td>2.0</td>\n",
              "      <td>218.0</td>\n",
              "      <td>3.0</td>\n",
              "      <td>...</td>\n",
              "      <td>NaN</td>\n",
              "      <td>NaN</td>\n",
              "      <td>33.0</td>\n",
              "      <td>12.0</td>\n",
              "      <td>NaN</td>\n",
              "      <td>390.0</td>\n",
              "      <td>1.0</td>\n",
              "      <td>59.0</td>\n",
              "      <td>4.0</td>\n",
              "      <td>NaN</td>\n",
              "      <td>1.0</td>\n",
              "      <td>NaN</td>\n",
              "      <td>74.0</td>\n",
              "      <td>83.0</td>\n",
              "      <td>1.0</td>\n",
              "      <td>NaN</td>\n",
              "      <td>NaN</td>\n",
              "      <td>837.0</td>\n",
              "      <td>NaN</td>\n",
              "      <td>52.0</td>\n",
              "      <td>1.0</td>\n",
              "      <td>15.0</td>\n",
              "      <td>6.0</td>\n",
              "      <td>NaN</td>\n",
              "      <td>1.0</td>\n",
              "      <td>NaN</td>\n",
              "      <td>111.0</td>\n",
              "      <td>42.0</td>\n",
              "      <td>2.0</td>\n",
              "      <td>NaN</td>\n",
              "      <td>219.0</td>\n",
              "      <td>NaN</td>\n",
              "      <td>NaN</td>\n",
              "      <td>NaN</td>\n",
              "      <td>NaN</td>\n",
              "      <td>6.0</td>\n",
              "      <td>NaN</td>\n",
              "      <td>39.0</td>\n",
              "      <td>NaN</td>\n",
              "      <td>NaN</td>\n",
              "    </tr>\n",
              "    <tr>\n",
              "      <th>2019-01-01 03:00:00</th>\n",
              "      <td>NaN</td>\n",
              "      <td>NaN</td>\n",
              "      <td>161.0</td>\n",
              "      <td>NaN</td>\n",
              "      <td>NaN</td>\n",
              "      <td>7.0</td>\n",
              "      <td>341.0</td>\n",
              "      <td>1.0</td>\n",
              "      <td>NaN</td>\n",
              "      <td>NaN</td>\n",
              "      <td>NaN</td>\n",
              "      <td>25.0</td>\n",
              "      <td>156.0</td>\n",
              "      <td>263.0</td>\n",
              "      <td>NaN</td>\n",
              "      <td>37.0</td>\n",
              "      <td>NaN</td>\n",
              "      <td>NaN</td>\n",
              "      <td>3.0</td>\n",
              "      <td>1.0</td>\n",
              "      <td>NaN</td>\n",
              "      <td>1.0</td>\n",
              "      <td>NaN</td>\n",
              "      <td>NaN</td>\n",
              "      <td>NaN</td>\n",
              "      <td>50.0</td>\n",
              "      <td>1.0</td>\n",
              "      <td>4.0</td>\n",
              "      <td>NaN</td>\n",
              "      <td>31.0</td>\n",
              "      <td>13.0</td>\n",
              "      <td>1.0</td>\n",
              "      <td>NaN</td>\n",
              "      <td>80.0</td>\n",
              "      <td>2.0</td>\n",
              "      <td>2.0</td>\n",
              "      <td>NaN</td>\n",
              "      <td>1.0</td>\n",
              "      <td>182.0</td>\n",
              "      <td>2.0</td>\n",
              "      <td>...</td>\n",
              "      <td>NaN</td>\n",
              "      <td>NaN</td>\n",
              "      <td>21.0</td>\n",
              "      <td>3.0</td>\n",
              "      <td>NaN</td>\n",
              "      <td>390.0</td>\n",
              "      <td>2.0</td>\n",
              "      <td>86.0</td>\n",
              "      <td>3.0</td>\n",
              "      <td>2.0</td>\n",
              "      <td>NaN</td>\n",
              "      <td>NaN</td>\n",
              "      <td>56.0</td>\n",
              "      <td>59.0</td>\n",
              "      <td>1.0</td>\n",
              "      <td>1.0</td>\n",
              "      <td>NaN</td>\n",
              "      <td>873.0</td>\n",
              "      <td>NaN</td>\n",
              "      <td>51.0</td>\n",
              "      <td>NaN</td>\n",
              "      <td>16.0</td>\n",
              "      <td>10.0</td>\n",
              "      <td>NaN</td>\n",
              "      <td>NaN</td>\n",
              "      <td>NaN</td>\n",
              "      <td>63.0</td>\n",
              "      <td>42.0</td>\n",
              "      <td>2.0</td>\n",
              "      <td>NaN</td>\n",
              "      <td>259.0</td>\n",
              "      <td>NaN</td>\n",
              "      <td>2.0</td>\n",
              "      <td>1.0</td>\n",
              "      <td>NaN</td>\n",
              "      <td>4.0</td>\n",
              "      <td>1.0</td>\n",
              "      <td>15.0</td>\n",
              "      <td>NaN</td>\n",
              "      <td>NaN</td>\n",
              "    </tr>\n",
              "    <tr>\n",
              "      <th>2019-01-01 04:00:00</th>\n",
              "      <td>NaN</td>\n",
              "      <td>1.0</td>\n",
              "      <td>99.0</td>\n",
              "      <td>NaN</td>\n",
              "      <td>NaN</td>\n",
              "      <td>5.0</td>\n",
              "      <td>261.0</td>\n",
              "      <td>NaN</td>\n",
              "      <td>2.0</td>\n",
              "      <td>NaN</td>\n",
              "      <td>NaN</td>\n",
              "      <td>18.0</td>\n",
              "      <td>67.0</td>\n",
              "      <td>148.0</td>\n",
              "      <td>NaN</td>\n",
              "      <td>33.0</td>\n",
              "      <td>NaN</td>\n",
              "      <td>NaN</td>\n",
              "      <td>2.0</td>\n",
              "      <td>1.0</td>\n",
              "      <td>NaN</td>\n",
              "      <td>NaN</td>\n",
              "      <td>NaN</td>\n",
              "      <td>1.0</td>\n",
              "      <td>NaN</td>\n",
              "      <td>37.0</td>\n",
              "      <td>NaN</td>\n",
              "      <td>3.0</td>\n",
              "      <td>NaN</td>\n",
              "      <td>36.0</td>\n",
              "      <td>13.0</td>\n",
              "      <td>1.0</td>\n",
              "      <td>1.0</td>\n",
              "      <td>47.0</td>\n",
              "      <td>NaN</td>\n",
              "      <td>NaN</td>\n",
              "      <td>NaN</td>\n",
              "      <td>3.0</td>\n",
              "      <td>100.0</td>\n",
              "      <td>4.0</td>\n",
              "      <td>...</td>\n",
              "      <td>NaN</td>\n",
              "      <td>NaN</td>\n",
              "      <td>10.0</td>\n",
              "      <td>1.0</td>\n",
              "      <td>3.0</td>\n",
              "      <td>274.0</td>\n",
              "      <td>3.0</td>\n",
              "      <td>82.0</td>\n",
              "      <td>3.0</td>\n",
              "      <td>NaN</td>\n",
              "      <td>NaN</td>\n",
              "      <td>NaN</td>\n",
              "      <td>50.0</td>\n",
              "      <td>47.0</td>\n",
              "      <td>1.0</td>\n",
              "      <td>1.0</td>\n",
              "      <td>1.0</td>\n",
              "      <td>442.0</td>\n",
              "      <td>NaN</td>\n",
              "      <td>40.0</td>\n",
              "      <td>NaN</td>\n",
              "      <td>23.0</td>\n",
              "      <td>9.0</td>\n",
              "      <td>NaN</td>\n",
              "      <td>2.0</td>\n",
              "      <td>NaN</td>\n",
              "      <td>27.0</td>\n",
              "      <td>30.0</td>\n",
              "      <td>1.0</td>\n",
              "      <td>NaN</td>\n",
              "      <td>179.0</td>\n",
              "      <td>2.0</td>\n",
              "      <td>NaN</td>\n",
              "      <td>1.0</td>\n",
              "      <td>2.0</td>\n",
              "      <td>4.0</td>\n",
              "      <td>NaN</td>\n",
              "      <td>13.0</td>\n",
              "      <td>NaN</td>\n",
              "      <td>NaN</td>\n",
              "    </tr>\n",
              "  </tbody>\n",
              "</table>\n",
              "<p>5 rows × 258 columns</p>\n",
              "</div>"
            ],
            "text/plain": [
              "zone_id                1   10    100  101  102  ...   95   96    97   98  99\n",
              "time                                            ...                         \n",
              "2019-01-01 00:00:00  NaN  2.0   54.0  NaN  NaN  ...  NaN  NaN  15.0  NaN NaN\n",
              "2019-01-01 01:00:00  NaN  3.0   79.0  NaN  NaN  ...  1.0  NaN  39.0  1.0 NaN\n",
              "2019-01-01 02:00:00  1.0  NaN  114.0  1.0  NaN  ...  6.0  NaN  39.0  NaN NaN\n",
              "2019-01-01 03:00:00  NaN  NaN  161.0  NaN  NaN  ...  4.0  1.0  15.0  NaN NaN\n",
              "2019-01-01 04:00:00  NaN  1.0   99.0  NaN  NaN  ...  4.0  NaN  13.0  NaN NaN\n",
              "\n",
              "[5 rows x 258 columns]"
            ]
          },
          "metadata": {
            "tags": []
          },
          "execution_count": 127
        }
      ]
    },
    {
      "cell_type": "code",
      "metadata": {
        "id": "3v5wyhJg76u4",
        "colab_type": "code",
        "colab": {}
      },
      "source": [
        "b=df.pivot_table(\"label\", \"time\", \"zone_id\").unstack().reset_index()"
      ],
      "execution_count": 0,
      "outputs": []
    },
    {
      "cell_type": "code",
      "metadata": {
        "id": "KNTZsmC18Fid",
        "colab_type": "code",
        "colab": {
          "base_uri": "https://localhost:8080/",
          "height": 195
        },
        "outputId": "ba6366d2-5fc2-4591-e339-1d99e01f3a5b"
      },
      "source": [
        "b.head()"
      ],
      "execution_count": 129,
      "outputs": [
        {
          "output_type": "execute_result",
          "data": {
            "text/html": [
              "<div>\n",
              "<style scoped>\n",
              "    .dataframe tbody tr th:only-of-type {\n",
              "        vertical-align: middle;\n",
              "    }\n",
              "\n",
              "    .dataframe tbody tr th {\n",
              "        vertical-align: top;\n",
              "    }\n",
              "\n",
              "    .dataframe thead th {\n",
              "        text-align: right;\n",
              "    }\n",
              "</style>\n",
              "<table border=\"1\" class=\"dataframe\">\n",
              "  <thead>\n",
              "    <tr style=\"text-align: right;\">\n",
              "      <th></th>\n",
              "      <th>zone_id</th>\n",
              "      <th>time</th>\n",
              "      <th>0</th>\n",
              "    </tr>\n",
              "  </thead>\n",
              "  <tbody>\n",
              "    <tr>\n",
              "      <th>0</th>\n",
              "      <td>1</td>\n",
              "      <td>2019-01-01 00:00:00</td>\n",
              "      <td>NaN</td>\n",
              "    </tr>\n",
              "    <tr>\n",
              "      <th>1</th>\n",
              "      <td>1</td>\n",
              "      <td>2019-01-01 01:00:00</td>\n",
              "      <td>NaN</td>\n",
              "    </tr>\n",
              "    <tr>\n",
              "      <th>2</th>\n",
              "      <td>1</td>\n",
              "      <td>2019-01-01 02:00:00</td>\n",
              "      <td>1.0</td>\n",
              "    </tr>\n",
              "    <tr>\n",
              "      <th>3</th>\n",
              "      <td>1</td>\n",
              "      <td>2019-01-01 03:00:00</td>\n",
              "      <td>NaN</td>\n",
              "    </tr>\n",
              "    <tr>\n",
              "      <th>4</th>\n",
              "      <td>1</td>\n",
              "      <td>2019-01-01 04:00:00</td>\n",
              "      <td>NaN</td>\n",
              "    </tr>\n",
              "  </tbody>\n",
              "</table>\n",
              "</div>"
            ],
            "text/plain": [
              "  zone_id                time    0\n",
              "0       1 2019-01-01 00:00:00  NaN\n",
              "1       1 2019-01-01 01:00:00  NaN\n",
              "2       1 2019-01-01 02:00:00  1.0\n",
              "3       1 2019-01-01 03:00:00  NaN\n",
              "4       1 2019-01-01 04:00:00  NaN"
            ]
          },
          "metadata": {
            "tags": []
          },
          "execution_count": 129
        }
      ]
    },
    {
      "cell_type": "code",
      "metadata": {
        "id": "F8Vmtgz6DSWy",
        "colab_type": "code",
        "colab": {}
      },
      "source": [
        "b.rename( columns={0:'pickups'}, inplace=True )"
      ],
      "execution_count": 0,
      "outputs": []
    },
    {
      "cell_type": "code",
      "metadata": {
        "id": "qiyndvPgDV4Y",
        "colab_type": "code",
        "colab": {
          "base_uri": "https://localhost:8080/",
          "height": 195
        },
        "outputId": "38192d8b-8501-4a48-ab42-da6ff6d2b825"
      },
      "source": [
        "b.head()"
      ],
      "execution_count": 131,
      "outputs": [
        {
          "output_type": "execute_result",
          "data": {
            "text/html": [
              "<div>\n",
              "<style scoped>\n",
              "    .dataframe tbody tr th:only-of-type {\n",
              "        vertical-align: middle;\n",
              "    }\n",
              "\n",
              "    .dataframe tbody tr th {\n",
              "        vertical-align: top;\n",
              "    }\n",
              "\n",
              "    .dataframe thead th {\n",
              "        text-align: right;\n",
              "    }\n",
              "</style>\n",
              "<table border=\"1\" class=\"dataframe\">\n",
              "  <thead>\n",
              "    <tr style=\"text-align: right;\">\n",
              "      <th></th>\n",
              "      <th>zone_id</th>\n",
              "      <th>time</th>\n",
              "      <th>pickups</th>\n",
              "    </tr>\n",
              "  </thead>\n",
              "  <tbody>\n",
              "    <tr>\n",
              "      <th>0</th>\n",
              "      <td>1</td>\n",
              "      <td>2019-01-01 00:00:00</td>\n",
              "      <td>NaN</td>\n",
              "    </tr>\n",
              "    <tr>\n",
              "      <th>1</th>\n",
              "      <td>1</td>\n",
              "      <td>2019-01-01 01:00:00</td>\n",
              "      <td>NaN</td>\n",
              "    </tr>\n",
              "    <tr>\n",
              "      <th>2</th>\n",
              "      <td>1</td>\n",
              "      <td>2019-01-01 02:00:00</td>\n",
              "      <td>1.0</td>\n",
              "    </tr>\n",
              "    <tr>\n",
              "      <th>3</th>\n",
              "      <td>1</td>\n",
              "      <td>2019-01-01 03:00:00</td>\n",
              "      <td>NaN</td>\n",
              "    </tr>\n",
              "    <tr>\n",
              "      <th>4</th>\n",
              "      <td>1</td>\n",
              "      <td>2019-01-01 04:00:00</td>\n",
              "      <td>NaN</td>\n",
              "    </tr>\n",
              "  </tbody>\n",
              "</table>\n",
              "</div>"
            ],
            "text/plain": [
              "  zone_id                time  pickups\n",
              "0       1 2019-01-01 00:00:00      NaN\n",
              "1       1 2019-01-01 01:00:00      NaN\n",
              "2       1 2019-01-01 02:00:00      1.0\n",
              "3       1 2019-01-01 03:00:00      NaN\n",
              "4       1 2019-01-01 04:00:00      NaN"
            ]
          },
          "metadata": {
            "tags": []
          },
          "execution_count": 131
        }
      ]
    },
    {
      "cell_type": "code",
      "metadata": {
        "id": "oEez1V7W8qKg",
        "colab_type": "code",
        "colab": {}
      },
      "source": [
        "b1=b.fillna(0)"
      ],
      "execution_count": 0,
      "outputs": []
    },
    {
      "cell_type": "code",
      "metadata": {
        "id": "DsZYBVi-8xDJ",
        "colab_type": "code",
        "colab": {
          "base_uri": "https://localhost:8080/",
          "height": 195
        },
        "outputId": "9358b338-75ee-4bbc-9fc0-6777e9adebfd"
      },
      "source": [
        "b1.head()"
      ],
      "execution_count": 133,
      "outputs": [
        {
          "output_type": "execute_result",
          "data": {
            "text/html": [
              "<div>\n",
              "<style scoped>\n",
              "    .dataframe tbody tr th:only-of-type {\n",
              "        vertical-align: middle;\n",
              "    }\n",
              "\n",
              "    .dataframe tbody tr th {\n",
              "        vertical-align: top;\n",
              "    }\n",
              "\n",
              "    .dataframe thead th {\n",
              "        text-align: right;\n",
              "    }\n",
              "</style>\n",
              "<table border=\"1\" class=\"dataframe\">\n",
              "  <thead>\n",
              "    <tr style=\"text-align: right;\">\n",
              "      <th></th>\n",
              "      <th>zone_id</th>\n",
              "      <th>time</th>\n",
              "      <th>pickups</th>\n",
              "    </tr>\n",
              "  </thead>\n",
              "  <tbody>\n",
              "    <tr>\n",
              "      <th>0</th>\n",
              "      <td>1</td>\n",
              "      <td>2019-01-01 00:00:00</td>\n",
              "      <td>0.0</td>\n",
              "    </tr>\n",
              "    <tr>\n",
              "      <th>1</th>\n",
              "      <td>1</td>\n",
              "      <td>2019-01-01 01:00:00</td>\n",
              "      <td>0.0</td>\n",
              "    </tr>\n",
              "    <tr>\n",
              "      <th>2</th>\n",
              "      <td>1</td>\n",
              "      <td>2019-01-01 02:00:00</td>\n",
              "      <td>1.0</td>\n",
              "    </tr>\n",
              "    <tr>\n",
              "      <th>3</th>\n",
              "      <td>1</td>\n",
              "      <td>2019-01-01 03:00:00</td>\n",
              "      <td>0.0</td>\n",
              "    </tr>\n",
              "    <tr>\n",
              "      <th>4</th>\n",
              "      <td>1</td>\n",
              "      <td>2019-01-01 04:00:00</td>\n",
              "      <td>0.0</td>\n",
              "    </tr>\n",
              "  </tbody>\n",
              "</table>\n",
              "</div>"
            ],
            "text/plain": [
              "  zone_id                time  pickups\n",
              "0       1 2019-01-01 00:00:00      0.0\n",
              "1       1 2019-01-01 01:00:00      0.0\n",
              "2       1 2019-01-01 02:00:00      1.0\n",
              "3       1 2019-01-01 03:00:00      0.0\n",
              "4       1 2019-01-01 04:00:00      0.0"
            ]
          },
          "metadata": {
            "tags": []
          },
          "execution_count": 133
        }
      ]
    },
    {
      "cell_type": "code",
      "metadata": {
        "id": "Z0PKD0zKAm6r",
        "colab_type": "code",
        "colab": {
          "base_uri": "https://localhost:8080/",
          "height": 34
        },
        "outputId": "267e8f39-55a8-45eb-d24d-455e5a2cc5cc"
      },
      "source": [
        "b1.shape"
      ],
      "execution_count": 134,
      "outputs": [
        {
          "output_type": "execute_result",
          "data": {
            "text/plain": [
              "(922350, 3)"
            ]
          },
          "metadata": {
            "tags": []
          },
          "execution_count": 134
        }
      ]
    },
    {
      "cell_type": "code",
      "metadata": {
        "id": "uxYX4ZCp8-Me",
        "colab_type": "code",
        "colab": {
          "base_uri": "https://localhost:8080/",
          "height": 1000
        },
        "outputId": "6c23e604-6595-433e-96bb-afcfbb8c34b1"
      },
      "source": [
        "!pip install datalab"
      ],
      "execution_count": 135,
      "outputs": [
        {
          "output_type": "stream",
          "text": [
            "Requirement already satisfied: datalab in /usr/local/lib/python2.7/dist-packages (1.1.5)\n",
            "Requirement already satisfied: mock>=2.0.0 in /usr/local/lib/python2.7/dist-packages (from datalab) (2.0.0)\n",
            "Requirement already satisfied: urllib3>=1.22 in /usr/local/lib/python2.7/dist-packages (from datalab) (1.24.3)\n",
            "Requirement already satisfied: python-dateutil>=2.5.0 in /usr/local/lib/python2.7/dist-packages (from datalab) (2.5.3)\n",
            "Requirement already satisfied: pyyaml>=3.11 in /usr/local/lib/python2.7/dist-packages (from datalab) (3.13)\n",
            "Requirement already satisfied: oauth2client>=2.2.0 in /usr/local/lib/python2.7/dist-packages (from datalab) (4.1.3)\n",
            "Requirement already satisfied: plotly>=1.12.5 in /usr/local/lib/python2.7/dist-packages (from datalab) (3.6.1)\n",
            "Requirement already satisfied: futures>=3.0.5; python_version == \"2.7\" in /usr/local/lib/python2.7/dist-packages (from datalab) (3.2.0)\n",
            "Requirement already satisfied: requests>=2.9.1 in /usr/local/lib/python2.7/dist-packages (from datalab) (2.21.0)\n",
            "Requirement already satisfied: google-cloud-monitoring==0.31.1 in /usr/local/lib/python2.7/dist-packages (from datalab) (0.31.1)\n",
            "Requirement already satisfied: ipykernel>=4.5.2 in /usr/local/lib/python2.7/dist-packages (from datalab) (4.6.1)\n",
            "Requirement already satisfied: six>=1.10.0 in /usr/local/lib/python2.7/dist-packages (from datalab) (1.12.0)\n",
            "Requirement already satisfied: scikit-learn>=0.18.2 in /usr/local/lib/python2.7/dist-packages (from datalab) (0.20.3)\n",
            "Requirement already satisfied: pandas-profiling==1.4.0 in /usr/local/lib/python2.7/dist-packages (from datalab) (1.4.0)\n",
            "Requirement already satisfied: scikit-image>=0.13.0 in /usr/local/lib/python2.7/dist-packages (from datalab) (0.14.3)\n",
            "Requirement already satisfied: psutil>=4.3.0 in /usr/local/lib/python2.7/dist-packages (from datalab) (5.4.8)\n",
            "Requirement already satisfied: seaborn>=0.7.0 in /usr/local/lib/python2.7/dist-packages (from datalab) (0.9.0)\n",
            "Requirement already satisfied: httplib2>=0.10.3 in /usr/local/lib/python2.7/dist-packages (from datalab) (0.11.3)\n",
            "Requirement already satisfied: pytz>=2015.4 in /usr/local/lib/python2.7/dist-packages (from datalab) (2018.9)\n",
            "Requirement already satisfied: configparser>=3.5.0 in /usr/local/lib/python2.7/dist-packages (from datalab) (3.7.4)\n",
            "Requirement already satisfied: google-auth-httplib2>=0.0.2 in /usr/local/lib/python2.7/dist-packages (from datalab) (0.0.3)\n",
            "Requirement already satisfied: future>=0.16.0 in /usr/local/lib/python2.7/dist-packages (from datalab) (0.16.0)\n",
            "Requirement already satisfied: google-api-python-client>=1.6.2 in /usr/local/lib/python2.7/dist-packages (from datalab) (1.7.9)\n",
            "Requirement already satisfied: jsonschema>=2.6.0 in /usr/local/lib/python2.7/dist-packages (from datalab) (2.6.0)\n",
            "Requirement already satisfied: pandas>=0.22.0 in /usr/local/lib/python2.7/dist-packages (from datalab) (0.24.2)\n",
            "Requirement already satisfied: google-api-core>=1.10.0 in /usr/local/lib/python2.7/dist-packages (from datalab) (1.13.0)\n",
            "Requirement already satisfied: funcsigs>=1; python_version < \"3.3\" in /usr/local/lib/python2.7/dist-packages (from mock>=2.0.0->datalab) (1.0.2)\n",
            "Requirement already satisfied: pbr>=0.11 in /usr/local/lib/python2.7/dist-packages (from mock>=2.0.0->datalab) (5.4.0)\n",
            "Requirement already satisfied: rsa>=3.1.4 in /usr/local/lib/python2.7/dist-packages (from oauth2client>=2.2.0->datalab) (4.0)\n",
            "Requirement already satisfied: pyasn1>=0.1.7 in /usr/local/lib/python2.7/dist-packages (from oauth2client>=2.2.0->datalab) (0.4.5)\n",
            "Requirement already satisfied: pyasn1-modules>=0.0.5 in /usr/local/lib/python2.7/dist-packages (from oauth2client>=2.2.0->datalab) (0.2.5)\n",
            "Requirement already satisfied: decorator>=4.0.6 in /usr/local/lib/python2.7/dist-packages (from plotly>=1.12.5->datalab) (4.4.0)\n",
            "Requirement already satisfied: nbformat>=4.2 in /usr/local/lib/python2.7/dist-packages (from plotly>=1.12.5->datalab) (4.4.0)\n",
            "Requirement already satisfied: retrying>=1.3.3 in /usr/local/lib/python2.7/dist-packages (from plotly>=1.12.5->datalab) (1.3.3)\n",
            "Requirement already satisfied: certifi>=2017.4.17 in /usr/local/lib/python2.7/dist-packages (from requests>=2.9.1->datalab) (2019.6.16)\n",
            "Requirement already satisfied: chardet<3.1.0,>=3.0.2 in /usr/local/lib/python2.7/dist-packages (from requests>=2.9.1->datalab) (3.0.4)\n",
            "Requirement already satisfied: idna<2.9,>=2.5 in /usr/local/lib/python2.7/dist-packages (from requests>=2.9.1->datalab) (2.8)\n",
            "Requirement already satisfied: traitlets>=4.1.0 in /usr/local/lib/python2.7/dist-packages (from ipykernel>=4.5.2->datalab) (4.3.2)\n",
            "Requirement already satisfied: ipython>=4.0.0 in /usr/local/lib/python2.7/dist-packages (from ipykernel>=4.5.2->datalab) (5.5.0)\n",
            "Requirement already satisfied: jupyter-client in /usr/local/lib/python2.7/dist-packages (from ipykernel>=4.5.2->datalab) (5.3.1)\n",
            "Requirement already satisfied: tornado>=4.0 in /usr/local/lib/python2.7/dist-packages (from ipykernel>=4.5.2->datalab) (4.5.3)\n",
            "Requirement already satisfied: scipy>=0.13.3 in /usr/local/lib/python2.7/dist-packages (from scikit-learn>=0.18.2->datalab) (1.2.2)\n",
            "Requirement already satisfied: numpy>=1.8.2 in /usr/local/lib/python2.7/dist-packages (from scikit-learn>=0.18.2->datalab) (1.16.4)\n",
            "Requirement already satisfied: jinja2>=2.8 in /usr/local/lib/python2.7/dist-packages (from pandas-profiling==1.4.0->datalab) (2.10.1)\n",
            "Requirement already satisfied: matplotlib>=1.4 in /usr/local/lib/python2.7/dist-packages (from pandas-profiling==1.4.0->datalab) (2.2.4)\n",
            "Requirement already satisfied: PyWavelets>=0.4.0 in /usr/local/lib/python2.7/dist-packages (from scikit-image>=0.13.0->datalab) (1.0.3)\n",
            "Requirement already satisfied: networkx>=1.8 in /usr/local/lib/python2.7/dist-packages (from scikit-image>=0.13.0->datalab) (2.2)\n",
            "Requirement already satisfied: cloudpickle>=0.2.1 in /usr/local/lib/python2.7/dist-packages (from scikit-image>=0.13.0->datalab) (0.6.1)\n",
            "Requirement already satisfied: pillow>=4.3.0 in /usr/local/lib/python2.7/dist-packages (from scikit-image>=0.13.0->datalab) (4.3.0)\n",
            "Requirement already satisfied: google-auth in /usr/local/lib/python2.7/dist-packages (from google-auth-httplib2>=0.0.2->datalab) (1.4.2)\n",
            "Requirement already satisfied: uritemplate<4dev,>=3.0.0 in /usr/local/lib/python2.7/dist-packages (from google-api-python-client>=1.6.2->datalab) (3.0.0)\n",
            "Requirement already satisfied: functools32; python_version == \"2.7\" in /usr/local/lib/python2.7/dist-packages (from jsonschema>=2.6.0->datalab) (3.2.3.post2)\n",
            "Requirement already satisfied: setuptools>=34.0.0 in /usr/local/lib/python2.7/dist-packages (from google-api-core>=1.10.0->datalab) (44.0.0)\n",
            "Requirement already satisfied: protobuf>=3.4.0 in /usr/local/lib/python2.7/dist-packages (from google-api-core>=1.10.0->datalab) (3.7.1)\n",
            "Requirement already satisfied: googleapis-common-protos!=1.5.4,<2.0dev,>=1.5.3 in /usr/local/lib/python2.7/dist-packages (from google-api-core>=1.10.0->datalab) (1.6.0)\n",
            "Requirement already satisfied: jupyter-core in /usr/local/lib/python2.7/dist-packages (from nbformat>=4.2->plotly>=1.12.5->datalab) (4.5.0)\n",
            "Requirement already satisfied: ipython-genutils in /usr/local/lib/python2.7/dist-packages (from nbformat>=4.2->plotly>=1.12.5->datalab) (0.2.0)\n",
            "Requirement already satisfied: enum34; python_version == \"2.7\" in /usr/local/lib/python2.7/dist-packages (from traitlets>=4.1.0->ipykernel>=4.5.2->datalab) (1.1.6)\n",
            "Requirement already satisfied: simplegeneric>0.8 in /usr/local/lib/python2.7/dist-packages (from ipython>=4.0.0->ipykernel>=4.5.2->datalab) (0.8.1)\n",
            "Requirement already satisfied: pickleshare in /usr/local/lib/python2.7/dist-packages (from ipython>=4.0.0->ipykernel>=4.5.2->datalab) (0.7.5)\n",
            "Requirement already satisfied: backports.shutil-get-terminal-size; python_version == \"2.7\" in /usr/local/lib/python2.7/dist-packages (from ipython>=4.0.0->ipykernel>=4.5.2->datalab) (1.0.0)\n",
            "Requirement already satisfied: pathlib2; python_version == \"2.7\" or python_version == \"3.3\" in /usr/local/lib/python2.7/dist-packages (from ipython>=4.0.0->ipykernel>=4.5.2->datalab) (2.3.4)\n",
            "Requirement already satisfied: pexpect; sys_platform != \"win32\" in /usr/local/lib/python2.7/dist-packages (from ipython>=4.0.0->ipykernel>=4.5.2->datalab) (4.7.0)\n",
            "Requirement already satisfied: pygments in /usr/local/lib/python2.7/dist-packages (from ipython>=4.0.0->ipykernel>=4.5.2->datalab) (2.1.3)\n",
            "Requirement already satisfied: prompt-toolkit<2.0.0,>=1.0.4 in /usr/local/lib/python2.7/dist-packages (from ipython>=4.0.0->ipykernel>=4.5.2->datalab) (1.0.16)\n",
            "Requirement already satisfied: pyzmq>=13 in /usr/local/lib/python2.7/dist-packages (from jupyter-client->ipykernel>=4.5.2->datalab) (17.0.0)\n",
            "Requirement already satisfied: singledispatch in /usr/local/lib/python2.7/dist-packages (from tornado>=4.0->ipykernel>=4.5.2->datalab) (3.4.0.3)\n",
            "Requirement already satisfied: backports-abc>=0.4 in /usr/local/lib/python2.7/dist-packages (from tornado>=4.0->ipykernel>=4.5.2->datalab) (0.5)\n",
            "Requirement already satisfied: MarkupSafe>=0.23 in /usr/local/lib/python2.7/dist-packages (from jinja2>=2.8->pandas-profiling==1.4.0->datalab) (1.1.1)\n",
            "Requirement already satisfied: cycler>=0.10 in /usr/local/lib/python2.7/dist-packages (from matplotlib>=1.4->pandas-profiling==1.4.0->datalab) (0.10.0)\n",
            "Requirement already satisfied: backports.functools-lru-cache in /usr/local/lib/python2.7/dist-packages (from matplotlib>=1.4->pandas-profiling==1.4.0->datalab) (1.5)\n",
            "Requirement already satisfied: subprocess32 in /usr/local/lib/python2.7/dist-packages (from matplotlib>=1.4->pandas-profiling==1.4.0->datalab) (3.5.4)\n",
            "Requirement already satisfied: kiwisolver>=1.0.1 in /usr/local/lib/python2.7/dist-packages (from matplotlib>=1.4->pandas-profiling==1.4.0->datalab) (1.1.0)\n",
            "Requirement already satisfied: pyparsing!=2.0.4,!=2.1.2,!=2.1.6,>=2.0.1 in /usr/local/lib/python2.7/dist-packages (from matplotlib>=1.4->pandas-profiling==1.4.0->datalab) (2.4.0)\n",
            "Requirement already satisfied: olefile in /usr/local/lib/python2.7/dist-packages (from pillow>=4.3.0->scikit-image>=0.13.0->datalab) (0.46)\n",
            "Requirement already satisfied: cachetools>=2.0.0 in /usr/local/lib/python2.7/dist-packages (from google-auth->google-auth-httplib2>=0.0.2->datalab) (3.1.1)\n",
            "Requirement already satisfied: scandir; python_version < \"3.5\" in /usr/local/lib/python2.7/dist-packages (from pathlib2; python_version == \"2.7\" or python_version == \"3.3\"->ipython>=4.0.0->ipykernel>=4.5.2->datalab) (1.10.0)\n",
            "Requirement already satisfied: ptyprocess>=0.5 in /usr/local/lib/python2.7/dist-packages (from pexpect; sys_platform != \"win32\"->ipython>=4.0.0->ipykernel>=4.5.2->datalab) (0.6.0)\n",
            "Requirement already satisfied: wcwidth in /usr/local/lib/python2.7/dist-packages (from prompt-toolkit<2.0.0,>=1.0.4->ipython>=4.0.0->ipykernel>=4.5.2->datalab) (0.1.7)\n"
          ],
          "name": "stdout"
        }
      ]
    },
    {
      "cell_type": "code",
      "metadata": {
        "id": "2B29Y4WJwygz",
        "colab_type": "code",
        "colab": {}
      },
      "source": [
        "from datalab.context import Context"
      ],
      "execution_count": 0,
      "outputs": []
    },
    {
      "cell_type": "code",
      "metadata": {
        "id": "6ZYmCUgb-LWI",
        "colab_type": "code",
        "colab": {}
      },
      "source": [
        "import pandas_gbq as gbq"
      ],
      "execution_count": 0,
      "outputs": []
    },
    {
      "cell_type": "code",
      "metadata": {
        "id": "ogwyrSVO-YgD",
        "colab_type": "code",
        "colab": {}
      },
      "source": [
        "from google.oauth2 import service_account"
      ],
      "execution_count": 0,
      "outputs": []
    },
    {
      "cell_type": "code",
      "metadata": {
        "id": "cB4H4YR-_04A",
        "colab_type": "code",
        "colab": {}
      },
      "source": [
        "#Dont run this\n",
        "gbq.to_gbq(b1, 'hello.test_table', 'nyc-taxi-265120', if_exists='append')"
      ],
      "execution_count": 0,
      "outputs": []
    },
    {
      "cell_type": "code",
      "metadata": {
        "id": "0OBGwxrPJI1k",
        "colab_type": "code",
        "colab": {}
      },
      "source": [
        "query = \"\"\"\n",
        "with wd as (\n",
        "    SELECT \n",
        "        cast(year as STRING) as year,\n",
        "        EXTRACT (DAYOFYEAR FROM CAST(CONCAT(year,'-',mo,'-',da) AS TIMESTAMP)) AS daynumber, \n",
        "        MIN(EXTRACT (DAYOFWEEK FROM CAST(CONCAT(year,'-',mo,'-',da) AS TIMESTAMP))) dayofweek,\n",
        "        MIN(min) mintemp, MAX(max) maxtemp, MAX(IF(prcp=99.99,0,prcp)) rain\n",
        "    FROM `bigquery-public-data.noaa_gsod.gsod2019`\n",
        "    WHERE stn='725030'   --station id 725030=LaGuardia\n",
        "    GROUP BY 1,2 \n",
        "  \n",
        "  -- TAXI DATA\n",
        "  ),\n",
        "TD AS(\n",
        "\n",
        "SELECT  zone_id, time, pickups ,CAST(EXTRACT (YEAR from time) AS STRING) AS year,EXTRACT (DAYOFYEAR from time) AS daynumber,EXTRACT (HOUR from time) AS hour from `nyc-taxi-265120.hello.test_table` ),points AS\n",
        "(SELECT *,ST_CENTROID(zone_geom) as p FROM `bigquery-public-data.new_york_taxi_trips.taxi_zone_geom`)\n",
        "\n",
        "\n",
        "SELECT \n",
        "points.zone_id,\n",
        "td.time,\n",
        "td.daynumber,\n",
        "td.hour,\n",
        "cast(wd.dayofweek as STRING) as dayofweek, \n",
        "    wd.mintemp, \n",
        "    wd.maxtemp,\n",
        "    wd.rain,\n",
        " td.pickups,\n",
        "\n",
        "    ST_ASTEXT(points.p) AS P,\n",
        " \n",
        "  FROM wd, td INNER JOIN points ON points.zone_id=td.zone_id\n",
        "  where wd.year = td.year AND\n",
        "  wd.daynumber = td.daynumber\n",
        "  group by zone_id,time,daynumber,hour,pickups,P,dayofweek, mintemp, maxtemp, rain\n",
        "\n",
        "\"\"\"\n",
        "df2 = client.query(query).to_dataframe()\n"
      ],
      "execution_count": 0,
      "outputs": []
    },
    {
      "cell_type": "code",
      "metadata": {
        "id": "GytdEDCaJFXP",
        "colab_type": "code",
        "colab": {
          "base_uri": "https://localhost:8080/",
          "height": 195
        },
        "outputId": "39c0c2ac-8f08-463a-de02-f53f88d57c56"
      },
      "source": [
        "df2.head()"
      ],
      "execution_count": 140,
      "outputs": [
        {
          "output_type": "execute_result",
          "data": {
            "text/html": [
              "<div>\n",
              "<style scoped>\n",
              "    .dataframe tbody tr th:only-of-type {\n",
              "        vertical-align: middle;\n",
              "    }\n",
              "\n",
              "    .dataframe tbody tr th {\n",
              "        vertical-align: top;\n",
              "    }\n",
              "\n",
              "    .dataframe thead th {\n",
              "        text-align: right;\n",
              "    }\n",
              "</style>\n",
              "<table border=\"1\" class=\"dataframe\">\n",
              "  <thead>\n",
              "    <tr style=\"text-align: right;\">\n",
              "      <th></th>\n",
              "      <th>zone_id</th>\n",
              "      <th>time</th>\n",
              "      <th>daynumber</th>\n",
              "      <th>hour</th>\n",
              "      <th>dayofweek</th>\n",
              "      <th>mintemp</th>\n",
              "      <th>maxtemp</th>\n",
              "      <th>rain</th>\n",
              "      <th>pickups</th>\n",
              "      <th>P</th>\n",
              "    </tr>\n",
              "  </thead>\n",
              "  <tbody>\n",
              "    <tr>\n",
              "      <th>0</th>\n",
              "      <td>1</td>\n",
              "      <td>2019-01-01 00:00:00+00:00</td>\n",
              "      <td>1</td>\n",
              "      <td>0</td>\n",
              "      <td>3</td>\n",
              "      <td>35.1</td>\n",
              "      <td>60.1</td>\n",
              "      <td>1.39</td>\n",
              "      <td>0.0</td>\n",
              "      <td>POINT(-74.1740015721158 40.6918301401778)</td>\n",
              "    </tr>\n",
              "    <tr>\n",
              "      <th>1</th>\n",
              "      <td>1</td>\n",
              "      <td>2019-01-01 01:00:00+00:00</td>\n",
              "      <td>1</td>\n",
              "      <td>1</td>\n",
              "      <td>3</td>\n",
              "      <td>35.1</td>\n",
              "      <td>60.1</td>\n",
              "      <td>1.39</td>\n",
              "      <td>0.0</td>\n",
              "      <td>POINT(-74.1740015721158 40.6918301401778)</td>\n",
              "    </tr>\n",
              "    <tr>\n",
              "      <th>2</th>\n",
              "      <td>1</td>\n",
              "      <td>2019-01-01 03:00:00+00:00</td>\n",
              "      <td>1</td>\n",
              "      <td>3</td>\n",
              "      <td>3</td>\n",
              "      <td>35.1</td>\n",
              "      <td>60.1</td>\n",
              "      <td>1.39</td>\n",
              "      <td>0.0</td>\n",
              "      <td>POINT(-74.1740015721158 40.6918301401778)</td>\n",
              "    </tr>\n",
              "    <tr>\n",
              "      <th>3</th>\n",
              "      <td>1</td>\n",
              "      <td>2019-01-01 04:00:00+00:00</td>\n",
              "      <td>1</td>\n",
              "      <td>4</td>\n",
              "      <td>3</td>\n",
              "      <td>35.1</td>\n",
              "      <td>60.1</td>\n",
              "      <td>1.39</td>\n",
              "      <td>0.0</td>\n",
              "      <td>POINT(-74.1740015721158 40.6918301401778)</td>\n",
              "    </tr>\n",
              "    <tr>\n",
              "      <th>4</th>\n",
              "      <td>1</td>\n",
              "      <td>2019-01-01 07:00:00+00:00</td>\n",
              "      <td>1</td>\n",
              "      <td>7</td>\n",
              "      <td>3</td>\n",
              "      <td>35.1</td>\n",
              "      <td>60.1</td>\n",
              "      <td>1.39</td>\n",
              "      <td>0.0</td>\n",
              "      <td>POINT(-74.1740015721158 40.6918301401778)</td>\n",
              "    </tr>\n",
              "  </tbody>\n",
              "</table>\n",
              "</div>"
            ],
            "text/plain": [
              "  zone_id  ...                                          P\n",
              "0       1  ...  POINT(-74.1740015721158 40.6918301401778)\n",
              "1       1  ...  POINT(-74.1740015721158 40.6918301401778)\n",
              "2       1  ...  POINT(-74.1740015721158 40.6918301401778)\n",
              "3       1  ...  POINT(-74.1740015721158 40.6918301401778)\n",
              "4       1  ...  POINT(-74.1740015721158 40.6918301401778)\n",
              "\n",
              "[5 rows x 10 columns]"
            ]
          },
          "metadata": {
            "tags": []
          },
          "execution_count": 140
        }
      ]
    },
    {
      "cell_type": "code",
      "metadata": {
        "id": "TL80EPsU9K6E",
        "colab_type": "code",
        "outputId": "c09eb466-c613-4723-f468-cfe90fe31adb",
        "colab": {
          "base_uri": "https://localhost:8080/",
          "height": 34
        }
      },
      "source": [
        "print df2.shape"
      ],
      "execution_count": 141,
      "outputs": [
        {
          "output_type": "stream",
          "text": [
            "(925925, 10)\n"
          ],
          "name": "stdout"
        }
      ]
    },
    {
      "cell_type": "code",
      "metadata": {
        "id": "C4o8_eGoQ4hk",
        "colab_type": "code",
        "outputId": "7f0d796c-a3af-438d-d9f6-9686adcd5594",
        "colab": {
          "base_uri": "https://localhost:8080/",
          "height": 34
        }
      },
      "source": [
        "max(df2['pickups'])"
      ],
      "execution_count": 142,
      "outputs": [
        {
          "output_type": "execute_result",
          "data": {
            "text/plain": [
              "1425.0"
            ]
          },
          "metadata": {
            "tags": []
          },
          "execution_count": 142
        }
      ]
    },
    {
      "cell_type": "code",
      "metadata": {
        "id": "fT7B3b7NsmTk",
        "colab_type": "code",
        "colab": {}
      },
      "source": [
        "df2.drop('P', axis=1, inplace=True)"
      ],
      "execution_count": 0,
      "outputs": []
    },
    {
      "cell_type": "code",
      "metadata": {
        "id": "4XyR2QL_y8KS",
        "colab_type": "code",
        "outputId": "3355f534-efd0-4287-d749-f9d23b7edef1",
        "colab": {
          "base_uri": "https://localhost:8080/",
          "height": 195
        }
      },
      "source": [
        "df2.head()"
      ],
      "execution_count": 144,
      "outputs": [
        {
          "output_type": "execute_result",
          "data": {
            "text/html": [
              "<div>\n",
              "<style scoped>\n",
              "    .dataframe tbody tr th:only-of-type {\n",
              "        vertical-align: middle;\n",
              "    }\n",
              "\n",
              "    .dataframe tbody tr th {\n",
              "        vertical-align: top;\n",
              "    }\n",
              "\n",
              "    .dataframe thead th {\n",
              "        text-align: right;\n",
              "    }\n",
              "</style>\n",
              "<table border=\"1\" class=\"dataframe\">\n",
              "  <thead>\n",
              "    <tr style=\"text-align: right;\">\n",
              "      <th></th>\n",
              "      <th>zone_id</th>\n",
              "      <th>time</th>\n",
              "      <th>daynumber</th>\n",
              "      <th>hour</th>\n",
              "      <th>dayofweek</th>\n",
              "      <th>mintemp</th>\n",
              "      <th>maxtemp</th>\n",
              "      <th>rain</th>\n",
              "      <th>pickups</th>\n",
              "    </tr>\n",
              "  </thead>\n",
              "  <tbody>\n",
              "    <tr>\n",
              "      <th>0</th>\n",
              "      <td>1</td>\n",
              "      <td>2019-01-01 00:00:00+00:00</td>\n",
              "      <td>1</td>\n",
              "      <td>0</td>\n",
              "      <td>3</td>\n",
              "      <td>35.1</td>\n",
              "      <td>60.1</td>\n",
              "      <td>1.39</td>\n",
              "      <td>0.0</td>\n",
              "    </tr>\n",
              "    <tr>\n",
              "      <th>1</th>\n",
              "      <td>1</td>\n",
              "      <td>2019-01-01 01:00:00+00:00</td>\n",
              "      <td>1</td>\n",
              "      <td>1</td>\n",
              "      <td>3</td>\n",
              "      <td>35.1</td>\n",
              "      <td>60.1</td>\n",
              "      <td>1.39</td>\n",
              "      <td>0.0</td>\n",
              "    </tr>\n",
              "    <tr>\n",
              "      <th>2</th>\n",
              "      <td>1</td>\n",
              "      <td>2019-01-01 03:00:00+00:00</td>\n",
              "      <td>1</td>\n",
              "      <td>3</td>\n",
              "      <td>3</td>\n",
              "      <td>35.1</td>\n",
              "      <td>60.1</td>\n",
              "      <td>1.39</td>\n",
              "      <td>0.0</td>\n",
              "    </tr>\n",
              "    <tr>\n",
              "      <th>3</th>\n",
              "      <td>1</td>\n",
              "      <td>2019-01-01 04:00:00+00:00</td>\n",
              "      <td>1</td>\n",
              "      <td>4</td>\n",
              "      <td>3</td>\n",
              "      <td>35.1</td>\n",
              "      <td>60.1</td>\n",
              "      <td>1.39</td>\n",
              "      <td>0.0</td>\n",
              "    </tr>\n",
              "    <tr>\n",
              "      <th>4</th>\n",
              "      <td>1</td>\n",
              "      <td>2019-01-01 07:00:00+00:00</td>\n",
              "      <td>1</td>\n",
              "      <td>7</td>\n",
              "      <td>3</td>\n",
              "      <td>35.1</td>\n",
              "      <td>60.1</td>\n",
              "      <td>1.39</td>\n",
              "      <td>0.0</td>\n",
              "    </tr>\n",
              "  </tbody>\n",
              "</table>\n",
              "</div>"
            ],
            "text/plain": [
              "  zone_id                      time  daynumber  ...  maxtemp  rain  pickups\n",
              "0       1 2019-01-01 00:00:00+00:00          1  ...     60.1  1.39      0.0\n",
              "1       1 2019-01-01 01:00:00+00:00          1  ...     60.1  1.39      0.0\n",
              "2       1 2019-01-01 03:00:00+00:00          1  ...     60.1  1.39      0.0\n",
              "3       1 2019-01-01 04:00:00+00:00          1  ...     60.1  1.39      0.0\n",
              "4       1 2019-01-01 07:00:00+00:00          1  ...     60.1  1.39      0.0\n",
              "\n",
              "[5 rows x 9 columns]"
            ]
          },
          "metadata": {
            "tags": []
          },
          "execution_count": 144
        }
      ]
    },
    {
      "cell_type": "code",
      "metadata": {
        "id": "m-0UV_BP2al1",
        "colab_type": "code",
        "colab": {}
      },
      "source": [
        "df2.drop('time', axis=1, inplace=True)"
      ],
      "execution_count": 0,
      "outputs": []
    },
    {
      "cell_type": "code",
      "metadata": {
        "id": "XnziEDsDzhBd",
        "colab_type": "code",
        "outputId": "6b7a0282-457e-4424-b3c2-f48504d9a1a5",
        "colab": {
          "base_uri": "https://localhost:8080/",
          "height": 195
        }
      },
      "source": [
        "df2.head()"
      ],
      "execution_count": 146,
      "outputs": [
        {
          "output_type": "execute_result",
          "data": {
            "text/html": [
              "<div>\n",
              "<style scoped>\n",
              "    .dataframe tbody tr th:only-of-type {\n",
              "        vertical-align: middle;\n",
              "    }\n",
              "\n",
              "    .dataframe tbody tr th {\n",
              "        vertical-align: top;\n",
              "    }\n",
              "\n",
              "    .dataframe thead th {\n",
              "        text-align: right;\n",
              "    }\n",
              "</style>\n",
              "<table border=\"1\" class=\"dataframe\">\n",
              "  <thead>\n",
              "    <tr style=\"text-align: right;\">\n",
              "      <th></th>\n",
              "      <th>zone_id</th>\n",
              "      <th>daynumber</th>\n",
              "      <th>hour</th>\n",
              "      <th>dayofweek</th>\n",
              "      <th>mintemp</th>\n",
              "      <th>maxtemp</th>\n",
              "      <th>rain</th>\n",
              "      <th>pickups</th>\n",
              "    </tr>\n",
              "  </thead>\n",
              "  <tbody>\n",
              "    <tr>\n",
              "      <th>0</th>\n",
              "      <td>1</td>\n",
              "      <td>1</td>\n",
              "      <td>0</td>\n",
              "      <td>3</td>\n",
              "      <td>35.1</td>\n",
              "      <td>60.1</td>\n",
              "      <td>1.39</td>\n",
              "      <td>0.0</td>\n",
              "    </tr>\n",
              "    <tr>\n",
              "      <th>1</th>\n",
              "      <td>1</td>\n",
              "      <td>1</td>\n",
              "      <td>1</td>\n",
              "      <td>3</td>\n",
              "      <td>35.1</td>\n",
              "      <td>60.1</td>\n",
              "      <td>1.39</td>\n",
              "      <td>0.0</td>\n",
              "    </tr>\n",
              "    <tr>\n",
              "      <th>2</th>\n",
              "      <td>1</td>\n",
              "      <td>1</td>\n",
              "      <td>3</td>\n",
              "      <td>3</td>\n",
              "      <td>35.1</td>\n",
              "      <td>60.1</td>\n",
              "      <td>1.39</td>\n",
              "      <td>0.0</td>\n",
              "    </tr>\n",
              "    <tr>\n",
              "      <th>3</th>\n",
              "      <td>1</td>\n",
              "      <td>1</td>\n",
              "      <td>4</td>\n",
              "      <td>3</td>\n",
              "      <td>35.1</td>\n",
              "      <td>60.1</td>\n",
              "      <td>1.39</td>\n",
              "      <td>0.0</td>\n",
              "    </tr>\n",
              "    <tr>\n",
              "      <th>4</th>\n",
              "      <td>1</td>\n",
              "      <td>1</td>\n",
              "      <td>7</td>\n",
              "      <td>3</td>\n",
              "      <td>35.1</td>\n",
              "      <td>60.1</td>\n",
              "      <td>1.39</td>\n",
              "      <td>0.0</td>\n",
              "    </tr>\n",
              "  </tbody>\n",
              "</table>\n",
              "</div>"
            ],
            "text/plain": [
              "  zone_id  daynumber  hour dayofweek  mintemp  maxtemp  rain  pickups\n",
              "0       1          1     0         3     35.1     60.1  1.39      0.0\n",
              "1       1          1     1         3     35.1     60.1  1.39      0.0\n",
              "2       1          1     3         3     35.1     60.1  1.39      0.0\n",
              "3       1          1     4         3     35.1     60.1  1.39      0.0\n",
              "4       1          1     7         3     35.1     60.1  1.39      0.0"
            ]
          },
          "metadata": {
            "tags": []
          },
          "execution_count": 146
        }
      ]
    },
    {
      "cell_type": "code",
      "metadata": {
        "id": "MFPVJ9UTuoH8",
        "colab_type": "code",
        "outputId": "fd30413c-d380-43c9-c801-7c61ef3156de",
        "colab": {
          "base_uri": "https://localhost:8080/",
          "height": 168
        }
      },
      "source": [
        "df2.isnull().sum()"
      ],
      "execution_count": 147,
      "outputs": [
        {
          "output_type": "execute_result",
          "data": {
            "text/plain": [
              "zone_id      0\n",
              "daynumber    0\n",
              "hour         0\n",
              "dayofweek    0\n",
              "mintemp      0\n",
              "maxtemp      0\n",
              "rain         0\n",
              "pickups      0\n",
              "dtype: int64"
            ]
          },
          "metadata": {
            "tags": []
          },
          "execution_count": 147
        }
      ]
    },
    {
      "cell_type": "code",
      "metadata": {
        "id": "dB5860M-3Age",
        "colab_type": "code",
        "colab": {}
      },
      "source": [
        "df2[\"zone_id\"] = df2[\"zone_id\"].astype(int)\n",
        "df2[\"dayofweek\"] = df2[\"dayofweek\"].astype(int)"
      ],
      "execution_count": 0,
      "outputs": []
    },
    {
      "cell_type": "code",
      "metadata": {
        "id": "OwTdn5tqXyzq",
        "colab_type": "code",
        "outputId": "cb8eae1b-5ef3-41f1-e374-a401a9a395e5",
        "colab": {
          "base_uri": "https://localhost:8080/",
          "height": 235
        }
      },
      "source": [
        "df2.info()"
      ],
      "execution_count": 149,
      "outputs": [
        {
          "output_type": "stream",
          "text": [
            "<class 'pandas.core.frame.DataFrame'>\n",
            "RangeIndex: 925925 entries, 0 to 925924\n",
            "Data columns (total 8 columns):\n",
            "zone_id      925925 non-null int64\n",
            "daynumber    925925 non-null int64\n",
            "hour         925925 non-null int64\n",
            "dayofweek    925925 non-null int64\n",
            "mintemp      925925 non-null float64\n",
            "maxtemp      925925 non-null float64\n",
            "rain         925925 non-null float64\n",
            "pickups      925925 non-null float64\n",
            "dtypes: float64(4), int64(4)\n",
            "memory usage: 56.5 MB\n"
          ],
          "name": "stdout"
        }
      ]
    },
    {
      "cell_type": "code",
      "metadata": {
        "id": "Fc1xSFGLYebv",
        "colab_type": "code",
        "colab": {}
      },
      "source": [
        "train=df2"
      ],
      "execution_count": 0,
      "outputs": []
    },
    {
      "cell_type": "code",
      "metadata": {
        "id": "0-daztmcYmx2",
        "colab_type": "code",
        "outputId": "04340c5d-d42a-46be-e1a2-3044e0540314",
        "colab": {
          "base_uri": "https://localhost:8080/",
          "height": 195
        }
      },
      "source": [
        "train.head()"
      ],
      "execution_count": 151,
      "outputs": [
        {
          "output_type": "execute_result",
          "data": {
            "text/html": [
              "<div>\n",
              "<style scoped>\n",
              "    .dataframe tbody tr th:only-of-type {\n",
              "        vertical-align: middle;\n",
              "    }\n",
              "\n",
              "    .dataframe tbody tr th {\n",
              "        vertical-align: top;\n",
              "    }\n",
              "\n",
              "    .dataframe thead th {\n",
              "        text-align: right;\n",
              "    }\n",
              "</style>\n",
              "<table border=\"1\" class=\"dataframe\">\n",
              "  <thead>\n",
              "    <tr style=\"text-align: right;\">\n",
              "      <th></th>\n",
              "      <th>zone_id</th>\n",
              "      <th>daynumber</th>\n",
              "      <th>hour</th>\n",
              "      <th>dayofweek</th>\n",
              "      <th>mintemp</th>\n",
              "      <th>maxtemp</th>\n",
              "      <th>rain</th>\n",
              "      <th>pickups</th>\n",
              "    </tr>\n",
              "  </thead>\n",
              "  <tbody>\n",
              "    <tr>\n",
              "      <th>0</th>\n",
              "      <td>1</td>\n",
              "      <td>1</td>\n",
              "      <td>0</td>\n",
              "      <td>3</td>\n",
              "      <td>35.1</td>\n",
              "      <td>60.1</td>\n",
              "      <td>1.39</td>\n",
              "      <td>0.0</td>\n",
              "    </tr>\n",
              "    <tr>\n",
              "      <th>1</th>\n",
              "      <td>1</td>\n",
              "      <td>1</td>\n",
              "      <td>1</td>\n",
              "      <td>3</td>\n",
              "      <td>35.1</td>\n",
              "      <td>60.1</td>\n",
              "      <td>1.39</td>\n",
              "      <td>0.0</td>\n",
              "    </tr>\n",
              "    <tr>\n",
              "      <th>2</th>\n",
              "      <td>1</td>\n",
              "      <td>1</td>\n",
              "      <td>3</td>\n",
              "      <td>3</td>\n",
              "      <td>35.1</td>\n",
              "      <td>60.1</td>\n",
              "      <td>1.39</td>\n",
              "      <td>0.0</td>\n",
              "    </tr>\n",
              "    <tr>\n",
              "      <th>3</th>\n",
              "      <td>1</td>\n",
              "      <td>1</td>\n",
              "      <td>4</td>\n",
              "      <td>3</td>\n",
              "      <td>35.1</td>\n",
              "      <td>60.1</td>\n",
              "      <td>1.39</td>\n",
              "      <td>0.0</td>\n",
              "    </tr>\n",
              "    <tr>\n",
              "      <th>4</th>\n",
              "      <td>1</td>\n",
              "      <td>1</td>\n",
              "      <td>7</td>\n",
              "      <td>3</td>\n",
              "      <td>35.1</td>\n",
              "      <td>60.1</td>\n",
              "      <td>1.39</td>\n",
              "      <td>0.0</td>\n",
              "    </tr>\n",
              "  </tbody>\n",
              "</table>\n",
              "</div>"
            ],
            "text/plain": [
              "   zone_id  daynumber  hour  dayofweek  mintemp  maxtemp  rain  pickups\n",
              "0        1          1     0          3     35.1     60.1  1.39      0.0\n",
              "1        1          1     1          3     35.1     60.1  1.39      0.0\n",
              "2        1          1     3          3     35.1     60.1  1.39      0.0\n",
              "3        1          1     4          3     35.1     60.1  1.39      0.0\n",
              "4        1          1     7          3     35.1     60.1  1.39      0.0"
            ]
          },
          "metadata": {
            "tags": []
          },
          "execution_count": 151
        }
      ]
    },
    {
      "cell_type": "code",
      "metadata": {
        "id": "vHeQ7PL1Y2mU",
        "colab_type": "code",
        "colab": {}
      },
      "source": [
        "train=train.drop('pickups', axis=1)"
      ],
      "execution_count": 0,
      "outputs": []
    },
    {
      "cell_type": "code",
      "metadata": {
        "id": "a_7T6h-6Y_mi",
        "colab_type": "code",
        "outputId": "5beff4e3-4b26-4c78-e8db-042b13419685",
        "colab": {
          "base_uri": "https://localhost:8080/",
          "height": 34
        }
      },
      "source": [
        "max(df2['pickups'])"
      ],
      "execution_count": 153,
      "outputs": [
        {
          "output_type": "execute_result",
          "data": {
            "text/plain": [
              "1425.0"
            ]
          },
          "metadata": {
            "tags": []
          },
          "execution_count": 153
        }
      ]
    },
    {
      "cell_type": "code",
      "metadata": {
        "id": "uRSz41-ZZbqo",
        "colab_type": "code",
        "colab": {}
      },
      "source": [
        "y=df2['pickups']\n",
        "X=train"
      ],
      "execution_count": 0,
      "outputs": []
    },
    {
      "cell_type": "code",
      "metadata": {
        "id": "B1t0o8K6f2cB",
        "colab_type": "code",
        "colab": {
          "base_uri": "https://localhost:8080/",
          "height": 218
        },
        "outputId": "21f2d9ee-c120-416d-ebea-3999bfa22b9c"
      },
      "source": [
        "X.info()"
      ],
      "execution_count": 155,
      "outputs": [
        {
          "output_type": "stream",
          "text": [
            "<class 'pandas.core.frame.DataFrame'>\n",
            "RangeIndex: 925925 entries, 0 to 925924\n",
            "Data columns (total 7 columns):\n",
            "zone_id      925925 non-null int64\n",
            "daynumber    925925 non-null int64\n",
            "hour         925925 non-null int64\n",
            "dayofweek    925925 non-null int64\n",
            "mintemp      925925 non-null float64\n",
            "maxtemp      925925 non-null float64\n",
            "rain         925925 non-null float64\n",
            "dtypes: float64(3), int64(4)\n",
            "memory usage: 49.4 MB\n"
          ],
          "name": "stdout"
        }
      ]
    },
    {
      "cell_type": "code",
      "metadata": {
        "id": "9ug1ATKxwmwY",
        "colab_type": "code",
        "colab": {}
      },
      "source": [
        "from sklearn.model_selection import train_test_split\n",
        "X_train, X_test, y_train, y_test = train_test_split(X, y, random_state=0)"
      ],
      "execution_count": 0,
      "outputs": []
    },
    {
      "cell_type": "code",
      "metadata": {
        "id": "H3w9R9V0bQ6n",
        "colab_type": "code",
        "outputId": "702b9101-d8bf-43ea-dc17-9134d836d5a4",
        "colab": {
          "base_uri": "https://localhost:8080/",
          "height": 34
        }
      },
      "source": [
        "y_train.shape"
      ],
      "execution_count": 157,
      "outputs": [
        {
          "output_type": "execute_result",
          "data": {
            "text/plain": [
              "(694443,)"
            ]
          },
          "metadata": {
            "tags": []
          },
          "execution_count": 157
        }
      ]
    },
    {
      "cell_type": "code",
      "metadata": {
        "id": "dsnn34dBedlW",
        "colab_type": "code",
        "outputId": "15b35b1b-5dc5-4989-c766-42953b1a26a9",
        "colab": {
          "base_uri": "https://localhost:8080/",
          "height": 34
        }
      },
      "source": [
        "max(y)"
      ],
      "execution_count": 158,
      "outputs": [
        {
          "output_type": "execute_result",
          "data": {
            "text/plain": [
              "1425.0"
            ]
          },
          "metadata": {
            "tags": []
          },
          "execution_count": 158
        }
      ]
    },
    {
      "cell_type": "code",
      "metadata": {
        "id": "Fd_UNnUGdqJ7",
        "colab_type": "code",
        "outputId": "c2f1d2ad-2fb8-405c-9f7c-026029247a60",
        "colab": {
          "base_uri": "https://localhost:8080/",
          "height": 218
        }
      },
      "source": [
        "X_train.info()"
      ],
      "execution_count": 159,
      "outputs": [
        {
          "output_type": "stream",
          "text": [
            "<class 'pandas.core.frame.DataFrame'>\n",
            "Int64Index: 694443 entries, 36204 to 305711\n",
            "Data columns (total 7 columns):\n",
            "zone_id      694443 non-null int64\n",
            "daynumber    694443 non-null int64\n",
            "hour         694443 non-null int64\n",
            "dayofweek    694443 non-null int64\n",
            "mintemp      694443 non-null float64\n",
            "maxtemp      694443 non-null float64\n",
            "rain         694443 non-null float64\n",
            "dtypes: float64(3), int64(4)\n",
            "memory usage: 42.4 MB\n"
          ],
          "name": "stdout"
        }
      ]
    },
    {
      "cell_type": "code",
      "metadata": {
        "id": "_JSYk2u2ZqZH",
        "colab_type": "code",
        "colab": {}
      },
      "source": [
        "from sklearn.linear_model import LogisticRegression\n",
        "import xgboost as xgb\n",
        "from sklearn.metrics import accuracy_score"
      ],
      "execution_count": 0,
      "outputs": []
    },
    {
      "cell_type": "code",
      "metadata": {
        "id": "To_Y2PLEbAVw",
        "colab_type": "code",
        "colab": {}
      },
      "source": [
        "import lightgbm as lgb"
      ],
      "execution_count": 0,
      "outputs": []
    },
    {
      "cell_type": "code",
      "metadata": {
        "id": "On8Gfsmsi5h1",
        "colab_type": "code",
        "colab": {
          "base_uri": "https://localhost:8080/",
          "height": 151
        },
        "outputId": "957cab7d-ef7e-4391-d1ff-30cfc177972b"
      },
      "source": [
        "from sklearn.ensemble import RandomForestRegressor\n",
        "rf = RandomForestRegressor()\n",
        "rf.fit(X_train, y_train)\n"
      ],
      "execution_count": 163,
      "outputs": [
        {
          "output_type": "stream",
          "text": [
            "/usr/local/lib/python2.7/dist-packages/sklearn/ensemble/forest.py:246: FutureWarning: The default value of n_estimators will change from 10 in version 0.20 to 100 in 0.22.\n",
            "  \"10 in version 0.20 to 100 in 0.22.\", FutureWarning)\n"
          ],
          "name": "stderr"
        },
        {
          "output_type": "execute_result",
          "data": {
            "text/plain": [
              "RandomForestRegressor(bootstrap=True, criterion='mse', max_depth=None,\n",
              "           max_features='auto', max_leaf_nodes=None,\n",
              "           min_impurity_decrease=0.0, min_impurity_split=None,\n",
              "           min_samples_leaf=1, min_samples_split=2,\n",
              "           min_weight_fraction_leaf=0.0, n_estimators=10, n_jobs=None,\n",
              "           oob_score=False, random_state=None, verbose=0, warm_start=False)"
            ]
          },
          "metadata": {
            "tags": []
          },
          "execution_count": 163
        }
      ]
    },
    {
      "cell_type": "code",
      "metadata": {
        "id": "XFxgbIW_kDRR",
        "colab_type": "code",
        "colab": {}
      },
      "source": [
        "rf_predict = rf.predict(X_test)"
      ],
      "execution_count": 0,
      "outputs": []
    },
    {
      "cell_type": "code",
      "metadata": {
        "id": "xZd_2i__kIcI",
        "colab_type": "code",
        "colab": {
          "base_uri": "https://localhost:8080/",
          "height": 34
        },
        "outputId": "34531d53-fa23-4d38-fc76-4a06ffa49df9"
      },
      "source": [
        "from sklearn.metrics import mean_squared_error\n",
        "print('The rmse of prediction is:', mean_squared_error(y_test, rf_predict) ** 0.5)"
      ],
      "execution_count": 166,
      "outputs": [
        {
          "output_type": "stream",
          "text": [
            "('The rmse of prediction is:', 15.872395370120607)\n"
          ],
          "name": "stdout"
        }
      ]
    },
    {
      "cell_type": "code",
      "metadata": {
        "id": "3zlCBvBakR_R",
        "colab_type": "code",
        "colab": {}
      },
      "source": [
        "ypred= rf.predict(X_test.head(10))"
      ],
      "execution_count": 0,
      "outputs": []
    },
    {
      "cell_type": "code",
      "metadata": {
        "id": "SLghiXCskqMT",
        "colab_type": "code",
        "colab": {
          "base_uri": "https://localhost:8080/",
          "height": 34
        },
        "outputId": "0d9731b2-ea9d-44ae-eae4-296ae3c90d61"
      },
      "source": [
        "ypred"
      ],
      "execution_count": 172,
      "outputs": [
        {
          "output_type": "execute_result",
          "data": {
            "text/plain": [
              "array([ 0. ,  0. ,  5.9,  2.4,  0.2,  1.4, 98.7,  8.5,  0.1,  0. ])"
            ]
          },
          "metadata": {
            "tags": []
          },
          "execution_count": 172
        }
      ]
    },
    {
      "cell_type": "code",
      "metadata": {
        "id": "6McFbJpnkv8c",
        "colab_type": "code",
        "colab": {
          "base_uri": "https://localhost:8080/",
          "height": 202
        },
        "outputId": "c9eadf44-0900-4a64-97ed-f1e2f936890e"
      },
      "source": [
        "y_test.head(10)"
      ],
      "execution_count": 174,
      "outputs": [
        {
          "output_type": "execute_result",
          "data": {
            "text/plain": [
              "837074     0.0\n",
              "238577     0.0\n",
              "485529     4.0\n",
              "612843     1.0\n",
              "602316     0.0\n",
              "57927      3.0\n",
              "746858    95.0\n",
              "821802    12.0\n",
              "120519     0.0\n",
              "783847     0.0\n",
              "Name: pickups, dtype: float64"
            ]
          },
          "metadata": {
            "tags": []
          },
          "execution_count": 174
        }
      ]
    },
    {
      "cell_type": "code",
      "metadata": {
        "id": "w01bMVrkm0PV",
        "colab_type": "code",
        "colab": {
          "base_uri": "https://localhost:8080/",
          "height": 34
        },
        "outputId": "4e672f57-ea8a-48ce-9d87-ae7b74851d9d"
      },
      "source": [
        "X_test.shape"
      ],
      "execution_count": 178,
      "outputs": [
        {
          "output_type": "execute_result",
          "data": {
            "text/plain": [
              "(231482, 7)"
            ]
          },
          "metadata": {
            "tags": []
          },
          "execution_count": 178
        }
      ]
    },
    {
      "cell_type": "code",
      "metadata": {
        "id": "VjVUp_KQmoH9",
        "colab_type": "code",
        "colab": {
          "base_uri": "https://localhost:8080/",
          "height": 34
        },
        "outputId": "0b983994-468d-4517-db34-57de2e0e201c"
      },
      "source": [
        "print( rf.predict([[150,2,0,3,20,40,1]]))"
      ],
      "execution_count": 184,
      "outputs": [
        {
          "output_type": "stream",
          "text": [
            "[0.]\n"
          ],
          "name": "stdout"
        }
      ]
    },
    {
      "cell_type": "code",
      "metadata": {
        "id": "cZgnvfHCcgGe",
        "colab_type": "code",
        "colab": {}
      },
      "source": [
        "gbm = lgb.LGBMRegressor(num_leaves=80,\n",
        "                        learning_rate=0.05,\n",
        "                        n_estimators=20)"
      ],
      "execution_count": 0,
      "outputs": []
    },
    {
      "cell_type": "code",
      "metadata": {
        "id": "fPh8VFHOcrXL",
        "colab_type": "code",
        "colab": {}
      },
      "source": [
        "model=gbm.fit(X_train, y_train,\n",
        "        eval_set=[(X_test, y_test)],\n",
        "        eval_metric='l1',\n",
        "        early_stopping_rounds=100)"
      ],
      "execution_count": 0,
      "outputs": []
    },
    {
      "cell_type": "code",
      "metadata": {
        "id": "hxaFB-byc0C2",
        "colab_type": "code",
        "colab": {}
      },
      "source": [
        "y_pred = model.predict(X_test, num_iteration=gbm.best_iteration_)"
      ],
      "execution_count": 0,
      "outputs": []
    },
    {
      "cell_type": "code",
      "metadata": {
        "id": "ZqQ30J3rOaam",
        "colab_type": "code",
        "colab": {}
      },
      "source": [
        ""
      ],
      "execution_count": 0,
      "outputs": []
    },
    {
      "cell_type": "code",
      "metadata": {
        "id": "6aE8zB8eyjW-",
        "colab_type": "code",
        "colab": {}
      },
      "source": [
        "import numpy as np\n",
        "from sklearn import linear_model"
      ],
      "execution_count": 0,
      "outputs": []
    },
    {
      "cell_type": "code",
      "metadata": {
        "id": "KNf5mLSkyl3G",
        "colab_type": "code",
        "colab": {}
      },
      "source": [
        "clf = linear_model.SGDClassifier(max_iter=1000, tol=1e-3)\n",
        "clf.fit(X_train, y_train)"
      ],
      "execution_count": 0,
      "outputs": []
    },
    {
      "cell_type": "code",
      "metadata": {
        "id": "NsNAlFXvc5YE",
        "colab_type": "code",
        "outputId": "0dde2fa6-3fd4-4de5-a298-24b57aeecf8a",
        "colab": {
          "base_uri": "https://localhost:8080/",
          "height": 34
        }
      },
      "source": [
        "from sklearn.metrics import mean_squared_error\n",
        "print('The rmse of prediction is:', mean_squared_error(y_test, y_pred) ** 0.5)"
      ],
      "execution_count": 111,
      "outputs": [
        {
          "output_type": "stream",
          "text": [
            "('The rmse of prediction is:', 57.82973561752418)\n"
          ],
          "name": "stdout"
        }
      ]
    },
    {
      "cell_type": "code",
      "metadata": {
        "id": "zKnrdB3UdDpP",
        "colab_type": "code",
        "colab": {}
      },
      "source": [
        "ypred= gbm.predict(X_test.head(1), num_iteration=gbm.best_iteration_)"
      ],
      "execution_count": 0,
      "outputs": []
    },
    {
      "cell_type": "code",
      "metadata": {
        "id": "cCDooDBMdYCI",
        "colab_type": "code",
        "outputId": "6a358595-0fb2-4ae3-8c25-434d88d437b1",
        "colab": {
          "base_uri": "https://localhost:8080/",
          "height": 34
        }
      },
      "source": [
        "ypred"
      ],
      "execution_count": 113,
      "outputs": [
        {
          "output_type": "execute_result",
          "data": {
            "text/plain": [
              "array([17.14182072])"
            ]
          },
          "metadata": {
            "tags": []
          },
          "execution_count": 113
        }
      ]
    },
    {
      "cell_type": "code",
      "metadata": {
        "id": "I3ruH725OfSh",
        "colab_type": "code",
        "colab": {
          "base_uri": "https://localhost:8080/",
          "height": 77
        },
        "outputId": "848c2970-f4e7-41e4-c519-76eb58d5a75b"
      },
      "source": [
        "X_test.head(1)"
      ],
      "execution_count": 114,
      "outputs": [
        {
          "output_type": "execute_result",
          "data": {
            "text/html": [
              "<div>\n",
              "<style scoped>\n",
              "    .dataframe tbody tr th:only-of-type {\n",
              "        vertical-align: middle;\n",
              "    }\n",
              "\n",
              "    .dataframe tbody tr th {\n",
              "        vertical-align: top;\n",
              "    }\n",
              "\n",
              "    .dataframe thead th {\n",
              "        text-align: right;\n",
              "    }\n",
              "</style>\n",
              "<table border=\"1\" class=\"dataframe\">\n",
              "  <thead>\n",
              "    <tr style=\"text-align: right;\">\n",
              "      <th></th>\n",
              "      <th>zone_id</th>\n",
              "      <th>daynumber</th>\n",
              "      <th>hour</th>\n",
              "      <th>dayofweek</th>\n",
              "      <th>mintemp</th>\n",
              "      <th>maxtemp</th>\n",
              "      <th>rain</th>\n",
              "    </tr>\n",
              "  </thead>\n",
              "  <tbody>\n",
              "    <tr>\n",
              "      <th>837074</th>\n",
              "      <td>187</td>\n",
              "      <td>135</td>\n",
              "      <td>21</td>\n",
              "      <td>4</td>\n",
              "      <td>44.1</td>\n",
              "      <td>69.1</td>\n",
              "      <td>0.21</td>\n",
              "    </tr>\n",
              "  </tbody>\n",
              "</table>\n",
              "</div>"
            ],
            "text/plain": [
              "        zone_id  daynumber  hour  dayofweek  mintemp  maxtemp  rain\n",
              "837074      187        135    21          4     44.1     69.1  0.21"
            ]
          },
          "metadata": {
            "tags": []
          },
          "execution_count": 114
        }
      ]
    },
    {
      "cell_type": "code",
      "metadata": {
        "id": "-Kn3eln9Okrd",
        "colab_type": "code",
        "colab": {
          "base_uri": "https://localhost:8080/",
          "height": 50
        },
        "outputId": "88113a7c-bad3-42ae-dda3-c532f8a2bb87"
      },
      "source": [
        "y_test.head(1)"
      ],
      "execution_count": 116,
      "outputs": [
        {
          "output_type": "execute_result",
          "data": {
            "text/plain": [
              "837074    0.0\n",
              "Name: pickups, dtype: float64"
            ]
          },
          "metadata": {
            "tags": []
          },
          "execution_count": 116
        }
      ]
    },
    {
      "cell_type": "code",
      "metadata": {
        "id": "Udm2k_zedWPW",
        "colab_type": "code",
        "colab": {}
      },
      "source": [
        "import pickle\n",
        "pickle.dump(rf, open('/content/drive/My Drive/Data Science/modelfinal2.pkl','wb'))"
      ],
      "execution_count": 0,
      "outputs": []
    },
    {
      "cell_type": "code",
      "metadata": {
        "id": "xuf_Ygmhe727",
        "colab_type": "code",
        "outputId": "234e30e4-6ba3-4526-8cb9-3799026091d3",
        "colab": {
          "base_uri": "https://localhost:8080/",
          "height": 296
        }
      },
      "source": [
        " model = pickle.load(open('/content/drive/My Drive/Data Science/modelfinal.pkl','rb'))\n",
        "print(model.predict([[1,1,1,0,0,0,0]]))"
      ],
      "execution_count": 0,
      "outputs": [
        {
          "output_type": "error",
          "ename": "ValueError",
          "evalue": "ignored",
          "traceback": [
            "\u001b[0;31m\u001b[0m",
            "\u001b[0;31mValueError\u001b[0mTraceback (most recent call last)",
            "\u001b[0;32m<ipython-input-38-7acf82e78f90>\u001b[0m in \u001b[0;36m<module>\u001b[0;34m()\u001b[0m\n\u001b[1;32m      1\u001b[0m \u001b[0mmodel\u001b[0m \u001b[0;34m=\u001b[0m \u001b[0mpickle\u001b[0m\u001b[0;34m.\u001b[0m\u001b[0mload\u001b[0m\u001b[0;34m(\u001b[0m\u001b[0mopen\u001b[0m\u001b[0;34m(\u001b[0m\u001b[0;34m'/content/drive/My Drive/Data Science/modelfinal.pkl'\u001b[0m\u001b[0;34m,\u001b[0m\u001b[0;34m'rb'\u001b[0m\u001b[0;34m)\u001b[0m\u001b[0;34m)\u001b[0m\u001b[0;34m\u001b[0m\u001b[0m\n\u001b[0;32m----> 2\u001b[0;31m \u001b[0;32mprint\u001b[0m\u001b[0;34m(\u001b[0m\u001b[0mmodel\u001b[0m\u001b[0;34m.\u001b[0m\u001b[0mpredict\u001b[0m\u001b[0;34m(\u001b[0m\u001b[0;34m[\u001b[0m\u001b[0;34m[\u001b[0m\u001b[0;36m1\u001b[0m\u001b[0;34m,\u001b[0m\u001b[0;36m1\u001b[0m\u001b[0;34m,\u001b[0m\u001b[0;36m1\u001b[0m\u001b[0;34m,\u001b[0m\u001b[0;36m0\u001b[0m\u001b[0;34m,\u001b[0m\u001b[0;36m0\u001b[0m\u001b[0;34m,\u001b[0m\u001b[0;36m0\u001b[0m\u001b[0;34m,\u001b[0m\u001b[0;36m0\u001b[0m\u001b[0;34m]\u001b[0m\u001b[0;34m]\u001b[0m\u001b[0;34m)\u001b[0m\u001b[0;34m)\u001b[0m\u001b[0;34m\u001b[0m\u001b[0m\n\u001b[0m",
            "\u001b[0;32m/usr/local/lib/python2.7/dist-packages/lightgbm/sklearn.pyc\u001b[0m in \u001b[0;36mpredict\u001b[0;34m(self, X, raw_score, num_iteration, pred_leaf, pred_contrib, **kwargs)\u001b[0m\n\u001b[1;32m    603\u001b[0m                              \u001b[0;34m\"match the input. Model n_features_ is %s and \"\u001b[0m\u001b[0;34m\u001b[0m\u001b[0m\n\u001b[1;32m    604\u001b[0m                              \u001b[0;34m\"input n_features is %s \"\u001b[0m\u001b[0;34m\u001b[0m\u001b[0m\n\u001b[0;32m--> 605\u001b[0;31m                              % (self._n_features, n_features))\n\u001b[0m\u001b[1;32m    606\u001b[0m         return self.booster_.predict(X, raw_score=raw_score, num_iteration=num_iteration,\n\u001b[1;32m    607\u001b[0m                                      pred_leaf=pred_leaf, pred_contrib=pred_contrib, **kwargs)\n",
            "\u001b[0;31mValueError\u001b[0m: Number of features of the model must match the input. Model n_features_ is 8 and input n_features is 7 "
          ]
        }
      ]
    },
    {
      "cell_type": "code",
      "metadata": {
        "id": "8AaeXrTUddjf",
        "colab_type": "code",
        "outputId": "8df6f417-6b87-46df-b150-6ab18de179eb",
        "colab": {
          "base_uri": "https://localhost:8080/",
          "height": 50
        }
      },
      "source": [
        "y_test.head(1)"
      ],
      "execution_count": 0,
      "outputs": [
        {
          "output_type": "execute_result",
          "data": {
            "text/plain": [
              "118697    383\n",
              "Name: label, dtype: int64"
            ]
          },
          "metadata": {
            "tags": []
          },
          "execution_count": 24
        }
      ]
    },
    {
      "cell_type": "code",
      "metadata": {
        "id": "8LMmEubqdr92",
        "colab_type": "code",
        "outputId": "811b5009-cf5c-4615-f734-e2a8e7feed3c",
        "colab": {
          "base_uri": "https://localhost:8080/",
          "height": 34
        }
      },
      "source": [
        "print('Feature importances:', list(gbm.feature_importances_))\n"
      ],
      "execution_count": 0,
      "outputs": [
        {
          "output_type": "stream",
          "text": [
            "('Feature importances:', [0, 0, 20, 0, 0, 0, 575, 5])\n"
          ],
          "name": "stdout"
        }
      ]
    },
    {
      "cell_type": "code",
      "metadata": {
        "id": "BXHCGoPdbPye",
        "colab_type": "code",
        "colab": {}
      },
      "source": [
        "train_data = lgb.Dataset(data, label=label, feature_name=['c1', 'c2', 'c3'], categorical_feature=['c3'])"
      ],
      "execution_count": 0,
      "outputs": []
    },
    {
      "cell_type": "code",
      "metadata": {
        "id": "1AY6B5FpbcPu",
        "colab_type": "code",
        "colab": {}
      },
      "source": [
        "num_round = 10\n",
        "bst = lgb.train(param, train_data, num_round, valid_sets=[validation_data])"
      ],
      "execution_count": 0,
      "outputs": []
    },
    {
      "cell_type": "code",
      "metadata": {
        "id": "HbQZUnQWacz0",
        "colab_type": "code",
        "colab": {}
      },
      "source": [
        "xgboost = xgb.XGBClassifier(n_jobs=4,max_depth=3, n_estimators=3, learning_rate=0.05).fit(X_train, y_train)"
      ],
      "execution_count": 0,
      "outputs": []
    },
    {
      "cell_type": "code",
      "metadata": {
        "id": "VK3bmdMAboO9",
        "colab_type": "code",
        "colab": {}
      },
      "source": [
        "y_test"
      ],
      "execution_count": 0,
      "outputs": []
    },
    {
      "cell_type": "code",
      "metadata": {
        "id": "Bx2zzCFEaiCx",
        "colab_type": "code",
        "colab": {}
      },
      "source": [
        "xgb_prediction = xgboost.predict(X_test)\n"
      ],
      "execution_count": 0,
      "outputs": []
    },
    {
      "cell_type": "code",
      "metadata": {
        "id": "5V6X-hi2xr-o",
        "colab_type": "code",
        "outputId": "295100b0-3867-48b0-89f4-22d312db8244",
        "colab": {
          "base_uri": "https://localhost:8080/",
          "height": 34
        }
      },
      "source": [
        "\n",
        "max(xgb_prediction)"
      ],
      "execution_count": 0,
      "outputs": [
        {
          "output_type": "execute_result",
          "data": {
            "text/plain": [
              "3"
            ]
          },
          "metadata": {
            "tags": []
          },
          "execution_count": 179
        }
      ]
    },
    {
      "cell_type": "code",
      "metadata": {
        "id": "TxCUwUabamLb",
        "colab_type": "code",
        "outputId": "1e1c3df7-f015-4972-d6e8-d748b0fc404f",
        "colab": {
          "base_uri": "https://localhost:8080/",
          "height": 104
        }
      },
      "source": [
        "logreg = LogisticRegression()\n",
        "logreg.fit(X_train, y_train)"
      ],
      "execution_count": 0,
      "outputs": [
        {
          "output_type": "stream",
          "text": [
            "/usr/local/lib/python2.7/dist-packages/sklearn/linear_model/logistic.py:433: FutureWarning: Default solver will be changed to 'lbfgs' in 0.22. Specify a solver to silence this warning.\n",
            "  FutureWarning)\n",
            "/usr/local/lib/python2.7/dist-packages/sklearn/linear_model/logistic.py:460: FutureWarning: Default multi_class will be changed to 'auto' in 0.22. Specify the multi_class option to silence this warning.\n",
            "  \"this warning.\", FutureWarning)\n"
          ],
          "name": "stderr"
        }
      ]
    },
    {
      "cell_type": "code",
      "metadata": {
        "id": "gKz7TOaoC_2v",
        "colab_type": "code",
        "colab": {}
      },
      "source": [
        "import pickle\n",
        "\n",
        "\n",
        "pkl_filename = \"/content/drive/My Drive/Data Science/pickle_model.pkl\"\n",
        "with open(pkl_filename, 'wb') as file:\n",
        "    pickle.dump(logreg, file)"
      ],
      "execution_count": 0,
      "outputs": []
    },
    {
      "cell_type": "code",
      "metadata": {
        "id": "_aZbp-HiEBtv",
        "colab_type": "code",
        "colab": {}
      },
      "source": [
        "with open(pkl_filename, 'rb') as file:\n",
        "    pickle_model = pickle.load(file)\n",
        "    \n"
      ],
      "execution_count": 0,
      "outputs": []
    },
    {
      "cell_type": "code",
      "metadata": {
        "id": "pxlczTiVEJGA",
        "colab_type": "code",
        "colab": {}
      },
      "source": [
        "a=X_test.iloc[0]"
      ],
      "execution_count": 0,
      "outputs": []
    },
    {
      "cell_type": "code",
      "metadata": {
        "id": "IHle0h5gFdp_",
        "colab_type": "code",
        "outputId": "48c44382-7c98-4c59-f31e-6d3ee1e0842e",
        "colab": {
          "base_uri": "https://localhost:8080/",
          "height": 34
        }
      },
      "source": [
        "type(a)"
      ],
      "execution_count": 0,
      "outputs": [
        {
          "output_type": "execute_result",
          "data": {
            "text/plain": [
              "pandas.core.series.Series"
            ]
          },
          "metadata": {
            "tags": []
          },
          "execution_count": 221
        }
      ]
    },
    {
      "cell_type": "code",
      "metadata": {
        "id": "vM_uF6icFxeB",
        "colab_type": "code",
        "colab": {}
      },
      "source": [
        "a=a.to_numpy()"
      ],
      "execution_count": 0,
      "outputs": []
    },
    {
      "cell_type": "code",
      "metadata": {
        "id": "aGV2r0z_HBFM",
        "colab_type": "code",
        "outputId": "876a6648-2aa4-477b-925c-213e13c4b378",
        "colab": {
          "base_uri": "https://localhost:8080/",
          "height": 34
        }
      },
      "source": [
        "a.shape"
      ],
      "execution_count": 0,
      "outputs": [
        {
          "output_type": "execute_result",
          "data": {
            "text/plain": [
              "(264,)"
            ]
          },
          "metadata": {
            "tags": []
          },
          "execution_count": 236
        }
      ]
    },
    {
      "cell_type": "code",
      "metadata": {
        "id": "B9RTW2VUF_i_",
        "colab_type": "code",
        "colab": {}
      },
      "source": [
        "a = a.reshape((1, 264))"
      ],
      "execution_count": 0,
      "outputs": []
    },
    {
      "cell_type": "code",
      "metadata": {
        "id": "AqxLnhBzGS6Q",
        "colab_type": "code",
        "outputId": "baca6016-1057-4f68-9e28-e6d4d9ec0ad9",
        "colab": {
          "base_uri": "https://localhost:8080/",
          "height": 34
        }
      },
      "source": [
        "a.shape"
      ],
      "execution_count": 0,
      "outputs": [
        {
          "output_type": "execute_result",
          "data": {
            "text/plain": [
              "(1, 264)"
            ]
          },
          "metadata": {
            "tags": []
          },
          "execution_count": 239
        }
      ]
    },
    {
      "cell_type": "code",
      "metadata": {
        "id": "uTvSr-p_HI-2",
        "colab_type": "code",
        "outputId": "079eaa9f-3ce2-44da-81e8-74d47a78e184",
        "colab": {
          "base_uri": "https://localhost:8080/",
          "height": 146
        }
      },
      "source": [
        "b=X_test.iloc[:0]\n",
        "b"
      ],
      "execution_count": 0,
      "outputs": [
        {
          "output_type": "execute_result",
          "data": {
            "text/html": [
              "<div>\n",
              "<style scoped>\n",
              "    .dataframe tbody tr th:only-of-type {\n",
              "        vertical-align: middle;\n",
              "    }\n",
              "\n",
              "    .dataframe tbody tr th {\n",
              "        vertical-align: top;\n",
              "    }\n",
              "\n",
              "    .dataframe thead th {\n",
              "        text-align: right;\n",
              "    }\n",
              "</style>\n",
              "<table border=\"1\" class=\"dataframe\">\n",
              "  <thead>\n",
              "    <tr style=\"text-align: right;\">\n",
              "      <th></th>\n",
              "      <th>dayofweek</th>\n",
              "      <th>mintemp</th>\n",
              "      <th>maxtemp</th>\n",
              "      <th>rain</th>\n",
              "      <th>hour</th>\n",
              "      <th>daynumber</th>\n",
              "      <th>Allerton/Pelham Gardens</th>\n",
              "      <th>Alphabet City</th>\n",
              "      <th>Arden Heights</th>\n",
              "      <th>Arrochar/Fort Wadsworth</th>\n",
              "      <th>Astoria</th>\n",
              "      <th>Astoria Park</th>\n",
              "      <th>Auburndale</th>\n",
              "      <th>Baisley Park</th>\n",
              "      <th>Bath Beach</th>\n",
              "      <th>Battery Park</th>\n",
              "      <th>Battery Park City</th>\n",
              "      <th>Bay Ridge</th>\n",
              "      <th>Bay Terrace/Fort Totten</th>\n",
              "      <th>Bayside</th>\n",
              "      <th>Bedford</th>\n",
              "      <th>Bedford Park</th>\n",
              "      <th>Bellerose</th>\n",
              "      <th>Belmont</th>\n",
              "      <th>Bensonhurst East</th>\n",
              "      <th>Bensonhurst West</th>\n",
              "      <th>Bloomfield/Emerson Hill</th>\n",
              "      <th>Bloomingdale</th>\n",
              "      <th>Boerum Hill</th>\n",
              "      <th>Borough Park</th>\n",
              "      <th>Breezy Point/Fort Tilden/Riis Beach</th>\n",
              "      <th>Briarwood/Jamaica Hills</th>\n",
              "      <th>Brighton Beach</th>\n",
              "      <th>Broad Channel</th>\n",
              "      <th>Bronx Park</th>\n",
              "      <th>Bronxdale</th>\n",
              "      <th>Brooklyn Heights</th>\n",
              "      <th>Brooklyn Navy Yard</th>\n",
              "      <th>Brownsville</th>\n",
              "      <th>Bushwick North</th>\n",
              "      <th>...</th>\n",
              "      <th>Stuy Town/Peter Cooper Village</th>\n",
              "      <th>Stuyvesant Heights</th>\n",
              "      <th>Sunnyside</th>\n",
              "      <th>Sunset Park East</th>\n",
              "      <th>Sunset Park West</th>\n",
              "      <th>Sutton Place/Turtle Bay North</th>\n",
              "      <th>Times Sq/Theatre District</th>\n",
              "      <th>TriBeCa/Civic Center</th>\n",
              "      <th>Two Bridges/Seward Park</th>\n",
              "      <th>UN/Turtle Bay South</th>\n",
              "      <th>Union Sq</th>\n",
              "      <th>University Heights/Morris Heights</th>\n",
              "      <th>Upper East Side North</th>\n",
              "      <th>Upper East Side South</th>\n",
              "      <th>Upper West Side North</th>\n",
              "      <th>Upper West Side South</th>\n",
              "      <th>Van Cortlandt Park</th>\n",
              "      <th>Van Cortlandt Village</th>\n",
              "      <th>Van Nest/Morris Park</th>\n",
              "      <th>Washington Heights North</th>\n",
              "      <th>Washington Heights South</th>\n",
              "      <th>West Brighton</th>\n",
              "      <th>West Chelsea/Hudson Yards</th>\n",
              "      <th>West Concourse</th>\n",
              "      <th>West Farms/Bronx River</th>\n",
              "      <th>West Village</th>\n",
              "      <th>Westchester Village/Unionport</th>\n",
              "      <th>Westerleigh</th>\n",
              "      <th>Whitestone</th>\n",
              "      <th>Willets Point</th>\n",
              "      <th>Williamsbridge/Olinville</th>\n",
              "      <th>Williamsburg (North Side)</th>\n",
              "      <th>Williamsburg (South Side)</th>\n",
              "      <th>Windsor Terrace</th>\n",
              "      <th>Woodhaven</th>\n",
              "      <th>Woodlawn/Wakefield</th>\n",
              "      <th>Woodside</th>\n",
              "      <th>World Trade Center</th>\n",
              "      <th>Yorkville East</th>\n",
              "      <th>Yorkville West</th>\n",
              "    </tr>\n",
              "  </thead>\n",
              "  <tbody>\n",
              "  </tbody>\n",
              "</table>\n",
              "<p>0 rows × 264 columns</p>\n",
              "</div>"
            ],
            "text/plain": [
              "Empty DataFrame\n",
              "Columns: [dayofweek, mintemp, maxtemp, rain, hour, daynumber, Allerton/Pelham Gardens, Alphabet City, Arden Heights, Arrochar/Fort Wadsworth, Astoria, Astoria Park, Auburndale, Baisley Park, Bath Beach, Battery Park, Battery Park City, Bay Ridge, Bay Terrace/Fort Totten, Bayside, Bedford, Bedford Park, Bellerose, Belmont, Bensonhurst East, Bensonhurst West, Bloomfield/Emerson Hill, Bloomingdale, Boerum Hill, Borough Park, Breezy Point/Fort Tilden/Riis Beach, Briarwood/Jamaica Hills, Brighton Beach, Broad Channel, Bronx Park, Bronxdale, Brooklyn Heights, Brooklyn Navy Yard, Brownsville, Bushwick North, Bushwick South, Cambria Heights, Canarsie, Carroll Gardens, Central Harlem, Central Harlem North, Central Park, Charleston/Tottenville, Chinatown, City Island, Claremont/Bathgate, Clinton East, Clinton Hill, Clinton West, Co-Op City, Cobble Hill, College Point, Columbia Street, Coney Island, Corona, Country Club, Crotona Park, Crotona Park East, Crown Heights North, Crown Heights South, Cypress Hills, DUMBO/Vinegar Hill, Douglaston, Downtown Brooklyn/MetroTech, Dyker Heights, East Chelsea, East Concourse/Concourse Village, East Elmhurst, East Flatbush/Farragut, East Flatbush/Remsen Village, East Flushing, East Harlem North, East Harlem South, East New York, East New York/Pennsylvania Avenue, East Tremont, East Village, East Williamsburg, Eastchester, Elmhurst, Elmhurst/Maspeth, Eltingville/Annadale/Prince's Bay, Erasmus, Far Rockaway, Financial District North, Financial District South, Flatbush/Ditmas Park, Flatiron, Flatlands, Flushing, Flushing Meadows-Corona Park, Fordham South, Forest Hills, Forest Park/Highland Park, Fort Greene, ...]\n",
              "Index: []\n",
              "\n",
              "[0 rows x 264 columns]"
            ]
          },
          "metadata": {
            "tags": []
          },
          "execution_count": 258
        }
      ]
    },
    {
      "cell_type": "code",
      "metadata": {
        "id": "i-m2JiYzIwZ4",
        "colab_type": "code",
        "outputId": "b8c37c64-1374-4462-ad80-d61ac6f8ef2d",
        "colab": {
          "base_uri": "https://localhost:8080/",
          "height": 168
        }
      },
      "source": [
        "from pandas import DataFrame as df  \n",
        "mydf = df(a).T  \n",
        "b.loc[len(b)] = a  \n",
        "print(b)"
      ],
      "execution_count": 0,
      "outputs": [
        {
          "output_type": "stream",
          "text": [
            "   dayofweek  mintemp  ...  Yorkville East  Yorkville West\n",
            "0        3.0     34.0  ...             0.0             1.0\n",
            "\n",
            "[1 rows x 264 columns]\n"
          ],
          "name": "stdout"
        },
        {
          "output_type": "stream",
          "text": [
            "/usr/local/lib/python2.7/dist-packages/ipykernel_launcher.py:3: SettingWithCopyWarning: \n",
            "A value is trying to be set on a copy of a slice from a DataFrame\n",
            "\n",
            "See the caveats in the documentation: http://pandas.pydata.org/pandas-docs/stable/indexing.html#indexing-view-versus-copy\n",
            "  This is separate from the ipykernel package so we can avoid doing imports until\n"
          ],
          "name": "stderr"
        }
      ]
    },
    {
      "cell_type": "code",
      "metadata": {
        "id": "j596JUQGE03i",
        "colab_type": "code",
        "outputId": "da12f55c-3ba4-437e-d235-c6b13862546e",
        "colab": {
          "base_uri": "https://localhost:8080/",
          "height": 34
        }
      },
      "source": [
        "\n",
        "logreg_prediction = pickle_model.predict(b)\n",
        "print logreg_prediction"
      ],
      "execution_count": 0,
      "outputs": [
        {
          "output_type": "stream",
          "text": [
            "[2]\n"
          ],
          "name": "stdout"
        }
      ]
    },
    {
      "cell_type": "code",
      "metadata": {
        "id": "DWXLCd_yapWj",
        "colab_type": "code",
        "outputId": "0d0b90fc-9e6f-4768-e03b-a05b063b6795",
        "colab": {
          "base_uri": "https://localhost:8080/",
          "height": 34
        }
      },
      "source": [
        "logreg_prediction = pickle_model.predict(X_test)\n",
        "logreg_score=accuracy_score(y_test, logreg_prediction)\n",
        "print(logreg_score)"
      ],
      "execution_count": 0,
      "outputs": [
        {
          "output_type": "stream",
          "text": [
            "0.7318378267133155\n"
          ],
          "name": "stdout"
        }
      ]
    },
    {
      "cell_type": "code",
      "metadata": {
        "id": "t8T26OL7nCg6",
        "colab_type": "code",
        "colab": {}
      },
      "source": [
        "import numpy as np\n",
        "x1=np.zeros((264))"
      ],
      "execution_count": 0,
      "outputs": []
    },
    {
      "cell_type": "code",
      "metadata": {
        "id": "TUp5tVF8nYVt",
        "colab_type": "code",
        "outputId": "35ab0c97-9e6e-4551-cd70-2021cb6feed4",
        "colab": {
          "base_uri": "https://localhost:8080/",
          "height": 286
        }
      },
      "source": [
        "x1"
      ],
      "execution_count": 0,
      "outputs": [
        {
          "output_type": "execute_result",
          "data": {
            "text/plain": [
              "array([0., 0., 0., 0., 0., 0., 0., 0., 0., 0., 0., 0., 0., 0., 0., 0., 0.,\n",
              "       0., 0., 0., 0., 0., 0., 0., 0., 0., 0., 0., 0., 0., 0., 0., 0., 0.,\n",
              "       0., 0., 0., 0., 0., 0., 0., 0., 0., 0., 0., 0., 0., 0., 0., 0., 0.,\n",
              "       0., 0., 0., 0., 0., 0., 0., 0., 0., 0., 0., 0., 0., 0., 0., 0., 0.,\n",
              "       0., 0., 0., 0., 0., 0., 0., 0., 0., 0., 0., 0., 0., 0., 0., 0., 0.,\n",
              "       0., 0., 0., 0., 0., 0., 0., 0., 0., 0., 0., 0., 0., 0., 0., 0., 0.,\n",
              "       0., 0., 0., 0., 0., 0., 0., 0., 0., 0., 0., 0., 0., 0., 0., 0., 0.,\n",
              "       0., 0., 0., 0., 0., 0., 0., 0., 0., 0., 0., 0., 0., 0., 0., 0., 0.,\n",
              "       0., 0., 0., 0., 0., 0., 0., 0., 0., 0., 0., 0., 0., 0., 0., 0., 0.,\n",
              "       0., 0., 0., 0., 0., 0., 0., 0., 0., 0., 0., 0., 0., 0., 0., 0., 0.,\n",
              "       0., 0., 0., 0., 0., 0., 0., 0., 0., 0., 0., 0., 0., 0., 0., 0., 0.,\n",
              "       0., 0., 0., 0., 0., 0., 0., 0., 0., 0., 0., 0., 0., 0., 0., 0., 0.,\n",
              "       0., 0., 0., 0., 0., 0., 0., 0., 0., 0., 0., 0., 0., 0., 0., 0., 0.,\n",
              "       0., 0., 0., 0., 0., 0., 0., 0., 0., 0., 0., 0., 0., 0., 0., 0., 0.,\n",
              "       0., 0., 0., 0., 0., 0., 0., 0., 0., 0., 0., 0., 0., 0., 0., 0., 0.,\n",
              "       0., 0., 0., 0., 0., 0., 0., 0., 0.])"
            ]
          },
          "metadata": {
            "tags": []
          },
          "execution_count": 3
        }
      ]
    },
    {
      "cell_type": "markdown",
      "metadata": {
        "id": "rg9TOfUi_q3G",
        "colab_type": "text"
      },
      "source": [
        "### Data Exploration"
      ]
    },
    {
      "cell_type": "code",
      "metadata": {
        "id": "OqdO153Y0ZYi",
        "colab_type": "code",
        "outputId": "e90cb32b-0e5b-4780-ba81-97f9fcc28e7d",
        "colab": {
          "base_uri": "https://localhost:8080/",
          "height": 1000
        }
      },
      "source": [
        ""
      ],
      "execution_count": 0,
      "outputs": [
        {
          "output_type": "stream",
          "text": [
            "Requirement already satisfied: descartes in /usr/local/lib/python2.7/dist-packages (1.1.0)\n",
            "Requirement already satisfied: matplotlib in /usr/local/lib/python2.7/dist-packages (from descartes) (2.2.4)\n",
            "Requirement already satisfied: cycler>=0.10 in /usr/local/lib/python2.7/dist-packages (from matplotlib->descartes) (0.10.0)\n",
            "Requirement already satisfied: numpy>=1.7.1 in /usr/local/lib/python2.7/dist-packages (from matplotlib->descartes) (1.16.4)\n",
            "Requirement already satisfied: backports.functools-lru-cache in /usr/local/lib/python2.7/dist-packages (from matplotlib->descartes) (1.5)\n",
            "Requirement already satisfied: subprocess32 in /usr/local/lib/python2.7/dist-packages (from matplotlib->descartes) (3.5.4)\n",
            "Requirement already satisfied: kiwisolver>=1.0.1 in /usr/local/lib/python2.7/dist-packages (from matplotlib->descartes) (1.1.0)\n",
            "Requirement already satisfied: pytz in /usr/local/lib/python2.7/dist-packages (from matplotlib->descartes) (2018.9)\n",
            "Requirement already satisfied: six>=1.10 in /usr/local/lib/python2.7/dist-packages (from matplotlib->descartes) (1.12.0)\n",
            "Requirement already satisfied: python-dateutil>=2.1 in /usr/local/lib/python2.7/dist-packages (from matplotlib->descartes) (2.5.3)\n",
            "Requirement already satisfied: pyparsing!=2.0.4,!=2.1.2,!=2.1.6,>=2.0.1 in /usr/local/lib/python2.7/dist-packages (from matplotlib->descartes) (2.4.0)\n",
            "Requirement already satisfied: setuptools in /usr/local/lib/python2.7/dist-packages (from kiwisolver>=1.0.1->matplotlib->descartes) (44.0.0)\n",
            "Collecting pyshp\n",
            "\u001b[?25l  Downloading https://files.pythonhosted.org/packages/27/16/3bf15aa864fb77845fab8007eda22c2bd67bd6c1fd13496df452c8c43621/pyshp-2.1.0.tar.gz (215kB)\n",
            "\u001b[K     |████████████████████████████████| 225kB 9.4MB/s \n",
            "\u001b[?25hBuilding wheels for collected packages: pyshp\n",
            "  Building wheel for pyshp (setup.py) ... \u001b[?25l\u001b[?25hdone\n",
            "  Created wheel for pyshp: filename=pyshp-2.1.0-cp27-none-any.whl size=32608 sha256=18151458d8c9d8f938e87273bfcc582a88324c30d55510b9181273a19e58f179\n",
            "  Stored in directory: /root/.cache/pip/wheels/a6/0c/de/321b5192ad416b328975a2f0385f72c64db4656501eba7cc1a\n",
            "Successfully built pyshp\n",
            "Installing collected packages: pyshp\n",
            "Successfully installed pyshp-2.1.0\n",
            "Collecting pyramid-arima\n",
            "\u001b[?25l  Downloading https://files.pythonhosted.org/packages/32/e5/df736fe210128be58f134807df273908ede31e01b18eee45fe68af268950/pyramid_arima-0.9.0-cp27-cp27mu-manylinux1_x86_64.whl (575kB)\n",
            "\u001b[K     |████████████████████████████████| 583kB 9.9MB/s \n",
            "\u001b[?25hRequirement already satisfied: pandas>=0.19 in /usr/local/lib/python2.7/dist-packages (from pyramid-arima) (0.24.2)\n",
            "Requirement already satisfied: scikit-learn>=0.17 in /usr/local/lib/python2.7/dist-packages (from pyramid-arima) (0.20.3)\n",
            "Requirement already satisfied: scipy>=0.9 in /usr/local/lib/python2.7/dist-packages (from pyramid-arima) (1.2.2)\n",
            "Requirement already satisfied: statsmodels>=0.9.0 in /usr/local/lib/python2.7/dist-packages (from pyramid-arima) (0.10.0)\n",
            "Requirement already satisfied: numpy>=1.10 in /usr/local/lib/python2.7/dist-packages (from pyramid-arima) (1.16.4)\n",
            "Requirement already satisfied: Cython>=0.23 in /usr/local/lib/python2.7/dist-packages (from pyramid-arima) (0.29.12)\n",
            "Requirement already satisfied: pytz>=2011k in /usr/local/lib/python2.7/dist-packages (from pandas>=0.19->pyramid-arima) (2018.9)\n",
            "Requirement already satisfied: python-dateutil>=2.5.0 in /usr/local/lib/python2.7/dist-packages (from pandas>=0.19->pyramid-arima) (2.5.3)\n",
            "Requirement already satisfied: patsy>=0.4.0 in /usr/local/lib/python2.7/dist-packages (from statsmodels>=0.9.0->pyramid-arima) (0.5.1)\n",
            "Requirement already satisfied: six>=1.5 in /usr/local/lib/python2.7/dist-packages (from python-dateutil>=2.5.0->pandas>=0.19->pyramid-arima) (1.12.0)\n",
            "Installing collected packages: pyramid-arima\n",
            "Successfully installed pyramid-arima-0.9.0\n",
            "\u001b[31mERROR: Could not find a version that satisfies the requirement pmdarima (from versions: none)\u001b[0m\n",
            "\u001b[31mERROR: No matching distribution found for pmdarima\u001b[0m\n",
            "Collecting statsmodels\n",
            "\u001b[?25l  Downloading https://files.pythonhosted.org/packages/53/1c/b83f6a4632b502a20b0f83bc5c25ebfa03eebd00efe9b45fcdcde1a0ab40/statsmodels-0.11.0.tar.gz (15.4MB)\n",
            "\u001b[K     |████████████████████████████████| 15.4MB 283kB/s \n",
            "\u001b[?25h  Installing build dependencies ... \u001b[?25l\u001b[?25hdone\n",
            "  Getting requirements to build wheel ... \u001b[?25l\u001b[?25hdone\n",
            "    Preparing wheel metadata ... \u001b[?25l\u001b[?25hdone\n",
            "Requirement already satisfied, skipping upgrade: scipy>=1.0 in /usr/local/lib/python2.7/dist-packages (from statsmodels) (1.2.2)\n",
            "Requirement already satisfied, skipping upgrade: patsy>=0.5 in /usr/local/lib/python2.7/dist-packages (from statsmodels) (0.5.1)\n",
            "Requirement already satisfied, skipping upgrade: pandas>=0.21 in /usr/local/lib/python2.7/dist-packages (from statsmodels) (0.24.2)\n",
            "Requirement already satisfied, skipping upgrade: numpy>=1.14 in /usr/local/lib/python2.7/dist-packages (from statsmodels) (1.16.4)\n",
            "Requirement already satisfied, skipping upgrade: six in /usr/local/lib/python2.7/dist-packages (from patsy>=0.5->statsmodels) (1.12.0)\n",
            "Requirement already satisfied, skipping upgrade: pytz>=2011k in /usr/local/lib/python2.7/dist-packages (from pandas>=0.21->statsmodels) (2018.9)\n",
            "Requirement already satisfied, skipping upgrade: python-dateutil>=2.5.0 in /usr/local/lib/python2.7/dist-packages (from pandas>=0.21->statsmodels) (2.5.3)\n",
            "Building wheels for collected packages: statsmodels\n",
            "  Building wheel for statsmodels (PEP 517) ... \u001b[?25l\u001b[?25hdone\n",
            "  Created wheel for statsmodels: filename=statsmodels-0.11.0-cp27-cp27mu-linux_x86_64.whl size=11103987 sha256=86741aa9f3025519ec737392bb9d0bde306db6f3bd30458f2d1b8c3adb9df173\n",
            "  Stored in directory: /root/.cache/pip/wheels/1f/c9/bb/085ae5991327cb08b1dabf0564a3f148d0cd9c1395933c8286\n",
            "Successfully built statsmodels\n",
            "Installing collected packages: statsmodels\n",
            "  Found existing installation: statsmodels 0.10.0\n",
            "    Uninstalling statsmodels-0.10.0:\n",
            "      Successfully uninstalled statsmodels-0.10.0\n",
            "Successfully installed statsmodels-0.11.0\n",
            "Requirement already up-to-date: pandas in /usr/local/lib/python2.7/dist-packages (0.24.2)\n",
            "Requirement already satisfied, skipping upgrade: numpy>=1.12.0 in /usr/local/lib/python2.7/dist-packages (from pandas) (1.16.4)\n",
            "Requirement already satisfied, skipping upgrade: pytz>=2011k in /usr/local/lib/python2.7/dist-packages (from pandas) (2018.9)\n",
            "Requirement already satisfied, skipping upgrade: python-dateutil>=2.5.0 in /usr/local/lib/python2.7/dist-packages (from pandas) (2.5.3)\n",
            "Requirement already satisfied, skipping upgrade: six>=1.5 in /usr/local/lib/python2.7/dist-packages (from python-dateutil>=2.5.0->pandas) (1.12.0)\n",
            "Collecting seaborn\n",
            "\u001b[?25l  Downloading https://files.pythonhosted.org/packages/b2/86/43b8c9138ef4c2a1c492fee92792c83c13799d0e2061ff810d3826d06cd1/seaborn-0.9.1-py2.py3-none-any.whl (216kB)\n",
            "\u001b[K     |████████████████████████████████| 225kB 9.1MB/s \n",
            "\u001b[?25hRequirement already satisfied, skipping upgrade: scipy>=0.17.1 in /usr/local/lib/python2.7/dist-packages (from seaborn) (1.2.2)\n",
            "Requirement already satisfied, skipping upgrade: pandas>=0.17.1 in /usr/local/lib/python2.7/dist-packages (from seaborn) (0.24.2)\n",
            "Requirement already satisfied, skipping upgrade: matplotlib>=1.5.3 in /usr/local/lib/python2.7/dist-packages (from seaborn) (2.2.4)\n",
            "Requirement already satisfied, skipping upgrade: numpy>=1.10.4 in /usr/local/lib/python2.7/dist-packages (from seaborn) (1.16.4)\n",
            "Requirement already satisfied, skipping upgrade: pytz>=2011k in /usr/local/lib/python2.7/dist-packages (from pandas>=0.17.1->seaborn) (2018.9)\n",
            "Requirement already satisfied, skipping upgrade: python-dateutil>=2.5.0 in /usr/local/lib/python2.7/dist-packages (from pandas>=0.17.1->seaborn) (2.5.3)\n",
            "Requirement already satisfied, skipping upgrade: cycler>=0.10 in /usr/local/lib/python2.7/dist-packages (from matplotlib>=1.5.3->seaborn) (0.10.0)\n",
            "Requirement already satisfied, skipping upgrade: backports.functools-lru-cache in /usr/local/lib/python2.7/dist-packages (from matplotlib>=1.5.3->seaborn) (1.5)\n",
            "Requirement already satisfied, skipping upgrade: subprocess32 in /usr/local/lib/python2.7/dist-packages (from matplotlib>=1.5.3->seaborn) (3.5.4)\n",
            "Requirement already satisfied, skipping upgrade: kiwisolver>=1.0.1 in /usr/local/lib/python2.7/dist-packages (from matplotlib>=1.5.3->seaborn) (1.1.0)\n",
            "Requirement already satisfied, skipping upgrade: six>=1.10 in /usr/local/lib/python2.7/dist-packages (from matplotlib>=1.5.3->seaborn) (1.12.0)\n",
            "Requirement already satisfied, skipping upgrade: pyparsing!=2.0.4,!=2.1.2,!=2.1.6,>=2.0.1 in /usr/local/lib/python2.7/dist-packages (from matplotlib>=1.5.3->seaborn) (2.4.0)\n",
            "Requirement already satisfied, skipping upgrade: setuptools in /usr/local/lib/python2.7/dist-packages (from kiwisolver>=1.0.1->matplotlib>=1.5.3->seaborn) (44.0.0)\n",
            "\u001b[31mERROR: fastai 0.7.0 has requirement torch<0.4, but you'll have torch 1.4.0 which is incompatible.\u001b[0m\n",
            "Installing collected packages: seaborn\n",
            "  Found existing installation: seaborn 0.9.0\n",
            "    Uninstalling seaborn-0.9.0:\n",
            "      Successfully uninstalled seaborn-0.9.0\n",
            "Successfully installed seaborn-0.9.1\n",
            "Collecting squarify\n",
            "  Downloading https://files.pythonhosted.org/packages/af/02/ac3297735a2af8dc6be48dd0dc2304c892d155dc685f7ad2d33ce2cf76ea/squarify-0.4.3.tar.gz\n",
            "Building wheels for collected packages: squarify\n",
            "  Building wheel for squarify (setup.py) ... \u001b[?25l\u001b[?25hdone\n",
            "  Created wheel for squarify: filename=squarify-0.4.3-cp27-none-any.whl size=3520 sha256=7388280d2be129ba179a595db199c1da6ba0081bc8dad7301ef1763b0ddc11f4\n",
            "  Stored in directory: /root/.cache/pip/wheels/7e/cd/20/2fcbc1deaff9fa1ec569d17e6b289811ee039d5111ee85bf07\n",
            "Successfully built squarify\n",
            "Installing collected packages: squarify\n",
            "Successfully installed squarify-0.4.3\n",
            "Reading package lists... Done\n",
            "Building dependency tree       \n",
            "Reading state information... Done\n",
            "The following package was automatically installed and is no longer required:\n",
            "  libnvidia-common-430\n",
            "Use 'sudo apt autoremove' to remove it.\n",
            "The following NEW packages will be installed:\n",
            "  libsnappy-dev\n",
            "0 upgraded, 1 newly installed, 0 to remove and 25 not upgraded.\n",
            "Need to get 27.2 kB of archives.\n",
            "After this operation, 108 kB of additional disk space will be used.\n",
            "Get:1 http://archive.ubuntu.com/ubuntu bionic/main amd64 libsnappy-dev amd64 1.1.7-1 [27.2 kB]\n",
            "Fetched 27.2 kB in 0s (433 kB/s)\n",
            "debconf: unable to initialize frontend: Dialog\n",
            "debconf: (No usable dialog-like program is installed, so the dialog based frontend cannot be used. at /usr/share/perl5/Debconf/FrontEnd/Dialog.pm line 76, <> line 1.)\n",
            "debconf: falling back to frontend: Readline\n",
            "debconf: unable to initialize frontend: Readline\n",
            "debconf: (This frontend requires a controlling tty.)\n",
            "debconf: falling back to frontend: Teletype\n",
            "dpkg-preconfigure: unable to re-open stdin: \n",
            "Selecting previously unselected package libsnappy-dev:amd64.\n",
            "(Reading database ... 134443 files and directories currently installed.)\n",
            "Preparing to unpack .../libsnappy-dev_1.1.7-1_amd64.deb ...\n",
            "Unpacking libsnappy-dev:amd64 (1.1.7-1) ...\n",
            "Setting up libsnappy-dev:amd64 (1.1.7-1) ...\n",
            "Collecting snappy\n",
            "\u001b[?25l  Downloading https://files.pythonhosted.org/packages/53/9e/45ff06ffba9171992655ac0fc77a3206c38880c540215217dc780517a909/snappy-2.7-cp27-cp27mu-manylinux1_x86_64.whl (21.0MB)\n",
            "\u001b[K     |████████████████████████████████| 21.0MB 1.4MB/s \n",
            "\u001b[?25hRequirement already satisfied: ipython<6.0 in /usr/local/lib/python2.7/dist-packages (from snappy) (5.5.0)\n",
            "Collecting FXrays>=1.3\n",
            "\u001b[?25l  Downloading https://files.pythonhosted.org/packages/11/bb/20649dfa9c82669ac7890b0ce04cb219760e48796f079a43b4f046875831/FXrays-1.3.3-cp27-cp27mu-manylinux1_x86_64.whl (79kB)\n",
            "\u001b[K     |████████████████████████████████| 81kB 8.3MB/s \n",
            "\u001b[?25hCollecting spherogram>=1.8.1\n",
            "\u001b[?25l  Downloading https://files.pythonhosted.org/packages/6f/a9/9d88917055548edf300d84351d01befb3fdd6f24102fd7656fb1ae0f58f7/spherogram-1.8.2-cp27-cp27mu-manylinux1_x86_64.whl (655kB)\n",
            "\u001b[K     |████████████████████████████████| 665kB 47.0MB/s \n",
            "\u001b[?25hCollecting plink>=2.2\n",
            "\u001b[?25l  Downloading https://files.pythonhosted.org/packages/72/f0/33f4412761b6b1538bf599a1d47c3b5b877b28e801023b96ad69e4fe7f54/plink-2.3-py2.py3-none-any.whl (549kB)\n",
            "\u001b[K     |████████████████████████████████| 552kB 47.9MB/s \n",
            "\u001b[?25hCollecting cypari>=2.2\n",
            "\u001b[?25l  Downloading https://files.pythonhosted.org/packages/23/36/c24970a1fee2b6731120a251c30745aecf45a11b790f7cca6b566ac47a63/cypari-2.3.0-cp27-cp27mu-manylinux1_x86_64.whl (5.6MB)\n",
            "\u001b[K     |████████████████████████████████| 5.6MB 41.0MB/s \n",
            "\u001b[?25hRequirement already satisfied: future in /usr/local/lib/python2.7/dist-packages (from snappy) (0.16.0)\n",
            "Collecting pypng\n",
            "\u001b[?25l  Downloading https://files.pythonhosted.org/packages/bc/fb/f719f1ac965e2101aa6ea6f54ef8b40f8fbb033f6ad07c017663467f5147/pypng-0.0.20.tar.gz (649kB)\n",
            "\u001b[K     |████████████████████████████████| 655kB 60.0MB/s \n",
            "\u001b[?25hCollecting snappy-manifolds>=1.0\n",
            "\u001b[?25l  Downloading https://files.pythonhosted.org/packages/7a/85/49b081dc5056cc465972ee27133fde235ec8c5440d3aad85de6d0598a65e/snappy_manifolds-1.1-py2.py3-none-any.whl (45.0MB)\n",
            "\u001b[K     |████████████████████████████████| 45.0MB 87kB/s \n",
            "\u001b[?25hRequirement already satisfied: decorator in /usr/local/lib/python2.7/dist-packages (from snappy) (4.4.0)\n",
            "Requirement already satisfied: simplegeneric>0.8 in /usr/local/lib/python2.7/dist-packages (from ipython<6.0->snappy) (0.8.1)\n",
            "Requirement already satisfied: pickleshare in /usr/local/lib/python2.7/dist-packages (from ipython<6.0->snappy) (0.7.5)\n",
            "Requirement already satisfied: backports.shutil-get-terminal-size; python_version == \"2.7\" in /usr/local/lib/python2.7/dist-packages (from ipython<6.0->snappy) (1.0.0)\n",
            "Requirement already satisfied: pathlib2; python_version == \"2.7\" or python_version == \"3.3\" in /usr/local/lib/python2.7/dist-packages (from ipython<6.0->snappy) (2.3.4)\n",
            "Requirement already satisfied: pexpect; sys_platform != \"win32\" in /usr/local/lib/python2.7/dist-packages (from ipython<6.0->snappy) (4.7.0)\n",
            "Requirement already satisfied: traitlets>=4.2 in /usr/local/lib/python2.7/dist-packages (from ipython<6.0->snappy) (4.3.2)\n",
            "Requirement already satisfied: pygments in /usr/local/lib/python2.7/dist-packages (from ipython<6.0->snappy) (2.1.3)\n",
            "Requirement already satisfied: prompt-toolkit<2.0.0,>=1.0.4 in /usr/local/lib/python2.7/dist-packages (from ipython<6.0->snappy) (1.0.16)\n",
            "Requirement already satisfied: setuptools>=18.5 in /usr/local/lib/python2.7/dist-packages (from ipython<6.0->snappy) (44.0.0)\n",
            "Requirement already satisfied: networkx<=2.2.9,>=1.3 in /usr/local/lib/python2.7/dist-packages (from spherogram>=1.8.1->snappy) (2.2)\n",
            "Requirement already satisfied: six in /usr/local/lib/python2.7/dist-packages (from cypari>=2.2->snappy) (1.12.0)\n",
            "Requirement already satisfied: scandir; python_version < \"3.5\" in /usr/local/lib/python2.7/dist-packages (from pathlib2; python_version == \"2.7\" or python_version == \"3.3\"->ipython<6.0->snappy) (1.10.0)\n",
            "Requirement already satisfied: ptyprocess>=0.5 in /usr/local/lib/python2.7/dist-packages (from pexpect; sys_platform != \"win32\"->ipython<6.0->snappy) (0.6.0)\n",
            "Requirement already satisfied: enum34; python_version == \"2.7\" in /usr/local/lib/python2.7/dist-packages (from traitlets>=4.2->ipython<6.0->snappy) (1.1.6)\n",
            "Requirement already satisfied: ipython-genutils in /usr/local/lib/python2.7/dist-packages (from traitlets>=4.2->ipython<6.0->snappy) (0.2.0)\n",
            "Requirement already satisfied: wcwidth in /usr/local/lib/python2.7/dist-packages (from prompt-toolkit<2.0.0,>=1.0.4->ipython<6.0->snappy) (0.1.7)\n",
            "Building wheels for collected packages: pypng\n",
            "  Building wheel for pypng (setup.py) ... \u001b[?25l\u001b[?25hdone\n",
            "  Created wheel for pypng: filename=pypng-0.0.20-cp27-none-any.whl size=67163 sha256=f60d860dc1dab58cb1f136c91adabbae8cfe89546f47fad75e0579792ded68b9\n",
            "  Stored in directory: /root/.cache/pip/wheels/41/6b/ef/0493b536b6d4722c2ae9486691b1d49b922b9877922beeabb3\n",
            "Successfully built pypng\n",
            "Installing collected packages: FXrays, snappy-manifolds, spherogram, plink, cypari, pypng, snappy\n",
            "Successfully installed FXrays-1.3.3 cypari-2.3.0 plink-2.3 pypng-0.0.20 snappy-2.7 snappy-manifolds-1.1 spherogram-1.8.2\n",
            "Collecting python-snappy\n",
            "  Downloading https://files.pythonhosted.org/packages/45/35/65d9f8cc537129894b4b32647d80212d1fa342877581c5b8a69872cea8be/python-snappy-0.5.4.tar.gz\n",
            "Building wheels for collected packages: python-snappy\n",
            "  Building wheel for python-snappy (setup.py) ... \u001b[?25l\u001b[?25hdone\n",
            "  Created wheel for python-snappy: filename=python_snappy-0.5.4-cp27-cp27mu-linux_x86_64.whl size=36479 sha256=e16a125c7652c880133b6bc304614a317871851154ed01907a9035f98cd29699\n",
            "  Stored in directory: /root/.cache/pip/wheels/df/aa/d5/459b834baa4c9f0ea918a38750fb29981e4a01ef523a936c06\n",
            "Successfully built python-snappy\n",
            "Installing collected packages: python-snappy\n",
            "Successfully installed python-snappy-0.5.4\n",
            "Collecting fastparquet\n",
            "\u001b[?25l  Downloading https://files.pythonhosted.org/packages/5f/92/8135e08d0fd97b219e00a258c31ca95cf3cc1e654dff0a2859acf4c34d2b/fastparquet-0.3.3.tar.gz (152kB)\n",
            "\u001b[K     |████████████████████████████████| 153kB 8.6MB/s \n",
            "\u001b[?25hRequirement already satisfied: pandas>=0.19 in /usr/local/lib/python2.7/dist-packages (from fastparquet) (0.24.2)\n",
            "Requirement already satisfied: numba>=0.28 in /usr/local/lib/python2.7/dist-packages (from fastparquet) (0.40.1)\n",
            "Requirement already satisfied: numpy>=1.11 in /usr/local/lib/python2.7/dist-packages (from fastparquet) (1.16.4)\n",
            "Collecting thrift>=0.11.0\n",
            "\u001b[?25l  Downloading https://files.pythonhosted.org/packages/97/1e/3284d19d7be99305eda145b8aa46b0c33244e4a496ec66440dac19f8274d/thrift-0.13.0.tar.gz (59kB)\n",
            "\u001b[K     |████████████████████████████████| 61kB 6.3MB/s \n",
            "\u001b[?25hRequirement already satisfied: six in /usr/local/lib/python2.7/dist-packages (from fastparquet) (1.12.0)\n",
            "Requirement already satisfied: pytz>=2011k in /usr/local/lib/python2.7/dist-packages (from pandas>=0.19->fastparquet) (2018.9)\n",
            "Requirement already satisfied: python-dateutil>=2.5.0 in /usr/local/lib/python2.7/dist-packages (from pandas>=0.19->fastparquet) (2.5.3)\n",
            "Requirement already satisfied: funcsigs in /usr/local/lib/python2.7/dist-packages (from numba>=0.28->fastparquet) (1.0.2)\n",
            "Requirement already satisfied: enum34 in /usr/local/lib/python2.7/dist-packages (from numba>=0.28->fastparquet) (1.1.6)\n",
            "Requirement already satisfied: llvmlite>=0.25.0dev0 in /usr/local/lib/python2.7/dist-packages (from numba>=0.28->fastparquet) (0.29.0)\n",
            "Requirement already satisfied: singledispatch in /usr/local/lib/python2.7/dist-packages (from numba>=0.28->fastparquet) (3.4.0.3)\n",
            "Building wheels for collected packages: fastparquet, thrift\n",
            "  Building wheel for fastparquet (setup.py) ... \u001b[?25l\u001b[?25hdone\n",
            "  Created wheel for fastparquet: filename=fastparquet-0.3.3-cp27-cp27mu-linux_x86_64.whl size=223466 sha256=085daa3f72a3833271f92341dadac436d7cec8fb8ca13f4ebc9d87c1a0f602cf\n",
            "  Stored in directory: /root/.cache/pip/wheels/a0/27/9f/d8066bbbbb77e97d8ad3daf4de155ead73693bc4aa2f52098c\n",
            "  Building wheel for thrift (setup.py) ... \u001b[?25l\u001b[?25hdone\n",
            "  Created wheel for thrift: filename=thrift-0.13.0-cp27-cp27mu-linux_x86_64.whl size=272514 sha256=a27f59ab8de33d7e08ca35463ef9d61f99b3d12442eea1ea96d7bede335fe1c2\n",
            "  Stored in directory: /root/.cache/pip/wheels/02/a2/46/689ccfcf40155c23edc7cdbd9de488611c8fdf49ff34b1706e\n",
            "Successfully built fastparquet thrift\n",
            "Installing collected packages: thrift, fastparquet\n",
            "Successfully installed fastparquet-0.3.3 thrift-0.13.0\n"
          ],
          "name": "stdout"
        }
      ]
    },
    {
      "cell_type": "code",
      "metadata": {
        "id": "v79jdqO2Zqno",
        "colab_type": "code",
        "outputId": "3c2e218f-71c0-435d-8bbd-0e829f5238fc",
        "colab": {
          "base_uri": "https://localhost:8080/",
          "height": 232
        }
      },
      "source": [
        "_ = data.hist(column='label',by='dayofweek', layout=(1,7), figsize=(16,3), sharey=True, sharex=True)"
      ],
      "execution_count": 0,
      "outputs": [
        {
          "output_type": "display_data",
          "data": {
            "image/png": "[encoded data removed]",
            "text/plain": [
              "<Figure size 1152x216 with 7 Axes>"
            ]
          },
          "metadata": {
            "tags": []
          }
        }
      ]
    },
    {
      "cell_type": "code",
      "metadata": {
        "id": "Dc1VNUnVcpVH",
        "colab_type": "code",
        "outputId": "7b794d5e-97f9-4e70-a1e9-85310e579973",
        "colab": {
          "base_uri": "https://localhost:8080/",
          "height": 404
        }
      },
      "source": [
        "df = data[data.dayofweek == '7']\n",
        "x = df.label\n",
        "y = df.maxtemp\n",
        "df.plot(kind=\"scatter\",x=\"label\",y=\"maxtemp\", figsize=[10,6],ylim=0,xlim=0)\n",
        "z = np.polyfit(x, y, 1)\n",
        "p = np.poly1d(z)\n",
        "plt.plot(x,p(x),\"r\")\n",
        "plt.title(\"Saturday Taxi Trips by Maximum Temp.\")\n",
        "plt.show()"
      ],
      "execution_count": 0,
      "outputs": [
        {
          "output_type": "display_data",
          "data": {
            "image/png": "[encoded data removed]",
            "text/plain": [
              "<Figure size 720x432 with 1 Axes>"
            ]
          },
          "metadata": {
            "tags": []
          }
        }
      ]
    },
    {
      "cell_type": "markdown",
      "metadata": {
        "id": "H_jFTiE4_1OO",
        "colab_type": "text"
      },
      "source": [
        "We see that trips made on a Saturday have a strong correlation with the maximum temperature. As the temperature descreases the demand for taxis increases. Our model is likely going to be able to use the predictive power found within this relationship between feature inputs and our target variable."
      ]
    },
    {
      "cell_type": "markdown",
      "metadata": {
        "id": "Eij4o-fDlpd8",
        "colab_type": "text"
      },
      "source": [
        "### Defining Model Parameters"
      ]
    },
    {
      "cell_type": "markdown",
      "metadata": {
        "id": "S2S4NJ9plHrp",
        "colab_type": "text"
      },
      "source": [
        "In order to turn the above SQL into a predictive model, we simply need to `CREATE` the `MODEL` specifiying `linear_reg` or `logistic_reg`. This lets you build models for both regression (continous variable prediction) or classification (discreet variable prediction). Refer to the BQML documentation for more information on options and configuring your predictive model."
      ]
    },
    {
      "cell_type": "code",
      "metadata": {
        "id": "lpPdV_PXMfvU",
        "colab_type": "code",
        "colab": {}
      },
      "source": [
        "query = \"\"\"\n",
        "  CREATE OR REPLACE MODEL {0}.{1} \n",
        "    OPTIONS (\n",
        "      model_type='linear_reg'\n",
        "    ) as {2}\n",
        "\"\"\".format(dataset_name, model_name, taxidemand)"
      ],
      "execution_count": 0,
      "outputs": []
    },
    {
      "cell_type": "markdown",
      "metadata": {
        "id": "XQ_rGCZQN-0c",
        "colab_type": "text"
      },
      "source": [
        "### `CREATE MODEL` using `linear_reg`\n",
        "The `for` loop will kick-off the `query_job` that has the `query` waiting to be processed. Once the job finishes it will continue through the `query_job` iterator until finished. At this point in time, the Google Cloud Python BigQuery API is throwing errors; these will be addressed in the near future."
      ]
    },
    {
      "cell_type": "code",
      "metadata": {
        "id": "3tmKmnutUvuC",
        "colab_type": "code",
        "outputId": "d292221a-d845-426a-af79-7e03b80541ed",
        "colab": {
          "base_uri": "https://localhost:8080/",
          "height": 34
        }
      },
      "source": [
        "query_job = client.query(query)\n",
        "dataset_ref = client.dataset(dataset_name)\n",
        "try: \n",
        "  for row in query_job:\n",
        "    print row\n",
        "except:\n",
        "  print \"ignoring this error: {}\".format(sys.exc_info()) #  the model was successfully created\n",
        "\n",
        "# confirm new tables exist in dataset\n",
        "for i in client.list_tables(dataset_ref):\n",
        "  if (i.table_id == model_name or i.table_id == eval_name):\n",
        "     print i.table_id"
      ],
      "execution_count": 0,
      "outputs": [
        {
          "output_type": "stream",
          "text": [
            "pats_taxi_model\n"
          ],
          "name": "stdout"
        }
      ]
    },
    {
      "cell_type": "markdown",
      "metadata": {
        "id": "7Rujpd463BIc",
        "colab_type": "text"
      },
      "source": [
        "## Get `ml.EVALUATE()` info"
      ]
    },
    {
      "cell_type": "markdown",
      "metadata": {
        "id": "iHkVfKg0ASrN",
        "colab_type": "text"
      },
      "source": [
        "### Baseline Mean Absolute Error\n",
        "We want to establish a baseline to measure ourselves against. Below, we take the entire dataset (using the `taxidemand` query). Taking the mean of `numtrips` gives us an average daily trip count of `403,642`.  We'll use Pandas Mean Absolute Deviation function to calculate our MAE."
      ]
    },
    {
      "cell_type": "code",
      "metadata": {
        "id": "JOgEN2pkGGG4",
        "colab_type": "code",
        "outputId": "cb0a3c62-597d-4548-a537-6872cdbcae27",
        "colab": {
          "base_uri": "https://localhost:8080/",
          "height": 34
        }
      },
      "source": [
        "# Our prediction should beat the average MAE\n",
        "df = client.query(taxidemand).to_dataframe()\n",
        "print 'Average trips={0} with a MAE of {1}'.format(\n",
        "    int(df.label.mean()*maxtrips), # scale value using the maxtrips variable\n",
        "    int(df.label.mad()*maxtrips) # MAE, MAD = Mean Absolute Error, Mean Absolute Difference\n",
        ")"
      ],
      "execution_count": 0,
      "outputs": [
        {
          "output_type": "stream",
          "text": [
            "Average trips=107 with a MAE of 129\n"
          ],
          "name": "stdout"
        }
      ]
    },
    {
      "cell_type": "markdown",
      "metadata": {
        "id": "zFxtDZJr4uWU",
        "colab_type": "text"
      },
      "source": [
        "### `ml.EVALUATE()`\n",
        "We're looking to beat the MAE (shown below as `mean_absolute_error`)  of `50,419`. Fingers crossed!"
      ]
    },
    {
      "cell_type": "code",
      "metadata": {
        "id": "R2oulkWuojqf",
        "colab_type": "code",
        "outputId": "23180c22-9ce9-4a31-e711-8b8dd83232e6",
        "colab": {
          "base_uri": "https://localhost:8080/",
          "height": 77
        }
      },
      "source": [
        "query = (\"select * from ml.EVALUATE(MODEL {0}.{1}, ({2}))\") \\\n",
        "  .format(dataset_name, model_name, taxidemand)\n",
        "df = client.query(query).to_dataframe()\n",
        "df[\"mean_absolute_error\"] = np.multiply(df[\"mean_absolute_error\"],maxtrips).astype(int)\n",
        "df"
      ],
      "execution_count": 0,
      "outputs": [
        {
          "output_type": "execute_result",
          "data": {
            "text/html": [
              "<div>\n",
              "<style scoped>\n",
              "    .dataframe tbody tr th:only-of-type {\n",
              "        vertical-align: middle;\n",
              "    }\n",
              "\n",
              "    .dataframe tbody tr th {\n",
              "        vertical-align: top;\n",
              "    }\n",
              "\n",
              "    .dataframe thead th {\n",
              "        text-align: right;\n",
              "    }\n",
              "</style>\n",
              "<table border=\"1\" class=\"dataframe\">\n",
              "  <thead>\n",
              "    <tr style=\"text-align: right;\">\n",
              "      <th></th>\n",
              "      <th>mean_absolute_error</th>\n",
              "      <th>mean_squared_error</th>\n",
              "      <th>mean_squared_log_error</th>\n",
              "      <th>median_absolute_error</th>\n",
              "      <th>r2_score</th>\n",
              "      <th>explained_variance</th>\n",
              "    </tr>\n",
              "  </thead>\n",
              "  <tbody>\n",
              "    <tr>\n",
              "      <th>0</th>\n",
              "      <td>62</td>\n",
              "      <td>0.000979</td>\n",
              "      <td>0.000794</td>\n",
              "      <td>0.011059</td>\n",
              "      <td>0.669556</td>\n",
              "      <td>0.669556</td>\n",
              "    </tr>\n",
              "  </tbody>\n",
              "</table>\n",
              "</div>"
            ],
            "text/plain": [
              "   mean_absolute_error  mean_squared_error  ...  r2_score  explained_variance\n",
              "0                   62            0.000979  ...  0.669556            0.669556\n",
              "\n",
              "[1 rows x 6 columns]"
            ]
          },
          "metadata": {
            "tags": []
          },
          "execution_count": 102
        }
      ]
    },
    {
      "cell_type": "markdown",
      "metadata": {
        "id": "HPezziG9o8vT",
        "colab_type": "text"
      },
      "source": [
        "Smashed it!"
      ]
    },
    {
      "cell_type": "markdown",
      "metadata": {
        "id": "LW_s7hxdpmYU",
        "colab_type": "text"
      },
      "source": [
        "### Custom Loss Function\n",
        "Do you read the articles that include \"the hard way\" in them? Perhaps you like to to see the math in action. Below we create a custom loss function and evaluate it against our model. We'll do this using the entire dataset (as defined by `taxidemand`).  We'd expect our `model_MAE` to match the `mean_absolute_error` value returned by the `ml.EVALUATE` function above.  Fingers crossed!"
      ]
    },
    {
      "cell_type": "code",
      "metadata": {
        "id": "FJIH7C828L3t",
        "colab_type": "code",
        "outputId": "9b74bd5b-94d9-48d9-d56a-583f7044c97c",
        "colab": {
          "base_uri": "https://localhost:8080/",
          "height": 34
        }
      },
      "source": [
        "query = \"\"\"\n",
        "SELECT SUM(error) / COUNT(*) as model_MAE from (\n",
        "  SELECT  abs(predicted_label-label) as error\n",
        "          FROM ML.PREDICT(MODEL `{0}.{1}` , ({2}))\n",
        ")\n",
        "\"\"\".format(dataset_name, model_name, taxidemand)\n",
        "df = client.query(query).to_dataframe()\n",
        "print int(df.model_MAE*maxtrips)"
      ],
      "execution_count": 0,
      "outputs": [
        {
          "output_type": "stream",
          "text": [
            "4579\n"
          ],
          "name": "stdout"
        }
      ]
    },
    {
      "cell_type": "markdown",
      "metadata": {
        "id": "Zxk23tcsqkEq",
        "colab_type": "text"
      },
      "source": [
        "Sure enough, the math adds up!"
      ]
    },
    {
      "cell_type": "markdown",
      "metadata": {
        "id": "6YGJebMOBN8O",
        "colab_type": "text"
      },
      "source": [
        "## Get `ml.TRAINING_INFO()` for the model\n",
        "This shows us how many training procedures were needed to reach convergence, and provides various metrics associated with the training run. The system performs hyperparameter tuning automatically in order to establish the best model settings."
      ]
    },
    {
      "cell_type": "code",
      "metadata": {
        "id": "7DFpB7z8_gkC",
        "colab_type": "code",
        "outputId": "5835fb02-ffbc-4d72-fb67-79dadaf18753",
        "colab": {
          "base_uri": "https://localhost:8080/",
          "height": 77
        }
      },
      "source": [
        "query = \"select * from ml.TRAINING_INFO(MODEL {0}.{1})\".format(dataset_name, model_name)\n",
        "df = client.query(query).to_dataframe()\n",
        "df"
      ],
      "execution_count": 0,
      "outputs": [
        {
          "output_type": "execute_result",
          "data": {
            "text/html": [
              "<div>\n",
              "<style scoped>\n",
              "    .dataframe tbody tr th:only-of-type {\n",
              "        vertical-align: middle;\n",
              "    }\n",
              "\n",
              "    .dataframe tbody tr th {\n",
              "        vertical-align: top;\n",
              "    }\n",
              "\n",
              "    .dataframe thead th {\n",
              "        text-align: right;\n",
              "    }\n",
              "</style>\n",
              "<table border=\"1\" class=\"dataframe\">\n",
              "  <thead>\n",
              "    <tr style=\"text-align: right;\">\n",
              "      <th></th>\n",
              "      <th>training_run</th>\n",
              "      <th>iteration</th>\n",
              "      <th>loss</th>\n",
              "      <th>eval_loss</th>\n",
              "      <th>learning_rate</th>\n",
              "      <th>duration_ms</th>\n",
              "    </tr>\n",
              "  </thead>\n",
              "  <tbody>\n",
              "    <tr>\n",
              "      <th>0</th>\n",
              "      <td>0</td>\n",
              "      <td>0</td>\n",
              "      <td>0.000979</td>\n",
              "      <td>0.00098</td>\n",
              "      <td>None</td>\n",
              "      <td>14871</td>\n",
              "    </tr>\n",
              "  </tbody>\n",
              "</table>\n",
              "</div>"
            ],
            "text/plain": [
              "   training_run  iteration      loss  eval_loss learning_rate  duration_ms\n",
              "0             0          0  0.000979    0.00098          None        14871"
            ]
          },
          "metadata": {
            "tags": []
          },
          "execution_count": 103
        }
      ]
    },
    {
      "cell_type": "code",
      "metadata": {
        "id": "REPBeyzo4C0n",
        "colab_type": "code",
        "outputId": "1477fef0-4499-4a09-82b0-1915055b16e3",
        "colab": {
          "base_uri": "https://localhost:8080/",
          "height": 279
        }
      },
      "source": [
        "_ = df[['loss','eval_loss']].plot(kind='bar').set_xlabel('iterations')"
      ],
      "execution_count": 0,
      "outputs": [
        {
          "output_type": "display_data",
          "data": {
            "image/png": "[encoded data removed]",
            "text/plain": [
              "<Figure size 432x288 with 1 Axes>"
            ]
          },
          "metadata": {
            "tags": []
          }
        }
      ]
    },
    {
      "cell_type": "markdown",
      "metadata": {
        "id": "jM4drx_3dODo",
        "colab_type": "text"
      },
      "source": [
        "## Get ml.FEATURE_INFO() for the model\n",
        "This function prints out the descriptive statistics for the numerical features: min(), max(), avg(), and standard deviation. The category count shows the number of distinct values found within a categorical feature. Null count is important to note because the model will automatically convert nulls to the mean of the feature set (fairly standard practice, but could be controversial!)"
      ]
    },
    {
      "cell_type": "code",
      "metadata": {
        "id": "SAISuAh1dche",
        "colab_type": "code",
        "outputId": "9bb464a1-8744-43de-d3f6-51c34897df4f",
        "colab": {
          "base_uri": "https://localhost:8080/",
          "height": 225
        }
      },
      "source": [
        "query = \"select * from ml.FEATURE_INFO(MODEL {0}.{1})\".format(dataset_name, model_name)\n",
        "df = client.query(query).to_dataframe()\n",
        "df"
      ],
      "execution_count": 0,
      "outputs": [
        {
          "output_type": "execute_result",
          "data": {
            "text/html": [
              "<div>\n",
              "<style scoped>\n",
              "    .dataframe tbody tr th:only-of-type {\n",
              "        vertical-align: middle;\n",
              "    }\n",
              "\n",
              "    .dataframe tbody tr th {\n",
              "        vertical-align: top;\n",
              "    }\n",
              "\n",
              "    .dataframe thead th {\n",
              "        text-align: right;\n",
              "    }\n",
              "</style>\n",
              "<table border=\"1\" class=\"dataframe\">\n",
              "  <thead>\n",
              "    <tr style=\"text-align: right;\">\n",
              "      <th></th>\n",
              "      <th>input</th>\n",
              "      <th>min</th>\n",
              "      <th>max</th>\n",
              "      <th>mean</th>\n",
              "      <th>median</th>\n",
              "      <th>stddev</th>\n",
              "      <th>category_count</th>\n",
              "      <th>null_count</th>\n",
              "    </tr>\n",
              "  </thead>\n",
              "  <tbody>\n",
              "    <tr>\n",
              "      <th>0</th>\n",
              "      <td>dayofweek</td>\n",
              "      <td>NaN</td>\n",
              "      <td>NaN</td>\n",
              "      <td>NaN</td>\n",
              "      <td>NaN</td>\n",
              "      <td>NaN</td>\n",
              "      <td>7.0</td>\n",
              "      <td>NaN</td>\n",
              "    </tr>\n",
              "    <tr>\n",
              "      <th>1</th>\n",
              "      <td>mintemp</td>\n",
              "      <td>12.0</td>\n",
              "      <td>80.10</td>\n",
              "      <td>49.681762</td>\n",
              "      <td>51.1</td>\n",
              "      <td>15.973619</td>\n",
              "      <td>NaN</td>\n",
              "      <td>0.0</td>\n",
              "    </tr>\n",
              "    <tr>\n",
              "      <th>2</th>\n",
              "      <td>maxtemp</td>\n",
              "      <td>21.9</td>\n",
              "      <td>100.90</td>\n",
              "      <td>67.128720</td>\n",
              "      <td>69.1</td>\n",
              "      <td>17.223547</td>\n",
              "      <td>NaN</td>\n",
              "      <td>0.0</td>\n",
              "    </tr>\n",
              "    <tr>\n",
              "      <th>3</th>\n",
              "      <td>rain</td>\n",
              "      <td>0.0</td>\n",
              "      <td>2.79</td>\n",
              "      <td>0.120547</td>\n",
              "      <td>0.0</td>\n",
              "      <td>0.326036</td>\n",
              "      <td>NaN</td>\n",
              "      <td>0.0</td>\n",
              "    </tr>\n",
              "    <tr>\n",
              "      <th>4</th>\n",
              "      <td>hour</td>\n",
              "      <td>0.0</td>\n",
              "      <td>23.00</td>\n",
              "      <td>11.593986</td>\n",
              "      <td>12.0</td>\n",
              "      <td>6.947616</td>\n",
              "      <td>NaN</td>\n",
              "      <td>0.0</td>\n",
              "    </tr>\n",
              "    <tr>\n",
              "      <th>5</th>\n",
              "      <td>pickup_location_id</td>\n",
              "      <td>NaN</td>\n",
              "      <td>NaN</td>\n",
              "      <td>NaN</td>\n",
              "      <td>NaN</td>\n",
              "      <td>NaN</td>\n",
              "      <td>265.0</td>\n",
              "      <td>NaN</td>\n",
              "    </tr>\n",
              "  </tbody>\n",
              "</table>\n",
              "</div>"
            ],
            "text/plain": [
              "                input   min     max  ...     stddev  category_count  null_count\n",
              "0           dayofweek   NaN     NaN  ...        NaN             7.0         NaN\n",
              "1             mintemp  12.0   80.10  ...  15.973619             NaN         0.0\n",
              "2             maxtemp  21.9  100.90  ...  17.223547             NaN         0.0\n",
              "3                rain   0.0    2.79  ...   0.326036             NaN         0.0\n",
              "4                hour   0.0   23.00  ...   6.947616             NaN         0.0\n",
              "5  pickup_location_id   NaN     NaN  ...        NaN           265.0         NaN\n",
              "\n",
              "[6 rows x 8 columns]"
            ]
          },
          "metadata": {
            "tags": []
          },
          "execution_count": 105
        }
      ]
    },
    {
      "cell_type": "markdown",
      "metadata": {
        "id": "gjMcaw5pDOgO",
        "colab_type": "text"
      },
      "source": [
        "## Get `ml.WEIGHTS()` for the `dayofweek`\n",
        "We created a linear model, here are the weights applied to the features of that model."
      ]
    },
    {
      "cell_type": "code",
      "metadata": {
        "id": "jHQkhHQ1w72e",
        "colab_type": "code",
        "outputId": "520096c9-b458-4ab2-8ebd-d94608ffb1d9",
        "colab": {
          "base_uri": "https://localhost:8080/",
          "height": 254
        }
      },
      "source": [
        "query = \"select * from ml.WEIGHTS(MODEL {0}.{1})\".format(dataset_name, model_name)\n",
        "df = client.query(query).to_dataframe()\n",
        "pd.DataFrame({ \n",
        "    \"processed_input\" : df.processed_input,\n",
        "    \"weights\": df.weight \n",
        "})"
      ],
      "execution_count": 0,
      "outputs": [
        {
          "output_type": "execute_result",
          "data": {
            "text/html": [
              "<div>\n",
              "<style scoped>\n",
              "    .dataframe tbody tr th:only-of-type {\n",
              "        vertical-align: middle;\n",
              "    }\n",
              "\n",
              "    .dataframe tbody tr th {\n",
              "        vertical-align: top;\n",
              "    }\n",
              "\n",
              "    .dataframe thead th {\n",
              "        text-align: right;\n",
              "    }\n",
              "</style>\n",
              "<table border=\"1\" class=\"dataframe\">\n",
              "  <thead>\n",
              "    <tr style=\"text-align: right;\">\n",
              "      <th></th>\n",
              "      <th>processed_input</th>\n",
              "      <th>weights</th>\n",
              "    </tr>\n",
              "  </thead>\n",
              "  <tbody>\n",
              "    <tr>\n",
              "      <th>0</th>\n",
              "      <td>dayofweek</td>\n",
              "      <td>NaN</td>\n",
              "    </tr>\n",
              "    <tr>\n",
              "      <th>1</th>\n",
              "      <td>mintemp</td>\n",
              "      <td>-0.000120</td>\n",
              "    </tr>\n",
              "    <tr>\n",
              "      <th>2</th>\n",
              "      <td>maxtemp</td>\n",
              "      <td>0.000062</td>\n",
              "    </tr>\n",
              "    <tr>\n",
              "      <th>3</th>\n",
              "      <td>rain</td>\n",
              "      <td>-0.000455</td>\n",
              "    </tr>\n",
              "    <tr>\n",
              "      <th>4</th>\n",
              "      <td>hour</td>\n",
              "      <td>0.001457</td>\n",
              "    </tr>\n",
              "    <tr>\n",
              "      <th>5</th>\n",
              "      <td>pickup_location_id</td>\n",
              "      <td>NaN</td>\n",
              "    </tr>\n",
              "    <tr>\n",
              "      <th>6</th>\n",
              "      <td>__INTERCEPT__</td>\n",
              "      <td>42371.930773</td>\n",
              "    </tr>\n",
              "  </tbody>\n",
              "</table>\n",
              "</div>"
            ],
            "text/plain": [
              "      processed_input       weights\n",
              "0           dayofweek           NaN\n",
              "1             mintemp     -0.000120\n",
              "2             maxtemp      0.000062\n",
              "3                rain     -0.000455\n",
              "4                hour      0.001457\n",
              "5  pickup_location_id           NaN\n",
              "6       __INTERCEPT__  42371.930773"
            ]
          },
          "metadata": {
            "tags": []
          },
          "execution_count": 106
        }
      ]
    },
    {
      "cell_type": "code",
      "metadata": {
        "id": "6eBq-uLFDMCk",
        "colab_type": "code",
        "outputId": "88f14003-78f4-43d1-e057-23334861be3d",
        "colab": {
          "base_uri": "https://localhost:8080/",
          "height": 254
        }
      },
      "source": [
        "query = \"select * from ml.WEIGHTS(MODEL {0}.{1})\".format(dataset_name, model_name)\n",
        "df = client.query(query).to_dataframe()\n",
        "df = pd.DataFrame(df.category_weights[0]).sort_values(by='category')\n",
        "df.round(2)"
      ],
      "execution_count": 0,
      "outputs": [
        {
          "output_type": "execute_result",
          "data": {
            "text/html": [
              "<div>\n",
              "<style scoped>\n",
              "    .dataframe tbody tr th:only-of-type {\n",
              "        vertical-align: middle;\n",
              "    }\n",
              "\n",
              "    .dataframe tbody tr th {\n",
              "        vertical-align: top;\n",
              "    }\n",
              "\n",
              "    .dataframe thead th {\n",
              "        text-align: right;\n",
              "    }\n",
              "</style>\n",
              "<table border=\"1\" class=\"dataframe\">\n",
              "  <thead>\n",
              "    <tr style=\"text-align: right;\">\n",
              "      <th></th>\n",
              "      <th>category</th>\n",
              "      <th>weight</th>\n",
              "    </tr>\n",
              "  </thead>\n",
              "  <tbody>\n",
              "    <tr>\n",
              "      <th>2</th>\n",
              "      <td>1</td>\n",
              "      <td>-0.0</td>\n",
              "    </tr>\n",
              "    <tr>\n",
              "      <th>4</th>\n",
              "      <td>2</td>\n",
              "      <td>-0.0</td>\n",
              "    </tr>\n",
              "    <tr>\n",
              "      <th>5</th>\n",
              "      <td>3</td>\n",
              "      <td>-0.0</td>\n",
              "    </tr>\n",
              "    <tr>\n",
              "      <th>6</th>\n",
              "      <td>4</td>\n",
              "      <td>0.0</td>\n",
              "    </tr>\n",
              "    <tr>\n",
              "      <th>1</th>\n",
              "      <td>5</td>\n",
              "      <td>0.0</td>\n",
              "    </tr>\n",
              "    <tr>\n",
              "      <th>3</th>\n",
              "      <td>6</td>\n",
              "      <td>0.0</td>\n",
              "    </tr>\n",
              "    <tr>\n",
              "      <th>0</th>\n",
              "      <td>7</td>\n",
              "      <td>0.0</td>\n",
              "    </tr>\n",
              "  </tbody>\n",
              "</table>\n",
              "</div>"
            ],
            "text/plain": [
              "  category  weight\n",
              "2        1    -0.0\n",
              "4        2    -0.0\n",
              "5        3    -0.0\n",
              "6        4     0.0\n",
              "1        5     0.0\n",
              "3        6     0.0\n",
              "0        7     0.0"
            ]
          },
          "metadata": {
            "tags": []
          },
          "execution_count": 107
        }
      ]
    },
    {
      "cell_type": "code",
      "metadata": {
        "id": "z_2nRd1VRtng",
        "colab_type": "code",
        "outputId": "9bf9188c-4ad2-47da-92a8-7221ecdf5c47",
        "colab": {
          "base_uri": "https://localhost:8080/",
          "height": 609
        }
      },
      "source": [
        "! pip install google-cloud-automl"
      ],
      "execution_count": 0,
      "outputs": [
        {
          "output_type": "stream",
          "text": [
            "Collecting google-cloud-automl\n",
            "\u001b[?25l  Downloading https://files.pythonhosted.org/packages/5f/60/d2e5721713967d40cdee5ed9da4fad4a0349dada84608f16f24920afc6f2/google_cloud_automl-0.9.0-py2.py3-none-any.whl (371kB)\n",
            "\u001b[K     |████████████████████████████████| 378kB 8.8MB/s \n",
            "\u001b[?25hRequirement already satisfied: enum34; python_version < \"3.4\" in /usr/local/lib/python2.7/dist-packages (from google-cloud-automl) (1.1.6)\n",
            "Collecting google-api-core[grpc]<2.0.0dev,>=1.14.0\n",
            "\u001b[?25l  Downloading https://files.pythonhosted.org/packages/63/7e/a523169b0cc9ce62d56e07571db927286a94b1a5f51ac220bd97db825c77/google_api_core-1.16.0-py2.py3-none-any.whl (70kB)\n",
            "\u001b[K     |████████████████████████████████| 71kB 9.5MB/s \n",
            "\u001b[?25hRequirement already satisfied: requests<3.0.0dev,>=2.18.0 in /usr/local/lib/python2.7/dist-packages (from google-api-core[grpc]<2.0.0dev,>=1.14.0->google-cloud-automl) (2.21.0)\n",
            "Requirement already satisfied: google-auth<2.0dev,>=0.4.0 in /usr/local/lib/python2.7/dist-packages (from google-api-core[grpc]<2.0.0dev,>=1.14.0->google-cloud-automl) (1.4.2)\n",
            "Requirement already satisfied: setuptools>=34.0.0 in /usr/local/lib/python2.7/dist-packages (from google-api-core[grpc]<2.0.0dev,>=1.14.0->google-cloud-automl) (44.0.0)\n",
            "Requirement already satisfied: protobuf>=3.4.0 in /usr/local/lib/python2.7/dist-packages (from google-api-core[grpc]<2.0.0dev,>=1.14.0->google-cloud-automl) (3.7.1)\n",
            "Requirement already satisfied: futures>=3.2.0; python_version < \"3.2\" in /usr/local/lib/python2.7/dist-packages (from google-api-core[grpc]<2.0.0dev,>=1.14.0->google-cloud-automl) (3.2.0)\n",
            "Requirement already satisfied: six>=1.10.0 in /usr/local/lib/python2.7/dist-packages (from google-api-core[grpc]<2.0.0dev,>=1.14.0->google-cloud-automl) (1.12.0)\n",
            "Requirement already satisfied: pytz in /usr/local/lib/python2.7/dist-packages (from google-api-core[grpc]<2.0.0dev,>=1.14.0->google-cloud-automl) (2018.9)\n",
            "Requirement already satisfied: googleapis-common-protos<2.0dev,>=1.6.0 in /usr/local/lib/python2.7/dist-packages (from google-api-core[grpc]<2.0.0dev,>=1.14.0->google-cloud-automl) (1.6.0)\n",
            "Requirement already satisfied: grpcio<2.0dev,>=1.8.2; extra == \"grpc\" in /usr/local/lib/python2.7/dist-packages (from google-api-core[grpc]<2.0.0dev,>=1.14.0->google-cloud-automl) (1.15.0)\n",
            "Requirement already satisfied: urllib3<1.25,>=1.21.1 in /usr/local/lib/python2.7/dist-packages (from requests<3.0.0dev,>=2.18.0->google-api-core[grpc]<2.0.0dev,>=1.14.0->google-cloud-automl) (1.24.3)\n",
            "Requirement already satisfied: certifi>=2017.4.17 in /usr/local/lib/python2.7/dist-packages (from requests<3.0.0dev,>=2.18.0->google-api-core[grpc]<2.0.0dev,>=1.14.0->google-cloud-automl) (2019.6.16)\n",
            "Requirement already satisfied: chardet<3.1.0,>=3.0.2 in /usr/local/lib/python2.7/dist-packages (from requests<3.0.0dev,>=2.18.0->google-api-core[grpc]<2.0.0dev,>=1.14.0->google-cloud-automl) (3.0.4)\n",
            "Requirement already satisfied: idna<2.9,>=2.5 in /usr/local/lib/python2.7/dist-packages (from requests<3.0.0dev,>=2.18.0->google-api-core[grpc]<2.0.0dev,>=1.14.0->google-cloud-automl) (2.8)\n",
            "Requirement already satisfied: cachetools>=2.0.0 in /usr/local/lib/python2.7/dist-packages (from google-auth<2.0dev,>=0.4.0->google-api-core[grpc]<2.0.0dev,>=1.14.0->google-cloud-automl) (3.1.1)\n",
            "Requirement already satisfied: pyasn1-modules>=0.2.1 in /usr/local/lib/python2.7/dist-packages (from google-auth<2.0dev,>=0.4.0->google-api-core[grpc]<2.0.0dev,>=1.14.0->google-cloud-automl) (0.2.5)\n",
            "Requirement already satisfied: rsa>=3.1.4 in /usr/local/lib/python2.7/dist-packages (from google-auth<2.0dev,>=0.4.0->google-api-core[grpc]<2.0.0dev,>=1.14.0->google-cloud-automl) (4.0)\n",
            "Requirement already satisfied: pyasn1<0.5.0,>=0.4.1 in /usr/local/lib/python2.7/dist-packages (from pyasn1-modules>=0.2.1->google-auth<2.0dev,>=0.4.0->google-api-core[grpc]<2.0.0dev,>=1.14.0->google-cloud-automl) (0.4.5)\n",
            "Installing collected packages: google-api-core, google-cloud-automl\n",
            "  Found existing installation: google-api-core 1.13.0\n",
            "    Uninstalling google-api-core-1.13.0:\n",
            "      Successfully uninstalled google-api-core-1.13.0\n",
            "Successfully installed google-api-core-1.16.0 google-cloud-automl-0.9.0\n"
          ],
          "name": "stdout"
        },
        {
          "output_type": "display_data",
          "data": {
            "application/vnd.colab-display-data+json": {
              "pip_warning": {
                "packages": [
                  "google"
                ]
              }
            }
          },
          "metadata": {
            "tags": []
          }
        }
      ]
    },
    {
      "cell_type": "code",
      "metadata": {
        "id": "I2D9wkmnRKT8",
        "colab_type": "code",
        "colab": {}
      },
      "source": [
        "from dask import dataframe as dd \n",
        "sd = dd.from_pandas(df, npartitions=3)"
      ],
      "execution_count": 0,
      "outputs": []
    },
    {
      "cell_type": "code",
      "metadata": {
        "id": "kMMBq8uXT-x0",
        "colab_type": "code",
        "outputId": "dcf1e7e6-ddea-4459-ec00-a4f6a8f8e7bd",
        "colab": {
          "base_uri": "https://localhost:8080/",
          "height": 229
        }
      },
      "source": [
        "sd"
      ],
      "execution_count": 0,
      "outputs": [
        {
          "output_type": "execute_result",
          "data": {
            "text/html": [
              "<div><strong>Dask DataFrame Structure:</strong></div>\n",
              "<div>\n",
              "<style scoped>\n",
              "    .dataframe tbody tr th:only-of-type {\n",
              "        vertical-align: middle;\n",
              "    }\n",
              "\n",
              "    .dataframe tbody tr th {\n",
              "        vertical-align: top;\n",
              "    }\n",
              "\n",
              "    .dataframe thead th {\n",
              "        text-align: right;\n",
              "    }\n",
              "</style>\n",
              "<table border=\"1\" class=\"dataframe\">\n",
              "  <thead>\n",
              "    <tr style=\"text-align: right;\">\n",
              "      <th></th>\n",
              "      <th>daynumber</th>\n",
              "      <th>hour</th>\n",
              "      <th>dayofweek</th>\n",
              "      <th>mintemp</th>\n",
              "      <th>maxtemp</th>\n",
              "      <th>rain</th>\n",
              "      <th>label</th>\n",
              "      <th>P</th>\n",
              "      <th>zone_id</th>\n",
              "    </tr>\n",
              "    <tr>\n",
              "      <th>npartitions=3</th>\n",
              "      <th></th>\n",
              "      <th></th>\n",
              "      <th></th>\n",
              "      <th></th>\n",
              "      <th></th>\n",
              "      <th></th>\n",
              "      <th></th>\n",
              "      <th></th>\n",
              "      <th></th>\n",
              "    </tr>\n",
              "  </thead>\n",
              "  <tbody>\n",
              "    <tr>\n",
              "      <th>0</th>\n",
              "      <td>int64</td>\n",
              "      <td>int64</td>\n",
              "      <td>object</td>\n",
              "      <td>float64</td>\n",
              "      <td>float64</td>\n",
              "      <td>float64</td>\n",
              "      <td>int64</td>\n",
              "      <td>object</td>\n",
              "      <td>object</td>\n",
              "    </tr>\n",
              "    <tr>\n",
              "      <th>195041</th>\n",
              "      <td>...</td>\n",
              "      <td>...</td>\n",
              "      <td>...</td>\n",
              "      <td>...</td>\n",
              "      <td>...</td>\n",
              "      <td>...</td>\n",
              "      <td>...</td>\n",
              "      <td>...</td>\n",
              "      <td>...</td>\n",
              "    </tr>\n",
              "    <tr>\n",
              "      <th>390082</th>\n",
              "      <td>...</td>\n",
              "      <td>...</td>\n",
              "      <td>...</td>\n",
              "      <td>...</td>\n",
              "      <td>...</td>\n",
              "      <td>...</td>\n",
              "      <td>...</td>\n",
              "      <td>...</td>\n",
              "      <td>...</td>\n",
              "    </tr>\n",
              "    <tr>\n",
              "      <th>585121</th>\n",
              "      <td>...</td>\n",
              "      <td>...</td>\n",
              "      <td>...</td>\n",
              "      <td>...</td>\n",
              "      <td>...</td>\n",
              "      <td>...</td>\n",
              "      <td>...</td>\n",
              "      <td>...</td>\n",
              "      <td>...</td>\n",
              "    </tr>\n",
              "  </tbody>\n",
              "</table>\n",
              "</div>\n",
              "<div>Dask Name: from_pandas, 3 tasks</div>"
            ],
            "text/plain": [
              "Dask DataFrame Structure:\n",
              "              daynumber   hour dayofweek  mintemp  maxtemp     rain  label       P zone_id\n",
              "npartitions=3                                                                             \n",
              "0                 int64  int64    object  float64  float64  float64  int64  object  object\n",
              "195041              ...    ...       ...      ...      ...      ...    ...     ...     ...\n",
              "390082              ...    ...       ...      ...      ...      ...    ...     ...     ...\n",
              "585121              ...    ...       ...      ...      ...      ...    ...     ...     ...\n",
              "Dask Name: from_pandas, 3 tasks"
            ]
          },
          "metadata": {
            "tags": []
          },
          "execution_count": 18
        }
      ]
    },
    {
      "cell_type": "code",
      "metadata": {
        "id": "Zcn9sZM_ULd-",
        "colab_type": "code",
        "outputId": "c423268b-c44c-47b8-8617-98e8a1b763d8",
        "colab": {
          "base_uri": "https://localhost:8080/",
          "height": 258
        }
      },
      "source": [
        "from dask.distributed import Client, progress\n",
        "client = Client(processes=False, threads_per_worker=4,\n",
        "                n_workers=1, memory_limit='2GB')\n",
        "client"
      ],
      "execution_count": 0,
      "outputs": [
        {
          "output_type": "stream",
          "text": [
            "/usr/local/lib/python2.7/dist-packages/distributed/bokeh/core.py:57: UserWarning: \n",
            "Failed to start diagnostics server on port 8787. [Errno 99] Cannot assign requested address\n",
            "  warnings.warn('\\n' + msg)\n",
            "/usr/local/lib/python2.7/dist-packages/distributed/deploy/local.py:197: UserWarning: \n",
            "Could not launch service 'bokeh' on port 8787. Got the following message:\n",
            "\n",
            "[Errno 99] Cannot assign requested address\n",
            "  self.scheduler.start(scheduler_address)\n"
          ],
          "name": "stderr"
        },
        {
          "output_type": "execute_result",
          "data": {
            "text/html": [
              "<table style=\"border: 2px solid white;\">\n",
              "<tr>\n",
              "<td style=\"vertical-align: top; border: 0px solid white\">\n",
              "<h3>Client</h3>\n",
              "<ul>\n",
              "  <li><b>Scheduler: </b>inproc://172.28.0.2/122/1\n",
              "</ul>\n",
              "</td>\n",
              "<td style=\"vertical-align: top; border: 0px solid white\">\n",
              "<h3>Cluster</h3>\n",
              "<ul>\n",
              "  <li><b>Workers: </b>1</li>\n",
              "  <li><b>Cores: </b>4</li>\n",
              "  <li><b>Memory: </b>2.00 GB</li>\n",
              "</ul>\n",
              "</td>\n",
              "</tr>\n",
              "</table>"
            ],
            "text/plain": [
              "<Client: scheduler='inproc://172.28.0.2/122/1' processes=1 cores=4>"
            ]
          },
          "metadata": {
            "tags": []
          },
          "execution_count": 19
        }
      ]
    },
    {
      "cell_type": "markdown",
      "metadata": {
        "id": "tw9YQ3HwJkr_",
        "colab_type": "text"
      },
      "source": [
        "## Make Predictions\n",
        "Adjust the sliders to create new input values to be evaluated by the model.  The model takes the min and max tempertatures plus rainfall for any given day of the week and returns the predicted number of taxi trips that will occur that day. "
      ]
    },
    {
      "cell_type": "code",
      "metadata": {
        "id": "OecBM6NJywSN",
        "colab_type": "code",
        "outputId": "27680e2e-2b38-4ad3-93fc-80a99f84710d",
        "colab": {
          "base_uri": "https://localhost:8080/",
          "height": 177
        }
      },
      "source": [
        "from dask.distributed import Client\n",
        "\n",
        "# Scale up: connect to your own cluster with more resources\n",
        "# see http://dask.pydata.org/en/latest/setup.html\n",
        "client = Client(processes=False, threads_per_worker=2,\n",
        "                n_workers=2, memory_limit='2GB')\n",
        "client\n"
      ],
      "execution_count": 0,
      "outputs": [
        {
          "output_type": "stream",
          "text": [
            "distributed.worker - WARNING - Memory use is high but worker has no data to store to disk.  Perhaps some other process is leaking memory?  Process memory: 1.40 GB -- Worker memory limit: 2.00 GB\n",
            "distributed.worker - WARNING - Memory use is high but worker has no data to store to disk.  Perhaps some other process is leaking memory?  Process memory: 1.40 GB -- Worker memory limit: 2.00 GB\n"
          ],
          "name": "stderr"
        },
        {
          "output_type": "execute_result",
          "data": {
            "text/html": [
              "<table style=\"border: 2px solid white;\">\n",
              "<tr>\n",
              "<td style=\"vertical-align: top; border: 0px solid white\">\n",
              "<h3>Client</h3>\n",
              "<ul>\n",
              "  <li><b>Scheduler: </b>inproc://172.28.0.2/122/31\n",
              "</ul>\n",
              "</td>\n",
              "<td style=\"vertical-align: top; border: 0px solid white\">\n",
              "<h3>Cluster</h3>\n",
              "<ul>\n",
              "  <li><b>Workers: </b>2</li>\n",
              "  <li><b>Cores: </b>4</li>\n",
              "  <li><b>Memory: </b>4.00 GB</li>\n",
              "</ul>\n",
              "</td>\n",
              "</tr>\n",
              "</table>"
            ],
            "text/plain": [
              "<Client: scheduler='inproc://172.28.0.2/122/31' processes=2 cores=4>"
            ]
          },
          "metadata": {
            "tags": []
          },
          "execution_count": 27
        }
      ]
    },
    {
      "cell_type": "code",
      "metadata": {
        "id": "GJ3YMYV_5r8Q",
        "colab_type": "code",
        "outputId": "f5ddfb10-02d5-4cd1-f361-672f97d821dd",
        "colab": {
          "base_uri": "https://localhost:8080/",
          "height": 672
        }
      },
      "source": [
        "!pip install dask-ml\n"
      ],
      "execution_count": 0,
      "outputs": [
        {
          "output_type": "stream",
          "text": [
            "Collecting dask-ml\n",
            "\u001b[?25l  Downloading https://files.pythonhosted.org/packages/a3/56/8a8b4bdd1d482df2495d5c0e497458be15010b2fd73833089d7db91a25b6/dask_ml-0.13.0-py2.py3-none-any.whl (106kB)\n",
            "\u001b[K     |████████████████████████████████| 112kB 9.8MB/s \n",
            "\u001b[?25hRequirement already satisfied: six in /usr/local/lib/python2.7/dist-packages (from dask-ml) (1.12.0)\n",
            "Requirement already satisfied: numpy in /usr/local/lib/python2.7/dist-packages (from dask-ml) (1.16.4)\n",
            "Requirement already satisfied: pandas>=0.23.4 in /usr/local/lib/python2.7/dist-packages (from dask-ml) (0.24.2)\n",
            "Collecting dask-glm\n",
            "  Downloading https://files.pythonhosted.org/packages/cb/ee/36c6e0e7b51e08406e5c3bb036f35adb77bd0a89335437b2e6f03c948f1a/dask_glm-0.2.0-py2.py3-none-any.whl\n",
            "Requirement already satisfied: numba in /usr/local/lib/python2.7/dist-packages (from dask-ml) (0.40.1)\n",
            "Requirement already satisfied: dask[array]>=1.0.0 in /usr/local/lib/python2.7/dist-packages (from dask-ml) (1.1.5)\n",
            "Collecting multipledispatch>=0.4.9\n",
            "  Downloading https://files.pythonhosted.org/packages/3d/a3/3638c2232eb513a9f876bb96e2e400f18d2f5bdc2e7abe84194c8bd38c2d/multipledispatch-0.6.0-py2-none-any.whl\n",
            "Requirement already satisfied: scipy in /usr/local/lib/python2.7/dist-packages (from dask-ml) (1.2.2)\n",
            "Requirement already satisfied: scikit-learn>=0.20 in /usr/local/lib/python2.7/dist-packages (from dask-ml) (0.20.3)\n",
            "Requirement already satisfied: distributed>=1.25.0 in /usr/local/lib/python2.7/dist-packages (from dask-ml) (1.25.3)\n",
            "Requirement already satisfied: packaging in /usr/local/lib/python2.7/dist-packages (from dask-ml) (19.0)\n",
            "Requirement already satisfied: pytz>=2011k in /usr/local/lib/python2.7/dist-packages (from pandas>=0.23.4->dask-ml) (2018.9)\n",
            "Requirement already satisfied: python-dateutil>=2.5.0 in /usr/local/lib/python2.7/dist-packages (from pandas>=0.23.4->dask-ml) (2.5.3)\n",
            "Requirement already satisfied: cloudpickle>=0.2.2 in /usr/local/lib/python2.7/dist-packages (from dask-glm->dask-ml) (0.6.1)\n",
            "Requirement already satisfied: funcsigs in /usr/local/lib/python2.7/dist-packages (from numba->dask-ml) (1.0.2)\n",
            "Requirement already satisfied: enum34 in /usr/local/lib/python2.7/dist-packages (from numba->dask-ml) (1.1.6)\n",
            "Requirement already satisfied: llvmlite>=0.25.0dev0 in /usr/local/lib/python2.7/dist-packages (from numba->dask-ml) (0.29.0)\n",
            "Requirement already satisfied: singledispatch in /usr/local/lib/python2.7/dist-packages (from numba->dask-ml) (3.4.0.3)\n",
            "Requirement already satisfied: toolz>=0.7.3; extra == \"array\" in /usr/local/lib/python2.7/dist-packages (from dask[array]>=1.0.0->dask-ml) (0.10.0)\n",
            "Requirement already satisfied: tornado>=4.5.1 in /usr/local/lib/python2.7/dist-packages (from distributed>=1.25.0->dask-ml) (4.5.3)\n",
            "Requirement already satisfied: msgpack in /usr/local/lib/python2.7/dist-packages (from distributed>=1.25.0->dask-ml) (0.5.6)\n",
            "Requirement already satisfied: sortedcontainers!=2.0.0,!=2.0.1 in /usr/local/lib/python2.7/dist-packages (from distributed>=1.25.0->dask-ml) (2.1.0)\n",
            "Requirement already satisfied: psutil>=5.0 in /usr/local/lib/python2.7/dist-packages (from distributed>=1.25.0->dask-ml) (5.4.8)\n",
            "Requirement already satisfied: click>=6.6 in /usr/local/lib/python2.7/dist-packages (from distributed>=1.25.0->dask-ml) (7.0)\n",
            "Requirement already satisfied: zict>=0.1.3 in /usr/local/lib/python2.7/dist-packages (from distributed>=1.25.0->dask-ml) (1.0.0)\n",
            "Requirement already satisfied: tblib in /usr/local/lib/python2.7/dist-packages (from distributed>=1.25.0->dask-ml) (1.4.0)\n",
            "Requirement already satisfied: futures; python_version < \"3.0\" in /usr/local/lib/python2.7/dist-packages (from distributed>=1.25.0->dask-ml) (3.2.0)\n",
            "Requirement already satisfied: pyyaml in /usr/local/lib/python2.7/dist-packages (from distributed>=1.25.0->dask-ml) (3.13)\n",
            "Requirement already satisfied: pyparsing>=2.0.2 in /usr/local/lib/python2.7/dist-packages (from packaging->dask-ml) (2.4.0)\n",
            "Requirement already satisfied: certifi in /usr/local/lib/python2.7/dist-packages (from tornado>=4.5.1->distributed>=1.25.0->dask-ml) (2019.6.16)\n",
            "Requirement already satisfied: backports-abc>=0.4 in /usr/local/lib/python2.7/dist-packages (from tornado>=4.5.1->distributed>=1.25.0->dask-ml) (0.5)\n",
            "Requirement already satisfied: heapdict in /usr/local/lib/python2.7/dist-packages (from zict>=0.1.3->distributed>=1.25.0->dask-ml) (1.0.0)\n",
            "Installing collected packages: multipledispatch, dask-glm, dask-ml\n",
            "Successfully installed dask-glm-0.2.0 dask-ml-0.13.0 multipledispatch-0.6.0\n"
          ],
          "name": "stdout"
        }
      ]
    },
    {
      "cell_type": "code",
      "metadata": {
        "id": "6EeLPHBX5oWA",
        "colab_type": "code",
        "outputId": "c8af331e-c8df-47aa-8ced-d8bca20f4310",
        "colab": {
          "base_uri": "https://localhost:8080/",
          "height": 322
        }
      },
      "source": [
        "import dask_ml.datasets\n",
        "import dask_ml.cluster\n",
        "import matplotlib.pyplot as plt"
      ],
      "execution_count": 0,
      "outputs": [
        {
          "output_type": "stream",
          "text": [
            "distributed.worker - WARNING - Memory use is high but worker has no data to store to disk.  Perhaps some other process is leaking memory?  Process memory: 1.40 GB -- Worker memory limit: 2.00 GB\n",
            "distributed.worker - WARNING - Memory use is high but worker has no data to store to disk.  Perhaps some other process is leaking memory?  Process memory: 1.40 GB -- Worker memory limit: 2.00 GB\n",
            "distributed.worker - WARNING - Memory use is high but worker has no data to store to disk.  Perhaps some other process is leaking memory?  Process memory: 1.40 GB -- Worker memory limit: 2.00 GB\n",
            "distributed.worker - WARNING - Memory use is high but worker has no data to store to disk.  Perhaps some other process is leaking memory?  Process memory: 1.40 GB -- Worker memory limit: 2.00 GB\n",
            "distributed.worker - WARNING - Memory use is high but worker has no data to store to disk.  Perhaps some other process is leaking memory?  Process memory: 1.40 GB -- Worker memory limit: 2.00 GB\n",
            "distributed.worker - WARNING - Memory use is high but worker has no data to store to disk.  Perhaps some other process is leaking memory?  Process memory: 1.40 GB -- Worker memory limit: 2.00 GB\n",
            "distributed.worker - WARNING - Memory use is high but worker has no data to store to disk.  Perhaps some other process is leaking memory?  Process memory: 1.40 GB -- Worker memory limit: 2.00 GB\n",
            "distributed.worker - WARNING - Memory use is high but worker has no data to store to disk.  Perhaps some other process is leaking memory?  Process memory: 1.40 GB -- Worker memory limit: 2.00 GB\n",
            "distributed.worker - WARNING - Memory use is high but worker has no data to store to disk.  Perhaps some other process is leaking memory?  Process memory: 1.40 GB -- Worker memory limit: 2.00 GB\n",
            "distributed.worker - WARNING - Memory use is high but worker has no data to store to disk.  Perhaps some other process is leaking memory?  Process memory: 1.40 GB -- Worker memory limit: 2.00 GB\n",
            "distributed.worker - WARNING - Memory use is high but worker has no data to store to disk.  Perhaps some other process is leaking memory?  Process memory: 1.40 GB -- Worker memory limit: 2.00 GB\n",
            "distributed.worker - WARNING - Memory use is high but worker has no data to store to disk.  Perhaps some other process is leaking memory?  Process memory: 1.40 GB -- Worker memory limit: 2.00 GB\n",
            "distributed.worker - WARNING - Memory use is high but worker has no data to store to disk.  Perhaps some other process is leaking memory?  Process memory: 1.40 GB -- Worker memory limit: 2.00 GB\n",
            "distributed.worker - WARNING - Memory use is high but worker has no data to store to disk.  Perhaps some other process is leaking memory?  Process memory: 1.40 GB -- Worker memory limit: 2.00 GB\n",
            "distributed.worker - WARNING - Memory use is high but worker has no data to store to disk.  Perhaps some other process is leaking memory?  Process memory: 1.40 GB -- Worker memory limit: 2.00 GB\n",
            "distributed.worker - WARNING - Memory use is high but worker has no data to store to disk.  Perhaps some other process is leaking memory?  Process memory: 1.40 GB -- Worker memory limit: 2.00 GB\n",
            "distributed.worker - WARNING - Memory use is high but worker has no data to store to disk.  Perhaps some other process is leaking memory?  Process memory: 1.40 GB -- Worker memory limit: 2.00 GB\n"
          ],
          "name": "stderr"
        }
      ]
    },
    {
      "cell_type": "code",
      "metadata": {
        "id": "-bbce6Nu6HQk",
        "colab_type": "code",
        "outputId": "81a26931-da37-42d2-aee0-641830e80e00",
        "colab": {
          "base_uri": "https://localhost:8080/",
          "height": 205
        }
      },
      "source": [
        "X, y = dask_ml.datasets.make_blobs(n_samples=1000000,\n",
        "                                   chunks=100000,\n",
        "                                   random_state=0,\n",
        "                                   centers=3)\n",
        "X = X.persist()\n",
        "X"
      ],
      "execution_count": 0,
      "outputs": [
        {
          "output_type": "stream",
          "text": [
            "distributed.worker - WARNING - Memory use is high but worker has no data to store to disk.  Perhaps some other process is leaking memory?  Process memory: 1.40 GB -- Worker memory limit: 2.00 GB\n",
            "distributed.worker - WARNING - Memory use is high but worker has no data to store to disk.  Perhaps some other process is leaking memory?  Process memory: 1.40 GB -- Worker memory limit: 2.00 GB\n",
            "distributed.worker - WARNING - Memory use is high but worker has no data to store to disk.  Perhaps some other process is leaking memory?  Process memory: 1.40 GB -- Worker memory limit: 2.00 GB\n"
          ],
          "name": "stderr"
        },
        {
          "output_type": "execute_result",
          "data": {
            "text/plain": [
              "dask.array<concatenate, shape=(1000000, 2), dtype=float64, chunksize=(100000, 2)>"
            ]
          },
          "metadata": {
            "tags": []
          },
          "execution_count": 29
        },
        {
          "output_type": "stream",
          "text": [
            "distributed.worker - WARNING - Memory use is high but worker has no data to store to disk.  Perhaps some other process is leaking memory?  Process memory: 1.40 GB -- Worker memory limit: 2.00 GB\n",
            "distributed.worker - WARNING - Memory use is high but worker has no data to store to disk.  Perhaps some other process is leaking memory?  Process memory: 1.40 GB -- Worker memory limit: 2.00 GB\n",
            "distributed.worker - WARNING - Memory use is high but worker has no data to store to disk.  Perhaps some other process is leaking memory?  Process memory: 1.40 GB -- Worker memory limit: 2.00 GB\n",
            "distributed.worker - WARNING - Memory use is high but worker has no data to store to disk.  Perhaps some other process is leaking memory?  Process memory: 1.40 GB -- Worker memory limit: 2.00 GB\n",
            "distributed.worker - WARNING - Memory use is high but worker has no data to store to disk.  Perhaps some other process is leaking memory?  Process memory: 1.40 GB -- Worker memory limit: 2.00 GB\n",
            "distributed.worker - WARNING - Memory use is high but worker has no data to store to disk.  Perhaps some other process is leaking memory?  Process memory: 1.40 GB -- Worker memory limit: 2.00 GB\n",
            "distributed.worker - WARNING - Memory use is high but worker has no data to store to disk.  Perhaps some other process is leaking memory?  Process memory: 1.40 GB -- Worker memory limit: 2.00 GB\n"
          ],
          "name": "stderr"
        }
      ]
    },
    {
      "cell_type": "code",
      "metadata": {
        "id": "pxdqS-8n6LQE",
        "colab_type": "code",
        "outputId": "127e1092-1bb6-4a9b-9e52-6fb676e30200",
        "colab": {
          "base_uri": "https://localhost:8080/",
          "height": 1000
        }
      },
      "source": [
        "km = dask_ml.cluster.KMeans(n_clusters=3, init_max_iter=2, oversampling_factor=10)\n",
        "km.fit(X)"
      ],
      "execution_count": 0,
      "outputs": [
        {
          "output_type": "stream",
          "text": [
            "distributed.worker - WARNING - Memory use is high but worker has no data to store to disk.  Perhaps some other process is leaking memory?  Process memory: 1.40 GB -- Worker memory limit: 2.00 GB\n",
            "distributed.worker - WARNING - Memory use is high but worker has no data to store to disk.  Perhaps some other process is leaking memory?  Process memory: 1.40 GB -- Worker memory limit: 2.00 GB\n",
            "distributed.worker - WARNING - Memory use is high but worker has no data to store to disk.  Perhaps some other process is leaking memory?  Process memory: 1.40 GB -- Worker memory limit: 2.00 GB\n",
            "distributed.worker - WARNING - Memory use is high but worker has no data to store to disk.  Perhaps some other process is leaking memory?  Process memory: 1.40 GB -- Worker memory limit: 2.00 GB\n",
            "distributed.worker - WARNING - Memory use is high but worker has no data to store to disk.  Perhaps some other process is leaking memory?  Process memory: 1.40 GB -- Worker memory limit: 2.00 GB\n",
            "distributed.worker - WARNING - Memory use is high but worker has no data to store to disk.  Perhaps some other process is leaking memory?  Process memory: 1.40 GB -- Worker memory limit: 2.00 GB\n",
            "distributed.worker - WARNING - Memory use is high but worker has no data to store to disk.  Perhaps some other process is leaking memory?  Process memory: 1.40 GB -- Worker memory limit: 2.00 GB\n",
            "distributed.worker - WARNING - Memory use is high but worker has no data to store to disk.  Perhaps some other process is leaking memory?  Process memory: 1.40 GB -- Worker memory limit: 2.00 GB\n",
            "distributed.worker - WARNING - Memory use is high but worker has no data to store to disk.  Perhaps some other process is leaking memory?  Process memory: 1.40 GB -- Worker memory limit: 2.00 GB\n",
            "distributed.worker - WARNING - Memory use is high but worker has no data to store to disk.  Perhaps some other process is leaking memory?  Process memory: 1.40 GB -- Worker memory limit: 2.00 GB\n",
            "distributed.worker - WARNING - Memory use is high but worker has no data to store to disk.  Perhaps some other process is leaking memory?  Process memory: 1.40 GB -- Worker memory limit: 2.00 GB\n",
            "distributed.worker - WARNING - Memory use is high but worker has no data to store to disk.  Perhaps some other process is leaking memory?  Process memory: 1.40 GB -- Worker memory limit: 2.00 GB\n",
            "distributed.worker - WARNING - Memory use is high but worker has no data to store to disk.  Perhaps some other process is leaking memory?  Process memory: 1.40 GB -- Worker memory limit: 2.00 GB\n",
            "distributed.worker - WARNING - Memory use is high but worker has no data to store to disk.  Perhaps some other process is leaking memory?  Process memory: 1.40 GB -- Worker memory limit: 2.00 GB\n",
            "distributed.worker - WARNING - Memory use is high but worker has no data to store to disk.  Perhaps some other process is leaking memory?  Process memory: 1.40 GB -- Worker memory limit: 2.00 GB\n",
            "distributed.worker - WARNING - Memory use is high but worker has no data to store to disk.  Perhaps some other process is leaking memory?  Process memory: 1.40 GB -- Worker memory limit: 2.00 GB\n",
            "distributed.worker - WARNING - Memory use is high but worker has no data to store to disk.  Perhaps some other process is leaking memory?  Process memory: 1.40 GB -- Worker memory limit: 2.00 GB\n",
            "distributed.worker - WARNING - Memory use is high but worker has no data to store to disk.  Perhaps some other process is leaking memory?  Process memory: 1.40 GB -- Worker memory limit: 2.00 GB\n",
            "distributed.worker - WARNING - Memory use is high but worker has no data to store to disk.  Perhaps some other process is leaking memory?  Process memory: 1.40 GB -- Worker memory limit: 2.00 GB\n",
            "distributed.worker - WARNING - Memory use is high but worker has no data to store to disk.  Perhaps some other process is leaking memory?  Process memory: 1.40 GB -- Worker memory limit: 2.00 GB\n",
            "distributed.worker - WARNING - Memory use is high but worker has no data to store to disk.  Perhaps some other process is leaking memory?  Process memory: 1.40 GB -- Worker memory limit: 2.00 GB\n",
            "distributed.worker - WARNING - Memory use is high but worker has no data to store to disk.  Perhaps some other process is leaking memory?  Process memory: 1.40 GB -- Worker memory limit: 2.00 GB\n",
            "distributed.worker - WARNING - Memory use is high but worker has no data to store to disk.  Perhaps some other process is leaking memory?  Process memory: 1.40 GB -- Worker memory limit: 2.00 GB\n",
            "distributed.worker - WARNING - Memory use is high but worker has no data to store to disk.  Perhaps some other process is leaking memory?  Process memory: 1.40 GB -- Worker memory limit: 2.00 GB\n",
            "distributed.worker - WARNING - Memory use is high but worker has no data to store to disk.  Perhaps some other process is leaking memory?  Process memory: 1.40 GB -- Worker memory limit: 2.00 GB\n",
            "distributed.worker - WARNING - Memory use is high but worker has no data to store to disk.  Perhaps some other process is leaking memory?  Process memory: 1.40 GB -- Worker memory limit: 2.00 GB\n",
            "distributed.worker - WARNING - Memory use is high but worker has no data to store to disk.  Perhaps some other process is leaking memory?  Process memory: 1.40 GB -- Worker memory limit: 2.00 GB\n",
            "distributed.worker - WARNING - Memory use is high but worker has no data to store to disk.  Perhaps some other process is leaking memory?  Process memory: 1.40 GB -- Worker memory limit: 2.00 GB\n",
            "distributed.worker - WARNING - Memory use is high but worker has no data to store to disk.  Perhaps some other process is leaking memory?  Process memory: 1.40 GB -- Worker memory limit: 2.00 GB\n",
            "distributed.worker - WARNING - Memory use is high but worker has no data to store to disk.  Perhaps some other process is leaking memory?  Process memory: 1.40 GB -- Worker memory limit: 2.00 GB\n",
            "distributed.worker - WARNING - Memory use is high but worker has no data to store to disk.  Perhaps some other process is leaking memory?  Process memory: 1.40 GB -- Worker memory limit: 2.00 GB\n",
            "distributed.worker - WARNING - Memory use is high but worker has no data to store to disk.  Perhaps some other process is leaking memory?  Process memory: 1.40 GB -- Worker memory limit: 2.00 GB\n",
            "distributed.worker - WARNING - Memory use is high but worker has no data to store to disk.  Perhaps some other process is leaking memory?  Process memory: 1.40 GB -- Worker memory limit: 2.00 GB\n",
            "distributed.worker - WARNING - Memory use is high but worker has no data to store to disk.  Perhaps some other process is leaking memory?  Process memory: 1.40 GB -- Worker memory limit: 2.00 GB\n",
            "distributed.worker - WARNING - Memory use is high but worker has no data to store to disk.  Perhaps some other process is leaking memory?  Process memory: 1.40 GB -- Worker memory limit: 2.00 GB\n",
            "distributed.worker - WARNING - Memory use is high but worker has no data to store to disk.  Perhaps some other process is leaking memory?  Process memory: 1.40 GB -- Worker memory limit: 2.00 GB\n",
            "distributed.worker - WARNING - Memory use is high but worker has no data to store to disk.  Perhaps some other process is leaking memory?  Process memory: 1.40 GB -- Worker memory limit: 2.00 GB\n",
            "distributed.worker - WARNING - Memory use is high but worker has no data to store to disk.  Perhaps some other process is leaking memory?  Process memory: 1.40 GB -- Worker memory limit: 2.00 GB\n",
            "distributed.worker - WARNING - Memory use is high but worker has no data to store to disk.  Perhaps some other process is leaking memory?  Process memory: 1.40 GB -- Worker memory limit: 2.00 GB\n",
            "distributed.worker - WARNING - Memory use is high but worker has no data to store to disk.  Perhaps some other process is leaking memory?  Process memory: 1.40 GB -- Worker memory limit: 2.00 GB\n",
            "distributed.worker - WARNING - Memory use is high but worker has no data to store to disk.  Perhaps some other process is leaking memory?  Process memory: 1.40 GB -- Worker memory limit: 2.00 GB\n",
            "distributed.worker - WARNING - Memory use is high but worker has no data to store to disk.  Perhaps some other process is leaking memory?  Process memory: 1.40 GB -- Worker memory limit: 2.00 GB\n",
            "distributed.worker - WARNING - Memory use is high but worker has no data to store to disk.  Perhaps some other process is leaking memory?  Process memory: 1.40 GB -- Worker memory limit: 2.00 GB\n",
            "distributed.worker - WARNING - Memory use is high but worker has no data to store to disk.  Perhaps some other process is leaking memory?  Process memory: 1.40 GB -- Worker memory limit: 2.00 GB\n",
            "distributed.worker - WARNING - Memory use is high but worker has no data to store to disk.  Perhaps some other process is leaking memory?  Process memory: 1.40 GB -- Worker memory limit: 2.00 GB\n",
            "distributed.worker - WARNING - Memory use is high but worker has no data to store to disk.  Perhaps some other process is leaking memory?  Process memory: 1.40 GB -- Worker memory limit: 2.00 GB\n",
            "distributed.worker - WARNING - Memory use is high but worker has no data to store to disk.  Perhaps some other process is leaking memory?  Process memory: 1.40 GB -- Worker memory limit: 2.00 GB\n",
            "distributed.worker - WARNING - Memory use is high but worker has no data to store to disk.  Perhaps some other process is leaking memory?  Process memory: 1.40 GB -- Worker memory limit: 2.00 GB\n",
            "distributed.worker - WARNING - Memory use is high but worker has no data to store to disk.  Perhaps some other process is leaking memory?  Process memory: 1.40 GB -- Worker memory limit: 2.00 GB\n",
            "distributed.worker - WARNING - Memory use is high but worker has no data to store to disk.  Perhaps some other process is leaking memory?  Process memory: 1.40 GB -- Worker memory limit: 2.00 GB\n",
            "distributed.worker - WARNING - Memory use is high but worker has no data to store to disk.  Perhaps some other process is leaking memory?  Process memory: 1.40 GB -- Worker memory limit: 2.00 GB\n",
            "distributed.worker - WARNING - Memory use is high but worker has no data to store to disk.  Perhaps some other process is leaking memory?  Process memory: 1.40 GB -- Worker memory limit: 2.00 GB\n",
            "distributed.worker - WARNING - Memory use is high but worker has no data to store to disk.  Perhaps some other process is leaking memory?  Process memory: 1.40 GB -- Worker memory limit: 2.00 GB\n",
            "distributed.worker - WARNING - Memory use is high but worker has no data to store to disk.  Perhaps some other process is leaking memory?  Process memory: 1.40 GB -- Worker memory limit: 2.00 GB\n",
            "distributed.worker - WARNING - Memory use is high but worker has no data to store to disk.  Perhaps some other process is leaking memory?  Process memory: 1.40 GB -- Worker memory limit: 2.00 GB\n",
            "distributed.worker - WARNING - Memory use is high but worker has no data to store to disk.  Perhaps some other process is leaking memory?  Process memory: 1.40 GB -- Worker memory limit: 2.00 GB\n",
            "distributed.worker - WARNING - Memory use is high but worker has no data to store to disk.  Perhaps some other process is leaking memory?  Process memory: 1.40 GB -- Worker memory limit: 2.00 GB\n",
            "distributed.worker - WARNING - Memory use is high but worker has no data to store to disk.  Perhaps some other process is leaking memory?  Process memory: 1.40 GB -- Worker memory limit: 2.00 GB\n",
            "distributed.worker - WARNING - Memory use is high but worker has no data to store to disk.  Perhaps some other process is leaking memory?  Process memory: 1.40 GB -- Worker memory limit: 2.00 GB\n",
            "distributed.worker - WARNING - Memory use is high but worker has no data to store to disk.  Perhaps some other process is leaking memory?  Process memory: 1.40 GB -- Worker memory limit: 2.00 GB\n",
            "distributed.worker - WARNING - Memory use is high but worker has no data to store to disk.  Perhaps some other process is leaking memory?  Process memory: 1.40 GB -- Worker memory limit: 2.00 GB\n",
            "distributed.worker - WARNING - Memory use is high but worker has no data to store to disk.  Perhaps some other process is leaking memory?  Process memory: 1.40 GB -- Worker memory limit: 2.00 GB\n",
            "distributed.worker - WARNING - Memory use is high but worker has no data to store to disk.  Perhaps some other process is leaking memory?  Process memory: 1.40 GB -- Worker memory limit: 2.00 GB\n",
            "distributed.worker - WARNING - Memory use is high but worker has no data to store to disk.  Perhaps some other process is leaking memory?  Process memory: 1.40 GB -- Worker memory limit: 2.00 GB\n",
            "distributed.worker - WARNING - Memory use is high but worker has no data to store to disk.  Perhaps some other process is leaking memory?  Process memory: 1.40 GB -- Worker memory limit: 2.00 GB\n",
            "distributed.worker - WARNING - Memory use is high but worker has no data to store to disk.  Perhaps some other process is leaking memory?  Process memory: 1.40 GB -- Worker memory limit: 2.00 GB\n",
            "distributed.worker - WARNING - Memory use is high but worker has no data to store to disk.  Perhaps some other process is leaking memory?  Process memory: 1.40 GB -- Worker memory limit: 2.00 GB\n",
            "distributed.worker - WARNING - Memory use is high but worker has no data to store to disk.  Perhaps some other process is leaking memory?  Process memory: 1.40 GB -- Worker memory limit: 2.00 GB\n",
            "distributed.worker - WARNING - Memory use is high but worker has no data to store to disk.  Perhaps some other process is leaking memory?  Process memory: 1.40 GB -- Worker memory limit: 2.00 GB\n",
            "distributed.worker - WARNING - Memory use is high but worker has no data to store to disk.  Perhaps some other process is leaking memory?  Process memory: 1.40 GB -- Worker memory limit: 2.00 GB\n",
            "distributed.worker - WARNING - Memory use is high but worker has no data to store to disk.  Perhaps some other process is leaking memory?  Process memory: 1.40 GB -- Worker memory limit: 2.00 GB\n",
            "distributed.worker - WARNING - Memory use is high but worker has no data to store to disk.  Perhaps some other process is leaking memory?  Process memory: 1.40 GB -- Worker memory limit: 2.00 GB\n",
            "distributed.worker - WARNING - Memory use is high but worker has no data to store to disk.  Perhaps some other process is leaking memory?  Process memory: 1.40 GB -- Worker memory limit: 2.00 GB\n",
            "distributed.worker - WARNING - Memory use is high but worker has no data to store to disk.  Perhaps some other process is leaking memory?  Process memory: 1.40 GB -- Worker memory limit: 2.00 GB\n",
            "distributed.worker - WARNING - Memory use is high but worker has no data to store to disk.  Perhaps some other process is leaking memory?  Process memory: 1.40 GB -- Worker memory limit: 2.00 GB\n",
            "distributed.worker - WARNING - Memory use is high but worker has no data to store to disk.  Perhaps some other process is leaking memory?  Process memory: 1.40 GB -- Worker memory limit: 2.00 GB\n",
            "distributed.worker - WARNING - Memory use is high but worker has no data to store to disk.  Perhaps some other process is leaking memory?  Process memory: 1.40 GB -- Worker memory limit: 2.00 GB\n",
            "distributed.worker - WARNING - Memory use is high but worker has no data to store to disk.  Perhaps some other process is leaking memory?  Process memory: 1.40 GB -- Worker memory limit: 2.00 GB\n",
            "distributed.worker - WARNING - Memory use is high but worker has no data to store to disk.  Perhaps some other process is leaking memory?  Process memory: 1.40 GB -- Worker memory limit: 2.00 GB\n",
            "distributed.worker - WARNING - Memory use is high but worker has no data to store to disk.  Perhaps some other process is leaking memory?  Process memory: 1.40 GB -- Worker memory limit: 2.00 GB\n",
            "distributed.worker - WARNING - Memory use is high but worker has no data to store to disk.  Perhaps some other process is leaking memory?  Process memory: 1.40 GB -- Worker memory limit: 2.00 GB\n",
            "distributed.worker - WARNING - Memory use is high but worker has no data to store to disk.  Perhaps some other process is leaking memory?  Process memory: 1.40 GB -- Worker memory limit: 2.00 GB\n",
            "distributed.worker - WARNING - Memory use is high but worker has no data to store to disk.  Perhaps some other process is leaking memory?  Process memory: 1.40 GB -- Worker memory limit: 2.00 GB\n",
            "distributed.worker - WARNING - Memory use is high but worker has no data to store to disk.  Perhaps some other process is leaking memory?  Process memory: 1.40 GB -- Worker memory limit: 2.00 GB\n",
            "distributed.worker - WARNING - Memory use is high but worker has no data to store to disk.  Perhaps some other process is leaking memory?  Process memory: 1.40 GB -- Worker memory limit: 2.00 GB\n",
            "distributed.worker - WARNING - Memory use is high but worker has no data to store to disk.  Perhaps some other process is leaking memory?  Process memory: 1.40 GB -- Worker memory limit: 2.00 GB\n",
            "distributed.worker - WARNING - Memory use is high but worker has no data to store to disk.  Perhaps some other process is leaking memory?  Process memory: 1.40 GB -- Worker memory limit: 2.00 GB\n",
            "distributed.worker - WARNING - Memory use is high but worker has no data to store to disk.  Perhaps some other process is leaking memory?  Process memory: 1.40 GB -- Worker memory limit: 2.00 GB\n",
            "distributed.worker - WARNING - Memory use is high but worker has no data to store to disk.  Perhaps some other process is leaking memory?  Process memory: 1.40 GB -- Worker memory limit: 2.00 GB\n",
            "distributed.worker - WARNING - Memory use is high but worker has no data to store to disk.  Perhaps some other process is leaking memory?  Process memory: 1.40 GB -- Worker memory limit: 2.00 GB\n",
            "distributed.worker - WARNING - Memory use is high but worker has no data to store to disk.  Perhaps some other process is leaking memory?  Process memory: 1.40 GB -- Worker memory limit: 2.00 GB\n",
            "distributed.worker - WARNING - Memory use is high but worker has no data to store to disk.  Perhaps some other process is leaking memory?  Process memory: 1.40 GB -- Worker memory limit: 2.00 GB\n",
            "distributed.worker - WARNING - Memory use is high but worker has no data to store to disk.  Perhaps some other process is leaking memory?  Process memory: 1.40 GB -- Worker memory limit: 2.00 GB\n",
            "distributed.worker - WARNING - Memory use is high but worker has no data to store to disk.  Perhaps some other process is leaking memory?  Process memory: 1.40 GB -- Worker memory limit: 2.00 GB\n",
            "distributed.worker - WARNING - Memory use is high but worker has no data to store to disk.  Perhaps some other process is leaking memory?  Process memory: 1.40 GB -- Worker memory limit: 2.00 GB\n",
            "distributed.worker - WARNING - Memory use is high but worker has no data to store to disk.  Perhaps some other process is leaking memory?  Process memory: 1.40 GB -- Worker memory limit: 2.00 GB\n",
            "distributed.worker - WARNING - Memory use is high but worker has no data to store to disk.  Perhaps some other process is leaking memory?  Process memory: 1.40 GB -- Worker memory limit: 2.00 GB\n",
            "distributed.worker - WARNING - Memory use is high but worker has no data to store to disk.  Perhaps some other process is leaking memory?  Process memory: 1.40 GB -- Worker memory limit: 2.00 GB\n",
            "distributed.worker - WARNING - Memory use is high but worker has no data to store to disk.  Perhaps some other process is leaking memory?  Process memory: 1.40 GB -- Worker memory limit: 2.00 GB\n",
            "distributed.worker - WARNING - Memory use is high but worker has no data to store to disk.  Perhaps some other process is leaking memory?  Process memory: 1.40 GB -- Worker memory limit: 2.00 GB\n",
            "distributed.worker - WARNING - Memory use is high but worker has no data to store to disk.  Perhaps some other process is leaking memory?  Process memory: 1.40 GB -- Worker memory limit: 2.00 GB\n",
            "distributed.worker - WARNING - Memory use is high but worker has no data to store to disk.  Perhaps some other process is leaking memory?  Process memory: 1.40 GB -- Worker memory limit: 2.00 GB\n",
            "distributed.worker - WARNING - Memory use is high but worker has no data to store to disk.  Perhaps some other process is leaking memory?  Process memory: 1.40 GB -- Worker memory limit: 2.00 GB\n",
            "distributed.worker - WARNING - Memory use is high but worker has no data to store to disk.  Perhaps some other process is leaking memory?  Process memory: 1.40 GB -- Worker memory limit: 2.00 GB\n",
            "distributed.worker - WARNING - Memory use is high but worker has no data to store to disk.  Perhaps some other process is leaking memory?  Process memory: 1.40 GB -- Worker memory limit: 2.00 GB\n",
            "distributed.worker - WARNING - Memory use is high but worker has no data to store to disk.  Perhaps some other process is leaking memory?  Process memory: 1.40 GB -- Worker memory limit: 2.00 GB\n",
            "distributed.worker - WARNING - Memory use is high but worker has no data to store to disk.  Perhaps some other process is leaking memory?  Process memory: 1.40 GB -- Worker memory limit: 2.00 GB\n",
            "distributed.worker - WARNING - Memory use is high but worker has no data to store to disk.  Perhaps some other process is leaking memory?  Process memory: 1.40 GB -- Worker memory limit: 2.00 GB\n",
            "distributed.worker - WARNING - Memory use is high but worker has no data to store to disk.  Perhaps some other process is leaking memory?  Process memory: 1.40 GB -- Worker memory limit: 2.00 GB\n",
            "distributed.worker - WARNING - Memory use is high but worker has no data to store to disk.  Perhaps some other process is leaking memory?  Process memory: 1.40 GB -- Worker memory limit: 2.00 GB\n",
            "distributed.worker - WARNING - Memory use is high but worker has no data to store to disk.  Perhaps some other process is leaking memory?  Process memory: 1.40 GB -- Worker memory limit: 2.00 GB\n",
            "distributed.worker - WARNING - Memory use is high but worker has no data to store to disk.  Perhaps some other process is leaking memory?  Process memory: 1.40 GB -- Worker memory limit: 2.00 GB\n",
            "distributed.worker - WARNING - Memory use is high but worker has no data to store to disk.  Perhaps some other process is leaking memory?  Process memory: 1.40 GB -- Worker memory limit: 2.00 GB\n",
            "distributed.worker - WARNING - Memory use is high but worker has no data to store to disk.  Perhaps some other process is leaking memory?  Process memory: 1.40 GB -- Worker memory limit: 2.00 GB\n",
            "distributed.worker - WARNING - Memory use is high but worker has no data to store to disk.  Perhaps some other process is leaking memory?  Process memory: 1.40 GB -- Worker memory limit: 2.00 GB\n",
            "distributed.worker - WARNING - Memory use is high but worker has no data to store to disk.  Perhaps some other process is leaking memory?  Process memory: 1.40 GB -- Worker memory limit: 2.00 GB\n",
            "distributed.worker - WARNING - Memory use is high but worker has no data to store to disk.  Perhaps some other process is leaking memory?  Process memory: 1.40 GB -- Worker memory limit: 2.00 GB\n",
            "distributed.worker - WARNING - Memory use is high but worker has no data to store to disk.  Perhaps some other process is leaking memory?  Process memory: 1.40 GB -- Worker memory limit: 2.00 GB\n",
            "distributed.worker - WARNING - Memory use is high but worker has no data to store to disk.  Perhaps some other process is leaking memory?  Process memory: 1.40 GB -- Worker memory limit: 2.00 GB\n",
            "distributed.worker - WARNING - Memory use is high but worker has no data to store to disk.  Perhaps some other process is leaking memory?  Process memory: 1.40 GB -- Worker memory limit: 2.00 GB\n",
            "distributed.worker - WARNING - Memory use is high but worker has no data to store to disk.  Perhaps some other process is leaking memory?  Process memory: 1.40 GB -- Worker memory limit: 2.00 GB\n",
            "distributed.worker - WARNING - Memory use is high but worker has no data to store to disk.  Perhaps some other process is leaking memory?  Process memory: 1.40 GB -- Worker memory limit: 2.00 GB\n",
            "distributed.worker - WARNING - Memory use is high but worker has no data to store to disk.  Perhaps some other process is leaking memory?  Process memory: 1.40 GB -- Worker memory limit: 2.00 GB\n",
            "distributed.worker - WARNING - Memory use is high but worker has no data to store to disk.  Perhaps some other process is leaking memory?  Process memory: 1.40 GB -- Worker memory limit: 2.00 GB\n",
            "distributed.worker - WARNING - Memory use is high but worker has no data to store to disk.  Perhaps some other process is leaking memory?  Process memory: 1.40 GB -- Worker memory limit: 2.00 GB\n",
            "distributed.worker - WARNING - Memory use is high but worker has no data to store to disk.  Perhaps some other process is leaking memory?  Process memory: 1.40 GB -- Worker memory limit: 2.00 GB\n",
            "distributed.worker - WARNING - Memory use is high but worker has no data to store to disk.  Perhaps some other process is leaking memory?  Process memory: 1.40 GB -- Worker memory limit: 2.00 GB\n",
            "distributed.worker - WARNING - Memory use is high but worker has no data to store to disk.  Perhaps some other process is leaking memory?  Process memory: 1.40 GB -- Worker memory limit: 2.00 GB\n",
            "distributed.worker - WARNING - Memory use is high but worker has no data to store to disk.  Perhaps some other process is leaking memory?  Process memory: 1.40 GB -- Worker memory limit: 2.00 GB\n",
            "distributed.worker - WARNING - Memory use is high but worker has no data to store to disk.  Perhaps some other process is leaking memory?  Process memory: 1.40 GB -- Worker memory limit: 2.00 GB\n",
            "distributed.worker - WARNING - Memory use is high but worker has no data to store to disk.  Perhaps some other process is leaking memory?  Process memory: 1.40 GB -- Worker memory limit: 2.00 GB\n",
            "distributed.worker - WARNING - Memory use is high but worker has no data to store to disk.  Perhaps some other process is leaking memory?  Process memory: 1.40 GB -- Worker memory limit: 2.00 GB\n",
            "distributed.worker - WARNING - Memory use is high but worker has no data to store to disk.  Perhaps some other process is leaking memory?  Process memory: 1.40 GB -- Worker memory limit: 2.00 GB\n",
            "distributed.worker - WARNING - Memory use is high but worker has no data to store to disk.  Perhaps some other process is leaking memory?  Process memory: 1.40 GB -- Worker memory limit: 2.00 GB\n",
            "distributed.worker - WARNING - Memory use is high but worker has no data to store to disk.  Perhaps some other process is leaking memory?  Process memory: 1.40 GB -- Worker memory limit: 2.00 GB\n",
            "distributed.worker - WARNING - Memory use is high but worker has no data to store to disk.  Perhaps some other process is leaking memory?  Process memory: 1.40 GB -- Worker memory limit: 2.00 GB\n",
            "distributed.worker - WARNING - Memory use is high but worker has no data to store to disk.  Perhaps some other process is leaking memory?  Process memory: 1.40 GB -- Worker memory limit: 2.00 GB\n",
            "distributed.worker - WARNING - Memory use is high but worker has no data to store to disk.  Perhaps some other process is leaking memory?  Process memory: 1.40 GB -- Worker memory limit: 2.00 GB\n",
            "distributed.worker - WARNING - Memory use is high but worker has no data to store to disk.  Perhaps some other process is leaking memory?  Process memory: 1.40 GB -- Worker memory limit: 2.00 GB\n",
            "distributed.worker - WARNING - Memory use is high but worker has no data to store to disk.  Perhaps some other process is leaking memory?  Process memory: 1.40 GB -- Worker memory limit: 2.00 GB\n",
            "distributed.worker - WARNING - Memory use is high but worker has no data to store to disk.  Perhaps some other process is leaking memory?  Process memory: 1.40 GB -- Worker memory limit: 2.00 GB\n",
            "distributed.worker - WARNING - Memory use is high but worker has no data to store to disk.  Perhaps some other process is leaking memory?  Process memory: 1.40 GB -- Worker memory limit: 2.00 GB\n",
            "distributed.worker - WARNING - Memory use is high but worker has no data to store to disk.  Perhaps some other process is leaking memory?  Process memory: 1.40 GB -- Worker memory limit: 2.00 GB\n",
            "distributed.worker - WARNING - Memory use is high but worker has no data to store to disk.  Perhaps some other process is leaking memory?  Process memory: 1.40 GB -- Worker memory limit: 2.00 GB\n",
            "distributed.worker - WARNING - Memory use is high but worker has no data to store to disk.  Perhaps some other process is leaking memory?  Process memory: 1.40 GB -- Worker memory limit: 2.00 GB\n",
            "distributed.worker - WARNING - Memory use is high but worker has no data to store to disk.  Perhaps some other process is leaking memory?  Process memory: 1.40 GB -- Worker memory limit: 2.00 GB\n",
            "distributed.worker - WARNING - Memory use is high but worker has no data to store to disk.  Perhaps some other process is leaking memory?  Process memory: 1.40 GB -- Worker memory limit: 2.00 GB\n",
            "distributed.worker - WARNING - Memory use is high but worker has no data to store to disk.  Perhaps some other process is leaking memory?  Process memory: 1.40 GB -- Worker memory limit: 2.00 GB\n",
            "distributed.worker - WARNING - Memory use is high but worker has no data to store to disk.  Perhaps some other process is leaking memory?  Process memory: 1.40 GB -- Worker memory limit: 2.00 GB\n",
            "distributed.worker - WARNING - Memory use is high but worker has no data to store to disk.  Perhaps some other process is leaking memory?  Process memory: 1.40 GB -- Worker memory limit: 2.00 GB\n",
            "distributed.worker - WARNING - Memory use is high but worker has no data to store to disk.  Perhaps some other process is leaking memory?  Process memory: 1.40 GB -- Worker memory limit: 2.00 GB\n",
            "distributed.worker - WARNING - Memory use is high but worker has no data to store to disk.  Perhaps some other process is leaking memory?  Process memory: 1.40 GB -- Worker memory limit: 2.00 GB\n",
            "distributed.worker - WARNING - Memory use is high but worker has no data to store to disk.  Perhaps some other process is leaking memory?  Process memory: 1.40 GB -- Worker memory limit: 2.00 GB\n",
            "distributed.worker - WARNING - Memory use is high but worker has no data to store to disk.  Perhaps some other process is leaking memory?  Process memory: 1.40 GB -- Worker memory limit: 2.00 GB\n",
            "distributed.worker - WARNING - Memory use is high but worker has no data to store to disk.  Perhaps some other process is leaking memory?  Process memory: 1.40 GB -- Worker memory limit: 2.00 GB\n",
            "distributed.worker - WARNING - Memory use is high but worker has no data to store to disk.  Perhaps some other process is leaking memory?  Process memory: 1.40 GB -- Worker memory limit: 2.00 GB\n",
            "distributed.worker - WARNING - Memory use is high but worker has no data to store to disk.  Perhaps some other process is leaking memory?  Process memory: 1.40 GB -- Worker memory limit: 2.00 GB\n",
            "distributed.worker - WARNING - Memory use is high but worker has no data to store to disk.  Perhaps some other process is leaking memory?  Process memory: 1.40 GB -- Worker memory limit: 2.00 GB\n",
            "distributed.worker - WARNING - Memory use is high but worker has no data to store to disk.  Perhaps some other process is leaking memory?  Process memory: 1.40 GB -- Worker memory limit: 2.00 GB\n",
            "distributed.worker - WARNING - Memory use is high but worker has no data to store to disk.  Perhaps some other process is leaking memory?  Process memory: 1.40 GB -- Worker memory limit: 2.00 GB\n",
            "distributed.worker - WARNING - Memory use is high but worker has no data to store to disk.  Perhaps some other process is leaking memory?  Process memory: 1.40 GB -- Worker memory limit: 2.00 GB\n",
            "distributed.worker - WARNING - Memory use is high but worker has no data to store to disk.  Perhaps some other process is leaking memory?  Process memory: 1.40 GB -- Worker memory limit: 2.00 GB\n",
            "distributed.worker - WARNING - Memory use is high but worker has no data to store to disk.  Perhaps some other process is leaking memory?  Process memory: 1.40 GB -- Worker memory limit: 2.00 GB\n",
            "distributed.worker - WARNING - Memory use is high but worker has no data to store to disk.  Perhaps some other process is leaking memory?  Process memory: 1.40 GB -- Worker memory limit: 2.00 GB\n",
            "distributed.worker - WARNING - Memory use is high but worker has no data to store to disk.  Perhaps some other process is leaking memory?  Process memory: 1.40 GB -- Worker memory limit: 2.00 GB\n",
            "distributed.worker - WARNING - Memory use is high but worker has no data to store to disk.  Perhaps some other process is leaking memory?  Process memory: 1.40 GB -- Worker memory limit: 2.00 GB\n",
            "distributed.worker - WARNING - Memory use is high but worker has no data to store to disk.  Perhaps some other process is leaking memory?  Process memory: 1.40 GB -- Worker memory limit: 2.00 GB\n",
            "distributed.worker - WARNING - Memory use is high but worker has no data to store to disk.  Perhaps some other process is leaking memory?  Process memory: 1.40 GB -- Worker memory limit: 2.00 GB\n",
            "distributed.worker - WARNING - Memory use is high but worker has no data to store to disk.  Perhaps some other process is leaking memory?  Process memory: 1.40 GB -- Worker memory limit: 2.00 GB\n",
            "distributed.worker - WARNING - Memory use is high but worker has no data to store to disk.  Perhaps some other process is leaking memory?  Process memory: 1.40 GB -- Worker memory limit: 2.00 GB\n",
            "distributed.worker - WARNING - Memory use is high but worker has no data to store to disk.  Perhaps some other process is leaking memory?  Process memory: 1.40 GB -- Worker memory limit: 2.00 GB\n",
            "distributed.worker - WARNING - Memory use is high but worker has no data to store to disk.  Perhaps some other process is leaking memory?  Process memory: 1.40 GB -- Worker memory limit: 2.00 GB\n",
            "distributed.worker - WARNING - Memory use is high but worker has no data to store to disk.  Perhaps some other process is leaking memory?  Process memory: 1.40 GB -- Worker memory limit: 2.00 GB\n",
            "distributed.worker - WARNING - Memory use is high but worker has no data to store to disk.  Perhaps some other process is leaking memory?  Process memory: 1.40 GB -- Worker memory limit: 2.00 GB\n",
            "distributed.worker - WARNING - Memory use is high but worker has no data to store to disk.  Perhaps some other process is leaking memory?  Process memory: 1.40 GB -- Worker memory limit: 2.00 GB\n",
            "distributed.worker - WARNING - Memory use is high but worker has no data to store to disk.  Perhaps some other process is leaking memory?  Process memory: 1.40 GB -- Worker memory limit: 2.00 GB\n",
            "distributed.worker - WARNING - Memory use is high but worker has no data to store to disk.  Perhaps some other process is leaking memory?  Process memory: 1.40 GB -- Worker memory limit: 2.00 GB\n",
            "distributed.worker - WARNING - Memory use is high but worker has no data to store to disk.  Perhaps some other process is leaking memory?  Process memory: 1.40 GB -- Worker memory limit: 2.00 GB\n",
            "distributed.worker - WARNING - Memory use is high but worker has no data to store to disk.  Perhaps some other process is leaking memory?  Process memory: 1.40 GB -- Worker memory limit: 2.00 GB\n",
            "distributed.worker - WARNING - Memory use is high but worker has no data to store to disk.  Perhaps some other process is leaking memory?  Process memory: 1.40 GB -- Worker memory limit: 2.00 GB\n",
            "distributed.worker - WARNING - Memory use is high but worker has no data to store to disk.  Perhaps some other process is leaking memory?  Process memory: 1.40 GB -- Worker memory limit: 2.00 GB\n",
            "distributed.worker - WARNING - Memory use is high but worker has no data to store to disk.  Perhaps some other process is leaking memory?  Process memory: 1.40 GB -- Worker memory limit: 2.00 GB\n",
            "distributed.worker - WARNING - Memory use is high but worker has no data to store to disk.  Perhaps some other process is leaking memory?  Process memory: 1.40 GB -- Worker memory limit: 2.00 GB\n",
            "distributed.worker - WARNING - Memory use is high but worker has no data to store to disk.  Perhaps some other process is leaking memory?  Process memory: 1.40 GB -- Worker memory limit: 2.00 GB\n",
            "distributed.worker - WARNING - Memory use is high but worker has no data to store to disk.  Perhaps some other process is leaking memory?  Process memory: 1.40 GB -- Worker memory limit: 2.00 GB\n",
            "distributed.worker - WARNING - Memory use is high but worker has no data to store to disk.  Perhaps some other process is leaking memory?  Process memory: 1.40 GB -- Worker memory limit: 2.00 GB\n",
            "distributed.worker - WARNING - Memory use is high but worker has no data to store to disk.  Perhaps some other process is leaking memory?  Process memory: 1.40 GB -- Worker memory limit: 2.00 GB\n",
            "distributed.worker - WARNING - Memory use is high but worker has no data to store to disk.  Perhaps some other process is leaking memory?  Process memory: 1.40 GB -- Worker memory limit: 2.00 GB\n",
            "distributed.worker - WARNING - Memory use is high but worker has no data to store to disk.  Perhaps some other process is leaking memory?  Process memory: 1.40 GB -- Worker memory limit: 2.00 GB\n",
            "distributed.worker - WARNING - Memory use is high but worker has no data to store to disk.  Perhaps some other process is leaking memory?  Process memory: 1.40 GB -- Worker memory limit: 2.00 GB\n",
            "distributed.worker - WARNING - Memory use is high but worker has no data to store to disk.  Perhaps some other process is leaking memory?  Process memory: 1.40 GB -- Worker memory limit: 2.00 GB\n",
            "distributed.worker - WARNING - Memory use is high but worker has no data to store to disk.  Perhaps some other process is leaking memory?  Process memory: 1.40 GB -- Worker memory limit: 2.00 GB\n",
            "distributed.worker - WARNING - Memory use is high but worker has no data to store to disk.  Perhaps some other process is leaking memory?  Process memory: 1.40 GB -- Worker memory limit: 2.00 GB\n",
            "distributed.worker - WARNING - Memory use is high but worker has no data to store to disk.  Perhaps some other process is leaking memory?  Process memory: 1.40 GB -- Worker memory limit: 2.00 GB\n",
            "distributed.worker - WARNING - Memory use is high but worker has no data to store to disk.  Perhaps some other process is leaking memory?  Process memory: 1.40 GB -- Worker memory limit: 2.00 GB\n",
            "distributed.worker - WARNING - Memory use is high but worker has no data to store to disk.  Perhaps some other process is leaking memory?  Process memory: 1.40 GB -- Worker memory limit: 2.00 GB\n",
            "distributed.worker - WARNING - Memory use is high but worker has no data to store to disk.  Perhaps some other process is leaking memory?  Process memory: 1.40 GB -- Worker memory limit: 2.00 GB\n",
            "distributed.worker - WARNING - Memory use is high but worker has no data to store to disk.  Perhaps some other process is leaking memory?  Process memory: 1.40 GB -- Worker memory limit: 2.00 GB\n",
            "distributed.worker - WARNING - Memory use is high but worker has no data to store to disk.  Perhaps some other process is leaking memory?  Process memory: 1.40 GB -- Worker memory limit: 2.00 GB\n",
            "distributed.worker - WARNING - Memory use is high but worker has no data to store to disk.  Perhaps some other process is leaking memory?  Process memory: 1.40 GB -- Worker memory limit: 2.00 GB\n",
            "distributed.worker - WARNING - Memory use is high but worker has no data to store to disk.  Perhaps some other process is leaking memory?  Process memory: 1.40 GB -- Worker memory limit: 2.00 GB\n",
            "distributed.worker - WARNING - Memory use is high but worker has no data to store to disk.  Perhaps some other process is leaking memory?  Process memory: 1.40 GB -- Worker memory limit: 2.00 GB\n",
            "distributed.worker - WARNING - Memory use is high but worker has no data to store to disk.  Perhaps some other process is leaking memory?  Process memory: 1.40 GB -- Worker memory limit: 2.00 GB\n",
            "distributed.worker - WARNING - Memory use is high but worker has no data to store to disk.  Perhaps some other process is leaking memory?  Process memory: 1.40 GB -- Worker memory limit: 2.00 GB\n",
            "distributed.worker - WARNING - Memory use is high but worker has no data to store to disk.  Perhaps some other process is leaking memory?  Process memory: 1.40 GB -- Worker memory limit: 2.00 GB\n",
            "distributed.worker - WARNING - Memory use is high but worker has no data to store to disk.  Perhaps some other process is leaking memory?  Process memory: 1.40 GB -- Worker memory limit: 2.00 GB\n",
            "distributed.worker - WARNING - Memory use is high but worker has no data to store to disk.  Perhaps some other process is leaking memory?  Process memory: 1.40 GB -- Worker memory limit: 2.00 GB\n",
            "distributed.worker - WARNING - Memory use is high but worker has no data to store to disk.  Perhaps some other process is leaking memory?  Process memory: 1.40 GB -- Worker memory limit: 2.00 GB\n",
            "distributed.worker - WARNING - Memory use is high but worker has no data to store to disk.  Perhaps some other process is leaking memory?  Process memory: 1.40 GB -- Worker memory limit: 2.00 GB\n",
            "distributed.worker - WARNING - Memory use is high but worker has no data to store to disk.  Perhaps some other process is leaking memory?  Process memory: 1.40 GB -- Worker memory limit: 2.00 GB\n",
            "distributed.worker - WARNING - Memory use is high but worker has no data to store to disk.  Perhaps some other process is leaking memory?  Process memory: 1.40 GB -- Worker memory limit: 2.00 GB\n",
            "distributed.worker - WARNING - Memory use is high but worker has no data to store to disk.  Perhaps some other process is leaking memory?  Process memory: 1.40 GB -- Worker memory limit: 2.00 GB\n",
            "distributed.worker - WARNING - Memory use is high but worker has no data to store to disk.  Perhaps some other process is leaking memory?  Process memory: 1.40 GB -- Worker memory limit: 2.00 GB\n",
            "distributed.worker - WARNING - Memory use is high but worker has no data to store to disk.  Perhaps some other process is leaking memory?  Process memory: 1.40 GB -- Worker memory limit: 2.00 GB\n",
            "distributed.worker - WARNING - Memory use is high but worker has no data to store to disk.  Perhaps some other process is leaking memory?  Process memory: 1.40 GB -- Worker memory limit: 2.00 GB\n",
            "distributed.worker - WARNING - Memory use is high but worker has no data to store to disk.  Perhaps some other process is leaking memory?  Process memory: 1.40 GB -- Worker memory limit: 2.00 GB\n",
            "distributed.worker - WARNING - Memory use is high but worker has no data to store to disk.  Perhaps some other process is leaking memory?  Process memory: 1.40 GB -- Worker memory limit: 2.00 GB\n",
            "distributed.worker - WARNING - Memory use is high but worker has no data to store to disk.  Perhaps some other process is leaking memory?  Process memory: 1.40 GB -- Worker memory limit: 2.00 GB\n",
            "distributed.worker - WARNING - Memory use is high but worker has no data to store to disk.  Perhaps some other process is leaking memory?  Process memory: 1.40 GB -- Worker memory limit: 2.00 GB\n",
            "distributed.worker - WARNING - Memory use is high but worker has no data to store to disk.  Perhaps some other process is leaking memory?  Process memory: 1.40 GB -- Worker memory limit: 2.00 GB\n",
            "distributed.worker - WARNING - Memory use is high but worker has no data to store to disk.  Perhaps some other process is leaking memory?  Process memory: 1.40 GB -- Worker memory limit: 2.00 GB\n",
            "distributed.worker - WARNING - Memory use is high but worker has no data to store to disk.  Perhaps some other process is leaking memory?  Process memory: 1.40 GB -- Worker memory limit: 2.00 GB\n",
            "distributed.worker - WARNING - Memory use is high but worker has no data to store to disk.  Perhaps some other process is leaking memory?  Process memory: 1.40 GB -- Worker memory limit: 2.00 GB\n",
            "distributed.worker - WARNING - Memory use is high but worker has no data to store to disk.  Perhaps some other process is leaking memory?  Process memory: 1.40 GB -- Worker memory limit: 2.00 GB\n",
            "distributed.worker - WARNING - Memory use is high but worker has no data to store to disk.  Perhaps some other process is leaking memory?  Process memory: 1.40 GB -- Worker memory limit: 2.00 GB\n",
            "distributed.worker - WARNING - Memory use is high but worker has no data to store to disk.  Perhaps some other process is leaking memory?  Process memory: 1.40 GB -- Worker memory limit: 2.00 GB\n",
            "distributed.worker - WARNING - Memory use is high but worker has no data to store to disk.  Perhaps some other process is leaking memory?  Process memory: 1.40 GB -- Worker memory limit: 2.00 GB\n",
            "distributed.worker - WARNING - Memory use is high but worker has no data to store to disk.  Perhaps some other process is leaking memory?  Process memory: 1.40 GB -- Worker memory limit: 2.00 GB\n",
            "distributed.worker - WARNING - Memory use is high but worker has no data to store to disk.  Perhaps some other process is leaking memory?  Process memory: 1.40 GB -- Worker memory limit: 2.00 GB\n",
            "distributed.worker - WARNING - Memory use is high but worker has no data to store to disk.  Perhaps some other process is leaking memory?  Process memory: 1.40 GB -- Worker memory limit: 2.00 GB\n",
            "distributed.worker - WARNING - Memory use is high but worker has no data to store to disk.  Perhaps some other process is leaking memory?  Process memory: 1.40 GB -- Worker memory limit: 2.00 GB\n",
            "distributed.worker - WARNING - Memory use is high but worker has no data to store to disk.  Perhaps some other process is leaking memory?  Process memory: 1.40 GB -- Worker memory limit: 2.00 GB\n",
            "distributed.worker - WARNING - Memory use is high but worker has no data to store to disk.  Perhaps some other process is leaking memory?  Process memory: 1.40 GB -- Worker memory limit: 2.00 GB\n",
            "distributed.worker - WARNING - Memory use is high but worker has no data to store to disk.  Perhaps some other process is leaking memory?  Process memory: 1.40 GB -- Worker memory limit: 2.00 GB\n",
            "distributed.worker - WARNING - Memory use is high but worker has no data to store to disk.  Perhaps some other process is leaking memory?  Process memory: 1.40 GB -- Worker memory limit: 2.00 GB\n",
            "distributed.worker - WARNING - Memory use is high but worker has no data to store to disk.  Perhaps some other process is leaking memory?  Process memory: 1.40 GB -- Worker memory limit: 2.00 GB\n",
            "distributed.worker - WARNING - Memory use is high but worker has no data to store to disk.  Perhaps some other process is leaking memory?  Process memory: 1.40 GB -- Worker memory limit: 2.00 GB\n",
            "distributed.worker - WARNING - Memory use is high but worker has no data to store to disk.  Perhaps some other process is leaking memory?  Process memory: 1.40 GB -- Worker memory limit: 2.00 GB\n",
            "distributed.worker - WARNING - Memory use is high but worker has no data to store to disk.  Perhaps some other process is leaking memory?  Process memory: 1.40 GB -- Worker memory limit: 2.00 GB\n",
            "distributed.worker - WARNING - Memory use is high but worker has no data to store to disk.  Perhaps some other process is leaking memory?  Process memory: 1.40 GB -- Worker memory limit: 2.00 GB\n",
            "distributed.worker - WARNING - Memory use is high but worker has no data to store to disk.  Perhaps some other process is leaking memory?  Process memory: 1.40 GB -- Worker memory limit: 2.00 GB\n",
            "distributed.worker - WARNING - Memory use is high but worker has no data to store to disk.  Perhaps some other process is leaking memory?  Process memory: 1.40 GB -- Worker memory limit: 2.00 GB\n",
            "distributed.worker - WARNING - Memory use is high but worker has no data to store to disk.  Perhaps some other process is leaking memory?  Process memory: 1.40 GB -- Worker memory limit: 2.00 GB\n",
            "distributed.worker - WARNING - Memory use is high but worker has no data to store to disk.  Perhaps some other process is leaking memory?  Process memory: 1.40 GB -- Worker memory limit: 2.00 GB\n",
            "distributed.worker - WARNING - Memory use is high but worker has no data to store to disk.  Perhaps some other process is leaking memory?  Process memory: 1.40 GB -- Worker memory limit: 2.00 GB\n",
            "distributed.worker - WARNING - Memory use is high but worker has no data to store to disk.  Perhaps some other process is leaking memory?  Process memory: 1.40 GB -- Worker memory limit: 2.00 GB\n",
            "distributed.worker - WARNING - Memory use is high but worker has no data to store to disk.  Perhaps some other process is leaking memory?  Process memory: 1.40 GB -- Worker memory limit: 2.00 GB\n",
            "distributed.worker - WARNING - Memory use is high but worker has no data to store to disk.  Perhaps some other process is leaking memory?  Process memory: 1.40 GB -- Worker memory limit: 2.00 GB\n",
            "distributed.worker - WARNING - Memory use is high but worker has no data to store to disk.  Perhaps some other process is leaking memory?  Process memory: 1.40 GB -- Worker memory limit: 2.00 GB\n",
            "distributed.worker - WARNING - Memory use is high but worker has no data to store to disk.  Perhaps some other process is leaking memory?  Process memory: 1.40 GB -- Worker memory limit: 2.00 GB\n",
            "distributed.worker - WARNING - Memory use is high but worker has no data to store to disk.  Perhaps some other process is leaking memory?  Process memory: 1.40 GB -- Worker memory limit: 2.00 GB\n",
            "distributed.worker - WARNING - Memory use is high but worker has no data to store to disk.  Perhaps some other process is leaking memory?  Process memory: 1.40 GB -- Worker memory limit: 2.00 GB\n",
            "distributed.worker - WARNING - Memory use is high but worker has no data to store to disk.  Perhaps some other process is leaking memory?  Process memory: 1.40 GB -- Worker memory limit: 2.00 GB\n",
            "distributed.worker - WARNING - Memory use is high but worker has no data to store to disk.  Perhaps some other process is leaking memory?  Process memory: 1.40 GB -- Worker memory limit: 2.00 GB\n",
            "distributed.worker - WARNING - Memory use is high but worker has no data to store to disk.  Perhaps some other process is leaking memory?  Process memory: 1.40 GB -- Worker memory limit: 2.00 GB\n",
            "distributed.worker - WARNING - Memory use is high but worker has no data to store to disk.  Perhaps some other process is leaking memory?  Process memory: 1.40 GB -- Worker memory limit: 2.00 GB\n",
            "distributed.worker - WARNING - Memory use is high but worker has no data to store to disk.  Perhaps some other process is leaking memory?  Process memory: 1.40 GB -- Worker memory limit: 2.00 GB\n",
            "distributed.worker - WARNING - Memory use is high but worker has no data to store to disk.  Perhaps some other process is leaking memory?  Process memory: 1.40 GB -- Worker memory limit: 2.00 GB\n",
            "distributed.worker - WARNING - Memory use is high but worker has no data to store to disk.  Perhaps some other process is leaking memory?  Process memory: 1.40 GB -- Worker memory limit: 2.00 GB\n",
            "distributed.worker - WARNING - Memory use is high but worker has no data to store to disk.  Perhaps some other process is leaking memory?  Process memory: 1.40 GB -- Worker memory limit: 2.00 GB\n",
            "distributed.worker - WARNING - Memory use is high but worker has no data to store to disk.  Perhaps some other process is leaking memory?  Process memory: 1.40 GB -- Worker memory limit: 2.00 GB\n",
            "distributed.worker - WARNING - Memory use is high but worker has no data to store to disk.  Perhaps some other process is leaking memory?  Process memory: 1.40 GB -- Worker memory limit: 2.00 GB\n",
            "distributed.worker - WARNING - Memory use is high but worker has no data to store to disk.  Perhaps some other process is leaking memory?  Process memory: 1.40 GB -- Worker memory limit: 2.00 GB\n",
            "distributed.worker - WARNING - Memory use is high but worker has no data to store to disk.  Perhaps some other process is leaking memory?  Process memory: 1.40 GB -- Worker memory limit: 2.00 GB\n",
            "distributed.worker - WARNING - Memory use is high but worker has no data to store to disk.  Perhaps some other process is leaking memory?  Process memory: 1.40 GB -- Worker memory limit: 2.00 GB\n",
            "distributed.worker - WARNING - Memory use is high but worker has no data to store to disk.  Perhaps some other process is leaking memory?  Process memory: 1.40 GB -- Worker memory limit: 2.00 GB\n",
            "distributed.worker - WARNING - Memory use is high but worker has no data to store to disk.  Perhaps some other process is leaking memory?  Process memory: 1.40 GB -- Worker memory limit: 2.00 GB\n",
            "distributed.worker - WARNING - Memory use is high but worker has no data to store to disk.  Perhaps some other process is leaking memory?  Process memory: 1.40 GB -- Worker memory limit: 2.00 GB\n",
            "distributed.worker - WARNING - Memory use is high but worker has no data to store to disk.  Perhaps some other process is leaking memory?  Process memory: 1.40 GB -- Worker memory limit: 2.00 GB\n",
            "distributed.worker - WARNING - Memory use is high but worker has no data to store to disk.  Perhaps some other process is leaking memory?  Process memory: 1.40 GB -- Worker memory limit: 2.00 GB\n",
            "distributed.worker - WARNING - Memory use is high but worker has no data to store to disk.  Perhaps some other process is leaking memory?  Process memory: 1.40 GB -- Worker memory limit: 2.00 GB\n",
            "distributed.worker - WARNING - Memory use is high but worker has no data to store to disk.  Perhaps some other process is leaking memory?  Process memory: 1.40 GB -- Worker memory limit: 2.00 GB\n",
            "distributed.worker - WARNING - Memory use is high but worker has no data to store to disk.  Perhaps some other process is leaking memory?  Process memory: 1.40 GB -- Worker memory limit: 2.00 GB\n",
            "distributed.worker - WARNING - Memory use is high but worker has no data to store to disk.  Perhaps some other process is leaking memory?  Process memory: 1.40 GB -- Worker memory limit: 2.00 GB\n",
            "distributed.worker - WARNING - Memory use is high but worker has no data to store to disk.  Perhaps some other process is leaking memory?  Process memory: 1.40 GB -- Worker memory limit: 2.00 GB\n",
            "distributed.worker - WARNING - Memory use is high but worker has no data to store to disk.  Perhaps some other process is leaking memory?  Process memory: 1.40 GB -- Worker memory limit: 2.00 GB\n",
            "distributed.worker - WARNING - Memory use is high but worker has no data to store to disk.  Perhaps some other process is leaking memory?  Process memory: 1.40 GB -- Worker memory limit: 2.00 GB\n",
            "distributed.worker - WARNING - Memory use is high but worker has no data to store to disk.  Perhaps some other process is leaking memory?  Process memory: 1.40 GB -- Worker memory limit: 2.00 GB\n",
            "distributed.worker - WARNING - Memory use is high but worker has no data to store to disk.  Perhaps some other process is leaking memory?  Process memory: 1.40 GB -- Worker memory limit: 2.00 GB\n",
            "distributed.worker - WARNING - Memory use is high but worker has no data to store to disk.  Perhaps some other process is leaking memory?  Process memory: 1.40 GB -- Worker memory limit: 2.00 GB\n",
            "distributed.worker - WARNING - Memory use is high but worker has no data to store to disk.  Perhaps some other process is leaking memory?  Process memory: 1.40 GB -- Worker memory limit: 2.00 GB\n",
            "distributed.worker - WARNING - Memory use is high but worker has no data to store to disk.  Perhaps some other process is leaking memory?  Process memory: 1.40 GB -- Worker memory limit: 2.00 GB\n",
            "distributed.worker - WARNING - Memory use is high but worker has no data to store to disk.  Perhaps some other process is leaking memory?  Process memory: 1.40 GB -- Worker memory limit: 2.00 GB\n",
            "distributed.worker - WARNING - Memory use is high but worker has no data to store to disk.  Perhaps some other process is leaking memory?  Process memory: 1.40 GB -- Worker memory limit: 2.00 GB\n",
            "distributed.worker - WARNING - Memory use is high but worker has no data to store to disk.  Perhaps some other process is leaking memory?  Process memory: 1.40 GB -- Worker memory limit: 2.00 GB\n",
            "distributed.worker - WARNING - Memory use is high but worker has no data to store to disk.  Perhaps some other process is leaking memory?  Process memory: 1.40 GB -- Worker memory limit: 2.00 GB\n",
            "distributed.worker - WARNING - Memory use is high but worker has no data to store to disk.  Perhaps some other process is leaking memory?  Process memory: 1.40 GB -- Worker memory limit: 2.00 GB\n",
            "distributed.worker - WARNING - Memory use is high but worker has no data to store to disk.  Perhaps some other process is leaking memory?  Process memory: 1.40 GB -- Worker memory limit: 2.00 GB\n",
            "distributed.worker - WARNING - Memory use is high but worker has no data to store to disk.  Perhaps some other process is leaking memory?  Process memory: 1.40 GB -- Worker memory limit: 2.00 GB\n",
            "distributed.worker - WARNING - Memory use is high but worker has no data to store to disk.  Perhaps some other process is leaking memory?  Process memory: 1.40 GB -- Worker memory limit: 2.00 GB\n",
            "distributed.worker - WARNING - Memory use is high but worker has no data to store to disk.  Perhaps some other process is leaking memory?  Process memory: 1.40 GB -- Worker memory limit: 2.00 GB\n",
            "distributed.worker - WARNING - Memory use is high but worker has no data to store to disk.  Perhaps some other process is leaking memory?  Process memory: 1.40 GB -- Worker memory limit: 2.00 GB\n",
            "distributed.worker - WARNING - Memory use is high but worker has no data to store to disk.  Perhaps some other process is leaking memory?  Process memory: 1.40 GB -- Worker memory limit: 2.00 GB\n",
            "distributed.worker - WARNING - Memory use is high but worker has no data to store to disk.  Perhaps some other process is leaking memory?  Process memory: 1.40 GB -- Worker memory limit: 2.00 GB\n",
            "distributed.worker - WARNING - Memory use is high but worker has no data to store to disk.  Perhaps some other process is leaking memory?  Process memory: 1.40 GB -- Worker memory limit: 2.00 GB\n",
            "distributed.worker - WARNING - Memory use is high but worker has no data to store to disk.  Perhaps some other process is leaking memory?  Process memory: 1.40 GB -- Worker memory limit: 2.00 GB\n",
            "distributed.worker - WARNING - Memory use is high but worker has no data to store to disk.  Perhaps some other process is leaking memory?  Process memory: 1.40 GB -- Worker memory limit: 2.00 GB\n",
            "distributed.worker - WARNING - Memory use is high but worker has no data to store to disk.  Perhaps some other process is leaking memory?  Process memory: 1.40 GB -- Worker memory limit: 2.00 GB\n",
            "distributed.worker - WARNING - Memory use is high but worker has no data to store to disk.  Perhaps some other process is leaking memory?  Process memory: 1.40 GB -- Worker memory limit: 2.00 GB\n",
            "distributed.worker - WARNING - Memory use is high but worker has no data to store to disk.  Perhaps some other process is leaking memory?  Process memory: 1.40 GB -- Worker memory limit: 2.00 GB\n",
            "distributed.worker - WARNING - Memory use is high but worker has no data to store to disk.  Perhaps some other process is leaking memory?  Process memory: 1.40 GB -- Worker memory limit: 2.00 GB\n",
            "distributed.worker - WARNING - Memory use is high but worker has no data to store to disk.  Perhaps some other process is leaking memory?  Process memory: 1.40 GB -- Worker memory limit: 2.00 GB\n",
            "distributed.worker - WARNING - Memory use is high but worker has no data to store to disk.  Perhaps some other process is leaking memory?  Process memory: 1.40 GB -- Worker memory limit: 2.00 GB\n",
            "distributed.worker - WARNING - Memory use is high but worker has no data to store to disk.  Perhaps some other process is leaking memory?  Process memory: 1.40 GB -- Worker memory limit: 2.00 GB\n",
            "distributed.worker - WARNING - Memory use is high but worker has no data to store to disk.  Perhaps some other process is leaking memory?  Process memory: 1.40 GB -- Worker memory limit: 2.00 GB\n",
            "distributed.worker - WARNING - Memory use is high but worker has no data to store to disk.  Perhaps some other process is leaking memory?  Process memory: 1.40 GB -- Worker memory limit: 2.00 GB\n",
            "distributed.worker - WARNING - Memory use is high but worker has no data to store to disk.  Perhaps some other process is leaking memory?  Process memory: 1.40 GB -- Worker memory limit: 2.00 GB\n",
            "distributed.worker - WARNING - Memory use is high but worker has no data to store to disk.  Perhaps some other process is leaking memory?  Process memory: 1.40 GB -- Worker memory limit: 2.00 GB\n",
            "distributed.worker - WARNING - Memory use is high but worker has no data to store to disk.  Perhaps some other process is leaking memory?  Process memory: 1.40 GB -- Worker memory limit: 2.00 GB\n",
            "distributed.worker - WARNING - Memory use is high but worker has no data to store to disk.  Perhaps some other process is leaking memory?  Process memory: 1.40 GB -- Worker memory limit: 2.00 GB\n",
            "distributed.worker - WARNING - Memory use is high but worker has no data to store to disk.  Perhaps some other process is leaking memory?  Process memory: 1.40 GB -- Worker memory limit: 2.00 GB\n",
            "distributed.worker - WARNING - Memory use is high but worker has no data to store to disk.  Perhaps some other process is leaking memory?  Process memory: 1.40 GB -- Worker memory limit: 2.00 GB\n",
            "distributed.worker - WARNING - Memory use is high but worker has no data to store to disk.  Perhaps some other process is leaking memory?  Process memory: 1.40 GB -- Worker memory limit: 2.00 GB\n",
            "distributed.worker - WARNING - Memory use is high but worker has no data to store to disk.  Perhaps some other process is leaking memory?  Process memory: 1.40 GB -- Worker memory limit: 2.00 GB\n",
            "distributed.worker - WARNING - Memory use is high but worker has no data to store to disk.  Perhaps some other process is leaking memory?  Process memory: 1.40 GB -- Worker memory limit: 2.00 GB\n",
            "distributed.worker - WARNING - Memory use is high but worker has no data to store to disk.  Perhaps some other process is leaking memory?  Process memory: 1.40 GB -- Worker memory limit: 2.00 GB\n",
            "distributed.worker - WARNING - Memory use is high but worker has no data to store to disk.  Perhaps some other process is leaking memory?  Process memory: 1.40 GB -- Worker memory limit: 2.00 GB\n",
            "distributed.worker - WARNING - Memory use is high but worker has no data to store to disk.  Perhaps some other process is leaking memory?  Process memory: 1.40 GB -- Worker memory limit: 2.00 GB\n",
            "distributed.worker - WARNING - Memory use is high but worker has no data to store to disk.  Perhaps some other process is leaking memory?  Process memory: 1.40 GB -- Worker memory limit: 2.00 GB\n",
            "distributed.worker - WARNING - Memory use is high but worker has no data to store to disk.  Perhaps some other process is leaking memory?  Process memory: 1.40 GB -- Worker memory limit: 2.00 GB\n",
            "distributed.worker - WARNING - Memory use is high but worker has no data to store to disk.  Perhaps some other process is leaking memory?  Process memory: 1.40 GB -- Worker memory limit: 2.00 GB\n",
            "distributed.worker - WARNING - Memory use is high but worker has no data to store to disk.  Perhaps some other process is leaking memory?  Process memory: 1.40 GB -- Worker memory limit: 2.00 GB\n",
            "distributed.worker - WARNING - Memory use is high but worker has no data to store to disk.  Perhaps some other process is leaking memory?  Process memory: 1.40 GB -- Worker memory limit: 2.00 GB\n",
            "distributed.worker - WARNING - Memory use is high but worker has no data to store to disk.  Perhaps some other process is leaking memory?  Process memory: 1.40 GB -- Worker memory limit: 2.00 GB\n",
            "distributed.worker - WARNING - Memory use is high but worker has no data to store to disk.  Perhaps some other process is leaking memory?  Process memory: 1.40 GB -- Worker memory limit: 2.00 GB\n",
            "distributed.worker - WARNING - Memory use is high but worker has no data to store to disk.  Perhaps some other process is leaking memory?  Process memory: 1.40 GB -- Worker memory limit: 2.00 GB\n",
            "distributed.worker - WARNING - Memory use is high but worker has no data to store to disk.  Perhaps some other process is leaking memory?  Process memory: 1.40 GB -- Worker memory limit: 2.00 GB\n",
            "distributed.worker - WARNING - Memory use is high but worker has no data to store to disk.  Perhaps some other process is leaking memory?  Process memory: 1.40 GB -- Worker memory limit: 2.00 GB\n",
            "distributed.worker - WARNING - Memory use is high but worker has no data to store to disk.  Perhaps some other process is leaking memory?  Process memory: 1.40 GB -- Worker memory limit: 2.00 GB\n",
            "distributed.worker - WARNING - Memory use is high but worker has no data to store to disk.  Perhaps some other process is leaking memory?  Process memory: 1.40 GB -- Worker memory limit: 2.00 GB\n",
            "distributed.worker - WARNING - Memory use is high but worker has no data to store to disk.  Perhaps some other process is leaking memory?  Process memory: 1.40 GB -- Worker memory limit: 2.00 GB\n",
            "distributed.worker - WARNING - Memory use is high but worker has no data to store to disk.  Perhaps some other process is leaking memory?  Process memory: 1.40 GB -- Worker memory limit: 2.00 GB\n",
            "distributed.worker - WARNING - Memory use is high but worker has no data to store to disk.  Perhaps some other process is leaking memory?  Process memory: 1.40 GB -- Worker memory limit: 2.00 GB\n",
            "distributed.worker - WARNING - Memory use is high but worker has no data to store to disk.  Perhaps some other process is leaking memory?  Process memory: 1.40 GB -- Worker memory limit: 2.00 GB\n",
            "distributed.worker - WARNING - Memory use is high but worker has no data to store to disk.  Perhaps some other process is leaking memory?  Process memory: 1.40 GB -- Worker memory limit: 2.00 GB\n",
            "distributed.worker - WARNING - Memory use is high but worker has no data to store to disk.  Perhaps some other process is leaking memory?  Process memory: 1.40 GB -- Worker memory limit: 2.00 GB\n",
            "distributed.worker - WARNING - Memory use is high but worker has no data to store to disk.  Perhaps some other process is leaking memory?  Process memory: 1.40 GB -- Worker memory limit: 2.00 GB\n",
            "distributed.worker - WARNING - Memory use is high but worker has no data to store to disk.  Perhaps some other process is leaking memory?  Process memory: 1.40 GB -- Worker memory limit: 2.00 GB\n",
            "distributed.worker - WARNING - Memory use is high but worker has no data to store to disk.  Perhaps some other process is leaking memory?  Process memory: 1.40 GB -- Worker memory limit: 2.00 GB\n",
            "distributed.worker - WARNING - Memory use is high but worker has no data to store to disk.  Perhaps some other process is leaking memory?  Process memory: 1.40 GB -- Worker memory limit: 2.00 GB\n",
            "distributed.worker - WARNING - Memory use is high but worker has no data to store to disk.  Perhaps some other process is leaking memory?  Process memory: 1.40 GB -- Worker memory limit: 2.00 GB\n",
            "distributed.worker - WARNING - Memory use is high but worker has no data to store to disk.  Perhaps some other process is leaking memory?  Process memory: 1.40 GB -- Worker memory limit: 2.00 GB\n",
            "distributed.worker - WARNING - Memory use is high but worker has no data to store to disk.  Perhaps some other process is leaking memory?  Process memory: 1.40 GB -- Worker memory limit: 2.00 GB\n",
            "distributed.worker - WARNING - Memory use is high but worker has no data to store to disk.  Perhaps some other process is leaking memory?  Process memory: 1.40 GB -- Worker memory limit: 2.00 GB\n",
            "distributed.worker - WARNING - Memory use is high but worker has no data to store to disk.  Perhaps some other process is leaking memory?  Process memory: 1.40 GB -- Worker memory limit: 2.00 GB\n",
            "distributed.worker - WARNING - Memory use is high but worker has no data to store to disk.  Perhaps some other process is leaking memory?  Process memory: 1.40 GB -- Worker memory limit: 2.00 GB\n",
            "distributed.worker - WARNING - Memory use is high but worker has no data to store to disk.  Perhaps some other process is leaking memory?  Process memory: 1.40 GB -- Worker memory limit: 2.00 GB\n",
            "distributed.worker - WARNING - Memory use is high but worker has no data to store to disk.  Perhaps some other process is leaking memory?  Process memory: 1.40 GB -- Worker memory limit: 2.00 GB\n",
            "distributed.worker - WARNING - Memory use is high but worker has no data to store to disk.  Perhaps some other process is leaking memory?  Process memory: 1.40 GB -- Worker memory limit: 2.00 GB\n",
            "distributed.worker - WARNING - Memory use is high but worker has no data to store to disk.  Perhaps some other process is leaking memory?  Process memory: 1.40 GB -- Worker memory limit: 2.00 GB\n",
            "distributed.worker - WARNING - Memory use is high but worker has no data to store to disk.  Perhaps some other process is leaking memory?  Process memory: 1.40 GB -- Worker memory limit: 2.00 GB\n",
            "distributed.worker - WARNING - Memory use is high but worker has no data to store to disk.  Perhaps some other process is leaking memory?  Process memory: 1.40 GB -- Worker memory limit: 2.00 GB\n",
            "distributed.worker - WARNING - Memory use is high but worker has no data to store to disk.  Perhaps some other process is leaking memory?  Process memory: 1.40 GB -- Worker memory limit: 2.00 GB\n",
            "distributed.worker - WARNING - Memory use is high but worker has no data to store to disk.  Perhaps some other process is leaking memory?  Process memory: 1.40 GB -- Worker memory limit: 2.00 GB\n",
            "distributed.worker - WARNING - Memory use is high but worker has no data to store to disk.  Perhaps some other process is leaking memory?  Process memory: 1.40 GB -- Worker memory limit: 2.00 GB\n",
            "distributed.worker - WARNING - Memory use is high but worker has no data to store to disk.  Perhaps some other process is leaking memory?  Process memory: 1.40 GB -- Worker memory limit: 2.00 GB\n",
            "distributed.worker - WARNING - Memory use is high but worker has no data to store to disk.  Perhaps some other process is leaking memory?  Process memory: 1.40 GB -- Worker memory limit: 2.00 GB\n",
            "distributed.worker - WARNING - Memory use is high but worker has no data to store to disk.  Perhaps some other process is leaking memory?  Process memory: 1.40 GB -- Worker memory limit: 2.00 GB\n",
            "distributed.worker - WARNING - Memory use is high but worker has no data to store to disk.  Perhaps some other process is leaking memory?  Process memory: 1.40 GB -- Worker memory limit: 2.00 GB\n",
            "distributed.worker - WARNING - Memory use is high but worker has no data to store to disk.  Perhaps some other process is leaking memory?  Process memory: 1.40 GB -- Worker memory limit: 2.00 GB\n",
            "distributed.worker - WARNING - Memory use is high but worker has no data to store to disk.  Perhaps some other process is leaking memory?  Process memory: 1.40 GB -- Worker memory limit: 2.00 GB\n",
            "distributed.worker - WARNING - Memory use is high but worker has no data to store to disk.  Perhaps some other process is leaking memory?  Process memory: 1.40 GB -- Worker memory limit: 2.00 GB\n",
            "distributed.worker - WARNING - Memory use is high but worker has no data to store to disk.  Perhaps some other process is leaking memory?  Process memory: 1.40 GB -- Worker memory limit: 2.00 GB\n",
            "distributed.worker - WARNING - Memory use is high but worker has no data to store to disk.  Perhaps some other process is leaking memory?  Process memory: 1.40 GB -- Worker memory limit: 2.00 GB\n",
            "distributed.worker - WARNING - Memory use is high but worker has no data to store to disk.  Perhaps some other process is leaking memory?  Process memory: 1.40 GB -- Worker memory limit: 2.00 GB\n",
            "distributed.worker - WARNING - Memory use is high but worker has no data to store to disk.  Perhaps some other process is leaking memory?  Process memory: 1.40 GB -- Worker memory limit: 2.00 GB\n",
            "distributed.worker - WARNING - Memory use is high but worker has no data to store to disk.  Perhaps some other process is leaking memory?  Process memory: 1.40 GB -- Worker memory limit: 2.00 GB\n",
            "distributed.worker - WARNING - Memory use is high but worker has no data to store to disk.  Perhaps some other process is leaking memory?  Process memory: 1.40 GB -- Worker memory limit: 2.00 GB\n",
            "distributed.worker - WARNING - Memory use is high but worker has no data to store to disk.  Perhaps some other process is leaking memory?  Process memory: 1.40 GB -- Worker memory limit: 2.00 GB\n",
            "distributed.worker - WARNING - Memory use is high but worker has no data to store to disk.  Perhaps some other process is leaking memory?  Process memory: 1.40 GB -- Worker memory limit: 2.00 GB\n",
            "distributed.worker - WARNING - Memory use is high but worker has no data to store to disk.  Perhaps some other process is leaking memory?  Process memory: 1.40 GB -- Worker memory limit: 2.00 GB\n",
            "distributed.worker - WARNING - Memory use is high but worker has no data to store to disk.  Perhaps some other process is leaking memory?  Process memory: 1.40 GB -- Worker memory limit: 2.00 GB\n",
            "distributed.worker - WARNING - Memory use is high but worker has no data to store to disk.  Perhaps some other process is leaking memory?  Process memory: 1.40 GB -- Worker memory limit: 2.00 GB\n",
            "distributed.worker - WARNING - Memory use is high but worker has no data to store to disk.  Perhaps some other process is leaking memory?  Process memory: 1.40 GB -- Worker memory limit: 2.00 GB\n",
            "distributed.worker - WARNING - Memory use is high but worker has no data to store to disk.  Perhaps some other process is leaking memory?  Process memory: 1.40 GB -- Worker memory limit: 2.00 GB\n",
            "distributed.worker - WARNING - Memory use is high but worker has no data to store to disk.  Perhaps some other process is leaking memory?  Process memory: 1.40 GB -- Worker memory limit: 2.00 GB\n",
            "distributed.worker - WARNING - Memory use is high but worker has no data to store to disk.  Perhaps some other process is leaking memory?  Process memory: 1.40 GB -- Worker memory limit: 2.00 GB\n",
            "distributed.worker - WARNING - Memory use is high but worker has no data to store to disk.  Perhaps some other process is leaking memory?  Process memory: 1.40 GB -- Worker memory limit: 2.00 GB\n",
            "distributed.worker - WARNING - Memory use is high but worker has no data to store to disk.  Perhaps some other process is leaking memory?  Process memory: 1.40 GB -- Worker memory limit: 2.00 GB\n",
            "distributed.worker - WARNING - Memory use is high but worker has no data to store to disk.  Perhaps some other process is leaking memory?  Process memory: 1.40 GB -- Worker memory limit: 2.00 GB\n",
            "distributed.worker - WARNING - Memory use is high but worker has no data to store to disk.  Perhaps some other process is leaking memory?  Process memory: 1.40 GB -- Worker memory limit: 2.00 GB\n",
            "distributed.worker - WARNING - Memory use is high but worker has no data to store to disk.  Perhaps some other process is leaking memory?  Process memory: 1.40 GB -- Worker memory limit: 2.00 GB\n",
            "distributed.worker - WARNING - Memory use is high but worker has no data to store to disk.  Perhaps some other process is leaking memory?  Process memory: 1.40 GB -- Worker memory limit: 2.00 GB\n",
            "distributed.worker - WARNING - Memory use is high but worker has no data to store to disk.  Perhaps some other process is leaking memory?  Process memory: 1.40 GB -- Worker memory limit: 2.00 GB\n",
            "distributed.worker - WARNING - Memory use is high but worker has no data to store to disk.  Perhaps some other process is leaking memory?  Process memory: 1.40 GB -- Worker memory limit: 2.00 GB\n",
            "distributed.worker - WARNING - Memory use is high but worker has no data to store to disk.  Perhaps some other process is leaking memory?  Process memory: 1.40 GB -- Worker memory limit: 2.00 GB\n",
            "distributed.worker - WARNING - Memory use is high but worker has no data to store to disk.  Perhaps some other process is leaking memory?  Process memory: 1.40 GB -- Worker memory limit: 2.00 GB\n",
            "distributed.worker - WARNING - Memory use is high but worker has no data to store to disk.  Perhaps some other process is leaking memory?  Process memory: 1.40 GB -- Worker memory limit: 2.00 GB\n",
            "distributed.worker - WARNING - Memory use is high but worker has no data to store to disk.  Perhaps some other process is leaking memory?  Process memory: 1.40 GB -- Worker memory limit: 2.00 GB\n",
            "distributed.worker - WARNING - Memory use is high but worker has no data to store to disk.  Perhaps some other process is leaking memory?  Process memory: 1.40 GB -- Worker memory limit: 2.00 GB\n",
            "distributed.worker - WARNING - Memory use is high but worker has no data to store to disk.  Perhaps some other process is leaking memory?  Process memory: 1.40 GB -- Worker memory limit: 2.00 GB\n",
            "distributed.worker - WARNING - Memory use is high but worker has no data to store to disk.  Perhaps some other process is leaking memory?  Process memory: 1.40 GB -- Worker memory limit: 2.00 GB\n",
            "distributed.worker - WARNING - Memory use is high but worker has no data to store to disk.  Perhaps some other process is leaking memory?  Process memory: 1.40 GB -- Worker memory limit: 2.00 GB\n",
            "distributed.worker - WARNING - Memory use is high but worker has no data to store to disk.  Perhaps some other process is leaking memory?  Process memory: 1.40 GB -- Worker memory limit: 2.00 GB\n",
            "distributed.worker - WARNING - Memory use is high but worker has no data to store to disk.  Perhaps some other process is leaking memory?  Process memory: 1.40 GB -- Worker memory limit: 2.00 GB\n",
            "distributed.worker - WARNING - Memory use is high but worker has no data to store to disk.  Perhaps some other process is leaking memory?  Process memory: 1.40 GB -- Worker memory limit: 2.00 GB\n",
            "distributed.worker - WARNING - Memory use is high but worker has no data to store to disk.  Perhaps some other process is leaking memory?  Process memory: 1.40 GB -- Worker memory limit: 2.00 GB\n",
            "distributed.worker - WARNING - Memory use is high but worker has no data to store to disk.  Perhaps some other process is leaking memory?  Process memory: 1.40 GB -- Worker memory limit: 2.00 GB\n",
            "distributed.worker - WARNING - Memory use is high but worker has no data to store to disk.  Perhaps some other process is leaking memory?  Process memory: 1.40 GB -- Worker memory limit: 2.00 GB\n",
            "distributed.worker - WARNING - Memory use is high but worker has no data to store to disk.  Perhaps some other process is leaking memory?  Process memory: 1.40 GB -- Worker memory limit: 2.00 GB\n",
            "distributed.worker - WARNING - Memory use is high but worker has no data to store to disk.  Perhaps some other process is leaking memory?  Process memory: 1.40 GB -- Worker memory limit: 2.00 GB\n",
            "distributed.worker - WARNING - Memory use is high but worker has no data to store to disk.  Perhaps some other process is leaking memory?  Process memory: 1.40 GB -- Worker memory limit: 2.00 GB\n",
            "distributed.worker - WARNING - Memory use is high but worker has no data to store to disk.  Perhaps some other process is leaking memory?  Process memory: 1.40 GB -- Worker memory limit: 2.00 GB\n",
            "distributed.worker - WARNING - Memory use is high but worker has no data to store to disk.  Perhaps some other process is leaking memory?  Process memory: 1.40 GB -- Worker memory limit: 2.00 GB\n",
            "distributed.worker - WARNING - Memory use is high but worker has no data to store to disk.  Perhaps some other process is leaking memory?  Process memory: 1.40 GB -- Worker memory limit: 2.00 GB\n",
            "distributed.worker - WARNING - Memory use is high but worker has no data to store to disk.  Perhaps some other process is leaking memory?  Process memory: 1.40 GB -- Worker memory limit: 2.00 GB\n",
            "distributed.worker - WARNING - Memory use is high but worker has no data to store to disk.  Perhaps some other process is leaking memory?  Process memory: 1.40 GB -- Worker memory limit: 2.00 GB\n",
            "distributed.worker - WARNING - Memory use is high but worker has no data to store to disk.  Perhaps some other process is leaking memory?  Process memory: 1.40 GB -- Worker memory limit: 2.00 GB\n",
            "distributed.worker - WARNING - Memory use is high but worker has no data to store to disk.  Perhaps some other process is leaking memory?  Process memory: 1.40 GB -- Worker memory limit: 2.00 GB\n",
            "distributed.worker - WARNING - Memory use is high but worker has no data to store to disk.  Perhaps some other process is leaking memory?  Process memory: 1.40 GB -- Worker memory limit: 2.00 GB\n",
            "distributed.worker - WARNING - Memory use is high but worker has no data to store to disk.  Perhaps some other process is leaking memory?  Process memory: 1.40 GB -- Worker memory limit: 2.00 GB\n",
            "distributed.worker - WARNING - Memory use is high but worker has no data to store to disk.  Perhaps some other process is leaking memory?  Process memory: 1.40 GB -- Worker memory limit: 2.00 GB\n",
            "distributed.worker - WARNING - Memory use is high but worker has no data to store to disk.  Perhaps some other process is leaking memory?  Process memory: 1.40 GB -- Worker memory limit: 2.00 GB\n",
            "distributed.worker - WARNING - Memory use is high but worker has no data to store to disk.  Perhaps some other process is leaking memory?  Process memory: 1.40 GB -- Worker memory limit: 2.00 GB\n",
            "distributed.worker - WARNING - Memory use is high but worker has no data to store to disk.  Perhaps some other process is leaking memory?  Process memory: 1.40 GB -- Worker memory limit: 2.00 GB\n",
            "distributed.worker - WARNING - Memory use is high but worker has no data to store to disk.  Perhaps some other process is leaking memory?  Process memory: 1.40 GB -- Worker memory limit: 2.00 GB\n",
            "distributed.worker - WARNING - Memory use is high but worker has no data to store to disk.  Perhaps some other process is leaking memory?  Process memory: 1.40 GB -- Worker memory limit: 2.00 GB\n",
            "distributed.worker - WARNING - Memory use is high but worker has no data to store to disk.  Perhaps some other process is leaking memory?  Process memory: 1.40 GB -- Worker memory limit: 2.00 GB\n",
            "distributed.worker - WARNING - Memory use is high but worker has no data to store to disk.  Perhaps some other process is leaking memory?  Process memory: 1.40 GB -- Worker memory limit: 2.00 GB\n",
            "distributed.worker - WARNING - Memory use is high but worker has no data to store to disk.  Perhaps some other process is leaking memory?  Process memory: 1.40 GB -- Worker memory limit: 2.00 GB\n",
            "distributed.worker - WARNING - Memory use is high but worker has no data to store to disk.  Perhaps some other process is leaking memory?  Process memory: 1.40 GB -- Worker memory limit: 2.00 GB\n",
            "distributed.worker - WARNING - Memory use is high but worker has no data to store to disk.  Perhaps some other process is leaking memory?  Process memory: 1.40 GB -- Worker memory limit: 2.00 GB\n",
            "distributed.worker - WARNING - Memory use is high but worker has no data to store to disk.  Perhaps some other process is leaking memory?  Process memory: 1.40 GB -- Worker memory limit: 2.00 GB\n",
            "distributed.worker - WARNING - Memory use is high but worker has no data to store to disk.  Perhaps some other process is leaking memory?  Process memory: 1.40 GB -- Worker memory limit: 2.00 GB\n",
            "distributed.worker - WARNING - Memory use is high but worker has no data to store to disk.  Perhaps some other process is leaking memory?  Process memory: 1.40 GB -- Worker memory limit: 2.00 GB\n",
            "distributed.worker - WARNING - Memory use is high but worker has no data to store to disk.  Perhaps some other process is leaking memory?  Process memory: 1.40 GB -- Worker memory limit: 2.00 GB\n",
            "distributed.worker - WARNING - Memory use is high but worker has no data to store to disk.  Perhaps some other process is leaking memory?  Process memory: 1.40 GB -- Worker memory limit: 2.00 GB\n",
            "distributed.worker - WARNING - Memory use is high but worker has no data to store to disk.  Perhaps some other process is leaking memory?  Process memory: 1.40 GB -- Worker memory limit: 2.00 GB\n",
            "distributed.worker - WARNING - Memory use is high but worker has no data to store to disk.  Perhaps some other process is leaking memory?  Process memory: 1.40 GB -- Worker memory limit: 2.00 GB\n",
            "distributed.worker - WARNING - Memory use is high but worker has no data to store to disk.  Perhaps some other process is leaking memory?  Process memory: 1.40 GB -- Worker memory limit: 2.00 GB\n",
            "distributed.worker - WARNING - Memory use is high but worker has no data to store to disk.  Perhaps some other process is leaking memory?  Process memory: 1.40 GB -- Worker memory limit: 2.00 GB\n",
            "distributed.worker - WARNING - Memory use is high but worker has no data to store to disk.  Perhaps some other process is leaking memory?  Process memory: 1.40 GB -- Worker memory limit: 2.00 GB\n",
            "distributed.worker - WARNING - Memory use is high but worker has no data to store to disk.  Perhaps some other process is leaking memory?  Process memory: 1.40 GB -- Worker memory limit: 2.00 GB\n",
            "distributed.worker - WARNING - Memory use is high but worker has no data to store to disk.  Perhaps some other process is leaking memory?  Process memory: 1.40 GB -- Worker memory limit: 2.00 GB\n",
            "distributed.worker - WARNING - Memory use is high but worker has no data to store to disk.  Perhaps some other process is leaking memory?  Process memory: 1.40 GB -- Worker memory limit: 2.00 GB\n",
            "distributed.worker - WARNING - Memory use is high but worker has no data to store to disk.  Perhaps some other process is leaking memory?  Process memory: 1.40 GB -- Worker memory limit: 2.00 GB\n",
            "distributed.worker - WARNING - Memory use is high but worker has no data to store to disk.  Perhaps some other process is leaking memory?  Process memory: 1.40 GB -- Worker memory limit: 2.00 GB\n",
            "distributed.worker - WARNING - Memory use is high but worker has no data to store to disk.  Perhaps some other process is leaking memory?  Process memory: 1.40 GB -- Worker memory limit: 2.00 GB\n"
          ],
          "name": "stderr"
        },
        {
          "output_type": "execute_result",
          "data": {
            "text/plain": [
              "KMeans(algorithm='full', copy_x=True, init='k-means||', init_max_iter=2,\n",
              "    max_iter=300, n_clusters=3, n_jobs=1, oversampling_factor=10,\n",
              "    precompute_distances='auto', random_state=None, tol=0.0001)"
            ]
          },
          "metadata": {
            "tags": []
          },
          "execution_count": 30
        },
        {
          "output_type": "stream",
          "text": [
            "distributed.worker - WARNING - Memory use is high but worker has no data to store to disk.  Perhaps some other process is leaking memory?  Process memory: 1.40 GB -- Worker memory limit: 2.00 GB\n",
            "distributed.worker - WARNING - Memory use is high but worker has no data to store to disk.  Perhaps some other process is leaking memory?  Process memory: 1.40 GB -- Worker memory limit: 2.00 GB\n"
          ],
          "name": "stderr"
        }
      ]
    },
    {
      "cell_type": "code",
      "metadata": {
        "id": "G1fIhe5sIS8P",
        "colab_type": "code",
        "outputId": "8e443692-8536-41d3-f5cd-3d1e1b699155",
        "colab": {
          "base_uri": "https://localhost:8080/",
          "height": 296
        }
      },
      "source": [
        "#@title Select your input parameters { run: \"auto\", display-mode: \"form\" }\n",
        "mintemp = 29 #@param {type:\"slider\", min:1, max:90, step:1}\n",
        "maxtemp = 67 #@param {type:\"slider\", min:10, max:110, step:1}\n",
        "rain = 3.6 #@param {type:\"slider\", min:0, max:5, step:0.1}\n",
        "dayofweek = 4 #@param {type:\"slider\", min:1, max:7, step:1}\n",
        "hour = 7 #@param {type:\"slider\", min:0, max:24, step:1}\n",
        "\n",
        "\n",
        "query = \"\"\"\n",
        "  select *\n",
        "  from ml.PREDICT(\n",
        "    MODEL {0}.{1},  (\n",
        "      select  '{5}' as dayofweek,  \n",
        "              {2} as mintemp,  \n",
        "              {3} as maxtemp, \n",
        "              {4} as rain\n",
        "    )\n",
        "  )\n",
        "\"\"\".format(dataset_name, \n",
        "           model_name, \n",
        "           mintemp,\n",
        "           maxtemp,\n",
        "           rain,\n",
        "           dayofweek)\n",
        "\n",
        "df = client.query(query).to_dataframe()\n",
        "df[\"predicted_label\"] = np.multiply(df[\"predicted_label\"],maxtrips).astype(int)\n",
        "df"
      ],
      "execution_count": 0,
      "outputs": [
        {
          "output_type": "stream",
          "text": [
            "ERROR:root:An unexpected error occurred while tokenizing input\n",
            "The following traceback may be corrupted or invalid\n",
            "The error message is: ('EOF in multi-line string', (1, 0))\n",
            "\n"
          ],
          "name": "stderr"
        },
        {
          "output_type": "error",
          "ename": "NameError",
          "evalue": "ignored",
          "traceback": [
            "\u001b[0;31m\u001b[0m",
            "\u001b[0;31mNameError\u001b[0mTraceback (most recent call last)",
            "\u001b[0;32m<ipython-input-6-c96ac93d9e9e>\u001b[0m in \u001b[0;36m<module>\u001b[0;34m()\u001b[0m\n\u001b[1;32m     16\u001b[0m     )\n\u001b[1;32m     17\u001b[0m   )\n\u001b[0;32m---> 18\u001b[0;31m \"\"\".format(dataset_name, \n\u001b[0m\u001b[1;32m     19\u001b[0m            \u001b[0mmodel_name\u001b[0m\u001b[0;34m,\u001b[0m\u001b[0;34m\u001b[0m\u001b[0m\n\u001b[1;32m     20\u001b[0m            \u001b[0mmintemp\u001b[0m\u001b[0;34m,\u001b[0m\u001b[0;34m\u001b[0m\u001b[0m\n",
            "\u001b[0;31mNameError\u001b[0m: name 'dataset_name' is not defined"
          ]
        }
      ]
    },
    {
      "cell_type": "code",
      "metadata": {
        "id": "6TBQd5WN6UzG",
        "colab_type": "code",
        "outputId": "d0483eea-c314-4245-ff87-e0ba80205eae",
        "colab": {
          "base_uri": "https://localhost:8080/",
          "height": 1000
        }
      },
      "source": [
        "fig, ax = plt.subplots()\n",
        "ax.scatter(X[::1000, 0], X[::1000, 1], marker='.', c=km.labels_[::1000],\n",
        "           cmap='viridis', alpha=0.25);"
      ],
      "execution_count": 0,
      "outputs": [
        {
          "output_type": "stream",
          "text": [
            "distributed.worker - WARNING - Memory use is high but worker has no data to store to disk.  Perhaps some other process is leaking memory?  Process memory: 1.40 GB -- Worker memory limit: 2.00 GB\n",
            "distributed.worker - WARNING - Memory use is high but worker has no data to store to disk.  Perhaps some other process is leaking memory?  Process memory: 1.40 GB -- Worker memory limit: 2.00 GB\n",
            "distributed.worker - WARNING - Memory use is high but worker has no data to store to disk.  Perhaps some other process is leaking memory?  Process memory: 1.40 GB -- Worker memory limit: 2.00 GB\n",
            "distributed.worker - WARNING - Memory use is high but worker has no data to store to disk.  Perhaps some other process is leaking memory?  Process memory: 1.40 GB -- Worker memory limit: 2.00 GB\n",
            "distributed.worker - WARNING - Memory use is high but worker has no data to store to disk.  Perhaps some other process is leaking memory?  Process memory: 1.40 GB -- Worker memory limit: 2.00 GB\n",
            "distributed.worker - WARNING - Memory use is high but worker has no data to store to disk.  Perhaps some other process is leaking memory?  Process memory: 1.40 GB -- Worker memory limit: 2.00 GB\n",
            "distributed.worker - WARNING - Memory use is high but worker has no data to store to disk.  Perhaps some other process is leaking memory?  Process memory: 1.40 GB -- Worker memory limit: 2.00 GB\n",
            "distributed.worker - WARNING - Memory use is high but worker has no data to store to disk.  Perhaps some other process is leaking memory?  Process memory: 1.40 GB -- Worker memory limit: 2.00 GB\n",
            "distributed.worker - WARNING - Memory use is high but worker has no data to store to disk.  Perhaps some other process is leaking memory?  Process memory: 1.40 GB -- Worker memory limit: 2.00 GB\n",
            "distributed.worker - WARNING - Memory use is high but worker has no data to store to disk.  Perhaps some other process is leaking memory?  Process memory: 1.40 GB -- Worker memory limit: 2.00 GB\n",
            "distributed.worker - WARNING - Memory use is high but worker has no data to store to disk.  Perhaps some other process is leaking memory?  Process memory: 1.40 GB -- Worker memory limit: 2.00 GB\n",
            "distributed.worker - WARNING - Memory use is high but worker has no data to store to disk.  Perhaps some other process is leaking memory?  Process memory: 1.40 GB -- Worker memory limit: 2.00 GB\n",
            "distributed.worker - WARNING - Memory use is high but worker has no data to store to disk.  Perhaps some other process is leaking memory?  Process memory: 1.40 GB -- Worker memory limit: 2.00 GB\n",
            "distributed.worker - WARNING - Memory use is high but worker has no data to store to disk.  Perhaps some other process is leaking memory?  Process memory: 1.40 GB -- Worker memory limit: 2.00 GB\n",
            "distributed.worker - WARNING - Memory use is high but worker has no data to store to disk.  Perhaps some other process is leaking memory?  Process memory: 1.40 GB -- Worker memory limit: 2.00 GB\n",
            "distributed.worker - WARNING - Memory use is high but worker has no data to store to disk.  Perhaps some other process is leaking memory?  Process memory: 1.40 GB -- Worker memory limit: 2.00 GB\n",
            "distributed.worker - WARNING - Memory use is high but worker has no data to store to disk.  Perhaps some other process is leaking memory?  Process memory: 1.40 GB -- Worker memory limit: 2.00 GB\n",
            "distributed.worker - WARNING - Memory use is high but worker has no data to store to disk.  Perhaps some other process is leaking memory?  Process memory: 1.40 GB -- Worker memory limit: 2.00 GB\n",
            "distributed.worker - WARNING - Memory use is high but worker has no data to store to disk.  Perhaps some other process is leaking memory?  Process memory: 1.40 GB -- Worker memory limit: 2.00 GB\n",
            "distributed.worker - WARNING - Memory use is high but worker has no data to store to disk.  Perhaps some other process is leaking memory?  Process memory: 1.40 GB -- Worker memory limit: 2.00 GB\n",
            "distributed.worker - WARNING - Memory use is high but worker has no data to store to disk.  Perhaps some other process is leaking memory?  Process memory: 1.40 GB -- Worker memory limit: 2.00 GB\n",
            "distributed.worker - WARNING - Memory use is high but worker has no data to store to disk.  Perhaps some other process is leaking memory?  Process memory: 1.40 GB -- Worker memory limit: 2.00 GB\n",
            "distributed.worker - WARNING - Memory use is high but worker has no data to store to disk.  Perhaps some other process is leaking memory?  Process memory: 1.40 GB -- Worker memory limit: 2.00 GB\n",
            "distributed.worker - WARNING - Memory use is high but worker has no data to store to disk.  Perhaps some other process is leaking memory?  Process memory: 1.40 GB -- Worker memory limit: 2.00 GB\n",
            "distributed.worker - WARNING - Memory use is high but worker has no data to store to disk.  Perhaps some other process is leaking memory?  Process memory: 1.40 GB -- Worker memory limit: 2.00 GB\n",
            "distributed.worker - WARNING - Memory use is high but worker has no data to store to disk.  Perhaps some other process is leaking memory?  Process memory: 1.40 GB -- Worker memory limit: 2.00 GB\n",
            "distributed.worker - WARNING - Memory use is high but worker has no data to store to disk.  Perhaps some other process is leaking memory?  Process memory: 1.40 GB -- Worker memory limit: 2.00 GB\n",
            "distributed.worker - WARNING - Memory use is high but worker has no data to store to disk.  Perhaps some other process is leaking memory?  Process memory: 1.40 GB -- Worker memory limit: 2.00 GB\n",
            "distributed.worker - WARNING - Memory use is high but worker has no data to store to disk.  Perhaps some other process is leaking memory?  Process memory: 1.40 GB -- Worker memory limit: 2.00 GB\n",
            "distributed.worker - WARNING - Memory use is high but worker has no data to store to disk.  Perhaps some other process is leaking memory?  Process memory: 1.40 GB -- Worker memory limit: 2.00 GB\n",
            "distributed.worker - WARNING - Memory use is high but worker has no data to store to disk.  Perhaps some other process is leaking memory?  Process memory: 1.40 GB -- Worker memory limit: 2.00 GB\n",
            "distributed.worker - WARNING - Memory use is high but worker has no data to store to disk.  Perhaps some other process is leaking memory?  Process memory: 1.40 GB -- Worker memory limit: 2.00 GB\n",
            "distributed.worker - WARNING - Memory use is high but worker has no data to store to disk.  Perhaps some other process is leaking memory?  Process memory: 1.40 GB -- Worker memory limit: 2.00 GB\n",
            "distributed.worker - WARNING - Memory use is high but worker has no data to store to disk.  Perhaps some other process is leaking memory?  Process memory: 1.40 GB -- Worker memory limit: 2.00 GB\n",
            "distributed.worker - WARNING - Memory use is high but worker has no data to store to disk.  Perhaps some other process is leaking memory?  Process memory: 1.40 GB -- Worker memory limit: 2.00 GB\n",
            "distributed.worker - WARNING - Memory use is high but worker has no data to store to disk.  Perhaps some other process is leaking memory?  Process memory: 1.41 GB -- Worker memory limit: 2.00 GB\n",
            "distributed.worker - WARNING - Memory use is high but worker has no data to store to disk.  Perhaps some other process is leaking memory?  Process memory: 1.41 GB -- Worker memory limit: 2.00 GB\n",
            "distributed.worker - WARNING - Memory use is high but worker has no data to store to disk.  Perhaps some other process is leaking memory?  Process memory: 1.41 GB -- Worker memory limit: 2.00 GB\n",
            "distributed.worker - WARNING - Memory use is high but worker has no data to store to disk.  Perhaps some other process is leaking memory?  Process memory: 1.41 GB -- Worker memory limit: 2.00 GB\n",
            "distributed.worker - WARNING - Memory use is high but worker has no data to store to disk.  Perhaps some other process is leaking memory?  Process memory: 1.41 GB -- Worker memory limit: 2.00 GB\n",
            "distributed.worker - WARNING - Memory use is high but worker has no data to store to disk.  Perhaps some other process is leaking memory?  Process memory: 1.41 GB -- Worker memory limit: 2.00 GB\n",
            "distributed.worker - WARNING - Memory use is high but worker has no data to store to disk.  Perhaps some other process is leaking memory?  Process memory: 1.41 GB -- Worker memory limit: 2.00 GB\n",
            "distributed.worker - WARNING - Memory use is high but worker has no data to store to disk.  Perhaps some other process is leaking memory?  Process memory: 1.41 GB -- Worker memory limit: 2.00 GB\n",
            "distributed.worker - WARNING - Memory use is high but worker has no data to store to disk.  Perhaps some other process is leaking memory?  Process memory: 1.41 GB -- Worker memory limit: 2.00 GB\n",
            "distributed.worker - WARNING - Memory use is high but worker has no data to store to disk.  Perhaps some other process is leaking memory?  Process memory: 1.41 GB -- Worker memory limit: 2.00 GB\n",
            "distributed.worker - WARNING - Memory use is high but worker has no data to store to disk.  Perhaps some other process is leaking memory?  Process memory: 1.41 GB -- Worker memory limit: 2.00 GB\n",
            "distributed.worker - WARNING - Memory use is high but worker has no data to store to disk.  Perhaps some other process is leaking memory?  Process memory: 1.41 GB -- Worker memory limit: 2.00 GB\n",
            "distributed.worker - WARNING - Memory use is high but worker has no data to store to disk.  Perhaps some other process is leaking memory?  Process memory: 1.41 GB -- Worker memory limit: 2.00 GB\n",
            "distributed.worker - WARNING - Memory use is high but worker has no data to store to disk.  Perhaps some other process is leaking memory?  Process memory: 1.41 GB -- Worker memory limit: 2.00 GB\n",
            "distributed.worker - WARNING - Memory use is high but worker has no data to store to disk.  Perhaps some other process is leaking memory?  Process memory: 1.41 GB -- Worker memory limit: 2.00 GB\n"
          ],
          "name": "stderr"
        },
        {
          "output_type": "display_data",
          "data": {
            "image/png": "[encoded data removed]",
            "text/plain": [
              "<Figure size 432x288 with 1 Axes>"
            ]
          },
          "metadata": {
            "tags": []
          }
        },
        {
          "output_type": "stream",
          "text": [
            "distributed.worker - WARNING - Memory use is high but worker has no data to store to disk.  Perhaps some other process is leaking memory?  Process memory: 1.41 GB -- Worker memory limit: 2.00 GB\n",
            "distributed.worker - WARNING - Memory use is high but worker has no data to store to disk.  Perhaps some other process is leaking memory?  Process memory: 1.41 GB -- Worker memory limit: 2.00 GB\n",
            "distributed.worker - WARNING - Memory use is high but worker has no data to store to disk.  Perhaps some other process is leaking memory?  Process memory: 1.41 GB -- Worker memory limit: 2.00 GB\n",
            "distributed.worker - WARNING - Memory use is high but worker has no data to store to disk.  Perhaps some other process is leaking memory?  Process memory: 1.41 GB -- Worker memory limit: 2.00 GB\n",
            "distributed.worker - WARNING - Memory use is high but worker has no data to store to disk.  Perhaps some other process is leaking memory?  Process memory: 1.41 GB -- Worker memory limit: 2.00 GB\n",
            "distributed.worker - WARNING - Memory use is high but worker has no data to store to disk.  Perhaps some other process is leaking memory?  Process memory: 1.41 GB -- Worker memory limit: 2.00 GB\n",
            "distributed.worker - WARNING - Memory use is high but worker has no data to store to disk.  Perhaps some other process is leaking memory?  Process memory: 1.41 GB -- Worker memory limit: 2.00 GB\n",
            "distributed.worker - WARNING - Memory use is high but worker has no data to store to disk.  Perhaps some other process is leaking memory?  Process memory: 1.41 GB -- Worker memory limit: 2.00 GB\n",
            "distributed.worker - WARNING - Memory use is high but worker has no data to store to disk.  Perhaps some other process is leaking memory?  Process memory: 1.41 GB -- Worker memory limit: 2.00 GB\n",
            "distributed.worker - WARNING - Memory use is high but worker has no data to store to disk.  Perhaps some other process is leaking memory?  Process memory: 1.41 GB -- Worker memory limit: 2.00 GB\n",
            "distributed.worker - WARNING - Memory use is high but worker has no data to store to disk.  Perhaps some other process is leaking memory?  Process memory: 1.41 GB -- Worker memory limit: 2.00 GB\n",
            "distributed.worker - WARNING - Memory use is high but worker has no data to store to disk.  Perhaps some other process is leaking memory?  Process memory: 1.41 GB -- Worker memory limit: 2.00 GB\n"
          ],
          "name": "stderr"
        }
      ]
    },
    {
      "cell_type": "code",
      "metadata": {
        "id": "CqS1ztfU68x6",
        "colab_type": "code",
        "outputId": "54bab07c-8a14-4709-ccc1-b6fd2273377e",
        "colab": {
          "base_uri": "https://localhost:8080/",
          "height": 34
        }
      },
      "source": [
        "import dask\n",
        "import dask.array as da\n",
        "from dask_ml.datasets import make_classification\n",
        "\n",
        "\n",
        "n, d = 100000, 100\n",
        "\n",
        "X, y = make_classification(n_samples=n, n_features=d,\n",
        "                           chunks=n // 10, flip_y=0.2)\n",
        "X"
      ],
      "execution_count": 0,
      "outputs": [
        {
          "output_type": "execute_result",
          "data": {
            "text/plain": [
              "dask.array<normal, shape=(100000, 100), dtype=float64, chunksize=(10000, 100)>"
            ]
          },
          "metadata": {
            "tags": []
          },
          "execution_count": 35
        }
      ]
    },
    {
      "cell_type": "code",
      "metadata": {
        "id": "QVn7CZhi6Xdh",
        "colab_type": "code",
        "outputId": "1ae12d57-c106-459e-e285-9b9fc1417493",
        "colab": {
          "base_uri": "https://localhost:8080/",
          "height": 182
        }
      },
      "source": [
        "from dask_ml.model_selection import train_test_split\n",
        "X_train, X_test, y_train, y_test = train_test_split(X, y)\n",
        "X_train"
      ],
      "execution_count": 0,
      "outputs": [
        {
          "output_type": "error",
          "ename": "SyntaxError",
          "evalue": "ignored",
          "traceback": [
            "\u001b[0;36m  File \u001b[0;32m\"/usr/local/lib/python2.7/dist-packages/dask_ml/model_selection/_split.py\"\u001b[0;36m, line \u001b[0;32m359\u001b[0m\n\u001b[0;31m    def train_test_split(*arrays, test_size=None, train_size=None,\u001b[0m\n\u001b[0m                                          ^\u001b[0m\n\u001b[0;31mSyntaxError\u001b[0m\u001b[0;31m:\u001b[0m invalid syntax\n"
          ]
        },
        {
          "output_type": "stream",
          "text": [
            "distributed.worker - WARNING - Memory use is high but worker has no data to store to disk.  Perhaps some other process is leaking memory?  Process memory: 1.41 GB -- Worker memory limit: 2.00 GB\n",
            "distributed.worker - WARNING - Memory use is high but worker has no data to store to disk.  Perhaps some other process is leaking memory?  Process memory: 1.41 GB -- Worker memory limit: 2.00 GB\n"
          ],
          "name": "stderr"
        }
      ]
    },
    {
      "cell_type": "code",
      "metadata": {
        "id": "gyzlE-Nm61Dh",
        "colab_type": "code",
        "colab": {}
      },
      "source": [
        ""
      ],
      "execution_count": 0,
      "outputs": []
    }
  ]
}