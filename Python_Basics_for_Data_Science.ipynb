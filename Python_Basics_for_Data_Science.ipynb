{
  "nbformat": 4,
  "nbformat_minor": 0,
  "metadata": {
    "colab": {
      "name": "Python Basics for Data Science.ipynb",
      "provenance": [],
      "authorship_tag": "ABX9TyOCkV7F71tR1uv5SHy9sYiF",
      "include_colab_link": true
    },
    "kernelspec": {
      "name": "python3",
      "display_name": "Python 3"
    }
  },
  "cells": [
    {
      "cell_type": "markdown",
      "metadata": {
        "id": "view-in-github",
        "colab_type": "text"
      },
      "source": [
        "<a href=\"https://colab.research.google.com/github/ssrbazpur/Data-Science/blob/master/Python_Basics_for_Data_Science.ipynb\" target=\"_parent\"><img src=\"https://colab.research.google.com/assets/colab-badge.svg\" alt=\"Open In Colab\"/></a>"
      ]
    },
    {
      "cell_type": "markdown",
      "metadata": {
        "id": "MrPDdEBlnFLr",
        "colab_type": "text"
      },
      "source": [
        "<h3> Basic of Python </h3>"
      ]
    },
    {
      "cell_type": "code",
      "metadata": {
        "id": "tYJ3aoOhm1ql",
        "colab_type": "code",
        "colab": {
          "base_uri": "https://localhost:8080/",
          "height": 34
        },
        "outputId": "68c30639-e68a-406a-8371-f75ca8a8ce13"
      },
      "source": [
        "#10 power of 2\n",
        "10**2"
      ],
      "execution_count": 1,
      "outputs": [
        {
          "output_type": "execute_result",
          "data": {
            "text/plain": [
              "100"
            ]
          },
          "metadata": {
            "tags": []
          },
          "execution_count": 1
        }
      ]
    },
    {
      "cell_type": "code",
      "metadata": {
        "id": "bSMFexObnT8z",
        "colab_type": "code",
        "colab": {
          "base_uri": "https://localhost:8080/",
          "height": 34
        },
        "outputId": "cfa84873-27fe-413b-ee21-8ee706755bae"
      },
      "source": [
        "10 *\"str\""
      ],
      "execution_count": 2,
      "outputs": [
        {
          "output_type": "execute_result",
          "data": {
            "text/plain": [
              "'strstrstrstrstrstrstrstrstrstr'"
            ]
          },
          "metadata": {
            "tags": []
          },
          "execution_count": 2
        }
      ]
    },
    {
      "cell_type": "code",
      "metadata": {
        "id": "JiY91_Nuncus",
        "colab_type": "code",
        "colab": {
          "base_uri": "https://localhost:8080/",
          "height": 34
        },
        "outputId": "442d72c1-f9b2-49aa-ce58-4226f16160a6"
      },
      "source": [
        "# type(1)\n",
        "# type(True)\n",
        "# control + / to uncomment\n",
        "type(\"str\")"
      ],
      "execution_count": 4,
      "outputs": [
        {
          "output_type": "execute_result",
          "data": {
            "text/plain": [
              "str"
            ]
          },
          "metadata": {
            "tags": []
          },
          "execution_count": 4
        }
      ]
    },
    {
      "cell_type": "code",
      "metadata": {
        "id": "Uj5LJpThnvV-",
        "colab_type": "code",
        "colab": {
          "base_uri": "https://localhost:8080/",
          "height": 34
        },
        "outputId": "5d9b0e7a-3575-4f7e-8765-93c6e1790794"
      },
      "source": [
        "first= \"Simranjeet\"\n",
        "last=\"Randhawa\"\n",
        "print(\"My name is {first} {second}\".format(first=first,second=last))"
      ],
      "execution_count": 7,
      "outputs": [
        {
          "output_type": "stream",
          "text": [
            "My name is Simranjeet Randhawa\n"
          ],
          "name": "stdout"
        }
      ]
    },
    {
      "cell_type": "code",
      "metadata": {
        "id": "u1bhebQHoPYa",
        "colab_type": "code",
        "colab": {
          "base_uri": "https://localhost:8080/",
          "height": 34
        },
        "outputId": "6521304a-6541-4d6e-a643-7038f70dde66"
      },
      "source": [
        "len(\"hello world\")"
      ],
      "execution_count": 9,
      "outputs": [
        {
          "output_type": "execute_result",
          "data": {
            "text/plain": [
              "11"
            ]
          },
          "metadata": {
            "tags": []
          },
          "execution_count": 9
        }
      ]
    },
    {
      "cell_type": "markdown",
      "metadata": {
        "id": "yoCk_rb1oci7",
        "colab_type": "text"
      },
      "source": [
        "<h3> Data Types </h3>\n",
        "<ul>\n",
        "<li>Boolean</li>\n",
        "<li>List</li>\n",
        "<li>Dictionary</li>\n",
        "<li>Tuples</li>\n",
        "<li>Set</li>\n",
        "</ul>"
      ]
    },
    {
      "cell_type": "code",
      "metadata": {
        "id": "YjiGcfhgotIP",
        "colab_type": "code",
        "colab": {
          "base_uri": "https://localhost:8080/",
          "height": 34
        },
        "outputId": "12b95d19-99c9-40c0-8d0f-cc7b95aefd57"
      },
      "source": [
        "boolean=True\n",
        "type(boolean)"
      ],
      "execution_count": 10,
      "outputs": [
        {
          "output_type": "execute_result",
          "data": {
            "text/plain": [
              "bool"
            ]
          },
          "metadata": {
            "tags": []
          },
          "execution_count": 10
        }
      ]
    },
    {
      "cell_type": "code",
      "metadata": {
        "id": "IMhuL1pOo6FA",
        "colab_type": "code",
        "colab": {
          "base_uri": "https://localhost:8080/",
          "height": 34
        },
        "outputId": "a733ce05-f393-45a8-f546-f8c837e6e61f"
      },
      "source": [
        "str=\"hello\"\n",
        "str.isupper()"
      ],
      "execution_count": 11,
      "outputs": [
        {
          "output_type": "execute_result",
          "data": {
            "text/plain": [
              "False"
            ]
          },
          "metadata": {
            "tags": []
          },
          "execution_count": 11
        }
      ]
    },
    {
      "cell_type": "markdown",
      "metadata": {
        "id": "clWV3FuPrmxw",
        "colab_type": "text"
      },
      "source": [
        "<h4> List </h4>"
      ]
    },
    {
      "cell_type": "code",
      "metadata": {
        "id": "6SF1s7qjpESk",
        "colab_type": "code",
        "colab": {
          "base_uri": "https://localhost:8080/",
          "height": 34
        },
        "outputId": "4ac9a07a-8ceb-4b1f-8c84-0b9bbb74ab9b"
      },
      "source": [
        "list1=['hello',1,'world',2]\n",
        "type(list1)"
      ],
      "execution_count": 12,
      "outputs": [
        {
          "output_type": "execute_result",
          "data": {
            "text/plain": [
              "list"
            ]
          },
          "metadata": {
            "tags": []
          },
          "execution_count": 12
        }
      ]
    },
    {
      "cell_type": "code",
      "metadata": {
        "id": "RHGryp0dpSzD",
        "colab_type": "code",
        "colab": {
          "base_uri": "https://localhost:8080/",
          "height": 34
        },
        "outputId": "a6ede95f-20f9-47e0-f607-bb84a1f547bc"
      },
      "source": [
        "list1.append(100)\n",
        "list1"
      ],
      "execution_count": 13,
      "outputs": [
        {
          "output_type": "execute_result",
          "data": {
            "text/plain": [
              "['hello', 1, 'world', 2, 100]"
            ]
          },
          "metadata": {
            "tags": []
          },
          "execution_count": 13
        }
      ]
    },
    {
      "cell_type": "code",
      "metadata": {
        "id": "yuTDMBM0pfY1",
        "colab_type": "code",
        "colab": {
          "base_uri": "https://localhost:8080/",
          "height": 34
        },
        "outputId": "7caee3ed-8b6c-427b-f447-62d08b27edf2"
      },
      "source": [
        "list1.insert(1,\"world\")\n",
        "list1[:]"
      ],
      "execution_count": 15,
      "outputs": [
        {
          "output_type": "execute_result",
          "data": {
            "text/plain": [
              "['hello', 'world', 'world', 1, 'world', 2, 100]"
            ]
          },
          "metadata": {
            "tags": []
          },
          "execution_count": 15
        }
      ]
    },
    {
      "cell_type": "code",
      "metadata": {
        "id": "eeluFR_YptZ1",
        "colab_type": "code",
        "colab": {}
      },
      "source": [
        "list1.append([\"hello\",\"world\"])\n",
        "list1.extend([\"hello\",\"world\"])\n",
        "list1.pop(-3) #remove element.\n",
        "list1[:]"
      ],
      "execution_count": 0,
      "outputs": []
    },
    {
      "cell_type": "code",
      "metadata": {
        "id": "9iH9m6lPqaJt",
        "colab_type": "code",
        "colab": {
          "base_uri": "https://localhost:8080/",
          "height": 67
        },
        "outputId": "527c420c-fb6e-4e2e-8ad0-58ac49781678"
      },
      "source": [
        "temp=[1,2,3,4,5,6,7,8,90]\n",
        "print(min(temp))\n",
        "print(max(temp))\n",
        "temp.index(2,0,7)\n"
      ],
      "execution_count": 31,
      "outputs": [
        {
          "output_type": "stream",
          "text": [
            "1\n",
            "90\n"
          ],
          "name": "stdout"
        },
        {
          "output_type": "execute_result",
          "data": {
            "text/plain": [
              "1"
            ]
          },
          "metadata": {
            "tags": []
          },
          "execution_count": 31
        }
      ]
    },
    {
      "cell_type": "code",
      "metadata": {
        "id": "bzCBtA9NrU60",
        "colab_type": "code",
        "colab": {
          "base_uri": "https://localhost:8080/",
          "height": 34
        },
        "outputId": "bc8e33ff-3f1a-41fd-91d0-70f8444ab989"
      },
      "source": [
        "temp=temp*2\n",
        "temp"
      ],
      "execution_count": 35,
      "outputs": [
        {
          "output_type": "execute_result",
          "data": {
            "text/plain": [
              "[1, 2, 3, 4, 5, 6, 7, 8, 90, 1, 2, 3, 4, 5, 6, 7, 8, 90]"
            ]
          },
          "metadata": {
            "tags": []
          },
          "execution_count": 35
        }
      ]
    }
  ]
}